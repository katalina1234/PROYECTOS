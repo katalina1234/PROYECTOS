{
  "nbformat": 4,
  "nbformat_minor": 0,
  "metadata": {
    "colab": {
      "name": "ACP_MUNICIPAL.ipynb",
      "provenance": [],
      "collapsed_sections": [
        "eMY5VvEpSOnm",
        "BJR3iW_qyLfY"
      ]
    },
    "kernelspec": {
      "name": "python3",
      "display_name": "Python 3"
    },
    "language_info": {
      "name": "python"
    }
  },
  "cells": [
    {
      "cell_type": "code",
      "metadata": {
        "id": "lj5woWQmEJvf"
      },
      "source": [
        "#EJERCICIO ACP DELITOS MUNICIPAL\n",
        "import numpy as np\n",
        "import pandas as pd\n",
        "abigeato = pd.read_excel('/content/abigeato.xlsx')\n",
        "amenazas = pd.read_excel('/content/amenazas.xlsx')\n",
        "delitos_sexuales = pd.read_excel('/content/delitos_sexuales.xlsx')\n",
        "extorsion = pd.read_excel('/content/extorsion.xlsx')\n",
        "homicidios = pd.read_excel('/content/homicidios.xlsx')\n",
        "homi_transito = pd.read_excel('/content/homicidios_transito.xlsx')\n",
        "hurto_automotores = pd.read_excel('/content/hurto_automotores.xlsx')\n",
        "hurto_comercio = pd.read_excel('/content/hurto_comercio.xlsx')\n",
        "hurto_entidades = pd.read_excel('/content/hurto_entidades_financieras.xlsx')\n",
        "hurto_motocicletas = pd.read_excel('/content/hurto_motocicletas.xlsx')\n",
        "hurto_personas = pd.read_excel('/content/hurto_personas.xlsx')\n",
        "hurto_residencias = pd.read_excel('/content/hurto_residencias.xlsx')\n",
        "lesiones_accidentes = pd.read_excel('/content/lesiones_accidentes.xlsx')\n",
        "lesiones_personales = pd.read_excel('/content/lesiones_personales.xlsx')\n",
        "pirateria = pd.read_excel('/content/pirateria_terrestre.xlsx')\n",
        "secuestro = pd.read_excel('/content/secuestro.xlsx')\n",
        "terrorismo = pd.read_excel('/content/terrorismo.xlsx')\n",
        "violencia_intra = pd.read_excel('/content/violencia_intrafamiliar.xlsx')"
      ],
      "execution_count": 1,
      "outputs": []
    },
    {
      "cell_type": "markdown",
      "metadata": {
        "id": "eMY5VvEpSOnm"
      },
      "source": [
        "#BASE"
      ]
    },
    {
      "cell_type": "code",
      "metadata": {
        "id": "Tlcdu8woRnQu"
      },
      "source": [
        "abigeato = abigeato.dropna()\n",
        "amenazas = amenazas.dropna()\n",
        "delitos_sexuales = delitos_sexuales.dropna()\n",
        "extorsion = extorsion.dropna()\n",
        "homicidios = homicidios.dropna()\n",
        "homi_transito = homi_transito.dropna()\n",
        "hurto_automotores = hurto_automotores.dropna()\n",
        "hurto_comercio = hurto_comercio.dropna()\n",
        "hurto_entidades = hurto_entidades.dropna()\n",
        "hurto_motocicletas = hurto_motocicletas.dropna()\n",
        "hurto_personas = hurto_personas.dropna()\n",
        "hurto_residencias = hurto_residencias.dropna()\n",
        "lesiones_accidentes = lesiones_accidentes.dropna()\n",
        "lesiones_personales = lesiones_personales.dropna()\n",
        "pirateria = pirateria.dropna()\n",
        "secuestro = secuestro.dropna()\n",
        "terrorismo = terrorismo.dropna()\n",
        "violencia_intra = violencia_intra.dropna()"
      ],
      "execution_count": 2,
      "outputs": []
    },
    {
      "cell_type": "code",
      "metadata": {
        "id": "oiSUNfYMlcMb"
      },
      "source": [
        "abigeato = abigeato.rename(columns={'CANTIDAD':'ABIGEATO'})\n"
      ],
      "execution_count": 4,
      "outputs": []
    },
    {
      "cell_type": "code",
      "metadata": {
        "id": "CoK05C0mTMFX"
      },
      "source": [
        "#abigeato\n",
        "abigeato = abigeato.groupby('MUNICIPIO').sum()"
      ],
      "execution_count": 5,
      "outputs": []
    },
    {
      "cell_type": "code",
      "metadata": {
        "colab": {
          "base_uri": "https://localhost:8080/",
          "height": 419
        },
        "id": "ZXzjg3czT_pM",
        "outputId": "48451240-3402-4ad3-a7ef-af7ec115b8f0"
      },
      "source": [
        "abigeato.reset_index(inplace=True)\n",
        "abigeato"
      ],
      "execution_count": 6,
      "outputs": [
        {
          "output_type": "execute_result",
          "data": {
            "text/html": [
              "<div>\n",
              "<style scoped>\n",
              "    .dataframe tbody tr th:only-of-type {\n",
              "        vertical-align: middle;\n",
              "    }\n",
              "\n",
              "    .dataframe tbody tr th {\n",
              "        vertical-align: top;\n",
              "    }\n",
              "\n",
              "    .dataframe thead th {\n",
              "        text-align: right;\n",
              "    }\n",
              "</style>\n",
              "<table border=\"1\" class=\"dataframe\">\n",
              "  <thead>\n",
              "    <tr style=\"text-align: right;\">\n",
              "      <th></th>\n",
              "      <th>MUNICIPIO</th>\n",
              "      <th>ABIGEATO</th>\n",
              "    </tr>\n",
              "  </thead>\n",
              "  <tbody>\n",
              "    <tr>\n",
              "      <th>0</th>\n",
              "      <td>ABEJORRAL</td>\n",
              "      <td>1.0</td>\n",
              "    </tr>\n",
              "    <tr>\n",
              "      <th>1</th>\n",
              "      <td>ACACÍAS</td>\n",
              "      <td>17.0</td>\n",
              "    </tr>\n",
              "    <tr>\n",
              "      <th>2</th>\n",
              "      <td>ACHÍ</td>\n",
              "      <td>2.0</td>\n",
              "    </tr>\n",
              "    <tr>\n",
              "      <th>3</th>\n",
              "      <td>AGRADO</td>\n",
              "      <td>4.0</td>\n",
              "    </tr>\n",
              "    <tr>\n",
              "      <th>4</th>\n",
              "      <td>AGUA DE DIOS</td>\n",
              "      <td>4.0</td>\n",
              "    </tr>\n",
              "    <tr>\n",
              "      <th>...</th>\n",
              "      <td>...</td>\n",
              "      <td>...</td>\n",
              "    </tr>\n",
              "    <tr>\n",
              "      <th>629</th>\n",
              "      <td>ZAMBRANO</td>\n",
              "      <td>3.0</td>\n",
              "    </tr>\n",
              "    <tr>\n",
              "      <th>630</th>\n",
              "      <td>ZAPATOCA</td>\n",
              "      <td>1.0</td>\n",
              "    </tr>\n",
              "    <tr>\n",
              "      <th>631</th>\n",
              "      <td>ZARZAL</td>\n",
              "      <td>2.0</td>\n",
              "    </tr>\n",
              "    <tr>\n",
              "      <th>632</th>\n",
              "      <td>ZIPAQUIRÁ</td>\n",
              "      <td>12.0</td>\n",
              "    </tr>\n",
              "    <tr>\n",
              "      <th>633</th>\n",
              "      <td>ZONA BANANERA</td>\n",
              "      <td>4.0</td>\n",
              "    </tr>\n",
              "  </tbody>\n",
              "</table>\n",
              "<p>634 rows × 2 columns</p>\n",
              "</div>"
            ],
            "text/plain": [
              "         MUNICIPIO  ABIGEATO\n",
              "0        ABEJORRAL       1.0\n",
              "1          ACACÍAS      17.0\n",
              "2             ACHÍ       2.0\n",
              "3           AGRADO       4.0\n",
              "4     AGUA DE DIOS       4.0\n",
              "..             ...       ...\n",
              "629       ZAMBRANO       3.0\n",
              "630       ZAPATOCA       1.0\n",
              "631         ZARZAL       2.0\n",
              "632      ZIPAQUIRÁ      12.0\n",
              "633  ZONA BANANERA       4.0\n",
              "\n",
              "[634 rows x 2 columns]"
            ]
          },
          "metadata": {},
          "execution_count": 6
        }
      ]
    },
    {
      "cell_type": "code",
      "metadata": {
        "colab": {
          "base_uri": "https://localhost:8080/",
          "height": 80
        },
        "id": "hk0Ggk2WXdaf",
        "outputId": "32ded5fb-55f4-4113-bbcf-6870a8a48aba"
      },
      "source": [
        "abigeato[abigeato.loc[:,'MUNICIPIO'] == 'VALLEDUPAR (CT)']"
      ],
      "execution_count": 7,
      "outputs": [
        {
          "output_type": "execute_result",
          "data": {
            "text/html": [
              "<div>\n",
              "<style scoped>\n",
              "    .dataframe tbody tr th:only-of-type {\n",
              "        vertical-align: middle;\n",
              "    }\n",
              "\n",
              "    .dataframe tbody tr th {\n",
              "        vertical-align: top;\n",
              "    }\n",
              "\n",
              "    .dataframe thead th {\n",
              "        text-align: right;\n",
              "    }\n",
              "</style>\n",
              "<table border=\"1\" class=\"dataframe\">\n",
              "  <thead>\n",
              "    <tr style=\"text-align: right;\">\n",
              "      <th></th>\n",
              "      <th>MUNICIPIO</th>\n",
              "      <th>ABIGEATO</th>\n",
              "    </tr>\n",
              "  </thead>\n",
              "  <tbody>\n",
              "    <tr>\n",
              "      <th>605</th>\n",
              "      <td>VALLEDUPAR (CT)</td>\n",
              "      <td>49.0</td>\n",
              "    </tr>\n",
              "  </tbody>\n",
              "</table>\n",
              "</div>"
            ],
            "text/plain": [
              "           MUNICIPIO  ABIGEATO\n",
              "605  VALLEDUPAR (CT)      49.0"
            ]
          },
          "metadata": {},
          "execution_count": 7
        }
      ]
    },
    {
      "cell_type": "code",
      "metadata": {
        "colab": {
          "base_uri": "https://localhost:8080/",
          "height": 419
        },
        "id": "XzDDpdZ7Xmnx",
        "outputId": "3e395f41-0fe8-49e3-9e1e-e8d23e55f861"
      },
      "source": [
        "#amenaza\n",
        "amenazas = amenazas.rename(columns={'CANTIDAD':'AMENAZAS'})\n",
        "amenazas = amenazas.groupby('MUNICIPIO').sum()\n",
        "amenazas.reset_index(inplace=True)\n",
        "amenazas"
      ],
      "execution_count": 8,
      "outputs": [
        {
          "output_type": "execute_result",
          "data": {
            "text/html": [
              "<div>\n",
              "<style scoped>\n",
              "    .dataframe tbody tr th:only-of-type {\n",
              "        vertical-align: middle;\n",
              "    }\n",
              "\n",
              "    .dataframe tbody tr th {\n",
              "        vertical-align: top;\n",
              "    }\n",
              "\n",
              "    .dataframe thead th {\n",
              "        text-align: right;\n",
              "    }\n",
              "</style>\n",
              "<table border=\"1\" class=\"dataframe\">\n",
              "  <thead>\n",
              "    <tr style=\"text-align: right;\">\n",
              "      <th></th>\n",
              "      <th>MUNICIPIO</th>\n",
              "      <th>AMENAZAS</th>\n",
              "    </tr>\n",
              "  </thead>\n",
              "  <tbody>\n",
              "    <tr>\n",
              "      <th>0</th>\n",
              "      <td>ABEJORRAL</td>\n",
              "      <td>1.0</td>\n",
              "    </tr>\n",
              "    <tr>\n",
              "      <th>1</th>\n",
              "      <td>ABREGO</td>\n",
              "      <td>27.0</td>\n",
              "    </tr>\n",
              "    <tr>\n",
              "      <th>2</th>\n",
              "      <td>ABRIAQUÍ</td>\n",
              "      <td>1.0</td>\n",
              "    </tr>\n",
              "    <tr>\n",
              "      <th>3</th>\n",
              "      <td>ACACÍAS</td>\n",
              "      <td>236.0</td>\n",
              "    </tr>\n",
              "    <tr>\n",
              "      <th>4</th>\n",
              "      <td>ACANDÍ</td>\n",
              "      <td>2.0</td>\n",
              "    </tr>\n",
              "    <tr>\n",
              "      <th>...</th>\n",
              "      <td>...</td>\n",
              "      <td>...</td>\n",
              "    </tr>\n",
              "    <tr>\n",
              "      <th>959</th>\n",
              "      <td>ZETAQUIRA</td>\n",
              "      <td>8.0</td>\n",
              "    </tr>\n",
              "    <tr>\n",
              "      <th>960</th>\n",
              "      <td>ZIPACÓN</td>\n",
              "      <td>6.0</td>\n",
              "    </tr>\n",
              "    <tr>\n",
              "      <th>961</th>\n",
              "      <td>ZIPAQUIRÁ</td>\n",
              "      <td>55.0</td>\n",
              "    </tr>\n",
              "    <tr>\n",
              "      <th>962</th>\n",
              "      <td>ZONA BANANERA</td>\n",
              "      <td>17.0</td>\n",
              "    </tr>\n",
              "    <tr>\n",
              "      <th>963</th>\n",
              "      <td>ÚTICA</td>\n",
              "      <td>8.0</td>\n",
              "    </tr>\n",
              "  </tbody>\n",
              "</table>\n",
              "<p>964 rows × 2 columns</p>\n",
              "</div>"
            ],
            "text/plain": [
              "         MUNICIPIO  AMENAZAS\n",
              "0        ABEJORRAL       1.0\n",
              "1           ABREGO      27.0\n",
              "2         ABRIAQUÍ       1.0\n",
              "3          ACACÍAS     236.0\n",
              "4           ACANDÍ       2.0\n",
              "..             ...       ...\n",
              "959      ZETAQUIRA       8.0\n",
              "960        ZIPACÓN       6.0\n",
              "961      ZIPAQUIRÁ      55.0\n",
              "962  ZONA BANANERA      17.0\n",
              "963          ÚTICA       8.0\n",
              "\n",
              "[964 rows x 2 columns]"
            ]
          },
          "metadata": {},
          "execution_count": 8
        }
      ]
    },
    {
      "cell_type": "code",
      "metadata": {
        "id": "qWyfjdkwbMwT"
      },
      "source": [
        "#delitos_sexuales\n",
        "delitos_sexuales = delitos_sexuales.rename(columns={'CANTIDAD':'DELITOS_SEXUALES'})\n",
        "delitos_sexuales = delitos_sexuales.groupby('MUNICIPIO').sum()\n",
        "delitos_sexuales.reset_index(inplace=True)\n"
      ],
      "execution_count": 9,
      "outputs": []
    },
    {
      "cell_type": "code",
      "metadata": {
        "id": "c3HxY97Zeb3v"
      },
      "source": [
        "#extorsion\n",
        "extorsion = extorsion.rename(columns={'CANTIDAD':'EXTORSION'})\n",
        "extorsion = extorsion.groupby('MUNICIPIO').sum()\n",
        "extorsion.reset_index(inplace=True)\n"
      ],
      "execution_count": 10,
      "outputs": []
    },
    {
      "cell_type": "code",
      "metadata": {
        "id": "RpI3X58ffbk_"
      },
      "source": [
        "#homicidios\n",
        "homicidios = homicidios.rename(columns={'CANTIDAD':'HOMICIDIOS'})\n",
        "homicidios = homicidios.groupby('MUNICIPIO').sum()\n",
        "homicidios.reset_index(inplace=True)"
      ],
      "execution_count": 11,
      "outputs": []
    },
    {
      "cell_type": "code",
      "metadata": {
        "id": "-mSIdXBhfhWo"
      },
      "source": [
        "#homi_transito\n",
        "homi_transito = homi_transito.rename(columns={'CANTIDAD':'HOMICIDIOS_TRANSITO'})\n",
        "homi_transito = homi_transito.groupby('MUNICIPIO').sum()\n",
        "homi_transito.reset_index(inplace=True)"
      ],
      "execution_count": 12,
      "outputs": []
    },
    {
      "cell_type": "code",
      "metadata": {
        "id": "fMMZIq8Ifir5"
      },
      "source": [
        "#hurto_automotores\n",
        "hurto_automotores = hurto_automotores.rename(columns={'CANTIDAD':'HURTO_AUTOMOTORES'})\n",
        "hurto_automotores = hurto_automotores.groupby('MUNICIPIO').sum()\n",
        "hurto_automotores.reset_index(inplace=True)"
      ],
      "execution_count": 13,
      "outputs": []
    },
    {
      "cell_type": "code",
      "metadata": {
        "id": "j2uDgUhbfilp"
      },
      "source": [
        "#hurto_comercio\n",
        "hurto_comercio = hurto_comercio.rename(columns={'CANTIDAD':'HURTO_COMERCIO'})\n",
        "hurto_comercio = hurto_comercio.groupby('MUNICIPIO').sum()\n",
        "hurto_comercio.reset_index(inplace=True)"
      ],
      "execution_count": 14,
      "outputs": []
    },
    {
      "cell_type": "code",
      "metadata": {
        "id": "5k3npDLvfifp"
      },
      "source": [
        "#hurto_entidades\n",
        "hurto_entidades = hurto_entidades.rename(columns={'CANTIDAD':'HURTO_ENTIDADES'})\n",
        "hurto_entidades = hurto_entidades.groupby('MUNICIPIO').sum()\n",
        "hurto_entidades.reset_index(inplace=True)"
      ],
      "execution_count": 15,
      "outputs": []
    },
    {
      "cell_type": "code",
      "metadata": {
        "id": "y1mnLOQCfpz0"
      },
      "source": [
        "#hurto_motocicletas\n",
        "hurto_motocicletas = hurto_motocicletas.rename(columns={'CANTIDAD':'HURTO_MOTOCICLETAS'})\n",
        "hurto_motocicletas = hurto_motocicletas.groupby('MUNICIPIO').sum()\n",
        "hurto_motocicletas.reset_index(inplace=True)"
      ],
      "execution_count": 16,
      "outputs": []
    },
    {
      "cell_type": "code",
      "metadata": {
        "id": "XNsco_pLf5dm"
      },
      "source": [
        "#hurto_personas\n",
        "hurto_personas = hurto_personas.rename(columns={'CANTIDAD':'HURTO_PERSONAS'})\n",
        "hurto_personas = hurto_personas.groupby('MUNICIPIO').sum()\n",
        "hurto_personas.reset_index(inplace=True)"
      ],
      "execution_count": 17,
      "outputs": []
    },
    {
      "cell_type": "code",
      "metadata": {
        "id": "5VqhVDORf5Kw"
      },
      "source": [
        "#hurto_residencias\n",
        "hurto_residencias = hurto_residencias.rename(columns={'CANTIDAD':'HURTO_RESIDENCIAS'})\n",
        "hurto_residencias = hurto_residencias.groupby('MUNICIPIO').sum()\n",
        "hurto_residencias.reset_index(inplace=True)"
      ],
      "execution_count": 18,
      "outputs": []
    },
    {
      "cell_type": "code",
      "metadata": {
        "id": "mfiLuWGvf5Gt"
      },
      "source": [
        "#lesiones_accidentes\n",
        "lesiones_accidentes = lesiones_accidentes.rename(columns={'CANTIDAD':'LESIONES_ACCIDENTES'})\n",
        "lesiones_accidentes = lesiones_accidentes.groupby('MUNICIPIO').sum()\n",
        "lesiones_accidentes.reset_index(inplace=True)"
      ],
      "execution_count": 19,
      "outputs": []
    },
    {
      "cell_type": "code",
      "metadata": {
        "id": "czRaUtkeiXsR"
      },
      "source": [
        "#lesiones_personales\n",
        "lesiones_personales = lesiones_personales.rename(columns={'CANTIDAD':'LESIONES_PERSONALES'})\n",
        "lesiones_personales = lesiones_personales.groupby('MUNICIPIO').sum()\n",
        "lesiones_personales.reset_index(inplace=True)"
      ],
      "execution_count": 20,
      "outputs": []
    },
    {
      "cell_type": "code",
      "metadata": {
        "id": "VI4DNLxHiXnN"
      },
      "source": [
        "#pirateria\n",
        "pirateria = pirateria.rename(columns={'CANTIDAD':'PIRATERIA_TERRESTRE'})\n",
        "pirateria = pirateria.groupby('MUNICIPIO').sum()\n",
        "pirateria.reset_index(inplace=True)"
      ],
      "execution_count": 21,
      "outputs": []
    },
    {
      "cell_type": "code",
      "metadata": {
        "id": "bLMdfb0diXjW"
      },
      "source": [
        "#secuestro\n",
        "secuestro = secuestro.rename(columns={'CANTIDAD':'SECUESTRO'})\n",
        "secuestro = secuestro.groupby('MUNICIPIO').sum()\n",
        "secuestro.reset_index(inplace=True)"
      ],
      "execution_count": 22,
      "outputs": []
    },
    {
      "cell_type": "code",
      "metadata": {
        "id": "cT14xSPxf5CY"
      },
      "source": [
        "#terrorismo\n",
        "terrorismo = terrorismo.rename(columns={'CANTIDAD':'TERRORISMO'})\n",
        "terrorismo = terrorismo.groupby('MUNICIPIO').sum()\n",
        "terrorismo.reset_index(inplace=True)"
      ],
      "execution_count": 23,
      "outputs": []
    },
    {
      "cell_type": "code",
      "metadata": {
        "id": "ytirSPyNf4_M"
      },
      "source": [
        "#violencia_intra\n",
        "violencia_intra = violencia_intra.rename(columns={'CANTIDAD':'VIOLENCIA_INTRAFAMILIAR'})\n",
        "violencia_intra = violencia_intra.groupby('MUNICIPIO').sum()\n",
        "violencia_intra.reset_index(inplace=True)"
      ],
      "execution_count": 24,
      "outputs": []
    },
    {
      "cell_type": "code",
      "metadata": {
        "id": "MEEOGoaQkfvn"
      },
      "source": [
        "dt2 = pd.concat([abigeato, amenazas, delitos_sexuales,extorsion,homicidios,homi_transito,hurto_automotores,\n",
        "                 hurto_comercio,hurto_entidades,hurto_motocicletas,hurto_personas,hurto_residencias,\n",
        "                 lesiones_accidentes,lesiones_personales,pirateria,secuestro,terrorismo,violencia_intra])"
      ],
      "execution_count": 25,
      "outputs": []
    },
    {
      "cell_type": "code",
      "metadata": {
        "id": "DUS0j-N70ktI"
      },
      "source": [
        "dt2.loc[dt2['MUNICIPIO'] == 'VALLEDUPAR (CT)', 'MUNICIPIO'] = 'VALLEDUPAR'\n",
        "dt2.loc[dt2['MUNICIPIO'] == 'ARAUCA (CT)', 'MUNICIPIO'] = 'ARAUCA'\n",
        "dt2.loc[dt2['MUNICIPIO'] == 'ARMENIA (CT)', 'MUNICIPIO'] = 'ARMENIA'#\n",
        "dt2.loc[dt2['MUNICIPIO'] == 'BARRANQUILLA (CT)', 'MUNICIPIO'] = 'BARRANQUILLA'\n",
        "dt2.loc[dt2['MUNICIPIO'] == 'BOGOTÁ D.C. (CT)', 'MUNICIPIO'] = 'BOGOTÁ, D.C.'\n",
        "dt2.loc[dt2['MUNICIPIO'] == 'BUCARAMANGA (CT)', 'MUNICIPIO'] = 'BUCARAMANGA'\n",
        "dt2.loc[dt2['MUNICIPIO'] == 'CALI (CT)', 'MUNICIPIO'] = 'CALI'\n",
        "dt2.loc[dt2['MUNICIPIO'] == 'CARTAGENA (CT)', 'MUNICIPIO'] = 'CARTAGENA DE INDIAS'\n",
        "dt2.loc[dt2['MUNICIPIO'] == 'CÚCUTA (CT)', 'MUNICIPIO'] = 'SAN JOSÉ DE CÚCUTA'\n",
        "dt2.loc[dt2['MUNICIPIO'] == 'CÚCUTA (CT)', 'MUNICIPIO'] = 'SAN JOSÉ DE CÚCUTA'\n",
        "dt2.loc[dt2['MUNICIPIO'] == 'FLORENCIA (CT)', 'MUNICIPIO'] = 'FLORENCIA'#\n",
        "dt2.loc[dt2['MUNICIPIO'] == 'IBAGUÉ (CT)', 'MUNICIPIO'] = 'IBAGUÉ'\n",
        "dt2.loc[dt2['MUNICIPIO'] == 'INÍRIDA (CT)', 'MUNICIPIO'] = 'INÍRIDA'\n",
        "dt2.loc[dt2['MUNICIPIO'] == 'LETICIA (CT)', 'MUNICIPIO'] = 'LETICIA'\n",
        "dt2.loc[dt2['MUNICIPIO'] == 'MANIZALES (CT)', 'MUNICIPIO'] = 'MANIZALES'\n",
        "dt2.loc[dt2['MUNICIPIO'] == 'MEDELLÍN (CT)', 'MUNICIPIO'] = 'MEDELLÍN'\n",
        "dt2.loc[dt2['MUNICIPIO'] == 'MITÚ (CT)', 'MUNICIPIO'] = 'MITÚ'\n",
        "dt2.loc[dt2['MUNICIPIO'] == 'MOCOA (CT)', 'MUNICIPIO'] = 'MOCOA'\n",
        "dt2.loc[dt2['MUNICIPIO'] == 'MONTERÍA (CT)', 'MUNICIPIO'] = 'MONTERÍA'\n",
        "dt2.loc[dt2['MUNICIPIO'] == 'NEIVA (CT)', 'MUNICIPIO'] = 'NEIVA'\n",
        "dt2.loc[dt2['MUNICIPIO'] == 'PASTO (CT)', 'MUNICIPIO'] = 'PASTO'\n",
        "dt2.loc[dt2['MUNICIPIO'] == 'PEREIRA (CT)', 'MUNICIPIO'] = 'PEREIRA'\n",
        "dt2.loc[dt2['MUNICIPIO'] == 'POPAYÁN (CT)', 'MUNICIPIO'] = 'POPAYÁN'\n",
        "dt2.loc[dt2['MUNICIPIO'] == 'PUERTO CARREÑO (CT)', 'MUNICIPIO'] = 'PUERTO CARREÑO'\n",
        "dt2.loc[dt2['MUNICIPIO'] == 'QUIBDÓ (CT)', 'MUNICIPIO'] = 'QUIBDÓ'\n",
        "dt2.loc[dt2['MUNICIPIO'] == 'RIOHACHA (CT)', 'MUNICIPIO'] = 'RIOHACHA'\n",
        "dt2.loc[dt2['MUNICIPIO'] == 'SAN ANDRÉS (CT)', 'MUNICIPIO'] = 'SAN ANDRÉS'\n",
        "dt2.loc[dt2['MUNICIPIO'] == 'SAN JOSÉ DEL GUAVIARE (CT)', 'MUNICIPIO'] = 'SAN JOSÉ DEL GUAVIARE'\n",
        "dt2.loc[dt2['MUNICIPIO'] == 'SANTA MARTA (CT)', 'MUNICIPIO'] = 'SANTA MARTA'\n",
        "dt2.loc[dt2['MUNICIPIO'] == 'SINCELEJO (CT)', 'MUNICIPIO'] = 'SINCELEJO'\n",
        "dt2.loc[dt2['MUNICIPIO'] == 'TUNJA (CT)', 'MUNICIPIO'] = 'TUNJA'\n",
        "dt2.loc[dt2['MUNICIPIO'] == 'VALLEDUPAR (CT)', 'MUNICIPIO'] = 'VALLEDUPAR'\n",
        "dt2.loc[dt2['MUNICIPIO'] == 'VILLAVICENCIO (CT)', 'MUNICIPIO'] = 'VILLAVICENCIO'\n",
        "dt2.loc[dt2['MUNICIPIO'] == 'YOPAL (CT)', 'MUNICIPIO'] = 'YOPAL'\n",
        "dt2.loc[dt2['MUNICIPIO'] == 'ANCUYÁ', 'MUNICIPIO'] = 'ANCUYA'\n",
        "dt2.loc[dt2['MUNICIPIO'] == 'ANZA', 'MUNICIPIO'] = 'ANZÁ'\n",
        "dt2.loc[dt2['MUNICIPIO'] == 'BELÉN DE LOS ANDAQUIES', 'MUNICIPIO'] = 'BELÉN DE LOS ANDAQUÍES'\n",
        "dt2.loc[dt2['MUNICIPIO'] == 'CALARCA', 'MUNICIPIO'] = 'CALARCÁ'\n",
        "dt2.loc[dt2['MUNICIPIO'] == 'CARMEN DEL DARIEN', 'MUNICIPIO'] = 'CARMEN DEL DARIÉN'\n",
        "dt2.loc[dt2['MUNICIPIO'] == 'CARURU', 'MUNICIPIO'] = 'CARURÚ'\n",
        "dt2.loc[dt2['MUNICIPIO'] == 'CERRO SAN ANTONIO', 'MUNICIPIO'] = 'CERRO DE SAN ANTONIO'\n",
        "dt2.loc[dt2['MUNICIPIO'] == 'CHAMEZA', 'MUNICIPIO'] = 'CHÁMEZA'\n",
        "dt2.loc[dt2['MUNICIPIO'] == 'CONSACA', 'MUNICIPIO'] = 'CONSACÁ'\n",
        "dt2.loc[dt2['MUNICIPIO'] == 'ABREGO', 'MUNICIPIO'] = 'ÁBREGO'\n",
        "dt2.loc[dt2['MUNICIPIO'] == 'CACHIRÁ', 'MUNICIPIO'] = 'CÁCHIRA'\n",
        "dt2.loc[dt2['MUNICIPIO'] == 'CAQUEZA', 'MUNICIPIO'] = 'CÁQUEZA'\n",
        "dt2.loc[dt2['MUNICIPIO'] == 'CUASPUD', 'MUNICIPIO'] = 'CUASPUD CARLOSAMA'\n",
        "dt2.loc[dt2['MUNICIPIO'] == 'DON MATÍAS', 'MUNICIPIO'] = 'DONMATÍAS'\n",
        "dt2.loc[dt2['MUNICIPIO'] == 'EL PAUJIL', 'MUNICIPIO'] = 'EL PAUJÍL'\n",
        "dt2.loc[dt2['MUNICIPIO'] == 'EL PIÑON', 'MUNICIPIO'] = 'EL PIÑÓN'\n",
        "dt2.loc[dt2['MUNICIPIO'] == 'ENTRERRIOS', 'MUNICIPIO'] = 'ENTRERRÍOS'\n",
        "dt2.loc[dt2['MUNICIPIO'] == 'FOMEQUE', 'MUNICIPIO'] = 'FÓMEQUE'\n",
        "dt2.loc[dt2['MUNICIPIO'] == 'GACHALA', 'MUNICIPIO'] = 'GACHALÁ'\n",
        "dt2.loc[dt2['MUNICIPIO'] == 'GAMBITA', 'MUNICIPIO'] = 'GÁMBITA'\n",
        "dt2.loc[dt2['MUNICIPIO'] == 'GAMEZA', 'MUNICIPIO'] = 'GÁMEZA'\n",
        "dt2.loc[dt2['MUNICIPIO'] == 'GUAYABAL DE SIQUIMA', 'MUNICIPIO'] = 'GUAYABAL DE SÍQUIMA'\n",
        "dt2.loc[dt2['MUNICIPIO'] == 'GÜICÁN', 'MUNICIPIO'] = 'GÜICÁN DE LA SIERRA'\n",
        "dt2.loc[dt2['MUNICIPIO'] == 'IQUIRA', 'MUNICIPIO'] = 'ÍQUIRA'\n",
        "dt2.loc[dt2['MUNICIPIO'] == 'ITAGUI', 'MUNICIPIO'] = 'ITAGÜÍ'\n",
        "dt2.loc[dt2['MUNICIPIO'] == 'LÓPEZ', 'MUNICIPIO'] = 'LÓPEZ DE MICAY'\n",
        "dt2.loc[dt2['MUNICIPIO'] == 'MACHETA', 'MUNICIPIO'] = 'MACHETÁ'\n",
        "dt2.loc[dt2['MUNICIPIO'] == 'MAGÜI', 'MUNICIPIO'] = 'MAGÜÍ'\n",
        "dt2.loc[dt2['MUNICIPIO'] == 'PIENDAMÓ', 'MUNICIPIO'] = 'PIENDAMÓ - TUNÍA'\n",
        "dt2.loc[dt2['MUNICIPIO'] == 'PURÍSIMA', 'MUNICIPIO'] = 'PURÍSIMA DE LA CONCEPCIÓN'\n",
        "dt2.loc[dt2['MUNICIPIO'] == 'RÍO IRO', 'MUNICIPIO'] = 'RÍO IRÓ'\n",
        "dt2.loc[dt2['MUNICIPIO'] == 'SABANAS DE SAN ANGEL', 'MUNICIPIO'] = 'SABANAS DE SAN ÁNGEL'\n",
        "dt2.loc[dt2['MUNICIPIO'] == 'SAN ANDRES DE TUMACO', 'MUNICIPIO'] = 'SAN ANDRÉS DE TUMACO'\n",
        "dt2.loc[dt2['MUNICIPIO'] == 'SAN JUAN DE RÍO SECO', 'MUNICIPIO'] = 'SAN JUAN DE RIOSECO'\n",
        "dt2.loc[dt2['MUNICIPIO'] == 'SONSON', 'MUNICIPIO'] = 'SONSÓN'\n",
        "dt2.loc[dt2['MUNICIPIO'] == 'SOTARA', 'MUNICIPIO'] = 'SOTARÁ PAISPAMBA'\n",
        "dt2.loc[dt2['MUNICIPIO'] == 'TORIBIO', 'MUNICIPIO'] = 'TORIBÍO'\n",
        "dt2.loc[dt2['MUNICIPIO'] == 'UMBITA', 'MUNICIPIO'] = 'ÚMBITA'\n",
        "dt2.loc[dt2['MUNICIPIO'] == 'VILLA DE SAN DIEGO DE UBATE', 'MUNICIPIO'] = 'VILLA DE SAN DIEGO DE UBATÉ'\n",
        "dt2.loc[dt2['MUNICIPIO'] == 'PAEZ', 'MUNICIPIO'] = 'PÁEZ'\n"
      ],
      "execution_count": 26,
      "outputs": []
    },
    {
      "cell_type": "code",
      "metadata": {
        "id": "Sdw18sh-lEsx"
      },
      "source": [
        "X = dt2.fillna(0)"
      ],
      "execution_count": 28,
      "outputs": []
    },
    {
      "cell_type": "code",
      "metadata": {
        "id": "EtHGGBf5uk1Y",
        "colab": {
          "base_uri": "https://localhost:8080/",
          "height": 456
        },
        "outputId": "b1557b2e-c4e2-4c90-e24e-1a23d32c831e"
      },
      "source": [
        "Y = X.groupby('MUNICIPIO').sum()\n",
        "Y.reset_index(inplace=True)\n",
        "Y\n"
      ],
      "execution_count": 29,
      "outputs": [
        {
          "output_type": "execute_result",
          "data": {
            "text/html": [
              "<div>\n",
              "<style scoped>\n",
              "    .dataframe tbody tr th:only-of-type {\n",
              "        vertical-align: middle;\n",
              "    }\n",
              "\n",
              "    .dataframe tbody tr th {\n",
              "        vertical-align: top;\n",
              "    }\n",
              "\n",
              "    .dataframe thead th {\n",
              "        text-align: right;\n",
              "    }\n",
              "</style>\n",
              "<table border=\"1\" class=\"dataframe\">\n",
              "  <thead>\n",
              "    <tr style=\"text-align: right;\">\n",
              "      <th></th>\n",
              "      <th>MUNICIPIO</th>\n",
              "      <th>ABIGEATO</th>\n",
              "      <th>AMENAZAS</th>\n",
              "      <th>DELITOS_SEXUALES</th>\n",
              "      <th>EXTORSION</th>\n",
              "      <th>HOMICIDIOS</th>\n",
              "      <th>HOMICIDIOS_TRANSITO</th>\n",
              "      <th>HURTO_AUTOMOTORES</th>\n",
              "      <th>HURTO_COMERCIO</th>\n",
              "      <th>HURTO_ENTIDADES</th>\n",
              "      <th>HURTO_MOTOCICLETAS</th>\n",
              "      <th>HURTO_PERSONAS</th>\n",
              "      <th>HURTO_RESIDENCIAS</th>\n",
              "      <th>LESIONES_ACCIDENTES</th>\n",
              "      <th>LESIONES_PERSONALES</th>\n",
              "      <th>PIRATERIA_TERRESTRE</th>\n",
              "      <th>SECUESTRO</th>\n",
              "      <th>TERRORISMO</th>\n",
              "      <th>VIOLENCIA_INTRAFAMILIAR</th>\n",
              "    </tr>\n",
              "  </thead>\n",
              "  <tbody>\n",
              "    <tr>\n",
              "      <th>0</th>\n",
              "      <td>ABEJORRAL</td>\n",
              "      <td>1.0</td>\n",
              "      <td>1.0</td>\n",
              "      <td>15.0</td>\n",
              "      <td>4.0</td>\n",
              "      <td>4.0</td>\n",
              "      <td>4.0</td>\n",
              "      <td>1.0</td>\n",
              "      <td>11.0</td>\n",
              "      <td>0.0</td>\n",
              "      <td>3.0</td>\n",
              "      <td>16.0</td>\n",
              "      <td>19.0</td>\n",
              "      <td>0.0</td>\n",
              "      <td>14.0</td>\n",
              "      <td>0.0</td>\n",
              "      <td>0.0</td>\n",
              "      <td>0.0</td>\n",
              "      <td>16.0</td>\n",
              "    </tr>\n",
              "    <tr>\n",
              "      <th>1</th>\n",
              "      <td>ABRIAQUÍ</td>\n",
              "      <td>0.0</td>\n",
              "      <td>1.0</td>\n",
              "      <td>3.0</td>\n",
              "      <td>1.0</td>\n",
              "      <td>0.0</td>\n",
              "      <td>0.0</td>\n",
              "      <td>0.0</td>\n",
              "      <td>1.0</td>\n",
              "      <td>0.0</td>\n",
              "      <td>0.0</td>\n",
              "      <td>2.0</td>\n",
              "      <td>1.0</td>\n",
              "      <td>0.0</td>\n",
              "      <td>1.0</td>\n",
              "      <td>0.0</td>\n",
              "      <td>0.0</td>\n",
              "      <td>0.0</td>\n",
              "      <td>0.0</td>\n",
              "    </tr>\n",
              "    <tr>\n",
              "      <th>2</th>\n",
              "      <td>ACACÍAS</td>\n",
              "      <td>17.0</td>\n",
              "      <td>236.0</td>\n",
              "      <td>81.0</td>\n",
              "      <td>34.0</td>\n",
              "      <td>15.0</td>\n",
              "      <td>12.0</td>\n",
              "      <td>6.0</td>\n",
              "      <td>114.0</td>\n",
              "      <td>0.0</td>\n",
              "      <td>65.0</td>\n",
              "      <td>364.0</td>\n",
              "      <td>140.0</td>\n",
              "      <td>42.0</td>\n",
              "      <td>333.0</td>\n",
              "      <td>0.0</td>\n",
              "      <td>0.0</td>\n",
              "      <td>0.0</td>\n",
              "      <td>228.0</td>\n",
              "    </tr>\n",
              "    <tr>\n",
              "      <th>3</th>\n",
              "      <td>ACANDÍ</td>\n",
              "      <td>0.0</td>\n",
              "      <td>2.0</td>\n",
              "      <td>3.0</td>\n",
              "      <td>0.0</td>\n",
              "      <td>5.0</td>\n",
              "      <td>0.0</td>\n",
              "      <td>0.0</td>\n",
              "      <td>2.0</td>\n",
              "      <td>0.0</td>\n",
              "      <td>0.0</td>\n",
              "      <td>5.0</td>\n",
              "      <td>1.0</td>\n",
              "      <td>1.0</td>\n",
              "      <td>12.0</td>\n",
              "      <td>0.0</td>\n",
              "      <td>0.0</td>\n",
              "      <td>0.0</td>\n",
              "      <td>2.0</td>\n",
              "    </tr>\n",
              "    <tr>\n",
              "      <th>4</th>\n",
              "      <td>ACEVEDO</td>\n",
              "      <td>0.0</td>\n",
              "      <td>32.0</td>\n",
              "      <td>27.0</td>\n",
              "      <td>3.0</td>\n",
              "      <td>17.0</td>\n",
              "      <td>4.0</td>\n",
              "      <td>3.0</td>\n",
              "      <td>6.0</td>\n",
              "      <td>0.0</td>\n",
              "      <td>19.0</td>\n",
              "      <td>17.0</td>\n",
              "      <td>7.0</td>\n",
              "      <td>11.0</td>\n",
              "      <td>69.0</td>\n",
              "      <td>0.0</td>\n",
              "      <td>0.0</td>\n",
              "      <td>0.0</td>\n",
              "      <td>44.0</td>\n",
              "    </tr>\n",
              "    <tr>\n",
              "      <th>...</th>\n",
              "      <td>...</td>\n",
              "      <td>...</td>\n",
              "      <td>...</td>\n",
              "      <td>...</td>\n",
              "      <td>...</td>\n",
              "      <td>...</td>\n",
              "      <td>...</td>\n",
              "      <td>...</td>\n",
              "      <td>...</td>\n",
              "      <td>...</td>\n",
              "      <td>...</td>\n",
              "      <td>...</td>\n",
              "      <td>...</td>\n",
              "      <td>...</td>\n",
              "      <td>...</td>\n",
              "      <td>...</td>\n",
              "      <td>...</td>\n",
              "      <td>...</td>\n",
              "      <td>...</td>\n",
              "    </tr>\n",
              "    <tr>\n",
              "      <th>1014</th>\n",
              "      <td>ZONA BANANERA</td>\n",
              "      <td>4.0</td>\n",
              "      <td>17.0</td>\n",
              "      <td>47.0</td>\n",
              "      <td>6.0</td>\n",
              "      <td>22.0</td>\n",
              "      <td>17.0</td>\n",
              "      <td>0.0</td>\n",
              "      <td>15.0</td>\n",
              "      <td>0.0</td>\n",
              "      <td>55.0</td>\n",
              "      <td>28.0</td>\n",
              "      <td>35.0</td>\n",
              "      <td>56.0</td>\n",
              "      <td>57.0</td>\n",
              "      <td>2.0</td>\n",
              "      <td>0.0</td>\n",
              "      <td>0.0</td>\n",
              "      <td>32.0</td>\n",
              "    </tr>\n",
              "    <tr>\n",
              "      <th>1015</th>\n",
              "      <td>ÁBREGO</td>\n",
              "      <td>0.0</td>\n",
              "      <td>27.0</td>\n",
              "      <td>19.0</td>\n",
              "      <td>3.0</td>\n",
              "      <td>16.0</td>\n",
              "      <td>5.0</td>\n",
              "      <td>5.0</td>\n",
              "      <td>12.0</td>\n",
              "      <td>0.0</td>\n",
              "      <td>21.0</td>\n",
              "      <td>14.0</td>\n",
              "      <td>8.0</td>\n",
              "      <td>4.0</td>\n",
              "      <td>31.0</td>\n",
              "      <td>0.0</td>\n",
              "      <td>2.0</td>\n",
              "      <td>0.0</td>\n",
              "      <td>11.0</td>\n",
              "    </tr>\n",
              "    <tr>\n",
              "      <th>1016</th>\n",
              "      <td>ÍQUIRA</td>\n",
              "      <td>0.0</td>\n",
              "      <td>9.0</td>\n",
              "      <td>20.0</td>\n",
              "      <td>2.0</td>\n",
              "      <td>4.0</td>\n",
              "      <td>2.0</td>\n",
              "      <td>1.0</td>\n",
              "      <td>1.0</td>\n",
              "      <td>0.0</td>\n",
              "      <td>3.0</td>\n",
              "      <td>0.0</td>\n",
              "      <td>0.0</td>\n",
              "      <td>2.0</td>\n",
              "      <td>6.0</td>\n",
              "      <td>0.0</td>\n",
              "      <td>0.0</td>\n",
              "      <td>0.0</td>\n",
              "      <td>10.0</td>\n",
              "    </tr>\n",
              "    <tr>\n",
              "      <th>1017</th>\n",
              "      <td>ÚMBITA</td>\n",
              "      <td>0.0</td>\n",
              "      <td>1.0</td>\n",
              "      <td>4.0</td>\n",
              "      <td>0.0</td>\n",
              "      <td>0.0</td>\n",
              "      <td>0.0</td>\n",
              "      <td>0.0</td>\n",
              "      <td>0.0</td>\n",
              "      <td>0.0</td>\n",
              "      <td>0.0</td>\n",
              "      <td>2.0</td>\n",
              "      <td>1.0</td>\n",
              "      <td>0.0</td>\n",
              "      <td>9.0</td>\n",
              "      <td>0.0</td>\n",
              "      <td>0.0</td>\n",
              "      <td>0.0</td>\n",
              "      <td>7.0</td>\n",
              "    </tr>\n",
              "    <tr>\n",
              "      <th>1018</th>\n",
              "      <td>ÚTICA</td>\n",
              "      <td>0.0</td>\n",
              "      <td>8.0</td>\n",
              "      <td>1.0</td>\n",
              "      <td>0.0</td>\n",
              "      <td>0.0</td>\n",
              "      <td>1.0</td>\n",
              "      <td>0.0</td>\n",
              "      <td>0.0</td>\n",
              "      <td>0.0</td>\n",
              "      <td>0.0</td>\n",
              "      <td>1.0</td>\n",
              "      <td>7.0</td>\n",
              "      <td>0.0</td>\n",
              "      <td>8.0</td>\n",
              "      <td>0.0</td>\n",
              "      <td>0.0</td>\n",
              "      <td>0.0</td>\n",
              "      <td>3.0</td>\n",
              "    </tr>\n",
              "  </tbody>\n",
              "</table>\n",
              "<p>1019 rows × 19 columns</p>\n",
              "</div>"
            ],
            "text/plain": [
              "          MUNICIPIO  ABIGEATO  ...  TERRORISMO  VIOLENCIA_INTRAFAMILIAR\n",
              "0         ABEJORRAL       1.0  ...         0.0                     16.0\n",
              "1          ABRIAQUÍ       0.0  ...         0.0                      0.0\n",
              "2           ACACÍAS      17.0  ...         0.0                    228.0\n",
              "3            ACANDÍ       0.0  ...         0.0                      2.0\n",
              "4           ACEVEDO       0.0  ...         0.0                     44.0\n",
              "...             ...       ...  ...         ...                      ...\n",
              "1014  ZONA BANANERA       4.0  ...         0.0                     32.0\n",
              "1015         ÁBREGO       0.0  ...         0.0                     11.0\n",
              "1016         ÍQUIRA       0.0  ...         0.0                     10.0\n",
              "1017         ÚMBITA       0.0  ...         0.0                      7.0\n",
              "1018          ÚTICA       0.0  ...         0.0                      3.0\n",
              "\n",
              "[1019 rows x 19 columns]"
            ]
          },
          "metadata": {},
          "execution_count": 29
        }
      ]
    },
    {
      "cell_type": "code",
      "metadata": {
        "colab": {
          "base_uri": "https://localhost:8080/",
          "height": 100
        },
        "id": "410McOmePpfe",
        "outputId": "7fbeb885-a0e4-4e67-df8f-43672790d67a"
      },
      "source": [
        "Y[Y['MUNICIPIO'] == 'PÁEZ']"
      ],
      "execution_count": 30,
      "outputs": [
        {
          "output_type": "execute_result",
          "data": {
            "text/html": [
              "<div>\n",
              "<style scoped>\n",
              "    .dataframe tbody tr th:only-of-type {\n",
              "        vertical-align: middle;\n",
              "    }\n",
              "\n",
              "    .dataframe tbody tr th {\n",
              "        vertical-align: top;\n",
              "    }\n",
              "\n",
              "    .dataframe thead th {\n",
              "        text-align: right;\n",
              "    }\n",
              "</style>\n",
              "<table border=\"1\" class=\"dataframe\">\n",
              "  <thead>\n",
              "    <tr style=\"text-align: right;\">\n",
              "      <th></th>\n",
              "      <th>MUNICIPIO</th>\n",
              "      <th>ABIGEATO</th>\n",
              "      <th>AMENAZAS</th>\n",
              "      <th>DELITOS_SEXUALES</th>\n",
              "      <th>EXTORSION</th>\n",
              "      <th>HOMICIDIOS</th>\n",
              "      <th>HOMICIDIOS_TRANSITO</th>\n",
              "      <th>HURTO_AUTOMOTORES</th>\n",
              "      <th>HURTO_COMERCIO</th>\n",
              "      <th>HURTO_ENTIDADES</th>\n",
              "      <th>HURTO_MOTOCICLETAS</th>\n",
              "      <th>HURTO_PERSONAS</th>\n",
              "      <th>HURTO_RESIDENCIAS</th>\n",
              "      <th>LESIONES_ACCIDENTES</th>\n",
              "      <th>LESIONES_PERSONALES</th>\n",
              "      <th>PIRATERIA_TERRESTRE</th>\n",
              "      <th>SECUESTRO</th>\n",
              "      <th>TERRORISMO</th>\n",
              "      <th>VIOLENCIA_INTRAFAMILIAR</th>\n",
              "    </tr>\n",
              "  </thead>\n",
              "  <tbody>\n",
              "    <tr>\n",
              "      <th>676</th>\n",
              "      <td>PÁEZ</td>\n",
              "      <td>0.0</td>\n",
              "      <td>36.0</td>\n",
              "      <td>13.0</td>\n",
              "      <td>6.0</td>\n",
              "      <td>16.0</td>\n",
              "      <td>1.0</td>\n",
              "      <td>5.0</td>\n",
              "      <td>1.0</td>\n",
              "      <td>0.0</td>\n",
              "      <td>9.0</td>\n",
              "      <td>7.0</td>\n",
              "      <td>1.0</td>\n",
              "      <td>2.0</td>\n",
              "      <td>21.0</td>\n",
              "      <td>0.0</td>\n",
              "      <td>1.0</td>\n",
              "      <td>0.0</td>\n",
              "      <td>6.0</td>\n",
              "    </tr>\n",
              "  </tbody>\n",
              "</table>\n",
              "</div>"
            ],
            "text/plain": [
              "    MUNICIPIO  ABIGEATO  ...  TERRORISMO  VIOLENCIA_INTRAFAMILIAR\n",
              "676      PÁEZ       0.0  ...         0.0                      6.0\n",
              "\n",
              "[1 rows x 19 columns]"
            ]
          },
          "metadata": {},
          "execution_count": 30
        }
      ]
    },
    {
      "cell_type": "code",
      "metadata": {
        "id": "NeOZHtZ-iTZ0"
      },
      "source": [
        "poblacion = pd.read_excel('/content/poblacion_municipios.xlsx')"
      ],
      "execution_count": 31,
      "outputs": []
    },
    {
      "cell_type": "code",
      "metadata": {
        "id": "lgdAAVIVjn2o"
      },
      "source": [
        "poblacion = poblacion.dropna()"
      ],
      "execution_count": 32,
      "outputs": []
    },
    {
      "cell_type": "code",
      "metadata": {
        "id": "KCpR6OP6pNzB"
      },
      "source": [
        "poblacion = poblacion.rename(columns={'MPIO':'MUNICIPIO'})"
      ],
      "execution_count": 33,
      "outputs": []
    },
    {
      "cell_type": "code",
      "metadata": {
        "colab": {
          "base_uri": "https://localhost:8080/",
          "height": 419
        },
        "id": "0_J9aO3EkGRV",
        "outputId": "3e7d5ce6-e122-4db4-9519-39b154fcc0a5"
      },
      "source": [
        "poblacion"
      ],
      "execution_count": 34,
      "outputs": [
        {
          "output_type": "execute_result",
          "data": {
            "text/html": [
              "<div>\n",
              "<style scoped>\n",
              "    .dataframe tbody tr th:only-of-type {\n",
              "        vertical-align: middle;\n",
              "    }\n",
              "\n",
              "    .dataframe tbody tr th {\n",
              "        vertical-align: top;\n",
              "    }\n",
              "\n",
              "    .dataframe thead th {\n",
              "        text-align: right;\n",
              "    }\n",
              "</style>\n",
              "<table border=\"1\" class=\"dataframe\">\n",
              "  <thead>\n",
              "    <tr style=\"text-align: right;\">\n",
              "      <th></th>\n",
              "      <th>MUNICIPIO</th>\n",
              "      <th>Total</th>\n",
              "    </tr>\n",
              "  </thead>\n",
              "  <tbody>\n",
              "    <tr>\n",
              "      <th>0</th>\n",
              "      <td>MEDELLÍN</td>\n",
              "      <td>2382399</td>\n",
              "    </tr>\n",
              "    <tr>\n",
              "      <th>1</th>\n",
              "      <td>MEDELLÍN</td>\n",
              "      <td>44730</td>\n",
              "    </tr>\n",
              "    <tr>\n",
              "      <th>2</th>\n",
              "      <td>MEDELLÍN</td>\n",
              "      <td>2427129</td>\n",
              "    </tr>\n",
              "    <tr>\n",
              "      <th>3</th>\n",
              "      <td>MEDELLÍN</td>\n",
              "      <td>2439470</td>\n",
              "    </tr>\n",
              "    <tr>\n",
              "      <th>4</th>\n",
              "      <td>MEDELLÍN</td>\n",
              "      <td>44075</td>\n",
              "    </tr>\n",
              "    <tr>\n",
              "      <th>...</th>\n",
              "      <td>...</td>\n",
              "      <td>...</td>\n",
              "    </tr>\n",
              "    <tr>\n",
              "      <th>60583</th>\n",
              "      <td>CUMARIBO</td>\n",
              "      <td>93327</td>\n",
              "    </tr>\n",
              "    <tr>\n",
              "      <th>60584</th>\n",
              "      <td>CUMARIBO</td>\n",
              "      <td>96319</td>\n",
              "    </tr>\n",
              "    <tr>\n",
              "      <th>60585</th>\n",
              "      <td>CUMARIBO</td>\n",
              "      <td>3001</td>\n",
              "    </tr>\n",
              "    <tr>\n",
              "      <th>60586</th>\n",
              "      <td>CUMARIBO</td>\n",
              "      <td>94793</td>\n",
              "    </tr>\n",
              "    <tr>\n",
              "      <th>60587</th>\n",
              "      <td>CUMARIBO</td>\n",
              "      <td>97794</td>\n",
              "    </tr>\n",
              "  </tbody>\n",
              "</table>\n",
              "<p>60588 rows × 2 columns</p>\n",
              "</div>"
            ],
            "text/plain": [
              "      MUNICIPIO    Total\n",
              "0      MEDELLÍN  2382399\n",
              "1      MEDELLÍN    44730\n",
              "2      MEDELLÍN  2427129\n",
              "3      MEDELLÍN  2439470\n",
              "4      MEDELLÍN    44075\n",
              "...         ...      ...\n",
              "60583  CUMARIBO    93327\n",
              "60584  CUMARIBO    96319\n",
              "60585  CUMARIBO     3001\n",
              "60586  CUMARIBO    94793\n",
              "60587  CUMARIBO    97794\n",
              "\n",
              "[60588 rows x 2 columns]"
            ]
          },
          "metadata": {},
          "execution_count": 34
        }
      ]
    },
    {
      "cell_type": "code",
      "metadata": {
        "id": "3HpjOydxj-Gu"
      },
      "source": [
        "#poblacion\n",
        "poblacion = poblacion.groupby('MUNICIPIO').sum()\n",
        "poblacion.reset_index(inplace=True)"
      ],
      "execution_count": 35,
      "outputs": []
    },
    {
      "cell_type": "code",
      "metadata": {
        "colab": {
          "base_uri": "https://localhost:8080/",
          "height": 419
        },
        "id": "gSwtPMV0kMUO",
        "outputId": "d05efb8d-30fe-401f-d299-b869ca6e7372"
      },
      "source": [
        "poblacion"
      ],
      "execution_count": 36,
      "outputs": [
        {
          "output_type": "execute_result",
          "data": {
            "text/html": [
              "<div>\n",
              "<style scoped>\n",
              "    .dataframe tbody tr th:only-of-type {\n",
              "        vertical-align: middle;\n",
              "    }\n",
              "\n",
              "    .dataframe tbody tr th {\n",
              "        vertical-align: top;\n",
              "    }\n",
              "\n",
              "    .dataframe thead th {\n",
              "        text-align: right;\n",
              "    }\n",
              "</style>\n",
              "<table border=\"1\" class=\"dataframe\">\n",
              "  <thead>\n",
              "    <tr style=\"text-align: right;\">\n",
              "      <th></th>\n",
              "      <th>MUNICIPIO</th>\n",
              "      <th>Total</th>\n",
              "    </tr>\n",
              "  </thead>\n",
              "  <tbody>\n",
              "    <tr>\n",
              "      <th>0</th>\n",
              "      <td>ABEJORRAL</td>\n",
              "      <td>789624</td>\n",
              "    </tr>\n",
              "    <tr>\n",
              "      <th>1</th>\n",
              "      <td>ABRIAQUÍ</td>\n",
              "      <td>105848</td>\n",
              "    </tr>\n",
              "    <tr>\n",
              "      <th>2</th>\n",
              "      <td>ACACÍAS</td>\n",
              "      <td>3449940</td>\n",
              "    </tr>\n",
              "    <tr>\n",
              "      <th>3</th>\n",
              "      <td>ACANDÍ</td>\n",
              "      <td>538034</td>\n",
              "    </tr>\n",
              "    <tr>\n",
              "      <th>4</th>\n",
              "      <td>ACEVEDO</td>\n",
              "      <td>963862</td>\n",
              "    </tr>\n",
              "    <tr>\n",
              "      <th>...</th>\n",
              "      <td>...</td>\n",
              "      <td>...</td>\n",
              "    </tr>\n",
              "    <tr>\n",
              "      <th>1043</th>\n",
              "      <td>ZONA BANANERA</td>\n",
              "      <td>2913900</td>\n",
              "    </tr>\n",
              "    <tr>\n",
              "      <th>1044</th>\n",
              "      <td>ÁBREGO</td>\n",
              "      <td>1275992</td>\n",
              "    </tr>\n",
              "    <tr>\n",
              "      <th>1045</th>\n",
              "      <td>ÍQUIRA</td>\n",
              "      <td>355352</td>\n",
              "    </tr>\n",
              "    <tr>\n",
              "      <th>1046</th>\n",
              "      <td>ÚMBITA</td>\n",
              "      <td>280642</td>\n",
              "    </tr>\n",
              "    <tr>\n",
              "      <th>1047</th>\n",
              "      <td>ÚTICA</td>\n",
              "      <td>184836</td>\n",
              "    </tr>\n",
              "  </tbody>\n",
              "</table>\n",
              "<p>1048 rows × 2 columns</p>\n",
              "</div>"
            ],
            "text/plain": [
              "          MUNICIPIO    Total\n",
              "0         ABEJORRAL   789624\n",
              "1          ABRIAQUÍ   105848\n",
              "2           ACACÍAS  3449940\n",
              "3            ACANDÍ   538034\n",
              "4           ACEVEDO   963862\n",
              "...             ...      ...\n",
              "1043  ZONA BANANERA  2913900\n",
              "1044         ÁBREGO  1275992\n",
              "1045         ÍQUIRA   355352\n",
              "1046         ÚMBITA   280642\n",
              "1047          ÚTICA   184836\n",
              "\n",
              "[1048 rows x 2 columns]"
            ]
          },
          "metadata": {},
          "execution_count": 36
        }
      ]
    },
    {
      "cell_type": "code",
      "metadata": {
        "id": "-7A6cadUlSAi"
      },
      "source": [
        "Y = pd.DataFrame(Y)"
      ],
      "execution_count": 37,
      "outputs": []
    },
    {
      "cell_type": "code",
      "metadata": {
        "colab": {
          "base_uri": "https://localhost:8080/"
        },
        "id": "x52A6bCBll9u",
        "outputId": "1d59c977-82e3-49af-b454-d612fba0d26d"
      },
      "source": [
        "Y.loc[:,'MUNICIPIO']"
      ],
      "execution_count": 39,
      "outputs": [
        {
          "output_type": "execute_result",
          "data": {
            "text/plain": [
              "0           ABEJORRAL\n",
              "1            ABRIAQUÍ\n",
              "2             ACACÍAS\n",
              "3              ACANDÍ\n",
              "4             ACEVEDO\n",
              "            ...      \n",
              "1014    ZONA BANANERA\n",
              "1015           ÁBREGO\n",
              "1016           ÍQUIRA\n",
              "1017           ÚMBITA\n",
              "1018            ÚTICA\n",
              "Name: MUNICIPIO, Length: 1019, dtype: object"
            ]
          },
          "metadata": {},
          "execution_count": 39
        }
      ]
    },
    {
      "cell_type": "code",
      "metadata": {
        "colab": {
          "base_uri": "https://localhost:8080/"
        },
        "id": "Je2_zvG7lIxb",
        "outputId": "b433f13b-7410-497c-b2bf-69d0f6f6a1c8"
      },
      "source": [
        "poblacion.loc[:,'MUNICIPIO']"
      ],
      "execution_count": 40,
      "outputs": [
        {
          "output_type": "execute_result",
          "data": {
            "text/plain": [
              "0           ABEJORRAL\n",
              "1            ABRIAQUÍ\n",
              "2             ACACÍAS\n",
              "3              ACANDÍ\n",
              "4             ACEVEDO\n",
              "            ...      \n",
              "1043    ZONA BANANERA\n",
              "1044           ÁBREGO\n",
              "1045           ÍQUIRA\n",
              "1046           ÚMBITA\n",
              "1047            ÚTICA\n",
              "Name: MUNICIPIO, Length: 1048, dtype: object"
            ]
          },
          "metadata": {},
          "execution_count": 40
        }
      ]
    },
    {
      "cell_type": "code",
      "metadata": {
        "id": "e1NmSrlN1lLh"
      },
      "source": [
        "df_group = poblacion.merge(Y, how = 'inner', on='MUNICIPIO')"
      ],
      "execution_count": 41,
      "outputs": []
    },
    {
      "cell_type": "code",
      "metadata": {
        "colab": {
          "base_uri": "https://localhost:8080/"
        },
        "id": "-uOnLSEDO_qt",
        "outputId": "47b1e5bc-9aff-411f-9030-a24c0031d72d"
      },
      "source": [
        "sum(df_group['MUNICIPIO'] == 'CHIMA')"
      ],
      "execution_count": 43,
      "outputs": [
        {
          "output_type": "execute_result",
          "data": {
            "text/plain": [
              "0"
            ]
          },
          "metadata": {},
          "execution_count": 43
        }
      ]
    },
    {
      "cell_type": "code",
      "metadata": {
        "id": "tXCOfrMgk16v"
      },
      "source": [
        "A = poblacion['MUNICIPIO']\n",
        "A = pd.DataFrame(A)"
      ],
      "execution_count": 44,
      "outputs": []
    },
    {
      "cell_type": "code",
      "metadata": {
        "id": "_a4t4S2r9-zN"
      },
      "source": [
        "B = Y['MUNICIPIO']\n",
        "B = pd.DataFrame(B)"
      ],
      "execution_count": 45,
      "outputs": []
    },
    {
      "cell_type": "code",
      "metadata": {
        "colab": {
          "base_uri": "https://localhost:8080/",
          "height": 419
        },
        "id": "8b3fSyT4-imP",
        "outputId": "de0edbf1-b929-4f3d-a6fc-c9a6074b11c3"
      },
      "source": [
        "df = A.merge(B, how='outer', indicator='union')\n",
        "df"
      ],
      "execution_count": 46,
      "outputs": [
        {
          "output_type": "execute_result",
          "data": {
            "text/html": [
              "<div>\n",
              "<style scoped>\n",
              "    .dataframe tbody tr th:only-of-type {\n",
              "        vertical-align: middle;\n",
              "    }\n",
              "\n",
              "    .dataframe tbody tr th {\n",
              "        vertical-align: top;\n",
              "    }\n",
              "\n",
              "    .dataframe thead th {\n",
              "        text-align: right;\n",
              "    }\n",
              "</style>\n",
              "<table border=\"1\" class=\"dataframe\">\n",
              "  <thead>\n",
              "    <tr style=\"text-align: right;\">\n",
              "      <th></th>\n",
              "      <th>MUNICIPIO</th>\n",
              "      <th>union</th>\n",
              "    </tr>\n",
              "  </thead>\n",
              "  <tbody>\n",
              "    <tr>\n",
              "      <th>0</th>\n",
              "      <td>ABEJORRAL</td>\n",
              "      <td>both</td>\n",
              "    </tr>\n",
              "    <tr>\n",
              "      <th>1</th>\n",
              "      <td>ABRIAQUÍ</td>\n",
              "      <td>both</td>\n",
              "    </tr>\n",
              "    <tr>\n",
              "      <th>2</th>\n",
              "      <td>ACACÍAS</td>\n",
              "      <td>both</td>\n",
              "    </tr>\n",
              "    <tr>\n",
              "      <th>3</th>\n",
              "      <td>ACANDÍ</td>\n",
              "      <td>both</td>\n",
              "    </tr>\n",
              "    <tr>\n",
              "      <th>4</th>\n",
              "      <td>ACEVEDO</td>\n",
              "      <td>both</td>\n",
              "    </tr>\n",
              "    <tr>\n",
              "      <th>...</th>\n",
              "      <td>...</td>\n",
              "      <td>...</td>\n",
              "    </tr>\n",
              "    <tr>\n",
              "      <th>1045</th>\n",
              "      <td>ÍQUIRA</td>\n",
              "      <td>both</td>\n",
              "    </tr>\n",
              "    <tr>\n",
              "      <th>1046</th>\n",
              "      <td>ÚMBITA</td>\n",
              "      <td>both</td>\n",
              "    </tr>\n",
              "    <tr>\n",
              "      <th>1047</th>\n",
              "      <td>ÚTICA</td>\n",
              "      <td>both</td>\n",
              "    </tr>\n",
              "    <tr>\n",
              "      <th>1048</th>\n",
              "      <td>CHIMA</td>\n",
              "      <td>right_only</td>\n",
              "    </tr>\n",
              "    <tr>\n",
              "      <th>1049</th>\n",
              "      <td>NO REGISTRA</td>\n",
              "      <td>right_only</td>\n",
              "    </tr>\n",
              "  </tbody>\n",
              "</table>\n",
              "<p>1050 rows × 2 columns</p>\n",
              "</div>"
            ],
            "text/plain": [
              "        MUNICIPIO       union\n",
              "0       ABEJORRAL        both\n",
              "1        ABRIAQUÍ        both\n",
              "2         ACACÍAS        both\n",
              "3          ACANDÍ        both\n",
              "4         ACEVEDO        both\n",
              "...           ...         ...\n",
              "1045       ÍQUIRA        both\n",
              "1046       ÚMBITA        both\n",
              "1047        ÚTICA        both\n",
              "1048        CHIMA  right_only\n",
              "1049  NO REGISTRA  right_only\n",
              "\n",
              "[1050 rows x 2 columns]"
            ]
          },
          "metadata": {},
          "execution_count": 46
        }
      ]
    },
    {
      "cell_type": "code",
      "metadata": {
        "colab": {
          "base_uri": "https://localhost:8080/",
          "height": 111
        },
        "id": "ccuPIu0F-7Vd",
        "outputId": "6971749e-f835-4422-f94f-19caaec07e50"
      },
      "source": [
        "df[df['union'] == 'right_only'] #POLICIA"
      ],
      "execution_count": 47,
      "outputs": [
        {
          "output_type": "execute_result",
          "data": {
            "text/html": [
              "<div>\n",
              "<style scoped>\n",
              "    .dataframe tbody tr th:only-of-type {\n",
              "        vertical-align: middle;\n",
              "    }\n",
              "\n",
              "    .dataframe tbody tr th {\n",
              "        vertical-align: top;\n",
              "    }\n",
              "\n",
              "    .dataframe thead th {\n",
              "        text-align: right;\n",
              "    }\n",
              "</style>\n",
              "<table border=\"1\" class=\"dataframe\">\n",
              "  <thead>\n",
              "    <tr style=\"text-align: right;\">\n",
              "      <th></th>\n",
              "      <th>MUNICIPIO</th>\n",
              "      <th>union</th>\n",
              "    </tr>\n",
              "  </thead>\n",
              "  <tbody>\n",
              "    <tr>\n",
              "      <th>1048</th>\n",
              "      <td>CHIMA</td>\n",
              "      <td>right_only</td>\n",
              "    </tr>\n",
              "    <tr>\n",
              "      <th>1049</th>\n",
              "      <td>NO REGISTRA</td>\n",
              "      <td>right_only</td>\n",
              "    </tr>\n",
              "  </tbody>\n",
              "</table>\n",
              "</div>"
            ],
            "text/plain": [
              "        MUNICIPIO       union\n",
              "1048        CHIMA  right_only\n",
              "1049  NO REGISTRA  right_only"
            ]
          },
          "metadata": {},
          "execution_count": 47
        }
      ]
    },
    {
      "cell_type": "code",
      "metadata": {
        "id": "_n5I-zvi_LwZ"
      },
      "source": [
        "j = df[df['union'] == 'left_only'] #DANE"
      ],
      "execution_count": 48,
      "outputs": []
    },
    {
      "cell_type": "code",
      "metadata": {
        "id": "1IDc_UWEwUzT"
      },
      "source": [
        "df_group[\"ABIGEATO\"] = (df_group[\"ABIGEATO\"]/df_group[\"Total\"])*1000000\n",
        "df_group[\"AMENAZAS\"] = (df_group[\"AMENAZAS\"]/df_group[\"Total\"])*1000000\n",
        "df_group[\"DELITOS_SEXUALES\"] = (df_group[\"DELITOS_SEXUALES\"]/df_group[\"Total\"])*1000000\n",
        "df_group[\"EXTORSION\"] = (df_group[\"EXTORSION\"]/df_group[\"Total\"])*1000000\n",
        "df_group[\"HOMICIDIOS\"] = (df_group[\"HOMICIDIOS\"]/df_group[\"Total\"])*1000000\n",
        "df_group[\"HOMICIDIOS_TRANSITO\"] = (df_group[\"HOMICIDIOS_TRANSITO\"]/df_group[\"Total\"])*1000000\n",
        "df_group[\"HURTO_AUTOMOTORES\"] = (df_group[\"HURTO_AUTOMOTORES\"]/df_group[\"Total\"])*1000000\n",
        "df_group[\"HURTO_COMERCIO\"] = (df_group[\"HURTO_COMERCIO\"]/df_group[\"Total\"])*1000000\n",
        "df_group[\"HURTO_ENTIDADES\"] = (df_group[\"HURTO_ENTIDADES\"]/df_group[\"Total\"])*1000000\n",
        "df_group[\"HURTO_MOTOCICLETAS\"] = (df_group[\"HURTO_MOTOCICLETAS\"]/df_group[\"Total\"])*1000000\n",
        "df_group[\"HURTO_PERSONAS\"] = (df_group[\"HURTO_PERSONAS\"]/df_group[\"Total\"])*1000000\n",
        "df_group[\"HURTO_RESIDENCIAS\"] = (df_group[\"HURTO_RESIDENCIAS\"]/df_group[\"Total\"])*1000000\n",
        "df_group[\"LESIONES_ACCIDENTES\"] = (df_group[\"LESIONES_ACCIDENTES\"]/df_group[\"Total\"])*1000000\n",
        "df_group[\"LESIONES_PERSONALES\"] = (df_group[\"LESIONES_PERSONALES\"]/df_group[\"Total\"])*1000000\n",
        "df_group[\"PIRATERIA_TERRESTRE\"] = (df_group[\"PIRATERIA_TERRESTRE\"]/df_group[\"Total\"])*1000000\n",
        "df_group[\"SECUESTRO\"] = (df_group[\"SECUESTRO\"]/df_group[\"Total\"])*1000000\n",
        "df_group[\"TERRORISMO\"] = (df_group[\"TERRORISMO\"]/df_group[\"Total\"])*1000000\n",
        "df_group[\"VIOLENCIA_INTRAFAMILIAR\"] = (df_group[\"VIOLENCIA_INTRAFAMILIAR\"]/df_group[\"Total\"])*1000000"
      ],
      "execution_count": 49,
      "outputs": []
    },
    {
      "cell_type": "code",
      "metadata": {
        "id": "z8oeOfjiyxuz"
      },
      "source": [
        "del df_group['Total']"
      ],
      "execution_count": 51,
      "outputs": []
    },
    {
      "cell_type": "code",
      "metadata": {
        "colab": {
          "base_uri": "https://localhost:8080/",
          "height": 456
        },
        "id": "GjKBS1CERqTK",
        "outputId": "9bfddcc1-dff1-420b-852d-3c39f911e476"
      },
      "source": [
        "df_group"
      ],
      "execution_count": 52,
      "outputs": [
        {
          "output_type": "execute_result",
          "data": {
            "text/html": [
              "<div>\n",
              "<style scoped>\n",
              "    .dataframe tbody tr th:only-of-type {\n",
              "        vertical-align: middle;\n",
              "    }\n",
              "\n",
              "    .dataframe tbody tr th {\n",
              "        vertical-align: top;\n",
              "    }\n",
              "\n",
              "    .dataframe thead th {\n",
              "        text-align: right;\n",
              "    }\n",
              "</style>\n",
              "<table border=\"1\" class=\"dataframe\">\n",
              "  <thead>\n",
              "    <tr style=\"text-align: right;\">\n",
              "      <th></th>\n",
              "      <th>MUNICIPIO</th>\n",
              "      <th>ABIGEATO</th>\n",
              "      <th>AMENAZAS</th>\n",
              "      <th>DELITOS_SEXUALES</th>\n",
              "      <th>EXTORSION</th>\n",
              "      <th>HOMICIDIOS</th>\n",
              "      <th>HOMICIDIOS_TRANSITO</th>\n",
              "      <th>HURTO_AUTOMOTORES</th>\n",
              "      <th>HURTO_COMERCIO</th>\n",
              "      <th>HURTO_ENTIDADES</th>\n",
              "      <th>HURTO_MOTOCICLETAS</th>\n",
              "      <th>HURTO_PERSONAS</th>\n",
              "      <th>HURTO_RESIDENCIAS</th>\n",
              "      <th>LESIONES_ACCIDENTES</th>\n",
              "      <th>LESIONES_PERSONALES</th>\n",
              "      <th>PIRATERIA_TERRESTRE</th>\n",
              "      <th>SECUESTRO</th>\n",
              "      <th>TERRORISMO</th>\n",
              "      <th>VIOLENCIA_INTRAFAMILIAR</th>\n",
              "    </tr>\n",
              "  </thead>\n",
              "  <tbody>\n",
              "    <tr>\n",
              "      <th>0</th>\n",
              "      <td>ABEJORRAL</td>\n",
              "      <td>1.266426</td>\n",
              "      <td>1.266426</td>\n",
              "      <td>18.996383</td>\n",
              "      <td>5.065702</td>\n",
              "      <td>5.065702</td>\n",
              "      <td>5.065702</td>\n",
              "      <td>1.266426</td>\n",
              "      <td>13.930681</td>\n",
              "      <td>0.0</td>\n",
              "      <td>3.799277</td>\n",
              "      <td>20.262809</td>\n",
              "      <td>24.062085</td>\n",
              "      <td>0.000000</td>\n",
              "      <td>17.729958</td>\n",
              "      <td>0.000000</td>\n",
              "      <td>0.000000</td>\n",
              "      <td>0.0</td>\n",
              "      <td>20.262809</td>\n",
              "    </tr>\n",
              "    <tr>\n",
              "      <th>1</th>\n",
              "      <td>ABRIAQUÍ</td>\n",
              "      <td>0.000000</td>\n",
              "      <td>9.447510</td>\n",
              "      <td>28.342529</td>\n",
              "      <td>9.447510</td>\n",
              "      <td>0.000000</td>\n",
              "      <td>0.000000</td>\n",
              "      <td>0.000000</td>\n",
              "      <td>9.447510</td>\n",
              "      <td>0.0</td>\n",
              "      <td>0.000000</td>\n",
              "      <td>18.895019</td>\n",
              "      <td>9.447510</td>\n",
              "      <td>0.000000</td>\n",
              "      <td>9.447510</td>\n",
              "      <td>0.000000</td>\n",
              "      <td>0.000000</td>\n",
              "      <td>0.0</td>\n",
              "      <td>0.000000</td>\n",
              "    </tr>\n",
              "    <tr>\n",
              "      <th>2</th>\n",
              "      <td>ACACÍAS</td>\n",
              "      <td>4.927622</td>\n",
              "      <td>68.406987</td>\n",
              "      <td>23.478669</td>\n",
              "      <td>9.855244</td>\n",
              "      <td>4.347902</td>\n",
              "      <td>3.478321</td>\n",
              "      <td>1.739161</td>\n",
              "      <td>33.044053</td>\n",
              "      <td>0.0</td>\n",
              "      <td>18.840907</td>\n",
              "      <td>105.509081</td>\n",
              "      <td>40.580416</td>\n",
              "      <td>12.174125</td>\n",
              "      <td>96.523418</td>\n",
              "      <td>0.000000</td>\n",
              "      <td>0.000000</td>\n",
              "      <td>0.0</td>\n",
              "      <td>66.088106</td>\n",
              "    </tr>\n",
              "    <tr>\n",
              "      <th>3</th>\n",
              "      <td>ACANDÍ</td>\n",
              "      <td>0.000000</td>\n",
              "      <td>3.717237</td>\n",
              "      <td>5.575856</td>\n",
              "      <td>0.000000</td>\n",
              "      <td>9.293093</td>\n",
              "      <td>0.000000</td>\n",
              "      <td>0.000000</td>\n",
              "      <td>3.717237</td>\n",
              "      <td>0.0</td>\n",
              "      <td>0.000000</td>\n",
              "      <td>9.293093</td>\n",
              "      <td>1.858619</td>\n",
              "      <td>1.858619</td>\n",
              "      <td>22.303423</td>\n",
              "      <td>0.000000</td>\n",
              "      <td>0.000000</td>\n",
              "      <td>0.0</td>\n",
              "      <td>3.717237</td>\n",
              "    </tr>\n",
              "    <tr>\n",
              "      <th>4</th>\n",
              "      <td>ACEVEDO</td>\n",
              "      <td>0.000000</td>\n",
              "      <td>33.199773</td>\n",
              "      <td>28.012309</td>\n",
              "      <td>3.112479</td>\n",
              "      <td>17.637380</td>\n",
              "      <td>4.149972</td>\n",
              "      <td>3.112479</td>\n",
              "      <td>6.224958</td>\n",
              "      <td>0.0</td>\n",
              "      <td>19.712365</td>\n",
              "      <td>17.637380</td>\n",
              "      <td>7.262450</td>\n",
              "      <td>11.412422</td>\n",
              "      <td>71.587011</td>\n",
              "      <td>0.000000</td>\n",
              "      <td>0.000000</td>\n",
              "      <td>0.0</td>\n",
              "      <td>45.649688</td>\n",
              "    </tr>\n",
              "    <tr>\n",
              "      <th>...</th>\n",
              "      <td>...</td>\n",
              "      <td>...</td>\n",
              "      <td>...</td>\n",
              "      <td>...</td>\n",
              "      <td>...</td>\n",
              "      <td>...</td>\n",
              "      <td>...</td>\n",
              "      <td>...</td>\n",
              "      <td>...</td>\n",
              "      <td>...</td>\n",
              "      <td>...</td>\n",
              "      <td>...</td>\n",
              "      <td>...</td>\n",
              "      <td>...</td>\n",
              "      <td>...</td>\n",
              "      <td>...</td>\n",
              "      <td>...</td>\n",
              "      <td>...</td>\n",
              "      <td>...</td>\n",
              "    </tr>\n",
              "    <tr>\n",
              "      <th>1012</th>\n",
              "      <td>ZONA BANANERA</td>\n",
              "      <td>1.372731</td>\n",
              "      <td>5.834105</td>\n",
              "      <td>16.129586</td>\n",
              "      <td>2.059096</td>\n",
              "      <td>7.550019</td>\n",
              "      <td>5.834105</td>\n",
              "      <td>0.000000</td>\n",
              "      <td>5.147740</td>\n",
              "      <td>0.0</td>\n",
              "      <td>18.875047</td>\n",
              "      <td>9.609115</td>\n",
              "      <td>12.011394</td>\n",
              "      <td>19.218230</td>\n",
              "      <td>19.561413</td>\n",
              "      <td>0.686365</td>\n",
              "      <td>0.000000</td>\n",
              "      <td>0.0</td>\n",
              "      <td>10.981846</td>\n",
              "    </tr>\n",
              "    <tr>\n",
              "      <th>1013</th>\n",
              "      <td>ÁBREGO</td>\n",
              "      <td>0.000000</td>\n",
              "      <td>21.160007</td>\n",
              "      <td>14.890375</td>\n",
              "      <td>2.351112</td>\n",
              "      <td>12.539264</td>\n",
              "      <td>3.918520</td>\n",
              "      <td>3.918520</td>\n",
              "      <td>9.404448</td>\n",
              "      <td>0.0</td>\n",
              "      <td>16.457783</td>\n",
              "      <td>10.971856</td>\n",
              "      <td>6.269632</td>\n",
              "      <td>3.134816</td>\n",
              "      <td>24.294823</td>\n",
              "      <td>0.000000</td>\n",
              "      <td>1.567408</td>\n",
              "      <td>0.0</td>\n",
              "      <td>8.620744</td>\n",
              "    </tr>\n",
              "    <tr>\n",
              "      <th>1014</th>\n",
              "      <td>ÍQUIRA</td>\n",
              "      <td>0.000000</td>\n",
              "      <td>25.327000</td>\n",
              "      <td>56.282222</td>\n",
              "      <td>5.628222</td>\n",
              "      <td>11.256444</td>\n",
              "      <td>5.628222</td>\n",
              "      <td>2.814111</td>\n",
              "      <td>2.814111</td>\n",
              "      <td>0.0</td>\n",
              "      <td>8.442333</td>\n",
              "      <td>0.000000</td>\n",
              "      <td>0.000000</td>\n",
              "      <td>5.628222</td>\n",
              "      <td>16.884666</td>\n",
              "      <td>0.000000</td>\n",
              "      <td>0.000000</td>\n",
              "      <td>0.0</td>\n",
              "      <td>28.141111</td>\n",
              "    </tr>\n",
              "    <tr>\n",
              "      <th>1015</th>\n",
              "      <td>ÚMBITA</td>\n",
              "      <td>0.000000</td>\n",
              "      <td>3.563259</td>\n",
              "      <td>14.253034</td>\n",
              "      <td>0.000000</td>\n",
              "      <td>0.000000</td>\n",
              "      <td>0.000000</td>\n",
              "      <td>0.000000</td>\n",
              "      <td>0.000000</td>\n",
              "      <td>0.0</td>\n",
              "      <td>0.000000</td>\n",
              "      <td>7.126517</td>\n",
              "      <td>3.563259</td>\n",
              "      <td>0.000000</td>\n",
              "      <td>32.069327</td>\n",
              "      <td>0.000000</td>\n",
              "      <td>0.000000</td>\n",
              "      <td>0.0</td>\n",
              "      <td>24.942810</td>\n",
              "    </tr>\n",
              "    <tr>\n",
              "      <th>1016</th>\n",
              "      <td>ÚTICA</td>\n",
              "      <td>0.000000</td>\n",
              "      <td>43.281612</td>\n",
              "      <td>5.410201</td>\n",
              "      <td>0.000000</td>\n",
              "      <td>0.000000</td>\n",
              "      <td>5.410201</td>\n",
              "      <td>0.000000</td>\n",
              "      <td>0.000000</td>\n",
              "      <td>0.0</td>\n",
              "      <td>0.000000</td>\n",
              "      <td>5.410201</td>\n",
              "      <td>37.871410</td>\n",
              "      <td>0.000000</td>\n",
              "      <td>43.281612</td>\n",
              "      <td>0.000000</td>\n",
              "      <td>0.000000</td>\n",
              "      <td>0.0</td>\n",
              "      <td>16.230604</td>\n",
              "    </tr>\n",
              "  </tbody>\n",
              "</table>\n",
              "<p>1017 rows × 19 columns</p>\n",
              "</div>"
            ],
            "text/plain": [
              "          MUNICIPIO  ABIGEATO  ...  TERRORISMO  VIOLENCIA_INTRAFAMILIAR\n",
              "0         ABEJORRAL  1.266426  ...         0.0                20.262809\n",
              "1          ABRIAQUÍ  0.000000  ...         0.0                 0.000000\n",
              "2           ACACÍAS  4.927622  ...         0.0                66.088106\n",
              "3            ACANDÍ  0.000000  ...         0.0                 3.717237\n",
              "4           ACEVEDO  0.000000  ...         0.0                45.649688\n",
              "...             ...       ...  ...         ...                      ...\n",
              "1012  ZONA BANANERA  1.372731  ...         0.0                10.981846\n",
              "1013         ÁBREGO  0.000000  ...         0.0                 8.620744\n",
              "1014         ÍQUIRA  0.000000  ...         0.0                28.141111\n",
              "1015         ÚMBITA  0.000000  ...         0.0                24.942810\n",
              "1016          ÚTICA  0.000000  ...         0.0                16.230604\n",
              "\n",
              "[1017 rows x 19 columns]"
            ]
          },
          "metadata": {},
          "execution_count": 52
        }
      ]
    },
    {
      "cell_type": "markdown",
      "metadata": {
        "id": "BJR3iW_qyLfY"
      },
      "source": [
        "#PCA"
      ]
    },
    {
      "cell_type": "code",
      "metadata": {
        "colab": {
          "base_uri": "https://localhost:8080/"
        },
        "id": "t8CuZH2bNZEE",
        "outputId": "29ce9a7e-d53b-4538-8128-ba86f32a7c25"
      },
      "source": [
        "df_1 = df_group.values\n",
        "df_1"
      ],
      "execution_count": 53,
      "outputs": [
        {
          "output_type": "execute_result",
          "data": {
            "text/plain": [
              "array([['ABEJORRAL', 1.2664255392439947, 1.2664255392439947, ..., 0.0,\n",
              "        0.0, 20.262808627903915],\n",
              "       ['ABRIAQUÍ', 0.0, 9.44750963645983, ..., 0.0, 0.0, 0.0],\n",
              "       ['ACACÍAS', 4.927621929656747, 68.40698678817603, ..., 0.0, 0.0,\n",
              "        66.08810588010226],\n",
              "       ...,\n",
              "       ['ÍQUIRA', 0.0, 25.326999707332448, ..., 0.0, 0.0,\n",
              "        28.141110785924944],\n",
              "       ['ÚMBITA', 0.0, 3.563258528659288, ..., 0.0, 0.0,\n",
              "        24.94280970061502],\n",
              "       ['ÚTICA', 0.0, 43.2816118072237, ..., 0.0, 0.0,\n",
              "        16.230604427708887]], dtype=object)"
            ]
          },
          "metadata": {},
          "execution_count": 53
        }
      ]
    },
    {
      "cell_type": "code",
      "metadata": {
        "colab": {
          "base_uri": "https://localhost:8080/"
        },
        "id": "jqpP6XqlQoGC",
        "outputId": "8b2a2912-d552-4853-b6f7-7e7149b1632e"
      },
      "source": [
        "df_2 = np.delete(df_1, 0, axis=1)\n",
        "df_2"
      ],
      "execution_count": 54,
      "outputs": [
        {
          "output_type": "execute_result",
          "data": {
            "text/plain": [
              "array([[1.2664255392439947, 1.2664255392439947, 18.99638308865992, ...,\n",
              "        0.0, 0.0, 20.262808627903915],\n",
              "       [0.0, 9.44750963645983, 28.342528909379485, ..., 0.0, 0.0, 0.0],\n",
              "       [4.927621929656747, 68.40698678817603, 23.478669194246855, ...,\n",
              "        0.0, 0.0, 66.08810588010226],\n",
              "       ...,\n",
              "       [0.0, 25.326999707332448, 56.28222157184989, ..., 0.0, 0.0,\n",
              "        28.141110785924944],\n",
              "       [0.0, 3.563258528659288, 14.253034114637153, ..., 0.0, 0.0,\n",
              "        24.94280970061502],\n",
              "       [0.0, 43.2816118072237, 5.410201475902962, ..., 0.0, 0.0,\n",
              "        16.230604427708887]], dtype=object)"
            ]
          },
          "metadata": {},
          "execution_count": 54
        }
      ]
    },
    {
      "cell_type": "code",
      "metadata": {
        "colab": {
          "base_uri": "https://localhost:8080/",
          "height": 627
        },
        "id": "sfDRBr6KvBsr",
        "outputId": "9691e446-1418-4b3a-dbf3-234555a9a56a"
      },
      "source": [
        "df_group.corr(method='pearson')"
      ],
      "execution_count": 55,
      "outputs": [
        {
          "output_type": "execute_result",
          "data": {
            "text/html": [
              "<div>\n",
              "<style scoped>\n",
              "    .dataframe tbody tr th:only-of-type {\n",
              "        vertical-align: middle;\n",
              "    }\n",
              "\n",
              "    .dataframe tbody tr th {\n",
              "        vertical-align: top;\n",
              "    }\n",
              "\n",
              "    .dataframe thead th {\n",
              "        text-align: right;\n",
              "    }\n",
              "</style>\n",
              "<table border=\"1\" class=\"dataframe\">\n",
              "  <thead>\n",
              "    <tr style=\"text-align: right;\">\n",
              "      <th></th>\n",
              "      <th>ABIGEATO</th>\n",
              "      <th>AMENAZAS</th>\n",
              "      <th>DELITOS_SEXUALES</th>\n",
              "      <th>EXTORSION</th>\n",
              "      <th>HOMICIDIOS</th>\n",
              "      <th>HOMICIDIOS_TRANSITO</th>\n",
              "      <th>HURTO_AUTOMOTORES</th>\n",
              "      <th>HURTO_COMERCIO</th>\n",
              "      <th>HURTO_ENTIDADES</th>\n",
              "      <th>HURTO_MOTOCICLETAS</th>\n",
              "      <th>HURTO_PERSONAS</th>\n",
              "      <th>HURTO_RESIDENCIAS</th>\n",
              "      <th>LESIONES_ACCIDENTES</th>\n",
              "      <th>LESIONES_PERSONALES</th>\n",
              "      <th>PIRATERIA_TERRESTRE</th>\n",
              "      <th>SECUESTRO</th>\n",
              "      <th>TERRORISMO</th>\n",
              "      <th>VIOLENCIA_INTRAFAMILIAR</th>\n",
              "    </tr>\n",
              "  </thead>\n",
              "  <tbody>\n",
              "    <tr>\n",
              "      <th>ABIGEATO</th>\n",
              "      <td>1.000000</td>\n",
              "      <td>0.075565</td>\n",
              "      <td>0.130180</td>\n",
              "      <td>0.181050</td>\n",
              "      <td>-0.084942</td>\n",
              "      <td>0.128359</td>\n",
              "      <td>-0.002592</td>\n",
              "      <td>0.162466</td>\n",
              "      <td>0.010164</td>\n",
              "      <td>0.054493</td>\n",
              "      <td>-0.001763</td>\n",
              "      <td>0.295874</td>\n",
              "      <td>0.095514</td>\n",
              "      <td>0.200056</td>\n",
              "      <td>0.019444</td>\n",
              "      <td>-0.048962</td>\n",
              "      <td>-0.039008</td>\n",
              "      <td>0.115885</td>\n",
              "    </tr>\n",
              "    <tr>\n",
              "      <th>AMENAZAS</th>\n",
              "      <td>0.075565</td>\n",
              "      <td>1.000000</td>\n",
              "      <td>0.247592</td>\n",
              "      <td>0.242326</td>\n",
              "      <td>0.161941</td>\n",
              "      <td>0.166265</td>\n",
              "      <td>0.124122</td>\n",
              "      <td>0.172433</td>\n",
              "      <td>0.042765</td>\n",
              "      <td>0.236085</td>\n",
              "      <td>0.139169</td>\n",
              "      <td>0.129185</td>\n",
              "      <td>0.185713</td>\n",
              "      <td>0.325642</td>\n",
              "      <td>0.043021</td>\n",
              "      <td>0.077133</td>\n",
              "      <td>0.026410</td>\n",
              "      <td>0.360904</td>\n",
              "    </tr>\n",
              "    <tr>\n",
              "      <th>DELITOS_SEXUALES</th>\n",
              "      <td>0.130180</td>\n",
              "      <td>0.247592</td>\n",
              "      <td>1.000000</td>\n",
              "      <td>0.128182</td>\n",
              "      <td>0.053165</td>\n",
              "      <td>0.137334</td>\n",
              "      <td>0.026043</td>\n",
              "      <td>0.279150</td>\n",
              "      <td>0.001347</td>\n",
              "      <td>0.118869</td>\n",
              "      <td>0.165195</td>\n",
              "      <td>0.236988</td>\n",
              "      <td>0.249926</td>\n",
              "      <td>0.342001</td>\n",
              "      <td>0.055679</td>\n",
              "      <td>-0.014741</td>\n",
              "      <td>-0.016660</td>\n",
              "      <td>0.383837</td>\n",
              "    </tr>\n",
              "    <tr>\n",
              "      <th>EXTORSION</th>\n",
              "      <td>0.181050</td>\n",
              "      <td>0.242326</td>\n",
              "      <td>0.128182</td>\n",
              "      <td>1.000000</td>\n",
              "      <td>0.250978</td>\n",
              "      <td>0.099345</td>\n",
              "      <td>0.069922</td>\n",
              "      <td>0.156728</td>\n",
              "      <td>0.009977</td>\n",
              "      <td>0.229254</td>\n",
              "      <td>0.098954</td>\n",
              "      <td>0.140616</td>\n",
              "      <td>0.065825</td>\n",
              "      <td>0.163810</td>\n",
              "      <td>0.038763</td>\n",
              "      <td>0.028959</td>\n",
              "      <td>0.087244</td>\n",
              "      <td>0.076516</td>\n",
              "    </tr>\n",
              "    <tr>\n",
              "      <th>HOMICIDIOS</th>\n",
              "      <td>-0.084942</td>\n",
              "      <td>0.161941</td>\n",
              "      <td>0.053165</td>\n",
              "      <td>0.250978</td>\n",
              "      <td>1.000000</td>\n",
              "      <td>0.074731</td>\n",
              "      <td>0.214211</td>\n",
              "      <td>0.096869</td>\n",
              "      <td>0.048027</td>\n",
              "      <td>0.298798</td>\n",
              "      <td>0.030336</td>\n",
              "      <td>-0.006016</td>\n",
              "      <td>0.047918</td>\n",
              "      <td>0.035376</td>\n",
              "      <td>0.118570</td>\n",
              "      <td>0.080318</td>\n",
              "      <td>0.353931</td>\n",
              "      <td>-0.007312</td>\n",
              "    </tr>\n",
              "    <tr>\n",
              "      <th>HOMICIDIOS_TRANSITO</th>\n",
              "      <td>0.128359</td>\n",
              "      <td>0.166265</td>\n",
              "      <td>0.137334</td>\n",
              "      <td>0.099345</td>\n",
              "      <td>0.074731</td>\n",
              "      <td>1.000000</td>\n",
              "      <td>0.134209</td>\n",
              "      <td>0.184939</td>\n",
              "      <td>0.020504</td>\n",
              "      <td>0.155626</td>\n",
              "      <td>0.083182</td>\n",
              "      <td>0.171171</td>\n",
              "      <td>0.457853</td>\n",
              "      <td>0.192644</td>\n",
              "      <td>0.164974</td>\n",
              "      <td>0.009446</td>\n",
              "      <td>0.043637</td>\n",
              "      <td>0.161596</td>\n",
              "    </tr>\n",
              "    <tr>\n",
              "      <th>HURTO_AUTOMOTORES</th>\n",
              "      <td>-0.002592</td>\n",
              "      <td>0.124122</td>\n",
              "      <td>0.026043</td>\n",
              "      <td>0.069922</td>\n",
              "      <td>0.214211</td>\n",
              "      <td>0.134209</td>\n",
              "      <td>1.000000</td>\n",
              "      <td>0.178424</td>\n",
              "      <td>0.049485</td>\n",
              "      <td>0.375923</td>\n",
              "      <td>0.292164</td>\n",
              "      <td>0.115919</td>\n",
              "      <td>0.171704</td>\n",
              "      <td>0.103202</td>\n",
              "      <td>0.194039</td>\n",
              "      <td>0.055445</td>\n",
              "      <td>0.050930</td>\n",
              "      <td>0.109925</td>\n",
              "    </tr>\n",
              "    <tr>\n",
              "      <th>HURTO_COMERCIO</th>\n",
              "      <td>0.162466</td>\n",
              "      <td>0.172433</td>\n",
              "      <td>0.279150</td>\n",
              "      <td>0.156728</td>\n",
              "      <td>0.096869</td>\n",
              "      <td>0.184939</td>\n",
              "      <td>0.178424</td>\n",
              "      <td>1.000000</td>\n",
              "      <td>0.061650</td>\n",
              "      <td>0.347735</td>\n",
              "      <td>0.671909</td>\n",
              "      <td>0.559317</td>\n",
              "      <td>0.390702</td>\n",
              "      <td>0.507541</td>\n",
              "      <td>0.056686</td>\n",
              "      <td>-0.028457</td>\n",
              "      <td>-0.021682</td>\n",
              "      <td>0.424093</td>\n",
              "    </tr>\n",
              "    <tr>\n",
              "      <th>HURTO_ENTIDADES</th>\n",
              "      <td>0.010164</td>\n",
              "      <td>0.042765</td>\n",
              "      <td>0.001347</td>\n",
              "      <td>0.009977</td>\n",
              "      <td>0.048027</td>\n",
              "      <td>0.020504</td>\n",
              "      <td>0.049485</td>\n",
              "      <td>0.061650</td>\n",
              "      <td>1.000000</td>\n",
              "      <td>0.068477</td>\n",
              "      <td>0.060967</td>\n",
              "      <td>-0.001030</td>\n",
              "      <td>0.028353</td>\n",
              "      <td>-0.012815</td>\n",
              "      <td>-0.015277</td>\n",
              "      <td>0.005548</td>\n",
              "      <td>0.023890</td>\n",
              "      <td>0.013513</td>\n",
              "    </tr>\n",
              "    <tr>\n",
              "      <th>HURTO_MOTOCICLETAS</th>\n",
              "      <td>0.054493</td>\n",
              "      <td>0.236085</td>\n",
              "      <td>0.118869</td>\n",
              "      <td>0.229254</td>\n",
              "      <td>0.298798</td>\n",
              "      <td>0.155626</td>\n",
              "      <td>0.375923</td>\n",
              "      <td>0.347735</td>\n",
              "      <td>0.068477</td>\n",
              "      <td>1.000000</td>\n",
              "      <td>0.456522</td>\n",
              "      <td>0.221096</td>\n",
              "      <td>0.187681</td>\n",
              "      <td>0.278843</td>\n",
              "      <td>0.058632</td>\n",
              "      <td>0.049477</td>\n",
              "      <td>0.021452</td>\n",
              "      <td>0.217733</td>\n",
              "    </tr>\n",
              "    <tr>\n",
              "      <th>HURTO_PERSONAS</th>\n",
              "      <td>-0.001763</td>\n",
              "      <td>0.139169</td>\n",
              "      <td>0.165195</td>\n",
              "      <td>0.098954</td>\n",
              "      <td>0.030336</td>\n",
              "      <td>0.083182</td>\n",
              "      <td>0.292164</td>\n",
              "      <td>0.671909</td>\n",
              "      <td>0.060967</td>\n",
              "      <td>0.456522</td>\n",
              "      <td>1.000000</td>\n",
              "      <td>0.491995</td>\n",
              "      <td>0.330857</td>\n",
              "      <td>0.451046</td>\n",
              "      <td>0.043319</td>\n",
              "      <td>-0.013234</td>\n",
              "      <td>-0.041037</td>\n",
              "      <td>0.440230</td>\n",
              "    </tr>\n",
              "    <tr>\n",
              "      <th>HURTO_RESIDENCIAS</th>\n",
              "      <td>0.295874</td>\n",
              "      <td>0.129185</td>\n",
              "      <td>0.236988</td>\n",
              "      <td>0.140616</td>\n",
              "      <td>-0.006016</td>\n",
              "      <td>0.171171</td>\n",
              "      <td>0.115919</td>\n",
              "      <td>0.559317</td>\n",
              "      <td>-0.001030</td>\n",
              "      <td>0.221096</td>\n",
              "      <td>0.491995</td>\n",
              "      <td>1.000000</td>\n",
              "      <td>0.308285</td>\n",
              "      <td>0.510497</td>\n",
              "      <td>0.019548</td>\n",
              "      <td>-0.030033</td>\n",
              "      <td>-0.061815</td>\n",
              "      <td>0.389177</td>\n",
              "    </tr>\n",
              "    <tr>\n",
              "      <th>LESIONES_ACCIDENTES</th>\n",
              "      <td>0.095514</td>\n",
              "      <td>0.185713</td>\n",
              "      <td>0.249926</td>\n",
              "      <td>0.065825</td>\n",
              "      <td>0.047918</td>\n",
              "      <td>0.457853</td>\n",
              "      <td>0.171704</td>\n",
              "      <td>0.390702</td>\n",
              "      <td>0.028353</td>\n",
              "      <td>0.187681</td>\n",
              "      <td>0.330857</td>\n",
              "      <td>0.308285</td>\n",
              "      <td>1.000000</td>\n",
              "      <td>0.414168</td>\n",
              "      <td>0.082158</td>\n",
              "      <td>-0.035442</td>\n",
              "      <td>-0.038973</td>\n",
              "      <td>0.385877</td>\n",
              "    </tr>\n",
              "    <tr>\n",
              "      <th>LESIONES_PERSONALES</th>\n",
              "      <td>0.200056</td>\n",
              "      <td>0.325642</td>\n",
              "      <td>0.342001</td>\n",
              "      <td>0.163810</td>\n",
              "      <td>0.035376</td>\n",
              "      <td>0.192644</td>\n",
              "      <td>0.103202</td>\n",
              "      <td>0.507541</td>\n",
              "      <td>-0.012815</td>\n",
              "      <td>0.278843</td>\n",
              "      <td>0.451046</td>\n",
              "      <td>0.510497</td>\n",
              "      <td>0.414168</td>\n",
              "      <td>1.000000</td>\n",
              "      <td>0.025865</td>\n",
              "      <td>-0.028464</td>\n",
              "      <td>-0.032053</td>\n",
              "      <td>0.600072</td>\n",
              "    </tr>\n",
              "    <tr>\n",
              "      <th>PIRATERIA_TERRESTRE</th>\n",
              "      <td>0.019444</td>\n",
              "      <td>0.043021</td>\n",
              "      <td>0.055679</td>\n",
              "      <td>0.038763</td>\n",
              "      <td>0.118570</td>\n",
              "      <td>0.164974</td>\n",
              "      <td>0.194039</td>\n",
              "      <td>0.056686</td>\n",
              "      <td>-0.015277</td>\n",
              "      <td>0.058632</td>\n",
              "      <td>0.043319</td>\n",
              "      <td>0.019548</td>\n",
              "      <td>0.082158</td>\n",
              "      <td>0.025865</td>\n",
              "      <td>1.000000</td>\n",
              "      <td>0.152353</td>\n",
              "      <td>0.220566</td>\n",
              "      <td>-0.029525</td>\n",
              "    </tr>\n",
              "    <tr>\n",
              "      <th>SECUESTRO</th>\n",
              "      <td>-0.048962</td>\n",
              "      <td>0.077133</td>\n",
              "      <td>-0.014741</td>\n",
              "      <td>0.028959</td>\n",
              "      <td>0.080318</td>\n",
              "      <td>0.009446</td>\n",
              "      <td>0.055445</td>\n",
              "      <td>-0.028457</td>\n",
              "      <td>0.005548</td>\n",
              "      <td>0.049477</td>\n",
              "      <td>-0.013234</td>\n",
              "      <td>-0.030033</td>\n",
              "      <td>-0.035442</td>\n",
              "      <td>-0.028464</td>\n",
              "      <td>0.152353</td>\n",
              "      <td>1.000000</td>\n",
              "      <td>0.087962</td>\n",
              "      <td>-0.021996</td>\n",
              "    </tr>\n",
              "    <tr>\n",
              "      <th>TERRORISMO</th>\n",
              "      <td>-0.039008</td>\n",
              "      <td>0.026410</td>\n",
              "      <td>-0.016660</td>\n",
              "      <td>0.087244</td>\n",
              "      <td>0.353931</td>\n",
              "      <td>0.043637</td>\n",
              "      <td>0.050930</td>\n",
              "      <td>-0.021682</td>\n",
              "      <td>0.023890</td>\n",
              "      <td>0.021452</td>\n",
              "      <td>-0.041037</td>\n",
              "      <td>-0.061815</td>\n",
              "      <td>-0.038973</td>\n",
              "      <td>-0.032053</td>\n",
              "      <td>0.220566</td>\n",
              "      <td>0.087962</td>\n",
              "      <td>1.000000</td>\n",
              "      <td>-0.033425</td>\n",
              "    </tr>\n",
              "    <tr>\n",
              "      <th>VIOLENCIA_INTRAFAMILIAR</th>\n",
              "      <td>0.115885</td>\n",
              "      <td>0.360904</td>\n",
              "      <td>0.383837</td>\n",
              "      <td>0.076516</td>\n",
              "      <td>-0.007312</td>\n",
              "      <td>0.161596</td>\n",
              "      <td>0.109925</td>\n",
              "      <td>0.424093</td>\n",
              "      <td>0.013513</td>\n",
              "      <td>0.217733</td>\n",
              "      <td>0.440230</td>\n",
              "      <td>0.389177</td>\n",
              "      <td>0.385877</td>\n",
              "      <td>0.600072</td>\n",
              "      <td>-0.029525</td>\n",
              "      <td>-0.021996</td>\n",
              "      <td>-0.033425</td>\n",
              "      <td>1.000000</td>\n",
              "    </tr>\n",
              "  </tbody>\n",
              "</table>\n",
              "</div>"
            ],
            "text/plain": [
              "                         ABIGEATO  ...  VIOLENCIA_INTRAFAMILIAR\n",
              "ABIGEATO                 1.000000  ...                 0.115885\n",
              "AMENAZAS                 0.075565  ...                 0.360904\n",
              "DELITOS_SEXUALES         0.130180  ...                 0.383837\n",
              "EXTORSION                0.181050  ...                 0.076516\n",
              "HOMICIDIOS              -0.084942  ...                -0.007312\n",
              "HOMICIDIOS_TRANSITO      0.128359  ...                 0.161596\n",
              "HURTO_AUTOMOTORES       -0.002592  ...                 0.109925\n",
              "HURTO_COMERCIO           0.162466  ...                 0.424093\n",
              "HURTO_ENTIDADES          0.010164  ...                 0.013513\n",
              "HURTO_MOTOCICLETAS       0.054493  ...                 0.217733\n",
              "HURTO_PERSONAS          -0.001763  ...                 0.440230\n",
              "HURTO_RESIDENCIAS        0.295874  ...                 0.389177\n",
              "LESIONES_ACCIDENTES      0.095514  ...                 0.385877\n",
              "LESIONES_PERSONALES      0.200056  ...                 0.600072\n",
              "PIRATERIA_TERRESTRE      0.019444  ...                -0.029525\n",
              "SECUESTRO               -0.048962  ...                -0.021996\n",
              "TERRORISMO              -0.039008  ...                -0.033425\n",
              "VIOLENCIA_INTRAFAMILIAR  0.115885  ...                 1.000000\n",
              "\n",
              "[18 rows x 18 columns]"
            ]
          },
          "metadata": {},
          "execution_count": 55
        }
      ]
    },
    {
      "cell_type": "code",
      "metadata": {
        "id": "PnTfrrZ9ygOl"
      },
      "source": [
        "X_scal = np.zeros(df_2.shape)\n",
        "for i in range(X_scal.shape[1]):\n",
        "  X_scal[:,i] = (df_2[:,i] - df_2[:,i].mean())/(df_2[:,i].std())"
      ],
      "execution_count": 56,
      "outputs": []
    },
    {
      "cell_type": "code",
      "metadata": {
        "colab": {
          "base_uri": "https://localhost:8080/"
        },
        "id": "PFhHa3AP6CGq",
        "outputId": "7bdf8af0-674d-4307-d2d2-bb104ffa6c47"
      },
      "source": [
        "X_scal[:5]"
      ],
      "execution_count": 57,
      "outputs": [
        {
          "output_type": "execute_result",
          "data": {
            "text/plain": [
              "array([[-0.37506926, -1.00703802,  0.02787961,  0.23852945, -0.19675425,\n",
              "         0.18567244, -0.14700501, -0.01712929, -0.14076377, -0.41847468,\n",
              "        -0.27218358,  0.34345897, -0.7067918 , -0.89737471, -0.25586998,\n",
              "        -0.15720097, -0.12217184, -0.37852803],\n",
              "       [-0.54093148, -0.63704193,  0.79290509,  1.1653611 , -0.76178769,\n",
              "        -0.80408228, -0.50604859, -0.35837325, -0.14076377, -0.6909473 ,\n",
              "        -0.30265738, -0.42421417, -0.7067918 , -1.14852061, -0.25586998,\n",
              "        -0.15720097, -0.12217184, -1.09140717],\n",
              "       [ 0.10443321,  2.02944772,  0.39477556,  1.25160428, -0.27681842,\n",
              "        -0.12447561, -0.01298014,  1.43771647, -0.14076377,  0.66026554,\n",
              "         1.62706937,  1.21113239, -0.1529605 ,  1.49185305, -0.25586998,\n",
              "        -0.15720097, -0.12217184,  1.23368177],\n",
              "       [-0.54093148, -0.89619809, -1.07065293, -0.83295831,  0.27477311,\n",
              "        -0.80408228, -0.50604859, -0.79454237, -0.14076377, -0.6909473 ,\n",
              "        -0.51658447, -0.82284277, -0.6222386 , -0.75869504, -0.25586998,\n",
              "        -0.15720097, -0.12217184, -0.96062862],\n",
              "       [-0.54093148,  0.43717325,  0.76587504, -0.17461267,  1.20550311,\n",
              "         0.0067538 ,  0.37636849, -0.60366311, -0.14076377,  0.72276387,\n",
              "        -0.33067709, -0.53899076, -0.18761225,  0.73571473, -0.25586998,\n",
              "        -0.15720097, -0.12217184,  0.51462442]])"
            ]
          },
          "metadata": {},
          "execution_count": 57
        }
      ]
    },
    {
      "cell_type": "code",
      "metadata": {
        "id": "W6uKtNe9Q4ZI"
      },
      "source": [
        "cov = X_scal.T.dot(X_scal)/X_scal.shape[0]"
      ],
      "execution_count": 58,
      "outputs": []
    },
    {
      "cell_type": "code",
      "metadata": {
        "colab": {
          "base_uri": "https://localhost:8080/"
        },
        "id": "aKORW9BtqD33",
        "outputId": "bcb07d12-d169-47bf-ceda-b5bfff1cfd1f"
      },
      "source": [
        "cov[5]"
      ],
      "execution_count": 59,
      "outputs": [
        {
          "output_type": "execute_result",
          "data": {
            "text/plain": [
              "array([0.12835923, 0.16626469, 0.1373343 , 0.09934518, 0.07473121,\n",
              "       1.        , 0.13420892, 0.18493898, 0.02050405, 0.15562645,\n",
              "       0.08318161, 0.1711707 , 0.4578529 , 0.1926435 , 0.16497399,\n",
              "       0.00944584, 0.04363747, 0.16159595])"
            ]
          },
          "metadata": {},
          "execution_count": 59
        }
      ]
    },
    {
      "cell_type": "code",
      "metadata": {
        "colab": {
          "base_uri": "https://localhost:8080/"
        },
        "id": "HgENeTAlrC5l",
        "outputId": "4d202cae-fbe5-42b3-cd83-44a55d783a6f"
      },
      "source": [
        "X_scal.shape[0]"
      ],
      "execution_count": 60,
      "outputs": [
        {
          "output_type": "execute_result",
          "data": {
            "text/plain": [
              "1017"
            ]
          },
          "metadata": {},
          "execution_count": 60
        }
      ]
    },
    {
      "cell_type": "code",
      "metadata": {
        "id": "q0jvo3Z4rKW1"
      },
      "source": [
        "eigvals, eigvecs = np.linalg.eig(cov)"
      ],
      "execution_count": 61,
      "outputs": []
    },
    {
      "cell_type": "code",
      "metadata": {
        "colab": {
          "base_uri": "https://localhost:8080/"
        },
        "id": "qLPGNJP0q_AX",
        "outputId": "b8c1daef-8168-4d19-ff9e-29723b37ed9a"
      },
      "source": [
        "eigvals"
      ],
      "execution_count": 62,
      "outputs": [
        {
          "output_type": "execute_result",
          "data": {
            "text/plain": [
              "array([4.16781599, 1.84548165, 1.32993522, 1.20926921, 1.08963739,\n",
              "       0.25463609, 1.04703421, 0.98204161, 0.97533697, 0.82321298,\n",
              "       0.72442765, 0.69723748, 0.40092844, 0.35885031, 0.4656023 ,\n",
              "       0.5748066 , 0.54267737, 0.51106851])"
            ]
          },
          "metadata": {},
          "execution_count": 62
        }
      ]
    },
    {
      "cell_type": "code",
      "metadata": {
        "colab": {
          "base_uri": "https://localhost:8080/"
        },
        "id": "80mIvhy3q-38",
        "outputId": "880eefbd-bc8d-4f09-c3ed-4d1a7b4606ce"
      },
      "source": [
        "eigvecs[5]"
      ],
      "execution_count": 63,
      "outputs": [
        {
          "output_type": "execute_result",
          "data": {
            "text/plain": [
              "array([ 0.18874927,  0.09911684, -0.31319906, -0.48507347, -0.11373929,\n",
              "        0.09994794,  0.37232982,  0.00584416,  0.12774277, -0.29252291,\n",
              "        0.01302094,  0.01537004,  0.27303974,  0.10308546,  0.35841745,\n",
              "       -0.18030157, -0.17127177, -0.28599489])"
            ]
          },
          "metadata": {},
          "execution_count": 63
        }
      ]
    },
    {
      "cell_type": "code",
      "metadata": {
        "id": "2lAD3cusq-uc"
      },
      "source": [
        "varianza_explicada = {i:i/sum(eigvals) for i in eigvals}"
      ],
      "execution_count": 64,
      "outputs": []
    },
    {
      "cell_type": "code",
      "metadata": {
        "colab": {
          "base_uri": "https://localhost:8080/"
        },
        "id": "OZDkgZeHsQIA",
        "outputId": "14f63348-078e-492c-dad0-ca8c9a5c7a94"
      },
      "source": [
        "varianza_explicada"
      ],
      "execution_count": 65,
      "outputs": [
        {
          "output_type": "execute_result",
          "data": {
            "text/plain": [
              "{0.25463608623232176: 0.014146449235128984,\n",
              " 0.35885030844632776: 0.019936128247018205,\n",
              " 0.4009284447064733: 0.02227380248369296,\n",
              " 0.4656022980216231: 0.025866794334534614,\n",
              " 0.5110685087726228: 0.02839269493181237,\n",
              " 0.5426773730128535: 0.03014874294515852,\n",
              " 0.5748066045031025: 0.03193370025017236,\n",
              " 0.6972374762921316: 0.03873541534956286,\n",
              " 0.7244276505101195: 0.040245980583895516,\n",
              " 0.8232129849122438: 0.04573405471734687,\n",
              " 0.9753369725263032: 0.05418538736257239,\n",
              " 0.9820416137180427: 0.05455786742878014,\n",
              " 1.0470342108237674: 0.05816856726798706,\n",
              " 1.08963738784284: 0.060535410435713324,\n",
              " 1.209269214569135: 0.0671816230316186,\n",
              " 1.329935221108321: 0.07388529006157338,\n",
              " 1.845481653711718: 0.10252675853953987,\n",
              " 4.167815990290055: 0.23154533279389192}"
            ]
          },
          "metadata": {},
          "execution_count": 65
        }
      ]
    },
    {
      "cell_type": "code",
      "metadata": {
        "id": "IBfQbNRrxmfR"
      },
      "source": [
        "inercia = pd.DataFrame({'eigvalues': eigvals,\n",
        "                        'inercia_acum': np.cumsum(eigvals),\n",
        "                        'Var_expl': varianza_explicada.values(),\n",
        "                        'Var_expl_acum':np.cumsum([i for i in varianza_explicada.values()])})"
      ],
      "execution_count": 66,
      "outputs": []
    },
    {
      "cell_type": "code",
      "metadata": {
        "colab": {
          "base_uri": "https://localhost:8080/",
          "height": 607
        },
        "id": "efctBvfdsP8w",
        "outputId": "f6bf00bb-2492-4eb8-e513-7d5c6945c8a2"
      },
      "source": [
        "inercia"
      ],
      "execution_count": 67,
      "outputs": [
        {
          "output_type": "execute_result",
          "data": {
            "text/html": [
              "<div>\n",
              "<style scoped>\n",
              "    .dataframe tbody tr th:only-of-type {\n",
              "        vertical-align: middle;\n",
              "    }\n",
              "\n",
              "    .dataframe tbody tr th {\n",
              "        vertical-align: top;\n",
              "    }\n",
              "\n",
              "    .dataframe thead th {\n",
              "        text-align: right;\n",
              "    }\n",
              "</style>\n",
              "<table border=\"1\" class=\"dataframe\">\n",
              "  <thead>\n",
              "    <tr style=\"text-align: right;\">\n",
              "      <th></th>\n",
              "      <th>eigvalues</th>\n",
              "      <th>inercia_acum</th>\n",
              "      <th>Var_expl</th>\n",
              "      <th>Var_expl_acum</th>\n",
              "    </tr>\n",
              "  </thead>\n",
              "  <tbody>\n",
              "    <tr>\n",
              "      <th>0</th>\n",
              "      <td>4.167816</td>\n",
              "      <td>4.167816</td>\n",
              "      <td>0.231545</td>\n",
              "      <td>0.231545</td>\n",
              "    </tr>\n",
              "    <tr>\n",
              "      <th>1</th>\n",
              "      <td>1.845482</td>\n",
              "      <td>6.013298</td>\n",
              "      <td>0.102527</td>\n",
              "      <td>0.334072</td>\n",
              "    </tr>\n",
              "    <tr>\n",
              "      <th>2</th>\n",
              "      <td>1.329935</td>\n",
              "      <td>7.343233</td>\n",
              "      <td>0.073885</td>\n",
              "      <td>0.407957</td>\n",
              "    </tr>\n",
              "    <tr>\n",
              "      <th>3</th>\n",
              "      <td>1.209269</td>\n",
              "      <td>8.552502</td>\n",
              "      <td>0.067182</td>\n",
              "      <td>0.475139</td>\n",
              "    </tr>\n",
              "    <tr>\n",
              "      <th>4</th>\n",
              "      <td>1.089637</td>\n",
              "      <td>9.642139</td>\n",
              "      <td>0.060535</td>\n",
              "      <td>0.535674</td>\n",
              "    </tr>\n",
              "    <tr>\n",
              "      <th>5</th>\n",
              "      <td>0.254636</td>\n",
              "      <td>9.896776</td>\n",
              "      <td>0.014146</td>\n",
              "      <td>0.549821</td>\n",
              "    </tr>\n",
              "    <tr>\n",
              "      <th>6</th>\n",
              "      <td>1.047034</td>\n",
              "      <td>10.943810</td>\n",
              "      <td>0.058169</td>\n",
              "      <td>0.607989</td>\n",
              "    </tr>\n",
              "    <tr>\n",
              "      <th>7</th>\n",
              "      <td>0.982042</td>\n",
              "      <td>11.925851</td>\n",
              "      <td>0.054558</td>\n",
              "      <td>0.662547</td>\n",
              "    </tr>\n",
              "    <tr>\n",
              "      <th>8</th>\n",
              "      <td>0.975337</td>\n",
              "      <td>12.901188</td>\n",
              "      <td>0.054185</td>\n",
              "      <td>0.716733</td>\n",
              "    </tr>\n",
              "    <tr>\n",
              "      <th>9</th>\n",
              "      <td>0.823213</td>\n",
              "      <td>13.724401</td>\n",
              "      <td>0.045734</td>\n",
              "      <td>0.762467</td>\n",
              "    </tr>\n",
              "    <tr>\n",
              "      <th>10</th>\n",
              "      <td>0.724428</td>\n",
              "      <td>14.448829</td>\n",
              "      <td>0.040246</td>\n",
              "      <td>0.802713</td>\n",
              "    </tr>\n",
              "    <tr>\n",
              "      <th>11</th>\n",
              "      <td>0.697237</td>\n",
              "      <td>15.146066</td>\n",
              "      <td>0.038735</td>\n",
              "      <td>0.841448</td>\n",
              "    </tr>\n",
              "    <tr>\n",
              "      <th>12</th>\n",
              "      <td>0.400928</td>\n",
              "      <td>15.546995</td>\n",
              "      <td>0.022274</td>\n",
              "      <td>0.863722</td>\n",
              "    </tr>\n",
              "    <tr>\n",
              "      <th>13</th>\n",
              "      <td>0.358850</td>\n",
              "      <td>15.905845</td>\n",
              "      <td>0.019936</td>\n",
              "      <td>0.883658</td>\n",
              "    </tr>\n",
              "    <tr>\n",
              "      <th>14</th>\n",
              "      <td>0.465602</td>\n",
              "      <td>16.371448</td>\n",
              "      <td>0.025867</td>\n",
              "      <td>0.909525</td>\n",
              "    </tr>\n",
              "    <tr>\n",
              "      <th>15</th>\n",
              "      <td>0.574807</td>\n",
              "      <td>16.946254</td>\n",
              "      <td>0.031934</td>\n",
              "      <td>0.941459</td>\n",
              "    </tr>\n",
              "    <tr>\n",
              "      <th>16</th>\n",
              "      <td>0.542677</td>\n",
              "      <td>17.488931</td>\n",
              "      <td>0.030149</td>\n",
              "      <td>0.971607</td>\n",
              "    </tr>\n",
              "    <tr>\n",
              "      <th>17</th>\n",
              "      <td>0.511069</td>\n",
              "      <td>18.000000</td>\n",
              "      <td>0.028393</td>\n",
              "      <td>1.000000</td>\n",
              "    </tr>\n",
              "  </tbody>\n",
              "</table>\n",
              "</div>"
            ],
            "text/plain": [
              "    eigvalues  inercia_acum  Var_expl  Var_expl_acum\n",
              "0    4.167816      4.167816  0.231545       0.231545\n",
              "1    1.845482      6.013298  0.102527       0.334072\n",
              "2    1.329935      7.343233  0.073885       0.407957\n",
              "3    1.209269      8.552502  0.067182       0.475139\n",
              "4    1.089637      9.642139  0.060535       0.535674\n",
              "5    0.254636      9.896776  0.014146       0.549821\n",
              "6    1.047034     10.943810  0.058169       0.607989\n",
              "7    0.982042     11.925851  0.054558       0.662547\n",
              "8    0.975337     12.901188  0.054185       0.716733\n",
              "9    0.823213     13.724401  0.045734       0.762467\n",
              "10   0.724428     14.448829  0.040246       0.802713\n",
              "11   0.697237     15.146066  0.038735       0.841448\n",
              "12   0.400928     15.546995  0.022274       0.863722\n",
              "13   0.358850     15.905845  0.019936       0.883658\n",
              "14   0.465602     16.371448  0.025867       0.909525\n",
              "15   0.574807     16.946254  0.031934       0.941459\n",
              "16   0.542677     17.488931  0.030149       0.971607\n",
              "17   0.511069     18.000000  0.028393       1.000000"
            ]
          },
          "metadata": {},
          "execution_count": 67
        }
      ]
    },
    {
      "cell_type": "code",
      "metadata": {
        "id": "5PtYJ9IF3Mtn"
      },
      "source": [
        "import matplotlib.pyplot as plt"
      ],
      "execution_count": 68,
      "outputs": []
    },
    {
      "cell_type": "code",
      "metadata": {
        "colab": {
          "base_uri": "https://localhost:8080/",
          "height": 297
        },
        "id": "v7uQwK0CsP2P",
        "outputId": "1350b7fc-f786-4dbd-b77c-dde9e8505a5e"
      },
      "source": [
        "# A partir de los autovalores, calculamos la varianza explicada\n",
        "tot = sum(eigvals)\n",
        "var_exp = [(i / tot)*100 for i in sorted(eigvals, reverse=True)]\n",
        "cum_var_exp = np.cumsum(var_exp)\n",
        "\n",
        "# Representamos en un diagrama de barras la varianza explicada por cada autovalor, y la acumulada\n",
        "with plt.style.context('seaborn-pastel'):\n",
        "    plt.figure(figsize=(6, 4))\n",
        "\n",
        "    plt.bar(range(18), var_exp, alpha=0.5, align='center',\n",
        "            label='Varianza individual explicada', color='g')\n",
        "    plt.step(range(18), cum_var_exp, where='mid', linestyle='--', label='Varianza explicada acumulada')\n",
        "    plt.ylabel('Ratio de Varianza Explicada')\n",
        "    plt.xlabel('Componentes Principales')\n",
        "    plt.legend(loc='best')\n",
        "    plt.tight_layout()"
      ],
      "execution_count": null,
      "outputs": [
        {
          "output_type": "display_data",
          "data": {
            "image/png": "[encoded data removed]",
            "text/plain": [
              "<Figure size 432x288 with 1 Axes>"
            ]
          },
          "metadata": {
            "needs_background": "light"
          }
        }
      ]
    },
    {
      "cell_type": "code",
      "metadata": {
        "colab": {
          "base_uri": "https://localhost:8080/"
        },
        "id": "LYTGfY2w225i",
        "outputId": "2eced187-a6d6-4d8a-ad64-b204707b5919"
      },
      "source": [
        "#SELECCIONAR 2 PRIMERAS COMPONENTES PRINCIPALES\n",
        "proyec = X_scal.dot(eigvecs[:,:2])\n",
        "proyec"
      ],
      "execution_count": null,
      "outputs": [
        {
          "output_type": "execute_result",
          "data": {
            "text/plain": [
              "array([[-1.02404669, -0.26810879,  0.26868993, -0.03500315, -0.55175413],\n",
              "       [-1.74878009, -0.29775852, -0.18717326,  0.82680998, -0.24455517],\n",
              "       [ 3.27274273, -0.49805053,  0.05945799,  1.58557527,  0.4452527 ],\n",
              "       ...,\n",
              "       [-0.57196544,  0.53268623, -1.29610649,  0.50954863,  1.23981429],\n",
              "       [-2.27861241, -0.81750528,  0.35103929, -0.13995782,  0.47728527],\n",
              "       [-1.24999052, -0.74550737, -0.19610841, -0.22584935,  0.25364313]])"
            ]
          },
          "metadata": {},
          "execution_count": 152
        }
      ]
    },
    {
      "cell_type": "code",
      "metadata": {
        "colab": {
          "base_uri": "https://localhost:8080/",
          "height": 204
        },
        "id": "Eyg3bokXC5oJ",
        "outputId": "90668fe5-8082-4065-edc4-d4763034f521"
      },
      "source": [
        "proyec = pd.DataFrame(proyec, columns=['PC1', 'PC2'])\n",
        "proyec.head()"
      ],
      "execution_count": null,
      "outputs": [
        {
          "output_type": "execute_result",
          "data": {
            "text/html": [
              "<div>\n",
              "<style scoped>\n",
              "    .dataframe tbody tr th:only-of-type {\n",
              "        vertical-align: middle;\n",
              "    }\n",
              "\n",
              "    .dataframe tbody tr th {\n",
              "        vertical-align: top;\n",
              "    }\n",
              "\n",
              "    .dataframe thead th {\n",
              "        text-align: right;\n",
              "    }\n",
              "</style>\n",
              "<table border=\"1\" class=\"dataframe\">\n",
              "  <thead>\n",
              "    <tr style=\"text-align: right;\">\n",
              "      <th></th>\n",
              "      <th>PC1</th>\n",
              "      <th>PC2</th>\n",
              "    </tr>\n",
              "  </thead>\n",
              "  <tbody>\n",
              "    <tr>\n",
              "      <th>0</th>\n",
              "      <td>-1.024047</td>\n",
              "      <td>-0.268109</td>\n",
              "    </tr>\n",
              "    <tr>\n",
              "      <th>1</th>\n",
              "      <td>-1.748780</td>\n",
              "      <td>-0.297759</td>\n",
              "    </tr>\n",
              "    <tr>\n",
              "      <th>2</th>\n",
              "      <td>3.272743</td>\n",
              "      <td>-0.498051</td>\n",
              "    </tr>\n",
              "    <tr>\n",
              "      <th>3</th>\n",
              "      <td>-2.594657</td>\n",
              "      <td>-0.061250</td>\n",
              "    </tr>\n",
              "    <tr>\n",
              "      <th>4</th>\n",
              "      <td>0.394120</td>\n",
              "      <td>0.759732</td>\n",
              "    </tr>\n",
              "  </tbody>\n",
              "</table>\n",
              "</div>"
            ],
            "text/plain": [
              "        PC1       PC2\n",
              "0 -1.024047 -0.268109\n",
              "1 -1.748780 -0.297759\n",
              "2  3.272743 -0.498051\n",
              "3 -2.594657 -0.061250\n",
              "4  0.394120  0.759732"
            ]
          },
          "metadata": {},
          "execution_count": 156
        }
      ]
    },
    {
      "cell_type": "code",
      "metadata": {
        "id": "OR74EMUgNJEu"
      },
      "source": [
        "x = df_group['MUNICIPIO']"
      ],
      "execution_count": null,
      "outputs": []
    },
    {
      "cell_type": "code",
      "metadata": {
        "id": "bkIzSv1cODbU"
      },
      "source": [
        "x = pd.DataFrame(x)"
      ],
      "execution_count": null,
      "outputs": []
    },
    {
      "cell_type": "code",
      "metadata": {
        "id": "Y95X3dRXNUtV"
      },
      "source": [
        "data = pd.concat([x,proyec],axis=1)"
      ],
      "execution_count": null,
      "outputs": []
    },
    {
      "cell_type": "code",
      "metadata": {
        "id": "zB2-KYH8DHH2"
      },
      "source": [
        "import plotly.express as px"
      ],
      "execution_count": null,
      "outputs": []
    },
    {
      "cell_type": "code",
      "metadata": {
        "colab": {
          "base_uri": "https://localhost:8080/",
          "height": 542
        },
        "id": "0xAmM8LVDHBc",
        "outputId": "9e474a4a-bc12-4612-cc7d-d27e6bdd775d"
      },
      "source": [
        "df = px.data.iris()\n",
        "fig = px.scatter(data, x='PC1', y='PC2', hover_name=\"MUNICIPIO\")\n",
        "fig.show()"
      ],
      "execution_count": null,
      "outputs": [
        {
          "output_type": "display_data",
          "data": {
            "text/html": [
              "<html>\n",
              "<head><meta charset=\"utf-8\" /></head>\n",
              "<body>\n",
              "    <div>\n",
              "            <script src=\"https://cdnjs.cloudflare.com/ajax/libs/mathjax/2.7.5/MathJax.js?config=TeX-AMS-MML_SVG\"></script><script type=\"text/javascript\">if (window.MathJax) {MathJax.Hub.Config({SVG: {font: \"STIX-Web\"}});}</script>\n",
              "                <script type=\"text/javascript\">window.PlotlyConfig = {MathJaxConfig: 'local'};</script>\n",
              "        <script src=\"https://cdn.plot.ly/plotly-latest.min.js\"></script>    \n",
              "            <div id=\"571db98c-d5c4-4c9f-8c7b-2e2b3949fbf9\" class=\"plotly-graph-div\" style=\"height:525px; width:100%;\"></div>\n",
              "            <script type=\"text/javascript\">\n",
              "                \n",
              "                    window.PLOTLYENV=window.PLOTLYENV || {};\n",
              "                    \n",
              "                if (document.getElementById(\"571db98c-d5c4-4c9f-8c7b-2e2b3949fbf9\")) {\n",
              "                    Plotly.newPlot(\n",
              "                        '571db98c-d5c4-4c9f-8c7b-2e2b3949fbf9',\n",
              "                        [{\"hoverlabel\": {\"namelength\": 0}, \"hovertemplate\": \"<b>%{hovertext}</b><br><br>PC1=%{x}<br>PC2=%{y}\", \"hovertext\": [\"ABEJORRAL\", \"ABRIAQU\\u00cd\", \"ACAC\\u00cdAS\", \"ACAND\\u00cd\", \"ACEVEDO\", \"ACH\\u00cd\", \"AGRADO\", \"AGUA DE DIOS\", \"AGUACHICA\", \"AGUADA\", \"AGUADAS\", \"AGUAZUL\", \"AGUST\\u00cdN CODAZZI\", \"AIPE\", \"ALBANIA\", \"ALB\\u00c1N\", \"ALCAL\\u00c1\", \"ALDANA\", \"ALEJANDR\\u00cdA\", \"ALGARROBO\", \"ALGECIRAS\", \"ALMAGUER\", \"ALMEIDA\", \"ALPUJARRA\", \"ALTAMIRA\", \"ALTO BAUD\\u00d3\", \"ALTOS DEL ROSARIO\", \"ALVARADO\", \"AMAG\\u00c1\", \"AMALFI\", \"AMBALEMA\", \"ANAPOIMA\", \"ANCUYA\", \"ANDALUC\\u00cdA\", \"ANDES\", \"ANGEL\\u00d3POLIS\", \"ANGOSTURA\", \"ANOLAIMA\", \"ANOR\\u00cd\", \"ANSERMA\", \"ANSERMANUEVO\", \"ANZO\\u00c1TEGUI\", \"ANZ\\u00c1\", \"APARTAD\\u00d3\", \"APULO\", \"AP\\u00cdA\", \"AQUITANIA\", \"ARACATACA\", \"ARANZAZU\", \"ARATOCA\", \"ARAUCA\", \"ARAUQUITA\", \"ARBEL\\u00c1EZ\", \"ARBOLEDA\", \"ARBOLEDAS\", \"ARBOLETES\", \"ARCABUCO\", \"ARENAL\", \"ARGELIA\", \"ARIGUAN\\u00cd\", \"ARJONA\", \"ARMENIA\", \"ARMERO\", \"ARROYOHONDO\", \"ASTREA\", \"ATACO\", \"ATRATO\", \"AYAPEL\", \"BAGAD\\u00d3\", \"BAH\\u00cdA SOLANO\", \"BAJO BAUD\\u00d3\", \"BALBOA\", \"BARANOA\", \"BARAYA\", \"BARBACOAS\", \"BARBOSA\", \"BARICHARA\", \"BARRANCA DE UP\\u00cdA\", \"BARRANCABERMEJA\", \"BARRANCAS\", \"BARRANCO DE LOBA\", \"BARRANQUILLA\", \"BECERRIL\", \"BELALC\\u00c1ZAR\", \"BELLO\", \"BELMIRA\", \"BELTR\\u00c1N\", \"BEL\\u00c9N\", \"BEL\\u00c9N DE LOS ANDAQU\\u00cdES\", \"BEL\\u00c9N DE UMBR\\u00cdA\", \"BERBEO\", \"BETANIA\", \"BETULIA\", \"BET\\u00c9ITIVA\", \"BITUIMA\", \"BOAVITA\", \"BOCHALEMA\", \"BOGOT\\u00c1, D.C.\", \"BOJAC\\u00c1\", \"BOJAY\\u00c1\", \"BOL\\u00cdVAR\", \"BOSCONIA\", \"BOYAC\\u00c1\", \"BRICE\\u00d1O\", \"BUCARAMANGA\", \"BUCARASICA\", \"BUENAVENTURA\", \"BUENAVISTA\", \"BUENOS AIRES\", \"BUESACO\", \"BUGALAGRANDE\", \"BURITIC\\u00c1\", \"BUSBANZ\\u00c1\", \"CABRERA\", \"CABUYARO\", \"CACHIPAY\", \"CAICEDO\", \"CAICEDONIA\", \"CAIMITO\", \"CAJAMARCA\", \"CAJIB\\u00cdO\", \"CAJIC\\u00c1\", \"CALAMAR\", \"CALARC\\u00c1\", \"CALDAS\", \"CALDONO\", \"CALI\", \"CALIFORNIA\", \"CALIMA\", \"CALOTO\", \"CAMPAMENTO\", \"CAMPO DE LA CRUZ\", \"CAMPOALEGRE\", \"CAMPOHERMOSO\", \"CANALETE\", \"CANDELARIA\", \"CANTAGALLO\", \"CAPARRAP\\u00cd\", \"CAPITANEJO\", \"CARACOL\\u00cd\", \"CARAMANTA\", \"CARCAS\\u00cd\", \"CAREPA\", \"CARMEN DE APICAL\\u00c1\", \"CARMEN DE CARUPA\", \"CARMEN DEL DARI\\u00c9N\", \"CAROLINA\", \"CARTAGENA DE INDIAS\", \"CARTAGENA DEL CHAIR\\u00c1\", \"CARTAGO\", \"CARUR\\u00da\", \"CASABIANCA\", \"CASTILLA LA NUEVA\", \"CAUCASIA\", \"CA\\u00d1ASGORDAS\", \"CEPIT\\u00c1\", \"CERET\\u00c9\", \"CERINZA\", \"CERRITO\", \"CERRO DE SAN ANTONIO\", \"CHACHAG\\u00dc\\u00cd\", \"CHAGUAN\\u00cd\", \"CHAL\\u00c1N\", \"CHAPARRAL\", \"CHARAL\\u00c1\", \"CHARTA\", \"CHIBOLO\", \"CHIGOROD\\u00d3\", \"CHIMICHAGUA\", \"CHIM\\u00c1\", \"CHINAVITA\", \"CHINCHIN\\u00c1\", \"CHIN\\u00c1COTA\", \"CHIN\\u00da\", \"CHIPAQUE\", \"CHIPAT\\u00c1\", \"CHIQUINQUIR\\u00c1\", \"CHIRIGUAN\\u00c1\", \"CHISCAS\", \"CHITA\", \"CHITAG\\u00c1\", \"CHITARAQUE\", \"CHIVAT\\u00c1\", \"CHIVOR\", \"CHOACH\\u00cd\", \"CHOCONT\\u00c1\", \"CH\\u00c1MEZA\", \"CH\\u00cdA\", \"CH\\u00cdQUIZA\", \"CICUCO\", \"CIMITARRA\", \"CIRCASIA\", \"CISNEROS\", \"CIUDAD BOL\\u00cdVAR\", \"CI\\u00c9NAGA\", \"CI\\u00c9NAGA DE ORO\", \"CI\\u00c9NEGA\", \"CLEMENCIA\", \"COCORN\\u00c1\", \"COELLO\", \"COGUA\", \"COLOMBIA\", \"COLOSO\", \"COL\\u00d3N\", \"CONCEPCI\\u00d3N\", \"CONCORDIA\", \"CONDOTO\", \"CONFINES\", \"CONSAC\\u00c1\", \"CONTADERO\", \"CONTRATACI\\u00d3N\", \"CONVENCI\\u00d3N\", \"COPACABANA\", \"COPER\", \"CORINTO\", \"COROMORO\", \"COROZAL\", \"CORRALES\", \"COTA\", \"COTORRA\", \"COVARACH\\u00cdA\", \"COVE\\u00d1AS\", \"COYAIMA\", \"CRAVO NORTE\", \"CUASPUD CARLOSAMA\", \"CUBARRAL\", \"CUBAR\\u00c1\", \"CUCAITA\", \"CUCUNUB\\u00c1\", \"CUCUTILLA\", \"CUMARAL\", \"CUMARIBO\", \"CUMBAL\", \"CUMBITARA\", \"CUNDAY\", \"CURILLO\", \"CURIT\\u00cd\", \"CURUMAN\\u00cd\", \"CU\\u00cdTIVA\", \"C\\u00c1CERES\", \"C\\u00c1CHIRA\", \"C\\u00c1COTA\", \"C\\u00c1QUEZA\", \"C\\u00c9RTEGUI\", \"C\\u00d3MBITA\", \"C\\u00d3RDOBA\", \"DABEIBA\", \"DAGUA\", \"DIBULLA\", \"DISTRACCI\\u00d3N\", \"DOLORES\", \"DONMAT\\u00cdAS\", \"DOSQUEBRADAS\", \"DUITAMA\", \"DURANIA\", \"EB\\u00c9JICO\", \"EL BAGRE\", \"EL BANCO\", \"EL CAIRO\", \"EL CALVARIO\", \"EL CANT\\u00d3N DEL SAN PABLO\", \"EL CARMEN\", \"EL CARMEN DE ATRATO\", \"EL CARMEN DE BOL\\u00cdVAR\", \"EL CARMEN DE CHUCUR\\u00cd\", \"EL CARMEN DE VIBORAL\", \"EL CASTILLO\", \"EL CERRITO\", \"EL CHARCO\", \"EL COCUY\", \"EL COLEGIO\", \"EL COPEY\", \"EL DONCELLO\", \"EL DORADO\", \"EL DOVIO\", \"EL ESPINO\", \"EL GUACAMAYO\", \"EL GUAMO\", \"EL LITORAL DEL SAN JUAN\", \"EL MOLINO\", \"EL PASO\", \"EL PAUJ\\u00cdL\", \"EL PE\\u00d1OL\", \"EL PE\\u00d1\\u00d3N\", \"EL PI\\u00d1\\u00d3N\", \"EL PLAY\\u00d3N\", \"EL RETORNO\", \"EL RET\\u00c9N\", \"EL ROBLE\", \"EL ROSAL\", \"EL ROSARIO\", \"EL SANTUARIO\", \"EL TABL\\u00d3N DE G\\u00d3MEZ\", \"EL TAMBO\", \"EL TARRA\", \"EL ZULIA\", \"EL \\u00c1GUILA\", \"EL\\u00cdAS\", \"ENCINO\", \"ENCISO\", \"ENTRERR\\u00cdOS\", \"ENVIGADO\", \"ESPINAL\", \"FACATATIV\\u00c1\", \"FALAN\", \"FILADELFIA\", \"FILANDIA\", \"FIRAVITOBA\", \"FLANDES\", \"FLORENCIA\", \"FLORESTA\", \"FLORIDA\", \"FLORIDABLANCA\", \"FLORI\\u00c1N\", \"FONSECA\", \"FORTUL\", \"FOSCA\", \"FRANCISCO PIZARRO\", \"FREDONIA\", \"FRESNO\", \"FRONTINO\", \"FUENTE DE ORO\", \"FUNDACI\\u00d3N\", \"FUNES\", \"FUNZA\", \"FUSAGASUG\\u00c1\", \"F\\u00d3MEQUE\", \"F\\u00daQUENE\", \"GACHAL\\u00c1\", \"GACHANCIP\\u00c1\", \"GACHANTIV\\u00c1\", \"GACHET\\u00c1\", \"GALAPA\", \"GALERAS\", \"GAL\\u00c1N\", \"GAMA\", \"GAMARRA\", \"GARAGOA\", \"GARZ\\u00d3N\", \"GIGANTE\", \"GINEBRA\", \"GIRALDO\", \"GIRARDOT\", \"GIRARDOTA\", \"GIR\\u00d3N\", \"GONZ\\u00c1LEZ\", \"GRAMALOTE\", \"GRANADA\", \"GUACA\", \"GUACAMAYAS\", \"GUACAR\\u00cd\", \"GUACHEN\\u00c9\", \"GUACHET\\u00c1\", \"GUACHUCAL\", \"GUADALAJARA DE BUGA\", \"GUADALUPE\", \"GUADUAS\", \"GUAITARILLA\", \"GUALMAT\\u00c1N\", \"GUAMAL\", \"GUAMO\", \"GUAPI\", \"GUAPOT\\u00c1\", \"GUARANDA\", \"GUARNE\", \"GUASCA\", \"GUATAP\\u00c9\", \"GUATAQU\\u00cd\", \"GUATAVITA\", \"GUATEQUE\", \"GUAVAT\\u00c1\", \"GUAYABAL DE S\\u00cdQUIMA\", \"GUAYABETAL\", \"GUAYAT\\u00c1\", \"GUTI\\u00c9RREZ\", \"GU\\u00c1TICA\", \"G\\u00c1MBITA\", \"G\\u00c1MEZA\", \"G\\u00c9NOVA\", \"G\\u00d3MEZ PLATA\", \"G\\u00dcEPSA\", \"G\\u00dcIC\\u00c1N DE LA SIERRA\", \"HACAR\\u00cd\", \"HATILLO DE LOBA\", \"HATO\", \"HATO COROZAL\", \"HATONUEVO\", \"HELICONIA\", \"HERR\\u00c1N\", \"HERVEO\", \"HISPANIA\", \"HOBO\", \"HONDA\", \"IBAGU\\u00c9\", \"ICONONZO\", \"ILES\", \"IMU\\u00c9S\", \"INZ\\u00c1\", \"IN\\u00cdRIDA\", \"IPIALES\", \"ISNOS\", \"ISTMINA\", \"ITAG\\u00dc\\u00cd\", \"ITUANGO\", \"IZA\", \"JAMBAL\\u00d3\", \"JAMUND\\u00cd\", \"JARD\\u00cdN\", \"JENESANO\", \"JERIC\\u00d3\", \"JERUSAL\\u00c9N\", \"JES\\u00daS MAR\\u00cdA\", \"JORD\\u00c1N\", \"JUAN DE ACOSTA\", \"JUN\\u00cdN\", \"JURAD\\u00d3\", \"LA APARTADA\", \"LA ARGENTINA\", \"LA BELLEZA\", \"LA CALERA\", \"LA CAPILLA\", \"LA CEJA\", \"LA CELIA\", \"LA CRUZ\", \"LA CUMBRE\", \"LA DORADA\", \"LA ESPERANZA\", \"LA ESTRELLA\", \"LA FLORIDA\", \"LA GLORIA\", \"LA JAGUA DE IBIRICO\", \"LA JAGUA DEL PILAR\", \"LA LLANADA\", \"LA MACARENA\", \"LA MERCED\", \"LA MESA\", \"LA MONTA\\u00d1ITA\", \"LA PALMA\", \"LA PAZ\", \"LA PE\\u00d1A\", \"LA PINTADA\", \"LA PLATA\", \"LA PLAYA\", \"LA PRIMAVERA\", \"LA SALINA\", \"LA SIERRA\", \"LA TEBAIDA\", \"LA TOLA\", \"LA UNI\\u00d3N\", \"LA UVITA\", \"LA VEGA\", \"LA VICTORIA\", \"LA VIRGINIA\", \"LABATECA\", \"LABRANZAGRANDE\", \"LAND\\u00c1ZURI\", \"LEBRIJA\", \"LEIVA\", \"LEJAN\\u00cdAS\", \"LENGUAZAQUE\", \"LETICIA\", \"LIBORINA\", \"LINARES\", \"LLOR\\u00d3\", \"LORICA\", \"LOS ANDES\", \"LOS C\\u00d3RDOBAS\", \"LOS PALMITOS\", \"LOS PATIOS\", \"LOS SANTOS\", \"LOURDES\", \"LURUACO\", \"L\\u00c9RIDA\", \"L\\u00cdBANO\", \"L\\u00d3PEZ DE MICAY\", \"MACANAL\", \"MACARAVITA\", \"MACEO\", \"MACHET\\u00c1\", \"MADRID\", \"MAGANGU\\u00c9\", \"MAG\\u00dc\\u00cd\", \"MAHATES\", \"MAICAO\", \"MAJAGUAL\", \"MALAMBO\", \"MALLAMA\", \"MANAT\\u00cd\", \"MANAURE\", \"MANIZALES\", \"MANTA\", \"MANZANARES\", \"MAN\\u00cd\", \"MAPIRIP\\u00c1N\", \"MARGARITA\", \"MARINILLA\", \"MARIP\\u00cd\", \"MARIQUITA\", \"MARMATO\", \"MARQUETALIA\", \"MARSELLA\", \"MARULANDA\", \"MAR\\u00cdA LA BAJA\", \"MATANZA\", \"MEDELL\\u00cdN\", \"MEDINA\", \"MEDIO ATRATO\", \"MEDIO BAUD\\u00d3\", \"MEDIO SAN JUAN\", \"MELGAR\", \"MERCADERES\", \"MESETAS\", \"MIL\\u00c1N\", \"MIRAFLORES\", \"MIRANDA\", \"MISTRAT\\u00d3\", \"MIT\\u00da\", \"MOCOA\", \"MOGOTES\", \"MOLAGAVITA\", \"MOMIL\", \"MOMP\\u00d3S\", \"MONGUA\", \"MONGU\\u00cd\", \"MONIQUIR\\u00c1\", \"MONTEBELLO\", \"MONTECRISTO\", \"MONTEL\\u00cdBANO\", \"MONTENEGRO\", \"MONTERREY\", \"MONTER\\u00cdA\", \"MORALES\", \"MORELIA\", \"MORROA\", \"MOSQUERA\", \"MOTAVITA\", \"MO\\u00d1ITOS\", \"MURILLO\", \"MURIND\\u00d3\", \"MUTAT\\u00c1\", \"MUTISCUA\", \"MUZO\", \"M\\u00c1LAGA\", \"NARI\\u00d1O\", \"NATAGAIMA\", \"NECH\\u00cd\", \"NECOCL\\u00cd\", \"NEIRA\", \"NEIVA\", \"NEMOC\\u00d3N\", \"NILO\", \"NIMAIMA\", \"NOBSA\", \"NOCAIMA\", \"NORCASIA\", \"NOROS\\u00cd\", \"NUEVA GRANADA\", \"NUEVO COL\\u00d3N\", \"NUNCH\\u00cdA\", \"NUQU\\u00cd\", \"N\\u00c1TAGA\", \"N\\u00d3VITA\", \"OBANDO\", \"OCAMONTE\", \"OCA\\u00d1A\", \"OIBA\", \"OICAT\\u00c1\", \"OLAYA\", \"OLAYA HERRERA\", \"ONZAGA\", \"OPORAPA\", \"ORITO\", \"OROCU\\u00c9\", \"ORTEGA\", \"OSPINA\", \"OTANCHE\", \"OVEJAS\", \"PACHAVITA\", \"PACHO\", \"PADILLA\", \"PAICOL\", \"PAILITAS\", \"PAIME\", \"PAIPA\", \"PAJARITO\", \"PALERMO\", \"PALESTINA\", \"PALMAR\", \"PALMAR DE VARELA\", \"PALMAS DEL SOCORRO\", \"PALMIRA\", \"PALMITO\", \"PALOCABILDO\", \"PAMPLONA\", \"PAMPLONITA\", \"PANDI\", \"PANQUEBA\", \"PARATEBUENO\", \"PASCA\", \"PASTO\", \"PAT\\u00cdA\", \"PAUNA\", \"PAYA\", \"PAZ DE ARIPORO\", \"PAZ DE R\\u00cdO\", \"PEDRAZA\", \"PELAYA\", \"PENSILVANIA\", \"PEQUE\", \"PEREIRA\", \"PESCA\", \"PE\\u00d1OL\", \"PIAMONTE\", \"PIEDECUESTA\", \"PIEDRAS\", \"PIENDAM\\u00d3 - TUN\\u00cdA\", \"PIJAO\", \"PIJI\\u00d1O DEL CARMEN\", \"PINCHOTE\", \"PINILLOS\", \"PIOJ\\u00d3\", \"PISBA\", \"PITAL\", \"PITALITO\", \"PIVIJAY\", \"PLANADAS\", \"PLANETA RICA\", \"PLATO\", \"POLICARPA\", \"POLONUEVO\", \"PONEDERA\", \"POPAY\\u00c1N\", \"PORE\", \"POTOS\\u00cd\", \"PRADERA\", \"PRADO\", \"PROVIDENCIA\", \"PUEBLO BELLO\", \"PUEBLO NUEVO\", \"PUEBLO RICO\", \"PUEBLORRICO\", \"PUEBLOVIEJO\", \"PUENTE NACIONAL\", \"PUERRES\", \"PUERTO AS\\u00cdS\", \"PUERTO BERR\\u00cdO\", \"PUERTO BOYAC\\u00c1\", \"PUERTO CAICEDO\", \"PUERTO CARRE\\u00d1O\", \"PUERTO COLOMBIA\", \"PUERTO CONCORDIA\", \"PUERTO ESCONDIDO\", \"PUERTO GAIT\\u00c1N\", \"PUERTO GUZM\\u00c1N\", \"PUERTO LEGU\\u00cdZAMO\", \"PUERTO LIBERTADOR\", \"PUERTO LLERAS\", \"PUERTO L\\u00d3PEZ\", \"PUERTO NARE\", \"PUERTO NARI\\u00d1O\", \"PUERTO PARRA\", \"PUERTO RICO\", \"PUERTO ROND\\u00d3N\", \"PUERTO SALGAR\", \"PUERTO SANTANDER\", \"PUERTO TEJADA\", \"PUERTO TRIUNFO\", \"PUERTO WILCHES\", \"PUL\\u00cd\", \"PUPIALES\", \"PURAC\\u00c9\", \"PURIFICACI\\u00d3N\", \"PUR\\u00cdSIMA DE LA CONCEPCI\\u00d3N\", \"P\\u00c1CORA\", \"P\\u00c1EZ\", \"P\\u00c1RAMO\", \"QUEBRADANEGRA\", \"QUETAME\", \"QUIBD\\u00d3\", \"QUIMBAYA\", \"QUINCH\\u00cdA\", \"QUIPILE\", \"QU\\u00cdPAMA\", \"RAGONVALIA\", \"RAMIRIQU\\u00cd\", \"RECETOR\", \"REGIDOR\", \"REMEDIOS\", \"REMOLINO\", \"REPEL\\u00d3N\", \"RESTREPO\", \"RETIRO\", \"RICAURTE\", \"RIOBLANCO\", \"RIOFR\\u00cdO\", \"RIOHACHA\", \"RIONEGRO\", \"RIOSUCIO\", \"RISARALDA\", \"RIVERA\", \"ROBERTO PAY\\u00c1N\", \"ROLDANILLO\", \"RONCESVALLES\", \"ROND\\u00d3N\", \"ROSAS\", \"ROVIRA\", \"R\\u00c1QUIRA\", \"R\\u00cdO DE ORO\", \"R\\u00cdO IR\\u00d3\", \"R\\u00cdO QUITO\", \"R\\u00cdO VIEJO\", \"SABANA DE TORRES\", \"SABANAGRANDE\", \"SABANALARGA\", \"SABANAS DE SAN \\u00c1NGEL\", \"SABANETA\", \"SABOY\\u00c1\", \"SAHAG\\u00daN\", \"SALADOBLANCO\", \"SALAMINA\", \"SALAZAR\", \"SALDA\\u00d1A\", \"SALENTO\", \"SALGAR\", \"SAMAC\\u00c1\", \"SAMANIEGO\", \"SAMAN\\u00c1\", \"SAMPU\\u00c9S\", \"SAN AGUST\\u00cdN\", \"SAN ALBERTO\", \"SAN ANDR\\u00c9S\", \"SAN ANDR\\u00c9S DE CUERQU\\u00cdA\", \"SAN ANDR\\u00c9S DE TUMACO\", \"SAN ANDR\\u00c9S SOTAVENTO\", \"SAN ANTERO\", \"SAN ANTONIO\", \"SAN ANTONIO DEL TEQUENDAMA\", \"SAN BENITO\", \"SAN BENITO ABAD\", \"SAN BERNARDO\", \"SAN BERNARDO DEL VIENTO\", \"SAN CALIXTO\", \"SAN CARLOS\", \"SAN CARLOS DE GUAROA\", \"SAN CAYETANO\", \"SAN CRIST\\u00d3BAL\", \"SAN DIEGO\", \"SAN EDUARDO\", \"SAN ESTANISLAO\", \"SAN FERNANDO\", \"SAN FRANCISCO\", \"SAN GIL\", \"SAN JACINTO\", \"SAN JACINTO DEL CAUCA\", \"SAN JER\\u00d3NIMO\", \"SAN JOAQU\\u00cdN\", \"SAN JOS\\u00c9\", \"SAN JOS\\u00c9 DE C\\u00daCUTA\", \"SAN JOS\\u00c9 DE LA MONTA\\u00d1A\", \"SAN JOS\\u00c9 DE MIRANDA\", \"SAN JOS\\u00c9 DE PARE\", \"SAN JOS\\u00c9 DE UR\\u00c9\", \"SAN JOS\\u00c9 DEL FRAGUA\", \"SAN JOS\\u00c9 DEL GUAVIARE\", \"SAN JOS\\u00c9 DEL PALMAR\", \"SAN JUAN DE ARAMA\", \"SAN JUAN DE BETULIA\", \"SAN JUAN DE RIOSECO\", \"SAN JUAN DE URAB\\u00c1\", \"SAN JUAN DEL CESAR\", \"SAN JUAN NEPOMUCENO\", \"SAN JUANITO\", \"SAN LORENZO\", \"SAN LUIS\", \"SAN LUIS DE GACENO\", \"SAN LUIS DE PALENQUE\", \"SAN LUIS DE SINC\\u00c9\", \"SAN MARCOS\", \"SAN MART\\u00cdN\", \"SAN MART\\u00cdN DE LOBA\", \"SAN MATEO\", \"SAN MIGUEL\", \"SAN MIGUEL DE SEMA\", \"SAN ONOFRE\", \"SAN PABLO\", \"SAN PABLO DE BORBUR\", \"SAN PEDRO\", \"SAN PEDRO DE CARTAGO\", \"SAN PEDRO DE URAB\\u00c1\", \"SAN PELAYO\", \"SAN RAFAEL\", \"SAN ROQUE\", \"SAN SEBASTI\\u00c1N\", \"SAN SEBASTI\\u00c1N DE BUENAVISTA\", \"SAN VICENTE\", \"SAN VICENTE DE CHUCUR\\u00cd\", \"SAN VICENTE DEL CAGU\\u00c1N\", \"SAN ZEN\\u00d3N\", \"SANDON\\u00c1\", \"SANTA ANA\", \"SANTA B\\u00c1RBARA\", \"SANTA B\\u00c1RBARA DE PINTO\", \"SANTA CATALINA\", \"SANTA HELENA DEL OP\\u00d3N\", \"SANTA ISABEL\", \"SANTA LUC\\u00cdA\", \"SANTA MARTA\", \"SANTA MAR\\u00cdA\", \"SANTA ROSA\", \"SANTA ROSA DE CABAL\", \"SANTA ROSA DE OSOS\", \"SANTA ROSA DE VITERBO\", \"SANTA ROSA DEL SUR\", \"SANTA ROSAL\\u00cdA\", \"SANTA SOF\\u00cdA\", \"SANTACRUZ\", \"SANTAF\\u00c9 DE ANTIOQUIA\", \"SANTANA\", \"SANTANDER DE QUILICHAO\", \"SANTIAGO\", \"SANTIAGO DE TOL\\u00da\", \"SANTO DOMINGO\", \"SANTO TOM\\u00c1S\", \"SANTUARIO\", \"SAPUYES\", \"SARAVENA\", \"SARDINATA\", \"SASAIMA\", \"SATIVANORTE\", \"SATIVASUR\", \"SEGOVIA\", \"SESQUIL\\u00c9\", \"SEVILLA\", \"SIACHOQUE\", \"SIBAT\\u00c9\", \"SIBUNDOY\", \"SILOS\", \"SILVANIA\", \"SILVIA\", \"SIMACOTA\", \"SIMIJACA\", \"SIMIT\\u00cd\", \"SINCELEJO\", \"SIP\\u00cd\", \"SITIONUEVO\", \"SOACHA\", \"SOAT\\u00c1\", \"SOCHA\", \"SOCORRO\", \"SOCOT\\u00c1\", \"SOGAMOSO\", \"SOLANO\", \"SOLEDAD\", \"SOLITA\", \"SOMONDOCO\", \"SONS\\u00d3N\", \"SOPETR\\u00c1N\", \"SOPLAVIENTO\", \"SOP\\u00d3\", \"SORA\", \"SORAC\\u00c1\", \"SOTAQUIR\\u00c1\", \"SOTAR\\u00c1 PAISPAMBA\", \"SUAITA\", \"SUAN\", \"SUAZA\", \"SUBACHOQUE\", \"SUCRE\", \"SUESCA\", \"SUPAT\\u00c1\", \"SUP\\u00cdA\", \"SURAT\\u00c1\", \"SUSA\", \"SUSAC\\u00d3N\", \"SUTAMARCH\\u00c1N\", \"SUTATAUSA\", \"SUTATENZA\", \"SU\\u00c1REZ\", \"S\\u00c1CAMA\", \"S\\u00c1CHICA\", \"TABIO\", \"TAD\\u00d3\", \"TALAIGUA NUEVO\", \"TAMALAMEQUE\", \"TAME\", \"TAMINANGO\", \"TANGUA\", \"TARAIRA\", \"TARAZ\\u00c1\", \"TARQUI\", \"TARSO\", \"TASCO\", \"TAURAMENA\", \"TAUSA\", \"TELLO\", \"TENA\", \"TENERIFE\", \"TENJO\", \"TENZA\", \"TEORAMA\", \"TERUEL\", \"TESALIA\", \"TIBACUY\", \"TIBAN\\u00c1\", \"TIBASOSA\", \"TIBIRITA\", \"TIB\\u00da\", \"TIERRALTA\", \"TIMAN\\u00c1\", \"TIMBIQU\\u00cd\", \"TIMB\\u00cdO\", \"TINJAC\\u00c1\", \"TIPACOQUE\", \"TIQUISIO\", \"TITIRIB\\u00cd\", \"TOCA\", \"TOCAIMA\", \"TOCANCIP\\u00c1\", \"TOG\\u00dc\\u00cd\", \"TOLEDO\", \"TOL\\u00da VIEJO\", \"TONA\", \"TOPAIP\\u00cd\", \"TORIB\\u00cdO\", \"TORO\", \"TOTA\", \"TOTOR\\u00d3\", \"TRINIDAD\", \"TRUJILLO\", \"TUBAR\\u00c1\", \"TUCH\\u00cdN\", \"TULU\\u00c1\", \"TUNJA\", \"TUNUNGU\\u00c1\", \"TURBACO\", \"TURBAN\\u00c1\", \"TURBO\", \"TURMEQU\\u00c9\", \"TUTA\", \"TUTAZ\\u00c1\", \"T\\u00c1MARA\", \"T\\u00c1MESIS\", \"T\\u00d3PAGA\", \"T\\u00daQUERRES\", \"UBAL\\u00c1\", \"UBAQUE\", \"ULLOA\", \"UNE\", \"UNGU\\u00cdA\", \"UNI\\u00d3N PANAMERICANA\", \"URAMITA\", \"URIBE\", \"URIBIA\", \"URRAO\", \"URUMITA\", \"USIACUR\\u00cd\", \"VALDIVIA\", \"VALENCIA\", \"VALLE DE SAN JOS\\u00c9\", \"VALLE DE SAN JUAN\", \"VALLE DEL GUAMUEZ\", \"VALLEDUPAR\", \"VALPARA\\u00cdSO\", \"VEGACH\\u00cd\", \"VENADILLO\", \"VENECIA\", \"VENTAQUEMADA\", \"VERGARA\", \"VERSALLES\", \"VETAS\", \"VIAN\\u00cd\", \"VICTORIA\", \"VIG\\u00cdA DEL FUERTE\", \"VIJES\", \"VILLA CARO\", \"VILLA DE LEYVA\", \"VILLA DE SAN DIEGO DE UBAT\\u00c9\", \"VILLA DEL ROSARIO\", \"VILLA RICA\", \"VILLAGARZ\\u00d3N\", \"VILLAG\\u00d3MEZ\", \"VILLAHERMOSA\", \"VILLAMAR\\u00cdA\", \"VILLANUEVA\", \"VILLAPINZ\\u00d3N\", \"VILLARRICA\", \"VILLAVICENCIO\", \"VILLAVIEJA\", \"VILLETA\", \"VIOT\\u00c1\", \"VIRACACH\\u00c1\", \"VISTAHERMOSA\", \"VITERBO\", \"V\\u00c9LEZ\", \"YACOP\\u00cd\", \"YACUANQUER\", \"YAGUAR\\u00c1\", \"YAL\\u00cd\", \"YARUMAL\", \"YOLOMB\\u00d3\", \"YOND\\u00d3\", \"YOPAL\", \"YOTOCO\", \"YUMBO\", \"ZAMBRANO\", \"ZAPATOCA\", \"ZAPAY\\u00c1N\", \"ZARAGOZA\", \"ZARZAL\", \"ZETAQUIRA\", \"ZIPAC\\u00d3N\", \"ZIPAQUIR\\u00c1\", \"ZONA BANANERA\", \"\\u00c1BREGO\", \"\\u00cdQUIRA\", \"\\u00daMBITA\", \"\\u00daTICA\"], \"legendgroup\": \"\", \"marker\": {\"color\": \"#636efa\", \"symbol\": \"circle\"}, \"mode\": \"markers\", \"name\": \"\", \"showlegend\": false, \"type\": \"scattergl\", \"x\": [-1.024046689941322, -1.7487800884182605, 3.2727427293963274, -2.594656881515471, 0.3941197581725589, -2.656791913973095, 0.7982405041737914, -0.13290608344972776, 2.04846480273031, -2.1284906982711336, -0.44816962675153943, 2.116255222057466, -0.07216546719709922, 3.226663509941864, -0.32698482291210446, -0.14584460367926527, 0.7177264529418708, -1.2872290898367178, 0.7390881465068735, 0.13350827780466218, -0.6346954655390984, -1.9290399839957786, -1.1737976847337548, 1.4120123144861247, 4.568670341125631, -3.092391562455282, -2.7922879467780346, 3.525942207213607, 0.18917344690523172, -0.23062004414531126, 1.846455968135127, 0.8385619298942811, -1.7521096824773117, 0.9250468651469693, -0.16077003983235588, -0.07572141998150038, -0.6715389609819656, -0.864208179408136, -0.24466809050191285, -0.6131869608077878, -0.11526458491226603, -1.0380731665569973, -0.8224289997236305, 1.7151415696906807, 0.9207272646341538, -0.8910951065582471, -0.09265741828199177, -0.31133078862586056, -1.2502178623592286, 0.7645615805407777, 3.7877183582345086, -0.9366090554091157, -0.18737568707961777, -1.14999272068571, -2.739977016080683, -2.0143702922817353, 1.1825435165664102, -2.1968939226583175, -1.1981956277895849, -1.5789447034101824, 0.27816285375767263, 2.572524021755353, 3.3095554920876102, -1.692264368436547, -2.4222667278312993, -0.18654947498008026, 0.9945393508785323, -2.1389520910207365, -2.112800497454185, 1.3661624869733529, -3.0760313791117007, -0.4218784543015646, -0.46426457841293145, -0.07549345602801516, -1.9964736593056005, 2.775967320971695, -1.7864777562560994, 3.073233792883453, 5.857730176089482, -1.340087054165486, -2.5925882354846514, 2.638884137609203, -1.204524640661435, -1.0139203048155656, 1.5747257195424624, -1.229217330655416, 1.0253448611998177, -0.4359533380022839, -0.8067181517118459, -1.4554384155630975, -2.89644962241371, 0.18812811558564752, 0.5683940175483753, -2.2624182957607966, -1.9688006841745473, -1.2143479056053017, -1.4408408306160272, 6.609163653657259, 0.8553010482472156, -2.4900062634668196, -1.2134417896329905, 1.3519676133293899, -0.8597675969596869, -1.3636226515143064, 4.738074614067417, -0.3526445671627684, -0.021593556893253974, -1.3605461208127683, -0.6068623319356108, -1.4496835281169533, 1.4142670611720574, -1.1769603239192823, -2.823068185593959, -0.8495588699941624, 2.635336965983455, 0.5182573703468277, -1.365912928685869, 1.4348333802655917, -2.6783176264593083, 2.732685327033823, 0.45807978242547925, 1.0380929481327223, -1.0410859146036429, 2.908622306039881, 1.9198765946813792, -1.0513157318758584, 6.03823224767606, -0.2061170159882795, 1.0836801783025087, 5.057948848243386, -1.930855212178607, -1.6856625292114946, 2.280689432443657, -2.090316187135572, -1.623576485086293, 2.989387456358929, 0.321631115275076, -0.40561613539340713, -0.586773446349644, -0.18467792918668993, -1.587466704758943, -1.8194545340516382, -0.08877612424975743, 6.031190937407941, 0.4722291614575052, -3.193575986760734, 1.9453499842863453, 2.1517935231436023, -0.5307510873051089, 1.2038663357791648, -1.6433693204337372, -1.0955793538784557, 0.18615431643256958, 0.792995356177358, -1.0205613807420257, -2.2987658833545868, -0.3621041992888026, -1.2528818462157367, -1.3138081381074604, -2.2600253339197347, 1.8236376860046004, -1.8740294068429229, -2.0428038348531317, 3.8933416451540452, -0.7763515837401583, 0.6127403774649378, 4.7092852412128785, -0.6929401686192534, -2.560177940277635, -2.2229090518865045, -1.751016227115212, 2.036169614340826, -0.5339429230903431, 1.2187989456769652, 2.878048468456915, -2.1935188533866667, 2.7281935169441818, 0.6000944250216175, -2.292440797183851, -2.5214128149299553, -1.561746822605443, -0.09125506766221557, 1.4303133993776438, -1.345992190810976, 0.17419302426758837, 0.8754268798954683, -0.9287836583879097, 1.6599988014453224, -1.2142425114125543, -0.3117434904078934, 1.036059298318573, 1.7529936987715087, 1.2676811539932034, 0.4833981547268026, 0.9697346517368766, -1.8212203892019774, -1.314603650220034, 0.5971011323896082, 0.9019990967996002, 3.535381787881706, 0.8783594245224544, -0.33871297964413, 1.8492467416142835, -1.0067528468870184, -0.9800125492427469, -0.7405032713540312, 0.09023417815940202, -0.6783555859498983, -1.9364898458271989, -1.4040832559462257, -0.32423370588992667, 0.04637476164406337, 3.2822512539883575, -1.2389198979094351, 1.6209724083086627, -1.584409813236137, 0.11349377087627872, 1.5891096074663835, 3.5597572522657206, -1.2802334185852218, -2.2652183916936908, 0.18745405680103783, 2.3116106962841396, 1.4879376917223346, -0.9870439352858805, -0.06006627782687393, -1.274112037254956, 3.788215617839778, 1.3640254073783673, -2.7336779398874986, 1.584721226615393, -2.9257373236142588, -1.3152575615564488, -0.03042318819470009, -0.2132884784312269, 0.2184189657286756, -0.5829251455293845, -0.25511796745376353, 4.308868327151785, -1.100879471740752, -2.3661420606715047, -0.8311424530769121, 1.9133588357902473, -2.247376277150493, 4.692083140719547, -1.531172907663854, -1.7925628823263955, 1.1556289262738424, -1.100954230433688, -0.46702982321644615, 0.7721541745300755, 1.3321639702532195, 1.6453536052638202, 2.913604864450499, -1.6655655658201993, -1.3954452975676888, -1.876919116410796, -1.0183758771170468, -0.1339363449836146, -0.3883146561983745, -2.6570749720077456, -1.0701201307868748, -0.15323755114573182, 1.1296031409909177, -1.8307874057234186, -0.9026991587240362, 0.1748182091436771, 1.4312474607856989, -2.3995243841281537, -0.26544628667071113, 1.017058213077848, -0.3322926638941178, -0.5851867883735714, -1.2962663989695986, -1.2086696647302717, -1.8851128500298888, -0.04892440137291319, -1.7363746817126346, -2.430139714558261, -1.1019597898988647, 0.14693239102268912, -1.3951704663287632, -1.1417060053952444, -0.8550940387279587, -2.554955253099883, 0.30378317690078555, -0.8916893408735269, -1.2809941724034217, -1.9246817102327551, -0.35414972573821596, -1.5722189106746378, -0.3767787858666528, -2.504469702319369, 0.4242700276928865, -0.6594739366583479, 1.368925012280451, -2.4758218512838672, -0.3719989686456067, -2.269134829530129, -0.9373052370238688, -0.8825576962057825, 1.66960107892799, 6.5613942453625524, 1.8797968702913934, -0.7745122316938982, -1.4602129052740063, 0.3515728138894508, -0.41064257056554715, 3.5880804677647786, 3.5956992926383444, -0.22157951073525273, 0.32267705413253733, 1.4031668835119715, -0.8560786943683191, 0.3690274695759957, 0.801131728895729, -0.8561610103680684, -3.037755716104876, -0.3731520132407759, -0.45572387062934183, -1.7016862078823591, 0.15376432988199298, 0.4227547648638777, -2.4476666266842266, 1.8040617613782983, 2.502809193306457, -0.9168534364869105, 4.176399230495972, -0.215004269832268, 3.035618791748295, 1.2532695676945442, 1.30743832930726, 0.11208547873006901, -2.196567588145738, 0.002525734805038835, -1.5827127837185098, -0.6859932353950177, -0.7076180942922909, 1.643114612403863, 1.4944221201230141, 1.0480106118088341, -0.5422221450773611, 3.4172290753938164, 1.9829011395658998, 2.3961332240544877, -1.0974271167288074, -2.603258179750918, 2.468242874346279, -1.7295105918323808, -2.8670261077651538, 1.945594174578214, 2.723643309697401, 1.1192368595346043, -0.9637308031947799, 2.218675736308742, -1.0622221627194832, 2.637723590783314, -1.5906503231195275, -1.955504475523365, -0.7848303336449565, 4.512396434264503, -1.5377757488439043, -2.132371043185086, -2.3976886551603207, 1.3077571243074284, 1.7278239060025615, 0.6077330386739725, -1.300291243995057, 0.1632554389805465, -0.7020857319871322, -1.1665642062567756, -1.2644068130765351, -0.3833974360094531, -1.2307775372528058, 1.0326045734480291, -1.6786960598525584, 0.7340105775553007, 0.7735931241963304, 0.8786509578772634, 0.26615139385672654, 0.9954461665360995, -1.4876698762274538, -1.6007253720323569, -2.878225073812195, -1.956356139922834, 2.1223435888613, -1.1490462535674097, 0.30243640720199566, -2.9395662398482916, 0.4197361238992246, -1.2309663926692282, 2.0892600159425796, 4.612778393274761, 5.545171183499615, 1.2935029092210468, -0.6598224552698468, 0.8961973014748844, -1.9220477909552138, 2.7403646564651436, 4.066076250668926, 0.9586477062222671, -0.6529160843480404, 3.251315772279655, -1.3798457238421558, 0.0640208136433381, -2.8158779372888296, 3.208938810292558, -1.1474983644385512, -1.2377858566261188, -0.8864930457983101, -1.3749278736691586, -2.1950157911742507, -0.8251543132304157, -1.5030892826582534, -0.03488427287642174, -2.6016645014831794, -0.10289781472381905, -0.7940494620359242, -0.8332499211559403, 0.9198727121209315, -2.3409786683625113, -0.4297907226521528, -1.6769249377282762, -1.5385983689351874, 1.4930546248224588, 1.8178575581187608, 0.3829400836246379, 1.952008102669291, -1.197925671481518, -0.1882825437824765, 0.15282003360540425, 1.7324573328710833, -1.7091714879823054, -0.9248296904244655, -1.787727312884852, 2.142197938664733, -0.9698797186539182, -0.20031761954032726, 0.15658341318205077, -1.1906105626071155, 1.8555956529682076, 1.0040286367047186, -0.15026813753789814, -1.6919030809435154, -2.9035769776300295, 1.153907265454238, 2.198941373145585, -2.3405105624676326, -0.09076781848091053, -1.6620776781808304, -0.08016508675588434, -0.32348663052270915, 2.3567806318292046, -2.632437669294539, 2.162631315379086, -0.059542543777313064, 0.8397255080094221, -0.5346686806496788, 0.649422600253919, 0.5447320766630314, 3.3868833883621727, -1.6816565844268065, -2.1553917111786998, -1.326899005242454, -0.7655637142986974, -0.8649289196178797, -1.6308396521956188, -0.6969051696365917, 0.17474406210009522, 0.027653057871322596, -0.5396898300427403, -0.2080150738716328, 3.024672417405883, 1.57395566185709, -3.0276533016979816, -1.960122097684189, -2.432888417327994, -0.6117620095925049, -1.6950066546936229, 0.8045532496606577, 0.41349082565973594, -2.8844496232005477, -1.8226277253622054, 0.8955424558434976, -2.3867665845073045, -0.7147269633437391, 0.4458983888755087, -1.151193288903547, -2.1513819265422462, 0.9829495907526826, -2.062942410354348, -0.32759225741233783, 1.3115636725201016, 3.039124557105958, -2.5891307997232036, -0.45202087195540797, 0.9840467165140823, 17.867818812481037, -0.7803675412473181, -2.3612200523140396, -1.1869027468018156, -0.5802703273099756, -0.23682750316524945, -0.2434083712788228, 5.185621426634356, 0.5339204247913368, -3.0654517253795373, -2.4209004775874217, -2.764187274606856, 3.152225325406317, 1.0849151242653998, 1.33308972777784, -1.884139832589314, -0.27958141181546525, 1.7539496956995166, -1.469875363146253, -0.8390763581870266, 2.7768629138963816, 0.44390607509000013, -2.283390403086581, -1.0974433424668923, 3.8398950473800357, 0.05401400815770617, 0.3990360714062546, 2.190315221018495, -1.2133086993974165, -2.886840822846955, -1.1753412850423886, 0.5979013189912634, 3.0867386057784842, 1.818483538241873, -1.869088499087228, 0.9931979676497791, 0.06508272716978218, 1.2647516938242958, 0.6489836560386409, -2.4957900876620664, 0.38915388988443206, -1.2116915855177028, 1.9817021098140546, -1.036996856690394, 0.5727757377136241, -0.28369523138147085, -0.10069535072149707, 2.4091877572277, -2.5128903743414037, -1.7153091648337306, 0.4006808966609569, 4.486777330765485, 0.8652173045823192, 0.7229885821612198, 0.4556695006608819, 0.2361085596910315, -0.3372507678941141, 0.13818311143533496, -1.7777905075773186, -2.5070866016848377, -0.6670324983295236, 0.6719588214329039, -2.378492351380589, -0.7274330290267134, -2.081680221315273, 0.029222831381676157, -0.9548766485426974, 1.7825754637355273, -0.34522378820762595, 2.1226471133967277, -1.7986517539206837, -2.686704688713695, -1.212160603780708, -1.3426255867926862, -1.0453407944196815, 1.8501870583871083, -0.40342932438720364, -2.418139014939777, -1.0245449274060225, -1.138445310334441, -1.2353480896051279, 0.459189469974753, 1.5367039728856247, -0.5881324591430035, -0.3776123364645293, -2.340211644800337, -0.1398306353569773, 8.002341038424962, 1.001501931301135, 0.3774373485995924, -1.8998114317958446, -2.2039570193874667, 0.8690155736387928, 1.9619273691386299, -2.0272347520557976, -1.6535754997520808, 1.0933649581776999, 0.7813423573272477, -0.5605601592672537, -1.39415842359106, 0.7093419599087794, 2.134558952493438, 7.663545063972076, 2.669162479528655, 0.011806165206332177, 1.0809095937110342, 1.8144822640649703, -0.5511762702259997, -2.5321086011312635, 0.3966909049391352, -1.9895418353585783, -2.676059310357441, 3.831272439986639, -0.18679611328981352, -0.7553835160025437, -1.9246545123402874, 1.6708386224316596, 0.7525342591006463, 3.0329079849244804, -0.5532603904390001, -2.3234305455450364, -0.8696515317041804, -2.2142317674957517, -1.7155878274313996, -2.2125331184807138, -0.3399804673147804, 4.077434348779335, -1.454746794903646, 0.70612561795442, -0.25112444774557213, -1.2170402308515977, 0.10984505591249925, -1.7329623529408935, -1.6838270700574682, 9.172304441789043, 3.1143255062694375, -0.38529730469953904, 1.4484557903395578, -0.3140391627004731, 0.1751000946305886, -1.9527006390046122, -1.5432499906954396, -1.5666057086697291, -1.5695143543691144, -0.9830897147449649, 1.1181907860004683, -1.114741972192891, 1.3247229859749647, 2.429451868191459, 4.048691197419108, -1.0855622048879012, 4.658931943088612, 1.3898419829469284, -0.2892701226540013, -2.6470493441843, 2.4504650273608886, -2.21142867013561, -1.7324910607987585, -1.5541360414326495, 0.41694743480713853, 3.268282695522201, -0.8631817213840617, -0.1705268284164705, 0.9381922490348485, -0.09850234999003547, 2.2813053875531675, 2.2251545696505937, 0.8435887664628221, 7.566372665657981, 4.345230629836781, 0.8510728195419544, -1.159167010135738, -0.6033873150008108, -1.0642889918569862, 1.7655882658780793, -1.9754967072551706, -1.898384451081699, -2.3997345773416376, 0.07245617539140686, 0.0437757690771287, 0.6431062613895964, 4.442100585513167, 1.1921514615214261, -1.6421529501442165, -1.3335707434911757, -0.29417281885437646, -2.1810341332500958, 1.0733733171137574, -1.1869741727550318, -1.9636900160043698, 0.33765584411038124, -2.9289574713227093, -0.832643827967411, 1.573972277016715, 0.8100624306380624, 1.1987962723561079, -0.7776718177691614, 1.0341215173273433, 1.9554081665536838, 1.9343183907356323, -1.1104721700961844, -0.537032422942395, 3.259407341517716, -2.9518981601333345, 0.1622783665175781, 0.8565019661157319, 0.44363763601094564, 1.4864529356406617, 1.6234059221388055, 0.4032272978881711, -0.038539465465953805, -2.2090424618624738, -1.9785749282799419, -2.7833643227690206, 2.680794391580513, -0.9695438660909217, -0.07926536238404637, -2.2357907612384165, 3.1420894161082376, -0.46461472588116054, -0.32431168086447654, -1.7411348932642638, -1.3318670243584994, -1.9328211523276417, 2.781958365324426, 4.084777297253762, 0.6146915621969171, 1.206678805779227, -1.046013725771432, -1.905067470375697, -0.943523185960503, 0.7114511046953292, 2.2491258824477387, 5.091173173517293, 2.382854515908181, -0.8870681536367211, 0.9919739961222281, -1.0480733907336468, 0.42781836456507616, 0.6566860687332499, -2.507447335507072, -2.1587533532617673, -1.6755479363963877, -2.1589655055594337, -1.6931609019771254, -1.141731528315409, 0.35182665170755445, -0.8122508072786393, -2.7483569901797718, 1.8478136095194593, -1.3030431308543968, -1.793162398671643, -2.7949834266008757, -0.531438432808032, 1.5763080362038573, -0.5312640563565332, -3.041338403941687, 0.9933651800457542, 0.12460434889025251, -0.8060563204796001, 1.8817027167590243, -1.8869487738588413, -0.4072099490168766, 0.7941470556896986, -1.811642657340778, 0.5290594035095344, 2.1130923739320497, -1.055598313884299, 0.4296942631807304, -0.6891756573403423, -0.2875427043006963, -1.8407420834160038, 0.22946545820583183, -0.8549650289655, -0.6780109452550663, -1.7397046924139306, 0.8036863302377804, -0.6310397053415467, -0.2687666140990429, -0.6994760399308451, -1.1646563277984325, 1.511859202777623, -2.0776914136471074, -2.1424047354511626, -1.8858248438000316, -0.7173270896524586, -1.280974757699802, -1.0858034240394607, -0.2427837241197336, 3.9625267307572773, -1.2205072311164238, -2.426152061917964, -2.0816815381376985, -1.256807401550918, -0.6764456620439937, -2.524323134236513, -2.799527464429752, 7.899187711304072, -0.265560999699686, 0.5082028404862512, -2.398225997462159, -1.1269455870519185, -1.1434374826461888, -0.838295918029885, -2.742207769511444, 2.51080730633888, -1.4741722341767975, -0.24236561657219868, -2.797328736505129, 2.5707428689375864, -0.5285161657351215, 2.8323241082606136, 1.3169533492923324, 0.7268712680365438, -0.5472618958189776, -0.2425058414704034, -1.2789598166744234, 1.6650560031338735, -1.1041608483773695, 14.56190035614413, 1.580071118762236, 4.205229950117376, -1.0585091969985887, 2.5630510759051894, 1.0200052144509693, -1.0678313516119835, -0.9434024836101568, -1.0106532471302216, -0.27550501331263694, -0.7282589761448364, 1.4772930903415977, -0.4149607043271914, -2.014517265436669, 0.9291227427829373, 2.4533388457372127, 0.9235427675525832, -0.09120621479867112, 2.1962806056778175, -0.6538150796536794, -1.2253716155850802, 3.1498682798074715, -1.8790173332998485, 0.2788374357770478, -0.00653374858773263, -1.3946106288522553, 2.7158303232941434, -2.3032042589670403, -0.6789181181022869, 1.188166237139697, -0.6187555479518296, -0.6651444927273263, 0.926611922937434, -1.309505330658111, 2.460128711816794, -2.0911088299004925, -0.06609298698343245, -2.3344199170834026, -2.0753798563375665, -0.4068448296356616, -0.4576027813891097, -2.5899366787039364, 1.3900293653913542, -0.22201896571356095, 2.837487982131329, 2.5217830772028984, -0.21732618654083788, -0.6477535301903943, -2.397266795617459, -0.20907755123667363, -0.7126016651076662, -2.196968802356395, -0.4124616428151761, -0.8693588133677844, -0.8847042338222837, 0.6058872364686727, -0.6256957072958623, -0.2471721257910607, 0.9650422180206646, 4.178152967605444, -1.666254904226239, -0.2569738430617419, -2.562102473188805, 0.533320883236485, -0.6565294362641287, -1.0798129025929428, -2.261992459484736, -1.9437835580631044, 2.006948242995079, -0.319488717308587, 0.2381878084642794, -0.8463997437642885, -0.2786416323779995, -1.0209322307316557, -0.39342900928342545, -0.05354904519901285, 2.507625347636817, 0.4805785743390841, -0.028676998746351743, 1.538612242445273, -2.6010484923234714, 0.6607607553602456, -1.3622736032452178, -1.428028001427783, 0.0071066712564368684, -0.47562976700762893, 1.2982323564024945, -2.077437854522947, 2.413025555931366, 0.7979158890836072, 2.1032151250793123, -1.7081944362440113, 1.0703773752712953, -2.356393667534163, 3.3221608901220554, 0.9959746240394638, -1.9383942810468533, -1.987416626098798, -1.1086242662756864, -1.1760488237085924, 0.7080163805293772, 3.771483228096585, 0.1748995525113094, -1.456148434095543, 8.482069002234349, 0.2943110335066661, 0.33769688721718116, -0.8881291147571911, -1.4907714089525856, -1.267585086499125, -0.2500578204623277, 0.4587978909123507, -0.737681357201886, -1.5340841211430665, -2.348436203455557, 1.160619421489436, 5.266388722797518, -2.302608846510631, 0.5345626455343571, -0.7220141685258346, -0.3289876589765306, -0.21470659758457025, 1.0468714898353861, 1.712898243419377, -1.2382129021787944, -1.4272654595000218, 2.855111707298317, -0.3372135894392779, -0.05132384272943273, -0.480394678441378, -1.637180018496761, 0.09113711857063188, -2.14872267327256, -0.8148480042394084, -1.868592293863777, 0.854828281276356, -2.7239721771161407, -0.19719187328105833, -1.808606847709166, -1.914937966837319, -0.0626372236188614, -2.639194569290083, -0.24654150061174, -0.8154775087085869, 0.14486282187088317, 1.5168078102351372, -0.6485168752020852, -0.6055950189246233, 4.562463562720024, 1.2308723600168354, 1.365784398980856, -0.6241968458594973, 0.17499532883007812, 3.510707724856346, -0.880341290418506, -1.4685601120907972, -2.3960440777093854, -0.41618036281664156, -2.3432914707025585, 2.5077349869902372, 2.8226409189561417, -0.5343203715330154, 6.024304617502272, 1.256670240587878, -0.7497862175940341, -0.35354490279097445, -0.5151837503648784, -0.2149985206479311, 0.043594089385314526, -0.17650874948161763, 6.083914985697536, 0.37082650591741195, 2.860045385854016, 0.46083603809895607, 0.6202113351926453, 0.2973987848467421, -0.45447504335035954, 0.1973943961480759, -0.9604798010092056, -1.3926717697011426, 2.736529747776356, -1.3500273250412391, 0.08636602458223623, -0.47072323610684896, 0.9514543238273057, 3.9047841439507165, 2.970477705976364, 5.2667818929888535, -0.5241154422396297, -1.0895489012212587, -3.2360237097016706, -0.7670494634699273, 2.06360796406369, -0.8041227193526593, 2.158640778392091, 1.331601065834101, -1.1636136236738717, -1.147946872585387, -0.5719654374059183, -2.278612409825014, -1.2499905169405552], \"xaxis\": \"x\", \"y\": [-0.268108788000697, -0.297758519424114, -0.4980505310408586, -0.06125027558375021, 0.7597317241711232, 0.014105329467842452, -0.580850641539535, -0.8716229664114846, 1.0617056202523916, -0.7075377537659736, -0.8522480647837722, -0.6347003547711374, -0.27529371772278066, -0.7783715285667742, 1.1348091490269923, 0.5384727686029465, 1.1034321631866755, 0.36625365141456556, -1.116483792297117, 1.0060166224319482, 0.5031206829738799, 0.30396600966194787, -0.7967555299913005, -0.7860586666112164, -0.5285421002323187, 0.5352522076093237, -0.5774653315396664, -0.008999356791177238, 0.17836370175995414, 0.6277470022054789, -0.8510726309847907, -0.8953222971343542, 1.2105575780662008, 3.186616740234106, 0.5321854472329279, -1.2083443780728735, 0.84464642195575, -0.9551865900037754, 2.6710005535583243, -0.6877122731866516, 0.5163050809852064, 0.01671105500109912, -0.7569323539526602, -0.4907113766613312, -1.3883651292146264, 0.37895010397762485, -0.35951283199451944, 0.4883453741114631, -0.540174369671321, -0.8774029736092054, 1.0500442875688556, 6.092386133185837, -1.3283314864561606, -0.0019550030350026465, -0.19079856806307013, -0.29109468200788413, -1.1228581708890888, -0.15484391022131475, 1.9678568128251872, 0.1603875548941624, -0.2866312532201041, -0.8657232983870763, -0.40725549521523297, -0.9744513283563397, 0.11084211514326471, 0.09260832210135819, 1.2477641173540195, -0.3972985972819409, 0.22201681702701817, 1.6473008107759335, -0.2679497285393424, 1.9444783704199, 0.028537230521632064, -0.48834729664517135, 1.0313922209067317, -0.18238712372687702, -0.7540681928384237, -0.7797546116449919, -1.086394294852348, 0.3804403264610719, -0.3899448455366439, -0.2789795755235429, 0.46449555664071523, -0.3775617678458993, 0.6578982463715455, -0.022064600624689918, -2.1549881770715973, -0.6291244987079333, 0.05254460059690357, -0.36184906622797647, -0.22630041898811123, 0.8674505180471922, -0.25951459152205497, -0.705468085841337, -0.7624908470344386, -0.8099595333486278, -0.44687400823709805, -0.7469524053210558, 0.31371547632676194, -0.07550535408455632, 0.38101299690867174, -0.5691082275069558, 0.22916353682632834, 3.611293765295813, -1.2110941539207742, 1.5847574050477096, 0.6830284239744172, 0.01855369784540367, 1.467139133191766, -0.1790191581434266, 1.5099830973995942, -0.045281410114985855, -0.6751037595180978, -0.5171813077336811, -0.023787765290914382, -1.2500496994984451, 0.3201262768545776, 0.051280923487937634, -0.5402388498089437, -0.7483523765639131, 2.8058513947934736, -1.312847199059211, 0.15634402035210918, -1.1368768267267935, 0.12065364042134673, 0.9695496727534368, 2.0885960151530045, -1.2122031043211756, 0.3841563427959349, 6.160898254748765, 0.1195611052180065, -0.3432657695850004, 0.4157558747405487, -0.5702150391295423, 1.0361737803380648, 1.067140234295286, 0.7556019309348209, 0.8501375156275166, -0.6917145537042488, -0.0600951362463485, -0.11303070219770493, -0.9197950064959469, -0.06703775157742539, -2.1186208392642305, -0.9236474591720633, -0.03767482536293166, -2.340087327330686, -0.6797786770726447, 1.4594741683183066, -0.11898521637471576, -0.4492803209572768, 0.9037821989602779, -0.6158083154788845, 2.115658023268834, 1.4706723043218828, -0.879531862186439, 0.043513776285976545, -0.9965181238239981, -0.544604781259966, -0.798938299375782, 0.6930257765108224, -0.8973434727276466, 0.3807926301299095, -0.6353018597101716, -1.1649352765391592, -1.2521834397932805, -2.859285322278868, 0.23014375620795108, -0.2669362223207209, -0.2941497640441987, -0.8710801761232735, -1.1662141776652504, -0.48907283342156643, -0.13961066641577202, -0.874456440924466, -0.5117979356746737, -1.5517239734437962, 1.0706297261993565, -0.357601350775485, -0.341268268208968, 1.7159469096682476, -0.3656041758906, -1.2950564113009284, -0.6079785325806305, -0.3699786661458444, 0.10455400965572524, -0.5852077316547782, -1.347866159833042, -0.9639864534860316, -0.4521221020289642, 0.2220151368080511, 0.049957267201256185, 0.3479165649191332, 1.2766860178818682, 0.3199695234333001, -0.2707809003478977, -0.7725118107998141, -1.0639913312618678, 0.9648355524633097, 0.2222033251767626, -1.4854489626097807, -0.870312206429979, -1.0200236384674113, 0.04997366836643136, -1.0750098097290561, -0.10764862500140875, 0.06726252462858405, -0.25951326914680173, -0.26301798592723225, 1.2651070665179953, -1.158372129096413, 5.72048326692591, -0.048761293424387266, -0.3214238249382694, 8.967816661088523, -0.38432487860477765, -0.24791896596608717, -0.9216577946775087, -1.175164673783485, -0.017986131588174865, -0.5702893785279225, 0.4708743896723605, 0.24886171961381112, 0.7475138415464749, 0.1901038238030086, -0.580099118329968, 0.7990359774876059, -2.521685761451911, -0.6146298844026395, -0.5375300544317965, -1.0740066224824527, -0.35502157232638276, 0.3765642243485812, 6.662628060298631, -1.2386535358566013, 1.1943809030604882, -0.7539540828455156, 0.9190826783580341, -0.9304070740016701, 5.447557663737759, -0.3798834339360062, -1.260797437650909, 0.2954961752091192, -0.19142283059109083, -0.11925674404809293, 0.24625333721464418, 0.13662155414490654, 0.08210355478537647, 0.9583416674563296, 0.7973930597661087, 0.7440055319952265, 0.00014096575106156134, -0.9303833593309138, -1.6702644814079557, 0.05187891345787165, 0.3014738765322933, 0.7042811662587749, -0.1681958936451857, 2.405737781075066, -1.2170482964807459, -0.4160302914012283, 1.403315402537146, 0.46254457435333163, 0.2187366371980426, -0.6951412163017507, -0.184262649368693, 0.4555132334102805, 1.0575469614896542, 0.8444516024347188, -0.6032202757601542, -0.9335773005254541, 0.15211113229058157, 0.9217158243763948, -0.8285387634386479, 0.3247180642991699, -0.05055300505100702, -0.8259319098580156, -1.0939582857446342, 0.31708731325410944, 0.5405124822653415, 0.5765897061502123, 0.7793375496899573, 2.6252384167351863, -0.45079082905769613, -0.6160158616847926, -0.6026377836179696, -0.2981304705984307, 0.35067722148498237, -0.10840862307064167, -0.7002504483802272, 1.226338095523787, -0.5976485418941232, -0.2981437687898427, 2.1124286927904765, 2.0896035910321737, 2.164748929623132, 0.31109821151567757, 0.7569301492998862, -0.19904727548334245, -0.7687508192824991, 0.05456545327685185, -0.5748761118641974, -1.016925593897375, -1.3853251193456722, -0.45085626133802614, -0.5760382336493644, -1.2288763532929194, -0.8125113307885838, -0.9080664603375078, -0.418257946398027, -1.191524286887759, 1.271452851333749, -0.910667837949881, -0.21128488339324575, 0.898988120441155, 12.720042276892123, -0.9065091910651916, -0.22073653030926682, -1.019458626967047, -0.4361402123428124, 0.3078079578753285, 0.12944054428657611, 0.4813662409206444, -0.5839428805892002, -0.8141212676405691, -0.6295354821220324, -0.4651782284476372, -1.2168531214577067, -1.1766084750893793, -1.4432423048448846, -1.6386779295190614, -1.5050778253950496, 0.4044615878977517, -0.3536889852530509, -0.320297596187368, -1.145583163085665, -0.24041185216512845, -0.6548252960815061, -0.8227993215439342, 1.2854278292446117, 0.021020627601312413, 0.4680869175518223, -0.9719029354062556, -0.5124215538250265, -1.2795191727575748, 0.8532895315044656, -0.3057996313505103, 0.6103291266165591, -0.5088003275087363, -0.6048183858781404, 0.30961267951462, 1.066699425253485, -0.3843261527802419, 0.4795190613586954, 0.3126138778170317, -0.3183311454571734, 1.0608381537631573, -0.2587728251144204, 0.15651771040505552, -0.33565992686761514, -0.4949980386884171, 0.5257983192497877, -0.5296921187184178, -0.19628816347062783, 0.43398877565136357, -1.795239359722242, -0.11046349015396874, -1.04541088558498, -1.709072225318398, -0.617760279573292, -0.9650397248385888, -1.1337293842195506, -0.11066353794897026, -1.1385928001240238, -1.4341121602709672, -0.41930310545926364, -1.355214121329536, -1.2506523901206916, -1.5472602510359887, -1.5673688245095714, -1.5123724604468565, -0.8519036260428431, 7.42278655769192, -0.34199535248918433, -0.5716920343778247, -1.062061781132139, 0.5629093640189197, 0.8912654505488219, -0.4726343394830363, -0.6794871364433839, 0.3426842811516903, -0.8249626960517402, -1.1417439175334072, -1.7059146950105415, -0.8457650916782906, -0.25597235065270457, 1.6142376329966877, 0.02629234422143823, -1.4332544448255589, 1.8388570516176204, 0.4712380412324773, -0.08807775392077259, -0.0808023294124642, 4.44435198548465, -1.6990179314286757, -0.22457063546249265, 2.091127913591061, 1.0717914013564176, -0.7950190161146488, -0.8427952554294729, -1.2765661876059156, -0.41792313447242485, -1.4462215138286914, -0.43128568114404503, -1.5802797630076348, 0.44831094007523203, 1.1622014958003533, -0.3834444961291857, -0.3728736428349733, -1.248643038149142, -0.7625546309933156, 0.014655807839095371, 0.6608241706003192, -0.40153840520354306, -1.0452079167522919, -0.8817244286868089, 0.49588545730759964, -0.28751247119383927, 0.04559575473190032, 0.3719269708533348, 0.9957969100923311, 2.9089538933980776, 0.03684997577360193, 1.0315941843608114, -0.7618174932333149, -1.6798671862519037, 0.14300115252391452, -0.7160300872250219, -0.08203279178344115, -1.1729539423454913, 2.686972632065267, -0.18366234412988053, 1.8170192864839878, -0.47088085055523154, -0.6134543166713903, 1.4252483130406344, -0.6284417441184816, 0.450650928183619, 0.4260946220042244, -0.8952735572342965, -0.07828163423044932, 0.4722370213956785, -1.2580196915822872, -0.03225723167266579, 0.8595331660739306, -0.12002857362751361, -0.882291112610654, 1.8604909651009511, 0.9610938631692407, -1.5240439109542507, -1.6614653058254332, 1.2059969382464437, 0.02913996900982056, 0.11185862194862395, -0.23095436535112684, 0.7679087413317773, 0.2598436944562203, 0.40476755673804293, -0.12497474067403046, -0.99396022106584, -0.214427934710063, -0.592299985782361, -0.618507852952266, -0.8712206969833451, 0.18767460949603795, -0.45612321311826814, -0.6442805357215072, 1.4880873651161903, -0.9283684911139415, -0.6565831113177272, -0.5235151905364814, 0.09315456401337482, -0.058337859146898444, 1.9649754984106729, -0.3335893675030583, -0.22961235989150747, 6.057142984335839, -0.2264849919708792, 0.4285319924438341, -1.2267056978681043, -0.8756387951417371, -0.24497930452013306, -0.6183973589384617, -0.3638535928188845, -0.6319194150037674, 0.46387061729754075, -1.0179597675933536, -1.8127384142369138, -0.00619691169047626, -0.11456909193757474, -0.5128090513458117, -0.0668297718740336, -0.6797451126933214, -1.235592668401532, 0.25452648849496257, -1.185437937953825, 0.21040435579718791, -0.29123224652118995, 0.30842422982212864, -0.16241999450154174, 3.573430619403649, 0.5901140087602231, 0.33900389695832217, -0.623374665439996, 3.3980108076848183, 0.08093367609369059, -0.7498554133542201, -0.07525977833751782, -1.5032543887929317, -0.942143942041898, -0.12483764166513622, 0.18322777915472474, -1.878174430184984, -0.817076738452959, -1.329241644523379, -0.3483623690953182, -0.03107960876093311, 1.3175354518250755, 0.6073363498958737, -1.4996199378282706, -0.30168820303059096, 0.30911714876860763, 1.3246427783534598, -0.3496050041214031, -0.6673002127518276, -1.7508011818369096, -0.18698334682490625, -1.5253358815854712, -0.5782152409790751, 3.1142352302814325, -0.8989589557800776, -0.7541385267620395, -1.2549840629596267, -1.2428297513518274, 0.381565456014637, 0.08610374443336866, -0.1926872540942162, -0.6025395493900474, -1.196686540614998, -0.6445673365124756, -0.33675777212477076, -0.6325339391305798, -0.9607788840589832, -0.1280266740881328, -0.16028696717593927, 0.005809695522489303, -0.43475159730636026, -0.9490658110658966, -0.648176718502203, 0.10658594430429486, -0.005215262996954866, 0.1802930305252231, 2.3465806890659673, -0.42554354043237536, 0.7301864450078357, -1.1462998657006895, -0.8330746569010807, 1.9888900109532273, 0.6218651169154804, -0.6779155782512636, -0.44228229038360345, 1.2189670122861258, -0.22937013521113378, -0.8832824376377119, -0.09361352419547549, -0.4251618174703986, 0.4890797758682446, -0.7220115732534236, -1.029748489467153, 3.6591614606190337, -0.6971640412147929, 1.314393802568134, -0.8314418228828208, -0.846742166627265, -1.0733422087845768, -0.33577150144126006, -0.3296349312660015, -1.1104259257167806, -0.05156127342402646, 3.344899355223562, 0.26455500530217174, -0.5029887402449089, -0.5287997392356577, -0.29901605041187285, 0.3996526202009647, -1.0052187613653176, -1.2983687743100663, -0.8788797037938492, -1.924042793280812, -1.0609770174754853, 3.328371821303851, -1.4607209480987398, -0.8878375191816019, -0.9409064040558981, 0.09366766829891862, -0.5185134752983528, 0.780023919731729, -0.6174092233510684, 0.10032690569506579, -1.121797225788604, -1.2429942585158003, -0.014668029000817314, 0.759435149330578, -1.0735264726506737, -1.5315003633369009, 2.7140227579609726, -0.5531525623421446, -0.7429731173650169, -0.550076938710382, -0.46744874517991564, 0.23332646188497103, -0.30789361403201715, -0.3715836543508642, -0.025246333357982965, -0.5056044806008727, 1.4620068247770326, 0.7504218242529691, 0.2186739282208221, 3.0967245282964297, -0.35302990857664407, 0.5555658551229359, 1.4554695027939515, -0.4643220956629342, 0.6423579217282941, 0.5756211422277773, 0.12548942650423622, 1.856246497584261, 0.42619537124701157, 0.5468516574713952, -0.33497045851726165, -0.17299491237940523, -0.13266431344309818, -1.2466340177784936, -0.035647089161288746, 1.2743272579266423, 1.1779994149903819, -0.6151221193089743, 1.359345619896472, 0.00253431333961184, -0.27217339749906877, 0.789606581437018, -0.2552753564741319, -0.7204417070886003, 0.544392321561648, -0.07087594307905627, 0.16080429572588326, 0.28027905213126364, -1.1318629648597085, 0.6314188959703406, -1.3769613407410675, -1.314299430464608, 1.2827184211426415, -0.006277847083588652, 0.24471733221096284, 1.9020637650679557, 4.955099926156517, 2.135141434983391, -0.359818372494784, -0.34330524107329324, 0.9275472574726815, 0.9313699715968438, -1.205231230758335, 0.2863190768171721, -0.09522322502014664, 0.9101217942937916, -1.009713621760342, -0.610517470017387, -1.8305357576331367, 2.1803031047745334, 0.6353561506974271, -0.11904544729807508, -0.6662999568737937, -0.26268650934787985, 0.2523450207979117, -1.0258445985411222, -1.9426644976571326, -0.1350670068395332, 2.2867989934343362, -0.47855823004461645, -1.1299203449372792, 0.016802892088812627, -0.9505977022960038, 0.43269373983801634, -0.24494570544856747, 0.5866210439024866, 1.0468249147307485, -0.7181589388425602, -0.34980364927993, 0.4145192757053237, -0.8095510509397037, 0.36032529125579765, -0.09732923784980922, 1.0528875514895417, -1.1209032789400086, 1.017484032577912, -0.31796576205532223, -0.551924763325353, 1.1197631754609159, 0.4644876678153695, 0.8407913354112436, -0.22249434818216804, 0.6048784318102792, 0.4067382092554, -0.4011099958864446, -0.0093677903074301, -0.5575717123825208, -0.49515250381204984, 0.1378416301626796, 1.1281658856395609, -0.7467152118677153, 0.013602295224318885, -0.5797697913513574, -1.4106113018319315, 1.0305740562637251, -1.1907131847295978, 2.5728464185239366, -0.29980832211301145, -0.38512915353429544, -0.5445037231719219, -0.18411455214901473, -0.39712620651769465, 0.05986313042574265, 1.772392883761814, -0.2649556995851116, -0.02456096754395344, -0.03911606681701689, -0.8768388477376751, -0.6920967448076545, -0.0210639537638413, -0.4814724070468983, -0.46919067027461175, 1.7634905204485172, -0.24126888832422258, -0.23092236768948704, 1.4297178662964198, -0.4100486298164377, 3.547201988044784, -0.9606570388847773, -0.15800996926347025, -0.2609290628963053, -0.7631723995972712, -1.4445380468906226, 0.4455535233071123, -0.0714098227476944, 0.42451138608225186, -1.5774945992634393, -0.24231592676521513, 0.02721731113293169, -0.2193062997866591, -1.0136765425177106, -0.5565948039510358, 2.2659463582826627, 1.7069739851328354, -0.20163321557388417, 0.9245514360864059, 0.7802431425405338, -0.14956534061036486, -0.5401158822718063, -0.033042488075217216, 1.5025580421897904, 0.7748353000858373, -0.4987066351593216, -0.32992604213734944, 0.2678831411436504, -0.6000676754357195, -1.13100567930506, -0.41827806613561114, -0.3190425279713848, -0.21976194593708182, -0.5043718266457512, -0.031789985341593725, 0.9525401082670147, -1.1392569306071991, 0.20153562451854168, 0.6285609538650018, -0.7433397602508758, 0.7140253621008535, -0.3159601544611836, -0.496570518096674, 0.013690684840382933, -0.2581308336109654, 0.8104264493522466, -0.20261939573027163, -0.4449162010594111, -1.1688288542712766, 0.3066772156846114, 1.499217393589201, -0.42267167159968316, 0.08986056924095058, 0.10957053552310073, 0.9863129671338335, -0.41211075314901907, -0.17091098421834375, -0.48282489673328205, 1.1140370174534338, -0.3608633778357079, -0.45363139033126915, -0.5325497540688972, -0.622881004154126, -1.2093334600549484, 1.0298187396428804, -0.8014066645881726, -0.11430804428007017, -0.7727719553214861, -1.353904087777685, 0.8502887825646782, 3.860578026232853, -0.6815501719212551, 2.626609320312225, 0.6408917812420888, -1.2524886655626462, -0.007051750724502845, -0.5718387551541289, 0.39677032543431334, -0.25635257749387885, 5.899128447381082, 0.8616904038420793, -0.8351255666538022, -0.651007387673159, -0.9433633977374833, 3.7459583093694495, -1.2663210907565061, -0.046276116077358743, -1.492662277063865, 0.13018200609344963, -0.09742838018802544, 0.46599364729570847, -0.10487823699003125, 0.017132378323767336, -0.11955308523994945, -0.9185581499898462, 0.3107808676894053, -0.37208393437034715, -0.34735662703593356, 0.43519555156655987, -0.554683195707036, -1.1662591339908244, 0.1969958709821003, -1.2420849752991805, 0.14037745747380584, -1.228569597377066, 0.4952207365273728, -0.029204018119166404, 1.035246153853932, -0.5786063709556392, -0.9014186208875432, 0.40037568476298324, -0.5746411695562753, -1.1225121980459192, -1.4385124067183839, -1.4062860163484845, -1.8111290205534198, 1.820116089932536, -0.21650412886444925, -0.3519028519469329, 0.06512499065338327, -1.4258674066756614, 0.11571867748793097, -1.0019456441693917, -1.125407130910861, -0.3675627989275384, -0.09365198907483321, -0.27938180282900815, 0.1577729704801174, -1.5517257765774726, -0.8176166879879619, 0.12141529607297044, 1.7825983510523529, 0.04819196120779084, -0.5980421580895322, -0.440108661004853, 1.3430757837651497, -0.5566511085288015, 0.6135684457468161, 6.3969582685853075, 0.9375614707362743, 0.005795016129488645, -1.543242667282375, 12.530192427331198, 0.06455758590868331, 0.4221893364831002, -0.8974336996624142, -1.4680589411634282, -1.7530300773827165, -0.5476352395503659, -1.176853755589344, -0.5426251797456243, -0.7629759897480068, -0.3993492725775973, 2.7206092542901708, -0.12337290818991899, -0.7428659140291135, -0.457499079136009, -0.6498286138664826, -1.7509228349511108, -0.8380098716413905, 6.014915132180516, -0.0804818846715986, -0.5379703232976104, -0.08554630537938696, 2.9844824619619343, -0.2911155168016191, -0.9212614034459423, 0.09043080121261925, 0.15806924718565243, -0.9325074387596226, -1.1479559622967972, -1.3020476528754437, -0.2421802019589688, 0.8598807824012709, -1.4747973461512196, 0.052366381688921035, -1.3235024911036917, 0.7671086683647068, 1.226997234013492, -1.0086915019803435, 0.4498791388523356, -0.6826627949024152, -0.24912334170136455, -0.4949913900142519, -0.45560763129650433, 1.045309680077207, -2.4656461431158148, -0.7277793476606168, -0.09590486976116908, -0.38787619524877637, 0.5785157964880562, -1.4976422371830467, -0.8506667033698828, -0.06565154098716683, -0.4455935743321411, -0.49882355550934576, -0.8745495391101246, -0.18457953467429777, -1.2646156028708677, -0.726925073945783, 0.5503540731493036, -0.5869871261177273, 1.170938675251715, 0.19302350904263346, 0.12332546888181027, 2.4638658085033405, 0.043068057683842635, -0.23755459989952535, -0.12909286896483838, -0.4644190110856325, 7.014710775095762, -0.17712090049098256, -1.0516284853878122, -0.3591872748003176, 1.0044490317542707, 0.046885731329988335, -0.19359325166203067, 3.6624281129682723, -0.9454185059552802, -0.4558401613271692, -0.749267184085183, 1.3693418143774962, -0.24827978458744399, -0.26909635136932264, 0.6405977057015875, 0.011033893589568515, -0.5132132928425087, -0.39300845872769286, -0.5987516658070243, -1.6561205466444315, -1.4669738839735647, 0.7168028211632853, 4.513635261470331, 1.0678380858174763, -1.2872267673532163, -1.1142277201586257, -0.9347393097364136, -0.3244499812530929, -0.6422169200775684, -1.1913046507076472, -1.0206133472227947, -0.5076603198602118, -0.5011609967657897, -0.21045129541108232, -1.9661068976934273, 2.1281002873754904, -0.3926507569753808, -0.8072865868889356, -0.5185087506137622, -0.8263438682042004, -0.3976587539213715, 1.6007454201126707, 0.4847932148275067, 0.7815664466792921, -0.2557163221640238, -1.1470168294848728, 2.394016508031556, 1.8823860710874016, 0.6306864321389727, -0.8125971854681034, -0.4452716522927746, 2.789735669431398, -0.015178155914889226, -0.9242492247132893, -0.4688988800805254, -1.1021619315151912, 0.44915880119132423, 1.9776766738345661, 0.5326862318789967, -0.817505279544739, -0.745507367084191], \"yaxis\": \"y\"}],\n",
              "                        {\"legend\": {\"tracegroupgap\": 0}, \"margin\": {\"t\": 60}, \"template\": {\"data\": {\"bar\": [{\"error_x\": {\"color\": \"#2a3f5f\"}, \"error_y\": {\"color\": \"#2a3f5f\"}, \"marker\": {\"line\": {\"color\": \"#E5ECF6\", \"width\": 0.5}}, \"type\": \"bar\"}], \"barpolar\": [{\"marker\": {\"line\": {\"color\": \"#E5ECF6\", \"width\": 0.5}}, \"type\": \"barpolar\"}], \"carpet\": [{\"aaxis\": {\"endlinecolor\": \"#2a3f5f\", \"gridcolor\": \"white\", \"linecolor\": \"white\", \"minorgridcolor\": \"white\", \"startlinecolor\": \"#2a3f5f\"}, \"baxis\": {\"endlinecolor\": \"#2a3f5f\", \"gridcolor\": \"white\", \"linecolor\": \"white\", \"minorgridcolor\": \"white\", \"startlinecolor\": \"#2a3f5f\"}, \"type\": \"carpet\"}], \"choropleth\": [{\"colorbar\": {\"outlinewidth\": 0, \"ticks\": \"\"}, \"type\": \"choropleth\"}], \"contour\": [{\"colorbar\": {\"outlinewidth\": 0, \"ticks\": \"\"}, \"colorscale\": [[0.0, \"#0d0887\"], [0.1111111111111111, \"#46039f\"], [0.2222222222222222, \"#7201a8\"], [0.3333333333333333, \"#9c179e\"], [0.4444444444444444, \"#bd3786\"], [0.5555555555555556, \"#d8576b\"], [0.6666666666666666, \"#ed7953\"], [0.7777777777777778, \"#fb9f3a\"], [0.8888888888888888, \"#fdca26\"], [1.0, \"#f0f921\"]], \"type\": \"contour\"}], \"contourcarpet\": [{\"colorbar\": {\"outlinewidth\": 0, \"ticks\": \"\"}, \"type\": \"contourcarpet\"}], \"heatmap\": [{\"colorbar\": {\"outlinewidth\": 0, \"ticks\": \"\"}, \"colorscale\": [[0.0, \"#0d0887\"], [0.1111111111111111, \"#46039f\"], [0.2222222222222222, \"#7201a8\"], [0.3333333333333333, \"#9c179e\"], [0.4444444444444444, \"#bd3786\"], [0.5555555555555556, \"#d8576b\"], [0.6666666666666666, \"#ed7953\"], [0.7777777777777778, \"#fb9f3a\"], [0.8888888888888888, \"#fdca26\"], [1.0, \"#f0f921\"]], \"type\": \"heatmap\"}], \"heatmapgl\": [{\"colorbar\": {\"outlinewidth\": 0, \"ticks\": \"\"}, \"colorscale\": [[0.0, \"#0d0887\"], [0.1111111111111111, \"#46039f\"], [0.2222222222222222, \"#7201a8\"], [0.3333333333333333, \"#9c179e\"], [0.4444444444444444, \"#bd3786\"], [0.5555555555555556, \"#d8576b\"], [0.6666666666666666, \"#ed7953\"], [0.7777777777777778, \"#fb9f3a\"], [0.8888888888888888, \"#fdca26\"], [1.0, \"#f0f921\"]], \"type\": \"heatmapgl\"}], \"histogram\": [{\"marker\": {\"colorbar\": {\"outlinewidth\": 0, \"ticks\": \"\"}}, \"type\": \"histogram\"}], \"histogram2d\": [{\"colorbar\": {\"outlinewidth\": 0, \"ticks\": \"\"}, \"colorscale\": [[0.0, \"#0d0887\"], [0.1111111111111111, \"#46039f\"], [0.2222222222222222, \"#7201a8\"], [0.3333333333333333, \"#9c179e\"], [0.4444444444444444, \"#bd3786\"], [0.5555555555555556, \"#d8576b\"], [0.6666666666666666, \"#ed7953\"], [0.7777777777777778, \"#fb9f3a\"], [0.8888888888888888, \"#fdca26\"], [1.0, \"#f0f921\"]], \"type\": \"histogram2d\"}], \"histogram2dcontour\": [{\"colorbar\": {\"outlinewidth\": 0, \"ticks\": \"\"}, \"colorscale\": [[0.0, \"#0d0887\"], [0.1111111111111111, \"#46039f\"], [0.2222222222222222, \"#7201a8\"], [0.3333333333333333, \"#9c179e\"], [0.4444444444444444, \"#bd3786\"], [0.5555555555555556, \"#d8576b\"], [0.6666666666666666, \"#ed7953\"], [0.7777777777777778, \"#fb9f3a\"], [0.8888888888888888, \"#fdca26\"], [1.0, \"#f0f921\"]], \"type\": \"histogram2dcontour\"}], \"mesh3d\": [{\"colorbar\": {\"outlinewidth\": 0, \"ticks\": \"\"}, \"type\": \"mesh3d\"}], \"parcoords\": [{\"line\": {\"colorbar\": {\"outlinewidth\": 0, \"ticks\": \"\"}}, \"type\": \"parcoords\"}], \"pie\": [{\"automargin\": true, \"type\": \"pie\"}], \"scatter\": [{\"marker\": {\"colorbar\": {\"outlinewidth\": 0, \"ticks\": \"\"}}, \"type\": \"scatter\"}], \"scatter3d\": [{\"line\": {\"colorbar\": {\"outlinewidth\": 0, \"ticks\": \"\"}}, \"marker\": {\"colorbar\": {\"outlinewidth\": 0, \"ticks\": \"\"}}, \"type\": \"scatter3d\"}], \"scattercarpet\": [{\"marker\": {\"colorbar\": {\"outlinewidth\": 0, \"ticks\": \"\"}}, \"type\": \"scattercarpet\"}], \"scattergeo\": [{\"marker\": {\"colorbar\": {\"outlinewidth\": 0, \"ticks\": \"\"}}, \"type\": \"scattergeo\"}], \"scattergl\": [{\"marker\": {\"colorbar\": {\"outlinewidth\": 0, \"ticks\": \"\"}}, \"type\": \"scattergl\"}], \"scattermapbox\": [{\"marker\": {\"colorbar\": {\"outlinewidth\": 0, \"ticks\": \"\"}}, \"type\": \"scattermapbox\"}], \"scatterpolar\": [{\"marker\": {\"colorbar\": {\"outlinewidth\": 0, \"ticks\": \"\"}}, \"type\": \"scatterpolar\"}], \"scatterpolargl\": [{\"marker\": {\"colorbar\": {\"outlinewidth\": 0, \"ticks\": \"\"}}, \"type\": \"scatterpolargl\"}], \"scatterternary\": [{\"marker\": {\"colorbar\": {\"outlinewidth\": 0, \"ticks\": \"\"}}, \"type\": \"scatterternary\"}], \"surface\": [{\"colorbar\": {\"outlinewidth\": 0, \"ticks\": \"\"}, \"colorscale\": [[0.0, \"#0d0887\"], [0.1111111111111111, \"#46039f\"], [0.2222222222222222, \"#7201a8\"], [0.3333333333333333, \"#9c179e\"], [0.4444444444444444, \"#bd3786\"], [0.5555555555555556, \"#d8576b\"], [0.6666666666666666, \"#ed7953\"], [0.7777777777777778, \"#fb9f3a\"], [0.8888888888888888, \"#fdca26\"], [1.0, \"#f0f921\"]], \"type\": \"surface\"}], \"table\": [{\"cells\": {\"fill\": {\"color\": \"#EBF0F8\"}, \"line\": {\"color\": \"white\"}}, \"header\": {\"fill\": {\"color\": \"#C8D4E3\"}, \"line\": {\"color\": \"white\"}}, \"type\": \"table\"}]}, \"layout\": {\"annotationdefaults\": {\"arrowcolor\": \"#2a3f5f\", \"arrowhead\": 0, \"arrowwidth\": 1}, \"coloraxis\": {\"colorbar\": {\"outlinewidth\": 0, \"ticks\": \"\"}}, \"colorscale\": {\"diverging\": [[0, \"#8e0152\"], [0.1, \"#c51b7d\"], [0.2, \"#de77ae\"], [0.3, \"#f1b6da\"], [0.4, \"#fde0ef\"], [0.5, \"#f7f7f7\"], [0.6, \"#e6f5d0\"], [0.7, \"#b8e186\"], [0.8, \"#7fbc41\"], [0.9, \"#4d9221\"], [1, \"#276419\"]], \"sequential\": [[0.0, \"#0d0887\"], [0.1111111111111111, \"#46039f\"], [0.2222222222222222, \"#7201a8\"], [0.3333333333333333, \"#9c179e\"], [0.4444444444444444, \"#bd3786\"], [0.5555555555555556, \"#d8576b\"], [0.6666666666666666, \"#ed7953\"], [0.7777777777777778, \"#fb9f3a\"], [0.8888888888888888, \"#fdca26\"], [1.0, \"#f0f921\"]], \"sequentialminus\": [[0.0, \"#0d0887\"], [0.1111111111111111, \"#46039f\"], [0.2222222222222222, \"#7201a8\"], [0.3333333333333333, \"#9c179e\"], [0.4444444444444444, \"#bd3786\"], [0.5555555555555556, \"#d8576b\"], [0.6666666666666666, \"#ed7953\"], [0.7777777777777778, \"#fb9f3a\"], [0.8888888888888888, \"#fdca26\"], [1.0, \"#f0f921\"]]}, \"colorway\": [\"#636efa\", \"#EF553B\", \"#00cc96\", \"#ab63fa\", \"#FFA15A\", \"#19d3f3\", \"#FF6692\", \"#B6E880\", \"#FF97FF\", \"#FECB52\"], \"font\": {\"color\": \"#2a3f5f\"}, \"geo\": {\"bgcolor\": \"white\", \"lakecolor\": \"white\", \"landcolor\": \"#E5ECF6\", \"showlakes\": true, \"showland\": true, \"subunitcolor\": \"white\"}, \"hoverlabel\": {\"align\": \"left\"}, \"hovermode\": \"closest\", \"mapbox\": {\"style\": \"light\"}, \"paper_bgcolor\": \"white\", \"plot_bgcolor\": \"#E5ECF6\", \"polar\": {\"angularaxis\": {\"gridcolor\": \"white\", \"linecolor\": \"white\", \"ticks\": \"\"}, \"bgcolor\": \"#E5ECF6\", \"radialaxis\": {\"gridcolor\": \"white\", \"linecolor\": \"white\", \"ticks\": \"\"}}, \"scene\": {\"xaxis\": {\"backgroundcolor\": \"#E5ECF6\", \"gridcolor\": \"white\", \"gridwidth\": 2, \"linecolor\": \"white\", \"showbackground\": true, \"ticks\": \"\", \"zerolinecolor\": \"white\"}, \"yaxis\": {\"backgroundcolor\": \"#E5ECF6\", \"gridcolor\": \"white\", \"gridwidth\": 2, \"linecolor\": \"white\", \"showbackground\": true, \"ticks\": \"\", \"zerolinecolor\": \"white\"}, \"zaxis\": {\"backgroundcolor\": \"#E5ECF6\", \"gridcolor\": \"white\", \"gridwidth\": 2, \"linecolor\": \"white\", \"showbackground\": true, \"ticks\": \"\", \"zerolinecolor\": \"white\"}}, \"shapedefaults\": {\"line\": {\"color\": \"#2a3f5f\"}}, \"ternary\": {\"aaxis\": {\"gridcolor\": \"white\", \"linecolor\": \"white\", \"ticks\": \"\"}, \"baxis\": {\"gridcolor\": \"white\", \"linecolor\": \"white\", \"ticks\": \"\"}, \"bgcolor\": \"#E5ECF6\", \"caxis\": {\"gridcolor\": \"white\", \"linecolor\": \"white\", \"ticks\": \"\"}}, \"title\": {\"x\": 0.05}, \"xaxis\": {\"automargin\": true, \"gridcolor\": \"white\", \"linecolor\": \"white\", \"ticks\": \"\", \"title\": {\"standoff\": 15}, \"zerolinecolor\": \"white\", \"zerolinewidth\": 2}, \"yaxis\": {\"automargin\": true, \"gridcolor\": \"white\", \"linecolor\": \"white\", \"ticks\": \"\", \"title\": {\"standoff\": 15}, \"zerolinecolor\": \"white\", \"zerolinewidth\": 2}}}, \"xaxis\": {\"anchor\": \"y\", \"domain\": [0.0, 1.0], \"title\": {\"text\": \"PC1\"}}, \"yaxis\": {\"anchor\": \"x\", \"domain\": [0.0, 1.0], \"title\": {\"text\": \"PC2\"}}},\n",
              "                        {\"responsive\": true}\n",
              "                    ).then(function(){\n",
              "                            \n",
              "var gd = document.getElementById('571db98c-d5c4-4c9f-8c7b-2e2b3949fbf9');\n",
              "var x = new MutationObserver(function (mutations, observer) {{\n",
              "        var display = window.getComputedStyle(gd).display;\n",
              "        if (!display || display === 'none') {{\n",
              "            console.log([gd, 'removed!']);\n",
              "            Plotly.purge(gd);\n",
              "            observer.disconnect();\n",
              "        }}\n",
              "}});\n",
              "\n",
              "// Listen for the removal of the full notebook cells\n",
              "var notebookContainer = gd.closest('#notebook-container');\n",
              "if (notebookContainer) {{\n",
              "    x.observe(notebookContainer, {childList: true});\n",
              "}}\n",
              "\n",
              "// Listen for the clearing of the current output cell\n",
              "var outputEl = gd.closest('.output');\n",
              "if (outputEl) {{\n",
              "    x.observe(outputEl, {childList: true});\n",
              "}}\n",
              "\n",
              "                        })\n",
              "                };\n",
              "                \n",
              "            </script>\n",
              "        </div>\n",
              "</body>\n",
              "</html>"
            ]
          },
          "metadata": {}
        }
      ]
    },
    {
      "cell_type": "markdown",
      "metadata": {
        "id": "4lh18eqYaRIb"
      },
      "source": [
        "![image.png](data:image/png;base64,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)"
      ]
    },
    {
      "cell_type": "markdown",
      "metadata": {
        "id": "HNBORYL5ab7W"
      },
      "source": [
        "Se puede analizar que:\n",
        "\n",
        "• El porcentaje de variabilidad explicado por la primera componente principal es 23.2%\n",
        "\n",
        "• El porcentaje de variabilidad explicado por la segunda compontente principal es 10.3%\n",
        "\n",
        "• Juntas acumulan un porcentaje de variabilidad del 33.5%\n",
        "\n",
        "• Las variables que estan mejor representadas son: Homicidios, Hurto de motocicletas, hurto comercio, personas y residencias, lesiones personales y por accidentes de tránsito, delitos sexuales y violencia intrafamiliar.\n",
        "• Se puede decir que las variables hurto comercio, hurto residencias, hurto personas, lesiones personales, lesiones por accidentes de transito, delitos sexuales y violencia intrafamiliar estan asociadas de forma positiva lo que significa que si aumentan los casos por ejemplo, de delitos sexuales tambien tiende a aumentar los casos de violencia intraframiliar. Los municipios que tienen muchos casos de violencia intra familiar se pueden asociar a casos relacionados a delitos sexuales.\n",
        "\n",
        "• Las variable homicidio con hurto a residencias pueden llegar a estar incorreladas, es decir, no existe relacion o asociación entre ellas.\n",
        "\n",
        "•En cuanto a los municipios se puede observar que:\n",
        "- Los municipios de Corinto, Tame y Tibu son aquellos que tienen mayores casos de homicidios.\n",
        "-Los municipios de Villa Rica y Puerto Tejada cuentan con los mayores casos de hurtos de Motocicletas.\n",
        "- Quienes tienen los mayores casos de Hurtos por Comercio son los municipios de Tolú Viejo, Pajarito y Pasto.\n",
        "-Los municipios de San Vicente, Bogotá D.C y Espinal tienen los mayores casos de Lesiones Personales.\n",
        "- Carmen de Apicalá, Tunja, Ibague, Leticia, Neiva, Honda, Cota y Bucaramanga tienen los mayores casos de Violencia intrafamiliar, lesiones personales y delitos sexuales.\n",
        "- Los municipios de Cali, Yumbo, Villavicencio, Barrancabermeja y San Andrés tienen los mayores casos de hurtos personales.\n",
        "\n",
        "Finalmente, municipios como Zapayán, Alto Baudó, Páez y San José de Uré tienen los menores casos en todos los delitos anteriormente nombrados.\n",
        "\n",
        "[Todos los casos por cada tipo de delito divididos entre la poblacion de su respectivo municipio y multiplicado por 1.000.000 de personas]\n"
      ]
    }
  ]
}