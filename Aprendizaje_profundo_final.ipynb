{
  "nbformat": 4,
  "nbformat_minor": 0,
  "metadata": {
    "colab": {
      "name": "Aprendizaje_profundo_final.ipynb",
      "provenance": [],
      "collapsed_sections": [
        "SWM5cnsnqAWz"
      ]
    },
    "kernelspec": {
      "name": "python3",
      "display_name": "Python 3"
    },
    "language_info": {
      "name": "python"
    }
  },
  "cells": [
    {
      "cell_type": "markdown",
      "metadata": {
        "id": "CyOCIMnJNPc9"
      },
      "source": [
        "#Realizado por Katalina Morales Dueñas"
      ]
    },
    {
      "cell_type": "markdown",
      "metadata": {
        "id": "2R3-oILtp02h"
      },
      "source": [
        "#Organizar Base de Datos"
      ]
    },
    {
      "cell_type": "code",
      "metadata": {
        "id": "xxSPVzaoSemd"
      },
      "source": [
        "import numpy as np\n",
        "import pandas as pd"
      ],
      "execution_count": 1,
      "outputs": []
    },
    {
      "cell_type": "code",
      "metadata": {
        "colab": {
          "base_uri": "https://localhost:8080/"
        },
        "id": "m23KMawx1hL9",
        "outputId": "17bb1080-2887-46c9-b82b-a89bb148942b"
      },
      "source": [
        "from google.colab import drive\n",
        "drive.mount('/content/drive')"
      ],
      "execution_count": 2,
      "outputs": [
        {
          "output_type": "stream",
          "name": "stdout",
          "text": [
            "Mounted at /content/drive\n"
          ]
        }
      ]
    },
    {
      "cell_type": "code",
      "metadata": {
        "colab": {
          "base_uri": "https://localhost:8080/"
        },
        "id": "aTZCq6zDSdub",
        "outputId": "b2139473-2576-428d-8a98-416a01bdeb95"
      },
      "source": [
        "covi = pd.read_csv('/content/drive/MyDrive/Base_Covid.csv')"
      ],
      "execution_count": 3,
      "outputs": [
        {
          "output_type": "stream",
          "name": "stderr",
          "text": [
            "/usr/local/lib/python3.7/dist-packages/IPython/core/interactiveshell.py:2718: DtypeWarning: Columns (14) have mixed types.Specify dtype option on import or set low_memory=False.\n",
            "  interactivity=interactivity, compiler=compiler, result=result)\n"
          ]
        }
      ]
    },
    {
      "cell_type": "code",
      "metadata": {
        "colab": {
          "base_uri": "https://localhost:8080/",
          "height": 377
        },
        "id": "KM1gHrCHSlEX",
        "outputId": "310f8f37-62bf-49a4-fba4-450dc6094495"
      },
      "source": [
        "covi.head()"
      ],
      "execution_count": 4,
      "outputs": [
        {
          "output_type": "execute_result",
          "data": {
            "text/html": [
              "<div>\n",
              "<style scoped>\n",
              "    .dataframe tbody tr th:only-of-type {\n",
              "        vertical-align: middle;\n",
              "    }\n",
              "\n",
              "    .dataframe tbody tr th {\n",
              "        vertical-align: top;\n",
              "    }\n",
              "\n",
              "    .dataframe thead th {\n",
              "        text-align: right;\n",
              "    }\n",
              "</style>\n",
              "<table border=\"1\" class=\"dataframe\">\n",
              "  <thead>\n",
              "    <tr style=\"text-align: right;\">\n",
              "      <th></th>\n",
              "      <th>fecha reporte web</th>\n",
              "      <th>ID de caso</th>\n",
              "      <th>Fecha de notificación</th>\n",
              "      <th>Código DIVIPOLA departamento</th>\n",
              "      <th>Nombre departamento</th>\n",
              "      <th>Código DIVIPOLA municipio</th>\n",
              "      <th>Nombre municipio</th>\n",
              "      <th>Edad</th>\n",
              "      <th>Unidad de medida de edad</th>\n",
              "      <th>Sexo</th>\n",
              "      <th>Tipo de contagio</th>\n",
              "      <th>Ubicación del caso</th>\n",
              "      <th>Estado</th>\n",
              "      <th>Código ISO del país</th>\n",
              "      <th>Nombre del país</th>\n",
              "      <th>Recuperado</th>\n",
              "      <th>Fecha de inicio de síntomas</th>\n",
              "      <th>Fecha de muerte</th>\n",
              "      <th>Fecha de diagnóstico</th>\n",
              "      <th>Fecha de recuperación</th>\n",
              "      <th>Tipo de recuperación</th>\n",
              "      <th>Pertenencia étnica</th>\n",
              "      <th>Nombre del grupo étnico</th>\n",
              "    </tr>\n",
              "  </thead>\n",
              "  <tbody>\n",
              "    <tr>\n",
              "      <th>0</th>\n",
              "      <td>6/3/2020 0:00:00</td>\n",
              "      <td>1</td>\n",
              "      <td>2/3/2020 0:00:00</td>\n",
              "      <td>11</td>\n",
              "      <td>BOGOTA</td>\n",
              "      <td>11001</td>\n",
              "      <td>BOGOTA</td>\n",
              "      <td>19</td>\n",
              "      <td>1</td>\n",
              "      <td>F</td>\n",
              "      <td>Importado</td>\n",
              "      <td>Casa</td>\n",
              "      <td>Leve</td>\n",
              "      <td>380.0</td>\n",
              "      <td>ITALIA</td>\n",
              "      <td>Recuperado</td>\n",
              "      <td>27/2/2020 0:00:00</td>\n",
              "      <td>NaN</td>\n",
              "      <td>6/3/2020 0:00:00</td>\n",
              "      <td>13/3/2020 0:00:00</td>\n",
              "      <td>PCR</td>\n",
              "      <td>6.0</td>\n",
              "      <td>NaN</td>\n",
              "    </tr>\n",
              "    <tr>\n",
              "      <th>1</th>\n",
              "      <td>11/3/2020 0:00:00</td>\n",
              "      <td>8</td>\n",
              "      <td>9/3/2020 0:00:00</td>\n",
              "      <td>11</td>\n",
              "      <td>BOGOTA</td>\n",
              "      <td>11001</td>\n",
              "      <td>BOGOTA</td>\n",
              "      <td>22</td>\n",
              "      <td>1</td>\n",
              "      <td>F</td>\n",
              "      <td>Importado</td>\n",
              "      <td>Casa</td>\n",
              "      <td>Leve</td>\n",
              "      <td>724.0</td>\n",
              "      <td>ESPAÑA</td>\n",
              "      <td>Recuperado</td>\n",
              "      <td>6/3/2020 0:00:00</td>\n",
              "      <td>NaN</td>\n",
              "      <td>11/3/2020 0:00:00</td>\n",
              "      <td>21/3/2020 0:00:00</td>\n",
              "      <td>PCR</td>\n",
              "      <td>6.0</td>\n",
              "      <td>NaN</td>\n",
              "    </tr>\n",
              "    <tr>\n",
              "      <th>2</th>\n",
              "      <td>11/3/2020 0:00:00</td>\n",
              "      <td>9</td>\n",
              "      <td>8/3/2020 0:00:00</td>\n",
              "      <td>11</td>\n",
              "      <td>BOGOTA</td>\n",
              "      <td>11001</td>\n",
              "      <td>BOGOTA</td>\n",
              "      <td>28</td>\n",
              "      <td>1</td>\n",
              "      <td>F</td>\n",
              "      <td>Importado</td>\n",
              "      <td>Casa</td>\n",
              "      <td>Leve</td>\n",
              "      <td>724.0</td>\n",
              "      <td>ESPAÑA</td>\n",
              "      <td>Recuperado</td>\n",
              "      <td>7/3/2020 0:00:00</td>\n",
              "      <td>NaN</td>\n",
              "      <td>11/3/2020 0:00:00</td>\n",
              "      <td>23/3/2020 0:00:00</td>\n",
              "      <td>PCR</td>\n",
              "      <td>6.0</td>\n",
              "      <td>NaN</td>\n",
              "    </tr>\n",
              "    <tr>\n",
              "      <th>3</th>\n",
              "      <td>12/3/2020 0:00:00</td>\n",
              "      <td>10</td>\n",
              "      <td>12/3/2020 0:00:00</td>\n",
              "      <td>11</td>\n",
              "      <td>BOGOTA</td>\n",
              "      <td>11001</td>\n",
              "      <td>BOGOTA</td>\n",
              "      <td>36</td>\n",
              "      <td>1</td>\n",
              "      <td>F</td>\n",
              "      <td>Importado</td>\n",
              "      <td>Casa</td>\n",
              "      <td>Leve</td>\n",
              "      <td>724.0</td>\n",
              "      <td>ESPAÑA</td>\n",
              "      <td>Recuperado</td>\n",
              "      <td>6/3/2020 0:00:00</td>\n",
              "      <td>NaN</td>\n",
              "      <td>12/3/2020 0:00:00</td>\n",
              "      <td>21/3/2020 0:00:00</td>\n",
              "      <td>PCR</td>\n",
              "      <td>6.0</td>\n",
              "      <td>NaN</td>\n",
              "    </tr>\n",
              "    <tr>\n",
              "      <th>4</th>\n",
              "      <td>12/3/2020 0:00:00</td>\n",
              "      <td>11</td>\n",
              "      <td>11/3/2020 0:00:00</td>\n",
              "      <td>11</td>\n",
              "      <td>BOGOTA</td>\n",
              "      <td>11001</td>\n",
              "      <td>BOGOTA</td>\n",
              "      <td>42</td>\n",
              "      <td>1</td>\n",
              "      <td>F</td>\n",
              "      <td>Importado</td>\n",
              "      <td>Casa</td>\n",
              "      <td>Leve</td>\n",
              "      <td>724.0</td>\n",
              "      <td>ESPAÑA</td>\n",
              "      <td>Recuperado</td>\n",
              "      <td>6/3/2020 0:00:00</td>\n",
              "      <td>NaN</td>\n",
              "      <td>12/3/2020 0:00:00</td>\n",
              "      <td>31/3/2020 0:00:00</td>\n",
              "      <td>PCR</td>\n",
              "      <td>6.0</td>\n",
              "      <td>NaN</td>\n",
              "    </tr>\n",
              "  </tbody>\n",
              "</table>\n",
              "</div>"
            ],
            "text/plain": [
              "   fecha reporte web  ID de caso  ... Pertenencia étnica  Nombre del grupo étnico\n",
              "0   6/3/2020 0:00:00           1  ...                6.0                      NaN\n",
              "1  11/3/2020 0:00:00           8  ...                6.0                      NaN\n",
              "2  11/3/2020 0:00:00           9  ...                6.0                      NaN\n",
              "3  12/3/2020 0:00:00          10  ...                6.0                      NaN\n",
              "4  12/3/2020 0:00:00          11  ...                6.0                      NaN\n",
              "\n",
              "[5 rows x 23 columns]"
            ]
          },
          "metadata": {},
          "execution_count": 4
        }
      ]
    },
    {
      "cell_type": "code",
      "metadata": {
        "colab": {
          "base_uri": "https://localhost:8080/"
        },
        "id": "K3Yk1d14UCxu",
        "outputId": "9025ed27-21ea-44d8-fba7-ffd6894d34f4"
      },
      "source": [
        "covi.shape"
      ],
      "execution_count": 5,
      "outputs": [
        {
          "output_type": "execute_result",
          "data": {
            "text/plain": [
              "(1460569, 23)"
            ]
          },
          "metadata": {},
          "execution_count": 5
        }
      ]
    },
    {
      "cell_type": "code",
      "metadata": {
        "id": "L1KtDioASmCS",
        "colab": {
          "base_uri": "https://localhost:8080/"
        },
        "outputId": "3bfe128d-beef-4e1b-af9a-b1b7f13c5025"
      },
      "source": [
        "sum(covi['Nombre departamento'] == 'BOGOTA')"
      ],
      "execution_count": 6,
      "outputs": [
        {
          "output_type": "execute_result",
          "data": {
            "text/plain": [
              "1460569"
            ]
          },
          "metadata": {},
          "execution_count": 6
        }
      ]
    },
    {
      "cell_type": "code",
      "metadata": {
        "id": "C8T3nkok8gSz"
      },
      "source": [
        "covi = covi.drop(['fecha reporte web', 'ID de caso', 'Fecha de notificación',\n",
        "           'Código DIVIPOLA departamento','Código DIVIPOLA municipio',\n",
        "           'Nombre municipio','Unidad de medida de edad','Código ISO del país',\n",
        "           'Nombre del país', 'Fecha de inicio de síntomas', 'Tipo de recuperación',\n",
        "           'Pertenencia étnica','Nombre del grupo étnico','Recuperado'], axis=1)"
      ],
      "execution_count": 7,
      "outputs": []
    },
    {
      "cell_type": "code",
      "metadata": {
        "id": "5csBkgzaBE9B"
      },
      "source": [
        "covi = covi.drop(['Nombre departamento'], axis=1)"
      ],
      "execution_count": 8,
      "outputs": []
    },
    {
      "cell_type": "code",
      "metadata": {
        "colab": {
          "base_uri": "https://localhost:8080/",
          "height": 436
        },
        "id": "Tz-J3K7HBCSZ",
        "outputId": "08eca48e-d45b-441a-df4f-5863d9bdef1f"
      },
      "source": [
        "covi = covi.drop(['Fecha de recuperación'], axis=1)\n",
        "covi"
      ],
      "execution_count": 9,
      "outputs": [
        {
          "output_type": "execute_result",
          "data": {
            "text/html": [
              "<div>\n",
              "<style scoped>\n",
              "    .dataframe tbody tr th:only-of-type {\n",
              "        vertical-align: middle;\n",
              "    }\n",
              "\n",
              "    .dataframe tbody tr th {\n",
              "        vertical-align: top;\n",
              "    }\n",
              "\n",
              "    .dataframe thead th {\n",
              "        text-align: right;\n",
              "    }\n",
              "</style>\n",
              "<table border=\"1\" class=\"dataframe\">\n",
              "  <thead>\n",
              "    <tr style=\"text-align: right;\">\n",
              "      <th></th>\n",
              "      <th>Edad</th>\n",
              "      <th>Sexo</th>\n",
              "      <th>Tipo de contagio</th>\n",
              "      <th>Ubicación del caso</th>\n",
              "      <th>Estado</th>\n",
              "      <th>Fecha de muerte</th>\n",
              "      <th>Fecha de diagnóstico</th>\n",
              "    </tr>\n",
              "  </thead>\n",
              "  <tbody>\n",
              "    <tr>\n",
              "      <th>0</th>\n",
              "      <td>19</td>\n",
              "      <td>F</td>\n",
              "      <td>Importado</td>\n",
              "      <td>Casa</td>\n",
              "      <td>Leve</td>\n",
              "      <td>NaN</td>\n",
              "      <td>6/3/2020 0:00:00</td>\n",
              "    </tr>\n",
              "    <tr>\n",
              "      <th>1</th>\n",
              "      <td>22</td>\n",
              "      <td>F</td>\n",
              "      <td>Importado</td>\n",
              "      <td>Casa</td>\n",
              "      <td>Leve</td>\n",
              "      <td>NaN</td>\n",
              "      <td>11/3/2020 0:00:00</td>\n",
              "    </tr>\n",
              "    <tr>\n",
              "      <th>2</th>\n",
              "      <td>28</td>\n",
              "      <td>F</td>\n",
              "      <td>Importado</td>\n",
              "      <td>Casa</td>\n",
              "      <td>Leve</td>\n",
              "      <td>NaN</td>\n",
              "      <td>11/3/2020 0:00:00</td>\n",
              "    </tr>\n",
              "    <tr>\n",
              "      <th>3</th>\n",
              "      <td>36</td>\n",
              "      <td>F</td>\n",
              "      <td>Importado</td>\n",
              "      <td>Casa</td>\n",
              "      <td>Leve</td>\n",
              "      <td>NaN</td>\n",
              "      <td>12/3/2020 0:00:00</td>\n",
              "    </tr>\n",
              "    <tr>\n",
              "      <th>4</th>\n",
              "      <td>42</td>\n",
              "      <td>F</td>\n",
              "      <td>Importado</td>\n",
              "      <td>Casa</td>\n",
              "      <td>Leve</td>\n",
              "      <td>NaN</td>\n",
              "      <td>12/3/2020 0:00:00</td>\n",
              "    </tr>\n",
              "    <tr>\n",
              "      <th>...</th>\n",
              "      <td>...</td>\n",
              "      <td>...</td>\n",
              "      <td>...</td>\n",
              "      <td>...</td>\n",
              "      <td>...</td>\n",
              "      <td>...</td>\n",
              "      <td>...</td>\n",
              "    </tr>\n",
              "    <tr>\n",
              "      <th>1460564</th>\n",
              "      <td>3</td>\n",
              "      <td>M</td>\n",
              "      <td>En estudio</td>\n",
              "      <td>Hospital</td>\n",
              "      <td>Moderado</td>\n",
              "      <td>NaN</td>\n",
              "      <td>19/11/2021 0:00:00</td>\n",
              "    </tr>\n",
              "    <tr>\n",
              "      <th>1460565</th>\n",
              "      <td>37</td>\n",
              "      <td>F</td>\n",
              "      <td>En estudio</td>\n",
              "      <td>Casa</td>\n",
              "      <td>Leve</td>\n",
              "      <td>NaN</td>\n",
              "      <td>20/11/2021 0:00:00</td>\n",
              "    </tr>\n",
              "    <tr>\n",
              "      <th>1460566</th>\n",
              "      <td>32</td>\n",
              "      <td>F</td>\n",
              "      <td>En estudio</td>\n",
              "      <td>Casa</td>\n",
              "      <td>Leve</td>\n",
              "      <td>NaN</td>\n",
              "      <td>20/11/2021 0:00:00</td>\n",
              "    </tr>\n",
              "    <tr>\n",
              "      <th>1460567</th>\n",
              "      <td>15</td>\n",
              "      <td>F</td>\n",
              "      <td>En estudio</td>\n",
              "      <td>Casa</td>\n",
              "      <td>Leve</td>\n",
              "      <td>NaN</td>\n",
              "      <td>20/11/2021 0:00:00</td>\n",
              "    </tr>\n",
              "    <tr>\n",
              "      <th>1460568</th>\n",
              "      <td>15</td>\n",
              "      <td>F</td>\n",
              "      <td>En estudio</td>\n",
              "      <td>Casa</td>\n",
              "      <td>Leve</td>\n",
              "      <td>NaN</td>\n",
              "      <td>20/11/2021 0:00:00</td>\n",
              "    </tr>\n",
              "  </tbody>\n",
              "</table>\n",
              "<p>1460569 rows × 7 columns</p>\n",
              "</div>"
            ],
            "text/plain": [
              "         Edad Sexo  ... Fecha de muerte Fecha de diagnóstico\n",
              "0          19    F  ...             NaN     6/3/2020 0:00:00\n",
              "1          22    F  ...             NaN    11/3/2020 0:00:00\n",
              "2          28    F  ...             NaN    11/3/2020 0:00:00\n",
              "3          36    F  ...             NaN    12/3/2020 0:00:00\n",
              "4          42    F  ...             NaN    12/3/2020 0:00:00\n",
              "...       ...  ...  ...             ...                  ...\n",
              "1460564     3    M  ...             NaN   19/11/2021 0:00:00\n",
              "1460565    37    F  ...             NaN   20/11/2021 0:00:00\n",
              "1460566    32    F  ...             NaN   20/11/2021 0:00:00\n",
              "1460567    15    F  ...             NaN   20/11/2021 0:00:00\n",
              "1460568    15    F  ...             NaN   20/11/2021 0:00:00\n",
              "\n",
              "[1460569 rows x 7 columns]"
            ]
          },
          "metadata": {},
          "execution_count": 9
        }
      ]
    },
    {
      "cell_type": "code",
      "metadata": {
        "id": "cAWQ9kqsSb-7"
      },
      "source": [
        "covi = covi.drop(['Fecha de muerte'], axis=1)"
      ],
      "execution_count": 10,
      "outputs": []
    },
    {
      "cell_type": "code",
      "metadata": {
        "id": "NWwOwRBdT2rG"
      },
      "source": [
        "covi = covi.drop(['Ubicación del caso', 'Estado'], axis=1)"
      ],
      "execution_count": 11,
      "outputs": []
    },
    {
      "cell_type": "code",
      "metadata": {
        "colab": {
          "base_uri": "https://localhost:8080/",
          "height": 419
        },
        "id": "gU-DPGiHlXVW",
        "outputId": "f4a6a3a6-5a0b-4beb-e28d-0a62dcd5cf28"
      },
      "source": [
        "covi"
      ],
      "execution_count": 12,
      "outputs": [
        {
          "output_type": "execute_result",
          "data": {
            "text/html": [
              "<div>\n",
              "<style scoped>\n",
              "    .dataframe tbody tr th:only-of-type {\n",
              "        vertical-align: middle;\n",
              "    }\n",
              "\n",
              "    .dataframe tbody tr th {\n",
              "        vertical-align: top;\n",
              "    }\n",
              "\n",
              "    .dataframe thead th {\n",
              "        text-align: right;\n",
              "    }\n",
              "</style>\n",
              "<table border=\"1\" class=\"dataframe\">\n",
              "  <thead>\n",
              "    <tr style=\"text-align: right;\">\n",
              "      <th></th>\n",
              "      <th>Edad</th>\n",
              "      <th>Sexo</th>\n",
              "      <th>Tipo de contagio</th>\n",
              "      <th>Fecha de diagnóstico</th>\n",
              "    </tr>\n",
              "  </thead>\n",
              "  <tbody>\n",
              "    <tr>\n",
              "      <th>0</th>\n",
              "      <td>19</td>\n",
              "      <td>F</td>\n",
              "      <td>Importado</td>\n",
              "      <td>6/3/2020 0:00:00</td>\n",
              "    </tr>\n",
              "    <tr>\n",
              "      <th>1</th>\n",
              "      <td>22</td>\n",
              "      <td>F</td>\n",
              "      <td>Importado</td>\n",
              "      <td>11/3/2020 0:00:00</td>\n",
              "    </tr>\n",
              "    <tr>\n",
              "      <th>2</th>\n",
              "      <td>28</td>\n",
              "      <td>F</td>\n",
              "      <td>Importado</td>\n",
              "      <td>11/3/2020 0:00:00</td>\n",
              "    </tr>\n",
              "    <tr>\n",
              "      <th>3</th>\n",
              "      <td>36</td>\n",
              "      <td>F</td>\n",
              "      <td>Importado</td>\n",
              "      <td>12/3/2020 0:00:00</td>\n",
              "    </tr>\n",
              "    <tr>\n",
              "      <th>4</th>\n",
              "      <td>42</td>\n",
              "      <td>F</td>\n",
              "      <td>Importado</td>\n",
              "      <td>12/3/2020 0:00:00</td>\n",
              "    </tr>\n",
              "    <tr>\n",
              "      <th>...</th>\n",
              "      <td>...</td>\n",
              "      <td>...</td>\n",
              "      <td>...</td>\n",
              "      <td>...</td>\n",
              "    </tr>\n",
              "    <tr>\n",
              "      <th>1460564</th>\n",
              "      <td>3</td>\n",
              "      <td>M</td>\n",
              "      <td>En estudio</td>\n",
              "      <td>19/11/2021 0:00:00</td>\n",
              "    </tr>\n",
              "    <tr>\n",
              "      <th>1460565</th>\n",
              "      <td>37</td>\n",
              "      <td>F</td>\n",
              "      <td>En estudio</td>\n",
              "      <td>20/11/2021 0:00:00</td>\n",
              "    </tr>\n",
              "    <tr>\n",
              "      <th>1460566</th>\n",
              "      <td>32</td>\n",
              "      <td>F</td>\n",
              "      <td>En estudio</td>\n",
              "      <td>20/11/2021 0:00:00</td>\n",
              "    </tr>\n",
              "    <tr>\n",
              "      <th>1460567</th>\n",
              "      <td>15</td>\n",
              "      <td>F</td>\n",
              "      <td>En estudio</td>\n",
              "      <td>20/11/2021 0:00:00</td>\n",
              "    </tr>\n",
              "    <tr>\n",
              "      <th>1460568</th>\n",
              "      <td>15</td>\n",
              "      <td>F</td>\n",
              "      <td>En estudio</td>\n",
              "      <td>20/11/2021 0:00:00</td>\n",
              "    </tr>\n",
              "  </tbody>\n",
              "</table>\n",
              "<p>1460569 rows × 4 columns</p>\n",
              "</div>"
            ],
            "text/plain": [
              "         Edad Sexo Tipo de contagio Fecha de diagnóstico\n",
              "0          19    F        Importado     6/3/2020 0:00:00\n",
              "1          22    F        Importado    11/3/2020 0:00:00\n",
              "2          28    F        Importado    11/3/2020 0:00:00\n",
              "3          36    F        Importado    12/3/2020 0:00:00\n",
              "4          42    F        Importado    12/3/2020 0:00:00\n",
              "...       ...  ...              ...                  ...\n",
              "1460564     3    M       En estudio   19/11/2021 0:00:00\n",
              "1460565    37    F       En estudio   20/11/2021 0:00:00\n",
              "1460566    32    F       En estudio   20/11/2021 0:00:00\n",
              "1460567    15    F       En estudio   20/11/2021 0:00:00\n",
              "1460568    15    F       En estudio   20/11/2021 0:00:00\n",
              "\n",
              "[1460569 rows x 4 columns]"
            ]
          },
          "metadata": {},
          "execution_count": 12
        }
      ]
    },
    {
      "cell_type": "code",
      "metadata": {
        "id": "O0gyt5fDOX5T"
      },
      "source": [
        "covi = covi[covi['Fecha de diagnóstico'].notna()]"
      ],
      "execution_count": 13,
      "outputs": []
    },
    {
      "cell_type": "code",
      "metadata": {
        "colab": {
          "base_uri": "https://localhost:8080/"
        },
        "id": "H5b6D9uhOHOu",
        "outputId": "9c467b55-6e45-4995-b9dd-11a1d2b28e20"
      },
      "source": [
        "covi['Fecha de diagnóstico'] = pd.to_datetime(covi['Fecha de diagnóstico'], dayfirst= True)"
      ],
      "execution_count": 14,
      "outputs": [
        {
          "output_type": "stream",
          "name": "stderr",
          "text": [
            "/usr/local/lib/python3.7/dist-packages/ipykernel_launcher.py:1: SettingWithCopyWarning: \n",
            "A value is trying to be set on a copy of a slice from a DataFrame.\n",
            "Try using .loc[row_indexer,col_indexer] = value instead\n",
            "\n",
            "See the caveats in the documentation: https://pandas.pydata.org/pandas-docs/stable/user_guide/indexing.html#returning-a-view-versus-a-copy\n",
            "  \"\"\"Entry point for launching an IPython kernel.\n"
          ]
        }
      ]
    },
    {
      "cell_type": "code",
      "metadata": {
        "colab": {
          "base_uri": "https://localhost:8080/",
          "height": 419
        },
        "id": "8KX6djZj60hN",
        "outputId": "4cd6a715-3d80-47fb-a234-1ae909902cda"
      },
      "source": [
        "covi"
      ],
      "execution_count": 15,
      "outputs": [
        {
          "output_type": "execute_result",
          "data": {
            "text/html": [
              "<div>\n",
              "<style scoped>\n",
              "    .dataframe tbody tr th:only-of-type {\n",
              "        vertical-align: middle;\n",
              "    }\n",
              "\n",
              "    .dataframe tbody tr th {\n",
              "        vertical-align: top;\n",
              "    }\n",
              "\n",
              "    .dataframe thead th {\n",
              "        text-align: right;\n",
              "    }\n",
              "</style>\n",
              "<table border=\"1\" class=\"dataframe\">\n",
              "  <thead>\n",
              "    <tr style=\"text-align: right;\">\n",
              "      <th></th>\n",
              "      <th>Edad</th>\n",
              "      <th>Sexo</th>\n",
              "      <th>Tipo de contagio</th>\n",
              "      <th>Fecha de diagnóstico</th>\n",
              "    </tr>\n",
              "  </thead>\n",
              "  <tbody>\n",
              "    <tr>\n",
              "      <th>0</th>\n",
              "      <td>19</td>\n",
              "      <td>F</td>\n",
              "      <td>Importado</td>\n",
              "      <td>2020-03-06</td>\n",
              "    </tr>\n",
              "    <tr>\n",
              "      <th>1</th>\n",
              "      <td>22</td>\n",
              "      <td>F</td>\n",
              "      <td>Importado</td>\n",
              "      <td>2020-03-11</td>\n",
              "    </tr>\n",
              "    <tr>\n",
              "      <th>2</th>\n",
              "      <td>28</td>\n",
              "      <td>F</td>\n",
              "      <td>Importado</td>\n",
              "      <td>2020-03-11</td>\n",
              "    </tr>\n",
              "    <tr>\n",
              "      <th>3</th>\n",
              "      <td>36</td>\n",
              "      <td>F</td>\n",
              "      <td>Importado</td>\n",
              "      <td>2020-03-12</td>\n",
              "    </tr>\n",
              "    <tr>\n",
              "      <th>4</th>\n",
              "      <td>42</td>\n",
              "      <td>F</td>\n",
              "      <td>Importado</td>\n",
              "      <td>2020-03-12</td>\n",
              "    </tr>\n",
              "    <tr>\n",
              "      <th>...</th>\n",
              "      <td>...</td>\n",
              "      <td>...</td>\n",
              "      <td>...</td>\n",
              "      <td>...</td>\n",
              "    </tr>\n",
              "    <tr>\n",
              "      <th>1460564</th>\n",
              "      <td>3</td>\n",
              "      <td>M</td>\n",
              "      <td>En estudio</td>\n",
              "      <td>2021-11-19</td>\n",
              "    </tr>\n",
              "    <tr>\n",
              "      <th>1460565</th>\n",
              "      <td>37</td>\n",
              "      <td>F</td>\n",
              "      <td>En estudio</td>\n",
              "      <td>2021-11-20</td>\n",
              "    </tr>\n",
              "    <tr>\n",
              "      <th>1460566</th>\n",
              "      <td>32</td>\n",
              "      <td>F</td>\n",
              "      <td>En estudio</td>\n",
              "      <td>2021-11-20</td>\n",
              "    </tr>\n",
              "    <tr>\n",
              "      <th>1460567</th>\n",
              "      <td>15</td>\n",
              "      <td>F</td>\n",
              "      <td>En estudio</td>\n",
              "      <td>2021-11-20</td>\n",
              "    </tr>\n",
              "    <tr>\n",
              "      <th>1460568</th>\n",
              "      <td>15</td>\n",
              "      <td>F</td>\n",
              "      <td>En estudio</td>\n",
              "      <td>2021-11-20</td>\n",
              "    </tr>\n",
              "  </tbody>\n",
              "</table>\n",
              "<p>1460345 rows × 4 columns</p>\n",
              "</div>"
            ],
            "text/plain": [
              "         Edad Sexo Tipo de contagio Fecha de diagnóstico\n",
              "0          19    F        Importado           2020-03-06\n",
              "1          22    F        Importado           2020-03-11\n",
              "2          28    F        Importado           2020-03-11\n",
              "3          36    F        Importado           2020-03-12\n",
              "4          42    F        Importado           2020-03-12\n",
              "...       ...  ...              ...                  ...\n",
              "1460564     3    M       En estudio           2021-11-19\n",
              "1460565    37    F       En estudio           2021-11-20\n",
              "1460566    32    F       En estudio           2021-11-20\n",
              "1460567    15    F       En estudio           2021-11-20\n",
              "1460568    15    F       En estudio           2021-11-20\n",
              "\n",
              "[1460345 rows x 4 columns]"
            ]
          },
          "metadata": {},
          "execution_count": 15
        }
      ]
    },
    {
      "cell_type": "code",
      "metadata": {
        "id": "vcXD7d6JJgoH"
      },
      "source": [
        "from datetime import datetime "
      ],
      "execution_count": 16,
      "outputs": []
    },
    {
      "cell_type": "code",
      "metadata": {
        "colab": {
          "base_uri": "https://localhost:8080/",
          "height": 419
        },
        "id": "hsN_veFnOCfv",
        "outputId": "a4dd6eed-5716-4238-af6f-3f4c1018114d"
      },
      "source": [
        "covi = covi.sort_values(by='Fecha de diagnóstico') #Tabla para hacer exploratorio\n",
        "covi"
      ],
      "execution_count": 17,
      "outputs": [
        {
          "output_type": "execute_result",
          "data": {
            "text/html": [
              "<div>\n",
              "<style scoped>\n",
              "    .dataframe tbody tr th:only-of-type {\n",
              "        vertical-align: middle;\n",
              "    }\n",
              "\n",
              "    .dataframe tbody tr th {\n",
              "        vertical-align: top;\n",
              "    }\n",
              "\n",
              "    .dataframe thead th {\n",
              "        text-align: right;\n",
              "    }\n",
              "</style>\n",
              "<table border=\"1\" class=\"dataframe\">\n",
              "  <thead>\n",
              "    <tr style=\"text-align: right;\">\n",
              "      <th></th>\n",
              "      <th>Edad</th>\n",
              "      <th>Sexo</th>\n",
              "      <th>Tipo de contagio</th>\n",
              "      <th>Fecha de diagnóstico</th>\n",
              "    </tr>\n",
              "  </thead>\n",
              "  <tbody>\n",
              "    <tr>\n",
              "      <th>0</th>\n",
              "      <td>19</td>\n",
              "      <td>F</td>\n",
              "      <td>Importado</td>\n",
              "      <td>2020-03-06</td>\n",
              "    </tr>\n",
              "    <tr>\n",
              "      <th>1</th>\n",
              "      <td>22</td>\n",
              "      <td>F</td>\n",
              "      <td>Importado</td>\n",
              "      <td>2020-03-11</td>\n",
              "    </tr>\n",
              "    <tr>\n",
              "      <th>2</th>\n",
              "      <td>28</td>\n",
              "      <td>F</td>\n",
              "      <td>Importado</td>\n",
              "      <td>2020-03-11</td>\n",
              "    </tr>\n",
              "    <tr>\n",
              "      <th>3</th>\n",
              "      <td>36</td>\n",
              "      <td>F</td>\n",
              "      <td>Importado</td>\n",
              "      <td>2020-03-12</td>\n",
              "    </tr>\n",
              "    <tr>\n",
              "      <th>4</th>\n",
              "      <td>42</td>\n",
              "      <td>F</td>\n",
              "      <td>Importado</td>\n",
              "      <td>2020-03-12</td>\n",
              "    </tr>\n",
              "    <tr>\n",
              "      <th>...</th>\n",
              "      <td>...</td>\n",
              "      <td>...</td>\n",
              "      <td>...</td>\n",
              "      <td>...</td>\n",
              "    </tr>\n",
              "    <tr>\n",
              "      <th>1460340</th>\n",
              "      <td>20</td>\n",
              "      <td>F</td>\n",
              "      <td>En estudio</td>\n",
              "      <td>2021-11-21</td>\n",
              "    </tr>\n",
              "    <tr>\n",
              "      <th>1460335</th>\n",
              "      <td>19</td>\n",
              "      <td>M</td>\n",
              "      <td>En estudio</td>\n",
              "      <td>2021-11-21</td>\n",
              "    </tr>\n",
              "    <tr>\n",
              "      <th>1460520</th>\n",
              "      <td>55</td>\n",
              "      <td>M</td>\n",
              "      <td>En estudio</td>\n",
              "      <td>2021-11-21</td>\n",
              "    </tr>\n",
              "    <tr>\n",
              "      <th>1460364</th>\n",
              "      <td>23</td>\n",
              "      <td>M</td>\n",
              "      <td>En estudio</td>\n",
              "      <td>2021-11-21</td>\n",
              "    </tr>\n",
              "    <tr>\n",
              "      <th>1460354</th>\n",
              "      <td>10</td>\n",
              "      <td>M</td>\n",
              "      <td>En estudio</td>\n",
              "      <td>2021-11-21</td>\n",
              "    </tr>\n",
              "  </tbody>\n",
              "</table>\n",
              "<p>1460345 rows × 4 columns</p>\n",
              "</div>"
            ],
            "text/plain": [
              "         Edad Sexo Tipo de contagio Fecha de diagnóstico\n",
              "0          19    F        Importado           2020-03-06\n",
              "1          22    F        Importado           2020-03-11\n",
              "2          28    F        Importado           2020-03-11\n",
              "3          36    F        Importado           2020-03-12\n",
              "4          42    F        Importado           2020-03-12\n",
              "...       ...  ...              ...                  ...\n",
              "1460340    20    F       En estudio           2021-11-21\n",
              "1460335    19    M       En estudio           2021-11-21\n",
              "1460520    55    M       En estudio           2021-11-21\n",
              "1460364    23    M       En estudio           2021-11-21\n",
              "1460354    10    M       En estudio           2021-11-21\n",
              "\n",
              "[1460345 rows x 4 columns]"
            ]
          },
          "metadata": {},
          "execution_count": 17
        }
      ]
    },
    {
      "cell_type": "code",
      "metadata": {
        "colab": {
          "base_uri": "https://localhost:8080/",
          "height": 419
        },
        "id": "Rbjw9vmxTdLM",
        "outputId": "94648b34-0d53-4035-b77c-45ad6b44d229"
      },
      "source": [
        "#PARA LA SERIE DE TIEMPO\n",
        "base = pd.DataFrame(covi['Fecha de diagnóstico']);base"
      ],
      "execution_count": 92,
      "outputs": [
        {
          "output_type": "execute_result",
          "data": {
            "text/html": [
              "<div>\n",
              "<style scoped>\n",
              "    .dataframe tbody tr th:only-of-type {\n",
              "        vertical-align: middle;\n",
              "    }\n",
              "\n",
              "    .dataframe tbody tr th {\n",
              "        vertical-align: top;\n",
              "    }\n",
              "\n",
              "    .dataframe thead th {\n",
              "        text-align: right;\n",
              "    }\n",
              "</style>\n",
              "<table border=\"1\" class=\"dataframe\">\n",
              "  <thead>\n",
              "    <tr style=\"text-align: right;\">\n",
              "      <th></th>\n",
              "      <th>Fecha de diagnóstico</th>\n",
              "    </tr>\n",
              "  </thead>\n",
              "  <tbody>\n",
              "    <tr>\n",
              "      <th>0</th>\n",
              "      <td>2020-03-06</td>\n",
              "    </tr>\n",
              "    <tr>\n",
              "      <th>1</th>\n",
              "      <td>2020-03-11</td>\n",
              "    </tr>\n",
              "    <tr>\n",
              "      <th>2</th>\n",
              "      <td>2020-03-11</td>\n",
              "    </tr>\n",
              "    <tr>\n",
              "      <th>3</th>\n",
              "      <td>2020-03-12</td>\n",
              "    </tr>\n",
              "    <tr>\n",
              "      <th>4</th>\n",
              "      <td>2020-03-12</td>\n",
              "    </tr>\n",
              "    <tr>\n",
              "      <th>...</th>\n",
              "      <td>...</td>\n",
              "    </tr>\n",
              "    <tr>\n",
              "      <th>1460340</th>\n",
              "      <td>2021-11-21</td>\n",
              "    </tr>\n",
              "    <tr>\n",
              "      <th>1460335</th>\n",
              "      <td>2021-11-21</td>\n",
              "    </tr>\n",
              "    <tr>\n",
              "      <th>1460520</th>\n",
              "      <td>2021-11-21</td>\n",
              "    </tr>\n",
              "    <tr>\n",
              "      <th>1460364</th>\n",
              "      <td>2021-11-21</td>\n",
              "    </tr>\n",
              "    <tr>\n",
              "      <th>1460354</th>\n",
              "      <td>2021-11-21</td>\n",
              "    </tr>\n",
              "  </tbody>\n",
              "</table>\n",
              "<p>1460345 rows × 1 columns</p>\n",
              "</div>"
            ],
            "text/plain": [
              "        Fecha de diagnóstico\n",
              "0                 2020-03-06\n",
              "1                 2020-03-11\n",
              "2                 2020-03-11\n",
              "3                 2020-03-12\n",
              "4                 2020-03-12\n",
              "...                      ...\n",
              "1460340           2021-11-21\n",
              "1460335           2021-11-21\n",
              "1460520           2021-11-21\n",
              "1460364           2021-11-21\n",
              "1460354           2021-11-21\n",
              "\n",
              "[1460345 rows x 1 columns]"
            ]
          },
          "metadata": {},
          "execution_count": 92
        }
      ]
    },
    {
      "cell_type": "code",
      "metadata": {
        "colab": {
          "base_uri": "https://localhost:8080/",
          "height": 419
        },
        "id": "VCBAH_QOUEx2",
        "outputId": "6c6a02cf-0ef9-4b6b-f744-3b393bb78b4c"
      },
      "source": [
        "base = base.assign(Cantidad=1); base"
      ],
      "execution_count": 93,
      "outputs": [
        {
          "output_type": "execute_result",
          "data": {
            "text/html": [
              "<div>\n",
              "<style scoped>\n",
              "    .dataframe tbody tr th:only-of-type {\n",
              "        vertical-align: middle;\n",
              "    }\n",
              "\n",
              "    .dataframe tbody tr th {\n",
              "        vertical-align: top;\n",
              "    }\n",
              "\n",
              "    .dataframe thead th {\n",
              "        text-align: right;\n",
              "    }\n",
              "</style>\n",
              "<table border=\"1\" class=\"dataframe\">\n",
              "  <thead>\n",
              "    <tr style=\"text-align: right;\">\n",
              "      <th></th>\n",
              "      <th>Fecha de diagnóstico</th>\n",
              "      <th>Cantidad</th>\n",
              "    </tr>\n",
              "  </thead>\n",
              "  <tbody>\n",
              "    <tr>\n",
              "      <th>0</th>\n",
              "      <td>2020-03-06</td>\n",
              "      <td>1</td>\n",
              "    </tr>\n",
              "    <tr>\n",
              "      <th>1</th>\n",
              "      <td>2020-03-11</td>\n",
              "      <td>1</td>\n",
              "    </tr>\n",
              "    <tr>\n",
              "      <th>2</th>\n",
              "      <td>2020-03-11</td>\n",
              "      <td>1</td>\n",
              "    </tr>\n",
              "    <tr>\n",
              "      <th>3</th>\n",
              "      <td>2020-03-12</td>\n",
              "      <td>1</td>\n",
              "    </tr>\n",
              "    <tr>\n",
              "      <th>4</th>\n",
              "      <td>2020-03-12</td>\n",
              "      <td>1</td>\n",
              "    </tr>\n",
              "    <tr>\n",
              "      <th>...</th>\n",
              "      <td>...</td>\n",
              "      <td>...</td>\n",
              "    </tr>\n",
              "    <tr>\n",
              "      <th>1460340</th>\n",
              "      <td>2021-11-21</td>\n",
              "      <td>1</td>\n",
              "    </tr>\n",
              "    <tr>\n",
              "      <th>1460335</th>\n",
              "      <td>2021-11-21</td>\n",
              "      <td>1</td>\n",
              "    </tr>\n",
              "    <tr>\n",
              "      <th>1460520</th>\n",
              "      <td>2021-11-21</td>\n",
              "      <td>1</td>\n",
              "    </tr>\n",
              "    <tr>\n",
              "      <th>1460364</th>\n",
              "      <td>2021-11-21</td>\n",
              "      <td>1</td>\n",
              "    </tr>\n",
              "    <tr>\n",
              "      <th>1460354</th>\n",
              "      <td>2021-11-21</td>\n",
              "      <td>1</td>\n",
              "    </tr>\n",
              "  </tbody>\n",
              "</table>\n",
              "<p>1460345 rows × 2 columns</p>\n",
              "</div>"
            ],
            "text/plain": [
              "        Fecha de diagnóstico  Cantidad\n",
              "0                 2020-03-06         1\n",
              "1                 2020-03-11         1\n",
              "2                 2020-03-11         1\n",
              "3                 2020-03-12         1\n",
              "4                 2020-03-12         1\n",
              "...                      ...       ...\n",
              "1460340           2021-11-21         1\n",
              "1460335           2021-11-21         1\n",
              "1460520           2021-11-21         1\n",
              "1460364           2021-11-21         1\n",
              "1460354           2021-11-21         1\n",
              "\n",
              "[1460345 rows x 2 columns]"
            ]
          },
          "metadata": {},
          "execution_count": 93
        }
      ]
    },
    {
      "cell_type": "code",
      "metadata": {
        "id": "xOqsld4AUqmp",
        "colab": {
          "base_uri": "https://localhost:8080/",
          "height": 450
        },
        "outputId": "e412f8f4-1495-49c2-dabe-b2814c092b38"
      },
      "source": [
        "base = base.groupby('Fecha de diagnóstico').sum(); base"
      ],
      "execution_count": 94,
      "outputs": [
        {
          "output_type": "execute_result",
          "data": {
            "text/html": [
              "<div>\n",
              "<style scoped>\n",
              "    .dataframe tbody tr th:only-of-type {\n",
              "        vertical-align: middle;\n",
              "    }\n",
              "\n",
              "    .dataframe tbody tr th {\n",
              "        vertical-align: top;\n",
              "    }\n",
              "\n",
              "    .dataframe thead th {\n",
              "        text-align: right;\n",
              "    }\n",
              "</style>\n",
              "<table border=\"1\" class=\"dataframe\">\n",
              "  <thead>\n",
              "    <tr style=\"text-align: right;\">\n",
              "      <th></th>\n",
              "      <th>Cantidad</th>\n",
              "    </tr>\n",
              "    <tr>\n",
              "      <th>Fecha de diagnóstico</th>\n",
              "      <th></th>\n",
              "    </tr>\n",
              "  </thead>\n",
              "  <tbody>\n",
              "    <tr>\n",
              "      <th>2020-03-06</th>\n",
              "      <td>1</td>\n",
              "    </tr>\n",
              "    <tr>\n",
              "      <th>2020-03-11</th>\n",
              "      <td>2</td>\n",
              "    </tr>\n",
              "    <tr>\n",
              "      <th>2020-03-12</th>\n",
              "      <td>2</td>\n",
              "    </tr>\n",
              "    <tr>\n",
              "      <th>2020-03-13</th>\n",
              "      <td>1</td>\n",
              "    </tr>\n",
              "    <tr>\n",
              "      <th>2020-03-14</th>\n",
              "      <td>10</td>\n",
              "    </tr>\n",
              "    <tr>\n",
              "      <th>...</th>\n",
              "      <td>...</td>\n",
              "    </tr>\n",
              "    <tr>\n",
              "      <th>2021-11-17</th>\n",
              "      <td>280</td>\n",
              "    </tr>\n",
              "    <tr>\n",
              "      <th>2021-11-18</th>\n",
              "      <td>369</td>\n",
              "    </tr>\n",
              "    <tr>\n",
              "      <th>2021-11-19</th>\n",
              "      <td>312</td>\n",
              "    </tr>\n",
              "    <tr>\n",
              "      <th>2021-11-20</th>\n",
              "      <td>220</td>\n",
              "    </tr>\n",
              "    <tr>\n",
              "      <th>2021-11-21</th>\n",
              "      <td>35</td>\n",
              "    </tr>\n",
              "  </tbody>\n",
              "</table>\n",
              "<p>622 rows × 1 columns</p>\n",
              "</div>"
            ],
            "text/plain": [
              "                      Cantidad\n",
              "Fecha de diagnóstico          \n",
              "2020-03-06                   1\n",
              "2020-03-11                   2\n",
              "2020-03-12                   2\n",
              "2020-03-13                   1\n",
              "2020-03-14                  10\n",
              "...                        ...\n",
              "2021-11-17                 280\n",
              "2021-11-18                 369\n",
              "2021-11-19                 312\n",
              "2021-11-20                 220\n",
              "2021-11-21                  35\n",
              "\n",
              "[622 rows x 1 columns]"
            ]
          },
          "metadata": {},
          "execution_count": 94
        }
      ]
    },
    {
      "cell_type": "code",
      "metadata": {
        "colab": {
          "base_uri": "https://localhost:8080/"
        },
        "id": "N-4TyuflU6c7",
        "outputId": "cb3a60e8-b345-4861-8fb2-c095f33e202c"
      },
      "source": [
        "base['Cantidad'].sum()"
      ],
      "execution_count": 95,
      "outputs": [
        {
          "output_type": "execute_result",
          "data": {
            "text/plain": [
              "1460345"
            ]
          },
          "metadata": {},
          "execution_count": 95
        }
      ]
    },
    {
      "cell_type": "code",
      "metadata": {
        "colab": {
          "base_uri": "https://localhost:8080/"
        },
        "id": "QzGra9gmh5xK",
        "outputId": "0d51ca54-1c2c-488b-da86-1f9a914b068a"
      },
      "source": [
        "base.info()"
      ],
      "execution_count": 22,
      "outputs": [
        {
          "output_type": "stream",
          "name": "stdout",
          "text": [
            "<class 'pandas.core.frame.DataFrame'>\n",
            "DatetimeIndex: 622 entries, 2020-03-06 to 2021-11-21\n",
            "Data columns (total 1 columns):\n",
            " #   Column    Non-Null Count  Dtype\n",
            "---  ------    --------------  -----\n",
            " 0   Cantidad  622 non-null    int64\n",
            "dtypes: int64(1)\n",
            "memory usage: 9.7 KB\n"
          ]
        }
      ]
    },
    {
      "cell_type": "code",
      "metadata": {
        "id": "fGlc3bcOWTYy"
      },
      "source": [
        "from sklearn.tree import DecisionTreeRegressor\n",
        "from sklearn.ensemble import RandomForestRegressor\n",
        "from xgboost import XGBRegressor\n",
        "from sklearn import metrics"
      ],
      "execution_count": 23,
      "outputs": []
    },
    {
      "cell_type": "code",
      "metadata": {
        "id": "YpFxw0J1F60O"
      },
      "source": [
        "base.reset_index(inplace=True)"
      ],
      "execution_count": 97,
      "outputs": []
    },
    {
      "cell_type": "code",
      "metadata": {
        "colab": {
          "base_uri": "https://localhost:8080/",
          "height": 419
        },
        "id": "FqjSCiJIGHJe",
        "outputId": "e04095c2-8e56-4ce9-cc3c-a71ca9b33670"
      },
      "source": [
        "]base"
      ],
      "execution_count": 36,
      "outputs": [
        {
          "output_type": "execute_result",
          "data": {
            "text/html": [
              "<div>\n",
              "<style scoped>\n",
              "    .dataframe tbody tr th:only-of-type {\n",
              "        vertical-align: middle;\n",
              "    }\n",
              "\n",
              "    .dataframe tbody tr th {\n",
              "        vertical-align: top;\n",
              "    }\n",
              "\n",
              "    .dataframe thead th {\n",
              "        text-align: right;\n",
              "    }\n",
              "</style>\n",
              "<table border=\"1\" class=\"dataframe\">\n",
              "  <thead>\n",
              "    <tr style=\"text-align: right;\">\n",
              "      <th></th>\n",
              "      <th>Fecha de diagnóstico</th>\n",
              "      <th>Cantidad</th>\n",
              "    </tr>\n",
              "  </thead>\n",
              "  <tbody>\n",
              "    <tr>\n",
              "      <th>0</th>\n",
              "      <td>2020-03-06</td>\n",
              "      <td>1</td>\n",
              "    </tr>\n",
              "    <tr>\n",
              "      <th>1</th>\n",
              "      <td>2020-03-11</td>\n",
              "      <td>2</td>\n",
              "    </tr>\n",
              "    <tr>\n",
              "      <th>2</th>\n",
              "      <td>2020-03-12</td>\n",
              "      <td>2</td>\n",
              "    </tr>\n",
              "    <tr>\n",
              "      <th>3</th>\n",
              "      <td>2020-03-13</td>\n",
              "      <td>1</td>\n",
              "    </tr>\n",
              "    <tr>\n",
              "      <th>4</th>\n",
              "      <td>2020-03-14</td>\n",
              "      <td>10</td>\n",
              "    </tr>\n",
              "    <tr>\n",
              "      <th>...</th>\n",
              "      <td>...</td>\n",
              "      <td>...</td>\n",
              "    </tr>\n",
              "    <tr>\n",
              "      <th>617</th>\n",
              "      <td>2021-11-17</td>\n",
              "      <td>280</td>\n",
              "    </tr>\n",
              "    <tr>\n",
              "      <th>618</th>\n",
              "      <td>2021-11-18</td>\n",
              "      <td>369</td>\n",
              "    </tr>\n",
              "    <tr>\n",
              "      <th>619</th>\n",
              "      <td>2021-11-19</td>\n",
              "      <td>312</td>\n",
              "    </tr>\n",
              "    <tr>\n",
              "      <th>620</th>\n",
              "      <td>2021-11-20</td>\n",
              "      <td>220</td>\n",
              "    </tr>\n",
              "    <tr>\n",
              "      <th>621</th>\n",
              "      <td>2021-11-21</td>\n",
              "      <td>35</td>\n",
              "    </tr>\n",
              "  </tbody>\n",
              "</table>\n",
              "<p>622 rows × 2 columns</p>\n",
              "</div>"
            ],
            "text/plain": [
              "    Fecha de diagnóstico  Cantidad\n",
              "0             2020-03-06         1\n",
              "1             2020-03-11         2\n",
              "2             2020-03-12         2\n",
              "3             2020-03-13         1\n",
              "4             2020-03-14        10\n",
              "..                   ...       ...\n",
              "617           2021-11-17       280\n",
              "618           2021-11-18       369\n",
              "619           2021-11-19       312\n",
              "620           2021-11-20       220\n",
              "621           2021-11-21        35\n",
              "\n",
              "[622 rows x 2 columns]"
            ]
          },
          "metadata": {},
          "execution_count": 36
        }
      ]
    },
    {
      "cell_type": "code",
      "metadata": {
        "id": "QikTGaXW13__"
      },
      "source": [
        "from sklearn.tree import DecisionTreeRegressor\n",
        "from sklearn.model_selection import train_test_split\n",
        "from sklearn.metrics import mean_squared_error, mean_absolute_error, max_error"
      ],
      "execution_count": 26,
      "outputs": []
    },
    {
      "cell_type": "code",
      "metadata": {
        "id": "X9FazyMFCC3y"
      },
      "source": [
        "import matplotlib.pyplot as plt"
      ],
      "execution_count": 27,
      "outputs": []
    },
    {
      "cell_type": "markdown",
      "metadata": {
        "id": "6bL7YLJmHpJ0"
      },
      "source": [
        "#Análisis Exploratorio de Datos"
      ]
    },
    {
      "cell_type": "code",
      "metadata": {
        "id": "iaZVVWkM2g9k"
      },
      "source": [
        "import plotly.express as px\n",
        "import matplotlib.pyplot as plt"
      ],
      "execution_count": 46,
      "outputs": []
    },
    {
      "cell_type": "code",
      "metadata": {
        "colab": {
          "base_uri": "https://localhost:8080/",
          "height": 308
        },
        "id": "bHL4HEO9vGl1",
        "outputId": "ab89836d-c1cb-4bb1-ed26-48da7dad9a4c"
      },
      "source": [
        "fig,ax = plt.subplots(1,2,figsize=(12,4))\n",
        "ax[0].plot(base['Cantidad'])\n",
        "ax[0].tick_params(rotation = 45)\n",
        "ax[0].set_title('Casos diarios en Bogotá')\n",
        "ax[0].spines['right'].set_visible(False)\n",
        "ax[0].spines['top'].set_visible(False)\n",
        "\n",
        "ax[1].plot(base['Cantidad'].cumsum())\n",
        "ax[1].set_title('Casos diarios acumulados en Bogotá')\n",
        "ax[1].spines['right'].set_visible(False)\n",
        "ax[1].spines['top'].set_visible(False)\n",
        "ax[1].tick_params(rotation = 45)"
      ],
      "execution_count": 26,
      "outputs": [
        {
          "output_type": "display_data",
          "data": {
            "image/png": "[encoded data removed]",
            "text/plain": [
              "<Figure size 864x288 with 2 Axes>"
            ]
          },
          "metadata": {
            "needs_background": "light"
          }
        }
      ]
    },
    {
      "cell_type": "code",
      "metadata": {
        "colab": {
          "base_uri": "https://localhost:8080/"
        },
        "id": "QpUAO84lIODR",
        "outputId": "fbb2add7-2994-4af1-cded-8938e6aa01cf"
      },
      "source": [
        "print(covi['Fecha de diagnóstico'].min())\n",
        "print(covi['Fecha de diagnóstico'].max())"
      ],
      "execution_count": 27,
      "outputs": [
        {
          "output_type": "stream",
          "name": "stdout",
          "text": [
            "2020-03-06 00:00:00\n",
            "2021-11-21 00:00:00\n"
          ]
        }
      ]
    },
    {
      "cell_type": "markdown",
      "metadata": {
        "id": "rNjSj__X2cNj"
      },
      "source": [
        "En la serie de tiempo que se va a analizar se tienen en cuenta variables como edad, sexo, tipo de contagio y fecha de diagnóstico para el estudio exploratorio de datos.\n",
        "La serie comienza desde el 06 de marzo del 2020 y termina el 21 de noviembre del 2021. Aqui se tomará en cuenta la cantidad de contagios diarios de Covid-19 tomados por la Instituto  Nacional De salud para la ciudad de Bogotá.\n",
        "Asi mismo, se puede ver las tres olas que se presentaron durante el año 2020 y loq ue se lleva del 2021. En el grafico derecho aparece la cantidad de casos acumulados en estos mismos periodos de tiempo donde se demuestra que los casos de Covid-19 fueron incrementando a medida que pasaba el tiempo."
      ]
    },
    {
      "cell_type": "code",
      "metadata": {
        "colab": {
          "base_uri": "https://localhost:8080/",
          "height": 297
        },
        "id": "bdRKsWZxIOAl",
        "outputId": "acd3e80e-8217-4389-d379-ba54424647bc"
      },
      "source": [
        "covi.describe()"
      ],
      "execution_count": 28,
      "outputs": [
        {
          "output_type": "execute_result",
          "data": {
            "text/html": [
              "<div>\n",
              "<style scoped>\n",
              "    .dataframe tbody tr th:only-of-type {\n",
              "        vertical-align: middle;\n",
              "    }\n",
              "\n",
              "    .dataframe tbody tr th {\n",
              "        vertical-align: top;\n",
              "    }\n",
              "\n",
              "    .dataframe thead th {\n",
              "        text-align: right;\n",
              "    }\n",
              "</style>\n",
              "<table border=\"1\" class=\"dataframe\">\n",
              "  <thead>\n",
              "    <tr style=\"text-align: right;\">\n",
              "      <th></th>\n",
              "      <th>Edad</th>\n",
              "    </tr>\n",
              "  </thead>\n",
              "  <tbody>\n",
              "    <tr>\n",
              "      <th>count</th>\n",
              "      <td>1.460345e+06</td>\n",
              "    </tr>\n",
              "    <tr>\n",
              "      <th>mean</th>\n",
              "      <td>3.856750e+01</td>\n",
              "    </tr>\n",
              "    <tr>\n",
              "      <th>std</th>\n",
              "      <td>1.765320e+01</td>\n",
              "    </tr>\n",
              "    <tr>\n",
              "      <th>min</th>\n",
              "      <td>1.000000e+00</td>\n",
              "    </tr>\n",
              "    <tr>\n",
              "      <th>25%</th>\n",
              "      <td>2.600000e+01</td>\n",
              "    </tr>\n",
              "    <tr>\n",
              "      <th>50%</th>\n",
              "      <td>3.600000e+01</td>\n",
              "    </tr>\n",
              "    <tr>\n",
              "      <th>75%</th>\n",
              "      <td>5.100000e+01</td>\n",
              "    </tr>\n",
              "    <tr>\n",
              "      <th>max</th>\n",
              "      <td>1.140000e+02</td>\n",
              "    </tr>\n",
              "  </tbody>\n",
              "</table>\n",
              "</div>"
            ],
            "text/plain": [
              "               Edad\n",
              "count  1.460345e+06\n",
              "mean   3.856750e+01\n",
              "std    1.765320e+01\n",
              "min    1.000000e+00\n",
              "25%    2.600000e+01\n",
              "50%    3.600000e+01\n",
              "75%    5.100000e+01\n",
              "max    1.140000e+02"
            ]
          },
          "metadata": {},
          "execution_count": 28
        }
      ]
    },
    {
      "cell_type": "code",
      "metadata": {
        "colab": {
          "base_uri": "https://localhost:8080/",
          "height": 297
        },
        "id": "QuKuOw2XXYF-",
        "outputId": "b22b34af-3372-4c80-8463-40d58f3a756a"
      },
      "source": [
        "base.describe()"
      ],
      "execution_count": 29,
      "outputs": [
        {
          "output_type": "execute_result",
          "data": {
            "text/html": [
              "<div>\n",
              "<style scoped>\n",
              "    .dataframe tbody tr th:only-of-type {\n",
              "        vertical-align: middle;\n",
              "    }\n",
              "\n",
              "    .dataframe tbody tr th {\n",
              "        vertical-align: top;\n",
              "    }\n",
              "\n",
              "    .dataframe thead th {\n",
              "        text-align: right;\n",
              "    }\n",
              "</style>\n",
              "<table border=\"1\" class=\"dataframe\">\n",
              "  <thead>\n",
              "    <tr style=\"text-align: right;\">\n",
              "      <th></th>\n",
              "      <th>Cantidad</th>\n",
              "    </tr>\n",
              "  </thead>\n",
              "  <tbody>\n",
              "    <tr>\n",
              "      <th>count</th>\n",
              "      <td>622.000000</td>\n",
              "    </tr>\n",
              "    <tr>\n",
              "      <th>mean</th>\n",
              "      <td>2347.821543</td>\n",
              "    </tr>\n",
              "    <tr>\n",
              "      <th>std</th>\n",
              "      <td>2614.764805</td>\n",
              "    </tr>\n",
              "    <tr>\n",
              "      <th>min</th>\n",
              "      <td>1.000000</td>\n",
              "    </tr>\n",
              "    <tr>\n",
              "      <th>25%</th>\n",
              "      <td>286.250000</td>\n",
              "    </tr>\n",
              "    <tr>\n",
              "      <th>50%</th>\n",
              "      <td>1514.500000</td>\n",
              "    </tr>\n",
              "    <tr>\n",
              "      <th>75%</th>\n",
              "      <td>3354.750000</td>\n",
              "    </tr>\n",
              "    <tr>\n",
              "      <th>max</th>\n",
              "      <td>12168.000000</td>\n",
              "    </tr>\n",
              "  </tbody>\n",
              "</table>\n",
              "</div>"
            ],
            "text/plain": [
              "           Cantidad\n",
              "count    622.000000\n",
              "mean    2347.821543\n",
              "std     2614.764805\n",
              "min        1.000000\n",
              "25%      286.250000\n",
              "50%     1514.500000\n",
              "75%     3354.750000\n",
              "max    12168.000000"
            ]
          },
          "metadata": {},
          "execution_count": 29
        }
      ]
    },
    {
      "cell_type": "markdown",
      "metadata": {
        "id": "v40vFpDeJLBQ"
      },
      "source": [
        "\n",
        "\n",
        "- Se puede evidenciar que, las personas que se contagiaron de este virus entre los periodos anteriormente nombrados en la ciudad de Bogota tienen en promedio 38 a 39 años de edad. Además de ello, aproximadamente el 50% de los individuos que se contagiaron de coronavirus tienen una edad de 36 años o menos.\n",
        "\n",
        "- Por otro lado, la serie fue medida diariamente obteniendo un total de 622 dias. En promedio, las personas contagiadas son en promedio 2348. El numero maximo de contagios que hubo durante estos periodos de tiempo fue de 12,168. Finalmente, el 75% de los dias, se contagiaron 3355 personas o menos diariamente en Bogotá. \n"
      ]
    },
    {
      "cell_type": "code",
      "metadata": {
        "colab": {
          "base_uri": "https://localhost:8080/",
          "height": 419
        },
        "id": "1IoZO19gi2JX",
        "outputId": "ab93c906-180f-4f10-8e99-6cfa8f2fbe04"
      },
      "source": [
        "covi_1 = covi.assign(Cantidad=1); covi_1"
      ],
      "execution_count": 31,
      "outputs": [
        {
          "output_type": "execute_result",
          "data": {
            "text/html": [
              "<div>\n",
              "<style scoped>\n",
              "    .dataframe tbody tr th:only-of-type {\n",
              "        vertical-align: middle;\n",
              "    }\n",
              "\n",
              "    .dataframe tbody tr th {\n",
              "        vertical-align: top;\n",
              "    }\n",
              "\n",
              "    .dataframe thead th {\n",
              "        text-align: right;\n",
              "    }\n",
              "</style>\n",
              "<table border=\"1\" class=\"dataframe\">\n",
              "  <thead>\n",
              "    <tr style=\"text-align: right;\">\n",
              "      <th></th>\n",
              "      <th>Edad</th>\n",
              "      <th>Sexo</th>\n",
              "      <th>Tipo de contagio</th>\n",
              "      <th>Fecha de diagnóstico</th>\n",
              "      <th>Cantidad</th>\n",
              "    </tr>\n",
              "  </thead>\n",
              "  <tbody>\n",
              "    <tr>\n",
              "      <th>0</th>\n",
              "      <td>19</td>\n",
              "      <td>F</td>\n",
              "      <td>Importado</td>\n",
              "      <td>2020-03-06</td>\n",
              "      <td>1</td>\n",
              "    </tr>\n",
              "    <tr>\n",
              "      <th>1</th>\n",
              "      <td>22</td>\n",
              "      <td>F</td>\n",
              "      <td>Importado</td>\n",
              "      <td>2020-03-11</td>\n",
              "      <td>1</td>\n",
              "    </tr>\n",
              "    <tr>\n",
              "      <th>2</th>\n",
              "      <td>28</td>\n",
              "      <td>F</td>\n",
              "      <td>Importado</td>\n",
              "      <td>2020-03-11</td>\n",
              "      <td>1</td>\n",
              "    </tr>\n",
              "    <tr>\n",
              "      <th>3</th>\n",
              "      <td>36</td>\n",
              "      <td>F</td>\n",
              "      <td>Importado</td>\n",
              "      <td>2020-03-12</td>\n",
              "      <td>1</td>\n",
              "    </tr>\n",
              "    <tr>\n",
              "      <th>4</th>\n",
              "      <td>42</td>\n",
              "      <td>F</td>\n",
              "      <td>Importado</td>\n",
              "      <td>2020-03-12</td>\n",
              "      <td>1</td>\n",
              "    </tr>\n",
              "    <tr>\n",
              "      <th>...</th>\n",
              "      <td>...</td>\n",
              "      <td>...</td>\n",
              "      <td>...</td>\n",
              "      <td>...</td>\n",
              "      <td>...</td>\n",
              "    </tr>\n",
              "    <tr>\n",
              "      <th>1460340</th>\n",
              "      <td>20</td>\n",
              "      <td>F</td>\n",
              "      <td>En estudio</td>\n",
              "      <td>2021-11-21</td>\n",
              "      <td>1</td>\n",
              "    </tr>\n",
              "    <tr>\n",
              "      <th>1460335</th>\n",
              "      <td>19</td>\n",
              "      <td>M</td>\n",
              "      <td>En estudio</td>\n",
              "      <td>2021-11-21</td>\n",
              "      <td>1</td>\n",
              "    </tr>\n",
              "    <tr>\n",
              "      <th>1460520</th>\n",
              "      <td>55</td>\n",
              "      <td>M</td>\n",
              "      <td>En estudio</td>\n",
              "      <td>2021-11-21</td>\n",
              "      <td>1</td>\n",
              "    </tr>\n",
              "    <tr>\n",
              "      <th>1460364</th>\n",
              "      <td>23</td>\n",
              "      <td>M</td>\n",
              "      <td>En estudio</td>\n",
              "      <td>2021-11-21</td>\n",
              "      <td>1</td>\n",
              "    </tr>\n",
              "    <tr>\n",
              "      <th>1460354</th>\n",
              "      <td>10</td>\n",
              "      <td>M</td>\n",
              "      <td>En estudio</td>\n",
              "      <td>2021-11-21</td>\n",
              "      <td>1</td>\n",
              "    </tr>\n",
              "  </tbody>\n",
              "</table>\n",
              "<p>1460345 rows × 5 columns</p>\n",
              "</div>"
            ],
            "text/plain": [
              "         Edad Sexo Tipo de contagio Fecha de diagnóstico  Cantidad\n",
              "0          19    F        Importado           2020-03-06         1\n",
              "1          22    F        Importado           2020-03-11         1\n",
              "2          28    F        Importado           2020-03-11         1\n",
              "3          36    F        Importado           2020-03-12         1\n",
              "4          42    F        Importado           2020-03-12         1\n",
              "...       ...  ...              ...                  ...       ...\n",
              "1460340    20    F       En estudio           2021-11-21         1\n",
              "1460335    19    M       En estudio           2021-11-21         1\n",
              "1460520    55    M       En estudio           2021-11-21         1\n",
              "1460364    23    M       En estudio           2021-11-21         1\n",
              "1460354    10    M       En estudio           2021-11-21         1\n",
              "\n",
              "[1460345 rows x 5 columns]"
            ]
          },
          "metadata": {},
          "execution_count": 31
        }
      ]
    },
    {
      "cell_type": "code",
      "metadata": {
        "id": "C9DwOaDm7tSo"
      },
      "source": [
        "edad_categorica = pd.DataFrame(covi_1['Edad'])"
      ],
      "execution_count": 33,
      "outputs": []
    },
    {
      "cell_type": "code",
      "metadata": {
        "id": "l-RMGqJ9978O"
      },
      "source": [
        "edad_categorica = edad_categorica.rename(columns={'Edad':'Edad_categorica'})"
      ],
      "execution_count": 34,
      "outputs": []
    },
    {
      "cell_type": "code",
      "metadata": {
        "id": "fHilP4867-6B"
      },
      "source": [
        "edad_categorica = edad_categorica.astype(object)"
      ],
      "execution_count": 35,
      "outputs": []
    },
    {
      "cell_type": "code",
      "metadata": {
        "id": "rP7nCrIg9bcT"
      },
      "source": [
        "covi_2 = pd.concat([covi_1,edad_categorica], axis = 1)"
      ],
      "execution_count": 36,
      "outputs": []
    },
    {
      "cell_type": "code",
      "metadata": {
        "id": "5iKpSo93BWlF"
      },
      "source": [
        "covi_2 = covi_2.groupby('Edad').sum()"
      ],
      "execution_count": 37,
      "outputs": []
    },
    {
      "cell_type": "markdown",
      "metadata": {
        "id": "ckMIBvi8DTsp"
      },
      "source": [
        "![image.png](data:image/png;base64,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)"
      ]
    },
    {
      "cell_type": "code",
      "metadata": {
        "colab": {
          "base_uri": "https://localhost:8080/",
          "height": 542
        },
        "id": "H1edt6nCB5hf",
        "outputId": "a08684c5-5537-4ab6-892c-1040def7ff75"
      },
      "source": [
        "px.line(covi_2, \n",
        "        y=covi_2['Cantidad'].to_list(), \n",
        "        labels={\"y\":\"Cantidad\"},\n",
        "       title=\"Curva de contagiados de acuerdo a la edad\")"
      ],
      "execution_count": 46,
      "outputs": [
        {
          "output_type": "display_data",
          "data": {
            "text/html": [
              "<html>\n",
              "<head><meta charset=\"utf-8\" /></head>\n",
              "<body>\n",
              "    <div>\n",
              "            <script src=\"https://cdnjs.cloudflare.com/ajax/libs/mathjax/2.7.5/MathJax.js?config=TeX-AMS-MML_SVG\"></script><script type=\"text/javascript\">if (window.MathJax) {MathJax.Hub.Config({SVG: {font: \"STIX-Web\"}});}</script>\n",
              "                <script type=\"text/javascript\">window.PlotlyConfig = {MathJaxConfig: 'local'};</script>\n",
              "        <script src=\"https://cdn.plot.ly/plotly-latest.min.js\"></script>    \n",
              "            <div id=\"bf7f0786-a2eb-49f5-89c1-291e4a2f430f\" class=\"plotly-graph-div\" style=\"height:525px; width:100%;\"></div>\n",
              "            <script type=\"text/javascript\">\n",
              "                \n",
              "                    window.PLOTLYENV=window.PLOTLYENV || {};\n",
              "                    \n",
              "                if (document.getElementById(\"bf7f0786-a2eb-49f5-89c1-291e4a2f430f\")) {\n",
              "                    Plotly.newPlot(\n",
              "                        'bf7f0786-a2eb-49f5-89c1-291e4a2f430f',\n",
              "                        [{\"hoverlabel\": {\"namelength\": 0}, \"hovertemplate\": \"Cantidad=%{y}\", \"legendgroup\": \"\", \"line\": {\"color\": \"#636efa\", \"dash\": \"solid\"}, \"mode\": \"lines\", \"name\": \"\", \"showlegend\": false, \"type\": \"scatter\", \"xaxis\": \"x\", \"y\": [5560, 5254, 5090, 5595, 5970, 6205, 6620, 7138, 7440, 8218, 8906, 9480, 10129, 10727, 11344, 12087, 13281, 16788, 19821, 23196, 26089, 28845, 31678, 33974, 35466, 36442, 36129, 35874, 35655, 36083, 34471, 33817, 32470, 31538, 31720, 31490, 30803, 30808, 30304, 29876, 28329, 26461, 25394, 24430, 23400, 22235, 22006, 21744, 21963, 21684, 20964, 21298, 21075, 20947, 20424, 20002, 19131, 18265, 17368, 16541, 14631, 13966, 12732, 11749, 10611, 9372, 8815, 8152, 7499, 6941, 6619, 6154, 5638, 5113, 4704, 4283, 3852, 3736, 3461, 3268, 2878, 2801, 2565, 2176, 2079, 1823, 1612, 1352, 1070, 1049, 863, 719, 582, 437, 296, 200, 160, 131, 85, 48, 36, 13, 13, 8, 2, 4, 1, 1, 1, 2], \"yaxis\": \"y\"}],\n",
              "                        {\"legend\": {\"tracegroupgap\": 0}, \"template\": {\"data\": {\"bar\": [{\"error_x\": {\"color\": \"#2a3f5f\"}, \"error_y\": {\"color\": \"#2a3f5f\"}, \"marker\": {\"line\": {\"color\": \"#E5ECF6\", \"width\": 0.5}}, \"type\": \"bar\"}], \"barpolar\": [{\"marker\": {\"line\": {\"color\": \"#E5ECF6\", \"width\": 0.5}}, \"type\": \"barpolar\"}], \"carpet\": [{\"aaxis\": {\"endlinecolor\": \"#2a3f5f\", \"gridcolor\": \"white\", \"linecolor\": \"white\", \"minorgridcolor\": \"white\", \"startlinecolor\": \"#2a3f5f\"}, \"baxis\": {\"endlinecolor\": \"#2a3f5f\", \"gridcolor\": \"white\", \"linecolor\": \"white\", \"minorgridcolor\": \"white\", \"startlinecolor\": \"#2a3f5f\"}, \"type\": \"carpet\"}], \"choropleth\": [{\"colorbar\": {\"outlinewidth\": 0, \"ticks\": \"\"}, \"type\": \"choropleth\"}], \"contour\": [{\"colorbar\": {\"outlinewidth\": 0, \"ticks\": \"\"}, \"colorscale\": [[0.0, \"#0d0887\"], [0.1111111111111111, \"#46039f\"], [0.2222222222222222, \"#7201a8\"], [0.3333333333333333, \"#9c179e\"], [0.4444444444444444, \"#bd3786\"], [0.5555555555555556, \"#d8576b\"], [0.6666666666666666, \"#ed7953\"], [0.7777777777777778, \"#fb9f3a\"], [0.8888888888888888, \"#fdca26\"], [1.0, \"#f0f921\"]], \"type\": \"contour\"}], \"contourcarpet\": [{\"colorbar\": {\"outlinewidth\": 0, \"ticks\": \"\"}, \"type\": \"contourcarpet\"}], \"heatmap\": [{\"colorbar\": {\"outlinewidth\": 0, \"ticks\": \"\"}, \"colorscale\": [[0.0, \"#0d0887\"], [0.1111111111111111, \"#46039f\"], [0.2222222222222222, \"#7201a8\"], [0.3333333333333333, \"#9c179e\"], [0.4444444444444444, \"#bd3786\"], [0.5555555555555556, \"#d8576b\"], [0.6666666666666666, \"#ed7953\"], [0.7777777777777778, \"#fb9f3a\"], [0.8888888888888888, \"#fdca26\"], [1.0, \"#f0f921\"]], \"type\": \"heatmap\"}], \"heatmapgl\": [{\"colorbar\": {\"outlinewidth\": 0, \"ticks\": \"\"}, \"colorscale\": [[0.0, \"#0d0887\"], [0.1111111111111111, \"#46039f\"], [0.2222222222222222, \"#7201a8\"], [0.3333333333333333, \"#9c179e\"], [0.4444444444444444, \"#bd3786\"], [0.5555555555555556, \"#d8576b\"], [0.6666666666666666, \"#ed7953\"], [0.7777777777777778, \"#fb9f3a\"], [0.8888888888888888, \"#fdca26\"], [1.0, \"#f0f921\"]], \"type\": \"heatmapgl\"}], \"histogram\": [{\"marker\": {\"colorbar\": {\"outlinewidth\": 0, \"ticks\": \"\"}}, \"type\": \"histogram\"}], \"histogram2d\": [{\"colorbar\": {\"outlinewidth\": 0, \"ticks\": \"\"}, \"colorscale\": [[0.0, \"#0d0887\"], [0.1111111111111111, \"#46039f\"], [0.2222222222222222, \"#7201a8\"], [0.3333333333333333, \"#9c179e\"], [0.4444444444444444, \"#bd3786\"], [0.5555555555555556, \"#d8576b\"], [0.6666666666666666, \"#ed7953\"], [0.7777777777777778, \"#fb9f3a\"], [0.8888888888888888, \"#fdca26\"], [1.0, \"#f0f921\"]], \"type\": \"histogram2d\"}], \"histogram2dcontour\": [{\"colorbar\": {\"outlinewidth\": 0, \"ticks\": \"\"}, \"colorscale\": [[0.0, \"#0d0887\"], [0.1111111111111111, \"#46039f\"], [0.2222222222222222, \"#7201a8\"], [0.3333333333333333, \"#9c179e\"], [0.4444444444444444, \"#bd3786\"], [0.5555555555555556, \"#d8576b\"], [0.6666666666666666, \"#ed7953\"], [0.7777777777777778, \"#fb9f3a\"], [0.8888888888888888, \"#fdca26\"], [1.0, \"#f0f921\"]], \"type\": \"histogram2dcontour\"}], \"mesh3d\": [{\"colorbar\": {\"outlinewidth\": 0, \"ticks\": \"\"}, \"type\": \"mesh3d\"}], \"parcoords\": [{\"line\": {\"colorbar\": {\"outlinewidth\": 0, \"ticks\": \"\"}}, \"type\": \"parcoords\"}], \"pie\": [{\"automargin\": true, \"type\": \"pie\"}], \"scatter\": [{\"marker\": {\"colorbar\": {\"outlinewidth\": 0, \"ticks\": \"\"}}, \"type\": \"scatter\"}], \"scatter3d\": [{\"line\": {\"colorbar\": {\"outlinewidth\": 0, \"ticks\": \"\"}}, \"marker\": {\"colorbar\": {\"outlinewidth\": 0, \"ticks\": \"\"}}, \"type\": \"scatter3d\"}], \"scattercarpet\": [{\"marker\": {\"colorbar\": {\"outlinewidth\": 0, \"ticks\": \"\"}}, \"type\": \"scattercarpet\"}], \"scattergeo\": [{\"marker\": {\"colorbar\": {\"outlinewidth\": 0, \"ticks\": \"\"}}, \"type\": \"scattergeo\"}], \"scattergl\": [{\"marker\": {\"colorbar\": {\"outlinewidth\": 0, \"ticks\": \"\"}}, \"type\": \"scattergl\"}], \"scattermapbox\": [{\"marker\": {\"colorbar\": {\"outlinewidth\": 0, \"ticks\": \"\"}}, \"type\": \"scattermapbox\"}], \"scatterpolar\": [{\"marker\": {\"colorbar\": {\"outlinewidth\": 0, \"ticks\": \"\"}}, \"type\": \"scatterpolar\"}], \"scatterpolargl\": [{\"marker\": {\"colorbar\": {\"outlinewidth\": 0, \"ticks\": \"\"}}, \"type\": \"scatterpolargl\"}], \"scatterternary\": [{\"marker\": {\"colorbar\": {\"outlinewidth\": 0, \"ticks\": \"\"}}, \"type\": \"scatterternary\"}], \"surface\": [{\"colorbar\": {\"outlinewidth\": 0, \"ticks\": \"\"}, \"colorscale\": [[0.0, \"#0d0887\"], [0.1111111111111111, \"#46039f\"], [0.2222222222222222, \"#7201a8\"], [0.3333333333333333, \"#9c179e\"], [0.4444444444444444, \"#bd3786\"], [0.5555555555555556, \"#d8576b\"], [0.6666666666666666, \"#ed7953\"], [0.7777777777777778, \"#fb9f3a\"], [0.8888888888888888, \"#fdca26\"], [1.0, \"#f0f921\"]], \"type\": \"surface\"}], \"table\": [{\"cells\": {\"fill\": {\"color\": \"#EBF0F8\"}, \"line\": {\"color\": \"white\"}}, \"header\": {\"fill\": {\"color\": \"#C8D4E3\"}, \"line\": {\"color\": \"white\"}}, \"type\": \"table\"}]}, \"layout\": {\"annotationdefaults\": {\"arrowcolor\": \"#2a3f5f\", \"arrowhead\": 0, \"arrowwidth\": 1}, \"coloraxis\": {\"colorbar\": {\"outlinewidth\": 0, \"ticks\": \"\"}}, \"colorscale\": {\"diverging\": [[0, \"#8e0152\"], [0.1, \"#c51b7d\"], [0.2, \"#de77ae\"], [0.3, \"#f1b6da\"], [0.4, \"#fde0ef\"], [0.5, \"#f7f7f7\"], [0.6, \"#e6f5d0\"], [0.7, \"#b8e186\"], [0.8, \"#7fbc41\"], [0.9, \"#4d9221\"], [1, \"#276419\"]], \"sequential\": [[0.0, \"#0d0887\"], [0.1111111111111111, \"#46039f\"], [0.2222222222222222, \"#7201a8\"], [0.3333333333333333, \"#9c179e\"], [0.4444444444444444, \"#bd3786\"], [0.5555555555555556, \"#d8576b\"], [0.6666666666666666, \"#ed7953\"], [0.7777777777777778, \"#fb9f3a\"], [0.8888888888888888, \"#fdca26\"], [1.0, \"#f0f921\"]], \"sequentialminus\": [[0.0, \"#0d0887\"], [0.1111111111111111, \"#46039f\"], [0.2222222222222222, \"#7201a8\"], [0.3333333333333333, \"#9c179e\"], [0.4444444444444444, \"#bd3786\"], [0.5555555555555556, \"#d8576b\"], [0.6666666666666666, \"#ed7953\"], [0.7777777777777778, \"#fb9f3a\"], [0.8888888888888888, \"#fdca26\"], [1.0, \"#f0f921\"]]}, \"colorway\": [\"#636efa\", \"#EF553B\", \"#00cc96\", \"#ab63fa\", \"#FFA15A\", \"#19d3f3\", \"#FF6692\", \"#B6E880\", \"#FF97FF\", \"#FECB52\"], \"font\": {\"color\": \"#2a3f5f\"}, \"geo\": {\"bgcolor\": \"white\", \"lakecolor\": \"white\", \"landcolor\": \"#E5ECF6\", \"showlakes\": true, \"showland\": true, \"subunitcolor\": \"white\"}, \"hoverlabel\": {\"align\": \"left\"}, \"hovermode\": \"closest\", \"mapbox\": {\"style\": \"light\"}, \"paper_bgcolor\": \"white\", \"plot_bgcolor\": \"#E5ECF6\", \"polar\": {\"angularaxis\": {\"gridcolor\": \"white\", \"linecolor\": \"white\", \"ticks\": \"\"}, \"bgcolor\": \"#E5ECF6\", \"radialaxis\": {\"gridcolor\": \"white\", \"linecolor\": \"white\", \"ticks\": \"\"}}, \"scene\": {\"xaxis\": {\"backgroundcolor\": \"#E5ECF6\", \"gridcolor\": \"white\", \"gridwidth\": 2, \"linecolor\": \"white\", \"showbackground\": true, \"ticks\": \"\", \"zerolinecolor\": \"white\"}, \"yaxis\": {\"backgroundcolor\": \"#E5ECF6\", \"gridcolor\": \"white\", \"gridwidth\": 2, \"linecolor\": \"white\", \"showbackground\": true, \"ticks\": \"\", \"zerolinecolor\": \"white\"}, \"zaxis\": {\"backgroundcolor\": \"#E5ECF6\", \"gridcolor\": \"white\", \"gridwidth\": 2, \"linecolor\": \"white\", \"showbackground\": true, \"ticks\": \"\", \"zerolinecolor\": \"white\"}}, \"shapedefaults\": {\"line\": {\"color\": \"#2a3f5f\"}}, \"ternary\": {\"aaxis\": {\"gridcolor\": \"white\", \"linecolor\": \"white\", \"ticks\": \"\"}, \"baxis\": {\"gridcolor\": \"white\", \"linecolor\": \"white\", \"ticks\": \"\"}, \"bgcolor\": \"#E5ECF6\", \"caxis\": {\"gridcolor\": \"white\", \"linecolor\": \"white\", \"ticks\": \"\"}}, \"title\": {\"x\": 0.05}, \"xaxis\": {\"automargin\": true, \"gridcolor\": \"white\", \"linecolor\": \"white\", \"ticks\": \"\", \"title\": {\"standoff\": 15}, \"zerolinecolor\": \"white\", \"zerolinewidth\": 2}, \"yaxis\": {\"automargin\": true, \"gridcolor\": \"white\", \"linecolor\": \"white\", \"ticks\": \"\", \"title\": {\"standoff\": 15}, \"zerolinecolor\": \"white\", \"zerolinewidth\": 2}}}, \"title\": {\"text\": \"Curva de contagiados de acuerdo a la edad\"}, \"xaxis\": {\"anchor\": \"y\", \"domain\": [0.0, 1.0]}, \"yaxis\": {\"anchor\": \"x\", \"domain\": [0.0, 1.0], \"title\": {\"text\": \"Cantidad\"}}},\n",
              "                        {\"responsive\": true}\n",
              "                    ).then(function(){\n",
              "                            \n",
              "var gd = document.getElementById('bf7f0786-a2eb-49f5-89c1-291e4a2f430f');\n",
              "var x = new MutationObserver(function (mutations, observer) {{\n",
              "        var display = window.getComputedStyle(gd).display;\n",
              "        if (!display || display === 'none') {{\n",
              "            console.log([gd, 'removed!']);\n",
              "            Plotly.purge(gd);\n",
              "            observer.disconnect();\n",
              "        }}\n",
              "}});\n",
              "\n",
              "// Listen for the removal of the full notebook cells\n",
              "var notebookContainer = gd.closest('#notebook-container');\n",
              "if (notebookContainer) {{\n",
              "    x.observe(notebookContainer, {childList: true});\n",
              "}}\n",
              "\n",
              "// Listen for the clearing of the current output cell\n",
              "var outputEl = gd.closest('.output');\n",
              "if (outputEl) {{\n",
              "    x.observe(outputEl, {childList: true});\n",
              "}}\n",
              "\n",
              "                        })\n",
              "                };\n",
              "                \n",
              "            </script>\n",
              "        </div>\n",
              "</body>\n",
              "</html>"
            ]
          },
          "metadata": {}
        }
      ]
    },
    {
      "cell_type": "markdown",
      "metadata": {
        "id": "hpGIpqwNDVYH"
      },
      "source": [
        "[Adjunto imagen ya que al momento de subir a git hub la grafica interactiva no sale]\n",
        "\n"
      ]
    },
    {
      "cell_type": "markdown",
      "metadata": {
        "id": "x_OYolw0DcJR"
      },
      "source": [
        "De acuerdo al gráfico anterior se puede decir que para los años donde se presento el covid 19 en Bogota las personas más afectadas son aquellas entre los 20 y 40 años. Las personas de edad adulta (Por ejemplo aquellos de 80 años) llegaban a registrar 2878 casos durante este periodo mientras que las personas de 26 años acumularon más de 36.442 casos positivos confrimados en laboratorio. "
      ]
    },
    {
      "cell_type": "code",
      "metadata": {
        "colab": {
          "base_uri": "https://localhost:8080/"
        },
        "id": "YKOpsD_1aLj_",
        "outputId": "f66957a4-5d96-40e3-829d-821e49cb9fa8"
      },
      "source": [
        "sum(covi['Sexo'] == \"F\")"
      ],
      "execution_count": 385,
      "outputs": [
        {
          "output_type": "execute_result",
          "data": {
            "text/plain": [
              "780608"
            ]
          },
          "metadata": {},
          "execution_count": 385
        }
      ]
    },
    {
      "cell_type": "code",
      "metadata": {
        "colab": {
          "base_uri": "https://localhost:8080/"
        },
        "id": "ZtCd4pfoaQpm",
        "outputId": "fd4bae13-fe4c-4a29-f3ef-ba31b61170ff"
      },
      "source": [
        "sum(covi['Sexo'] == \"M\")"
      ],
      "execution_count": 353,
      "outputs": [
        {
          "output_type": "execute_result",
          "data": {
            "text/plain": [
              "679726"
            ]
          },
          "metadata": {},
          "execution_count": 353
        }
      ]
    },
    {
      "cell_type": "code",
      "metadata": {
        "colab": {
          "base_uri": "https://localhost:8080/"
        },
        "id": "SY91l7ZbbFFj",
        "outputId": "c45e74f5-1df1-4c48-a6ba-de61cf4dd8d4"
      },
      "source": [
        "sum(covi['Sexo'] == \"f\")"
      ],
      "execution_count": 355,
      "outputs": [
        {
          "output_type": "execute_result",
          "data": {
            "text/plain": [
              "5"
            ]
          },
          "metadata": {},
          "execution_count": 355
        }
      ]
    },
    {
      "cell_type": "code",
      "metadata": {
        "colab": {
          "base_uri": "https://localhost:8080/"
        },
        "id": "4wl8_iUZbG13",
        "outputId": "f645cdd1-c2af-4de1-bd64-a1d528e352a2"
      },
      "source": [
        "sum(covi['Sexo'] == \"m\")"
      ],
      "execution_count": 356,
      "outputs": [
        {
          "output_type": "execute_result",
          "data": {
            "text/plain": [
              "6"
            ]
          },
          "metadata": {},
          "execution_count": 356
        }
      ]
    },
    {
      "cell_type": "code",
      "metadata": {
        "id": "n2vnaMNKauPs"
      },
      "source": [
        "F = 780608+5\n",
        "M = 679726+6"
      ],
      "execution_count": 72,
      "outputs": []
    },
    {
      "cell_type": "code",
      "metadata": {
        "colab": {
          "base_uri": "https://localhost:8080/",
          "height": 295
        },
        "id": "n02SuZtRINzY",
        "outputId": "c5fecfcb-8676-4a4f-a773-97bc4f042830"
      },
      "source": [
        "cc = ['MUJERES', 'HOMBRES']\n",
        "data = [F,M]\n",
        "plt.bar(cc,data, color=['orange','green'])\n",
        "plt.title('GRAFICO CANTIDAD DE CONTAGIOS SEGUN LA VARIABLE SEXO')\n",
        "plt.xlabel('SEXO')\n",
        "plt.ylabel('CANTIDAD DE CONTAGIOS')\n",
        "plt.show()"
      ],
      "execution_count": 482,
      "outputs": [
        {
          "output_type": "display_data",
          "data": {
            "image/png": "[encoded data removed]",
            "text/plain": [
              "<Figure size 432x288 with 1 Axes>"
            ]
          },
          "metadata": {
            "needs_background": "light"
          }
        }
      ]
    },
    {
      "cell_type": "markdown",
      "metadata": {
        "id": "rL7AjlipsRCo"
      },
      "source": [
        "De acuerdo al grafico anterior es importante decir que el sexo al que pertenecen las personas que en su mayoria fueron contagiadas es el femenino."
      ]
    },
    {
      "cell_type": "code",
      "metadata": {
        "id": "KFnYQNv6ppbe"
      },
      "source": [
        "covi_1.loc[covi_1['Sexo'] == 'f', 'Sexo'] = 'F'"
      ],
      "execution_count": 68,
      "outputs": []
    },
    {
      "cell_type": "code",
      "metadata": {
        "id": "bgn_3ZQ9sC-8"
      },
      "source": [
        "covi_1.loc[covi_1['Sexo'] == 'm', 'Sexo'] = 'M'"
      ],
      "execution_count": 69,
      "outputs": []
    },
    {
      "cell_type": "code",
      "metadata": {
        "id": "yEsqpj88nG_R"
      },
      "source": [
        "mujeres = covi_1[covi_1['Sexo'] == \"F\"]"
      ],
      "execution_count": 70,
      "outputs": []
    },
    {
      "cell_type": "code",
      "metadata": {
        "colab": {
          "base_uri": "https://localhost:8080/",
          "height": 419
        },
        "id": "B1I5vz-tqFI2",
        "outputId": "52615782-45a0-4619-c16f-2ac9cf3f9e47"
      },
      "source": [
        "mujeres"
      ],
      "execution_count": 71,
      "outputs": [
        {
          "output_type": "execute_result",
          "data": {
            "text/html": [
              "<div>\n",
              "<style scoped>\n",
              "    .dataframe tbody tr th:only-of-type {\n",
              "        vertical-align: middle;\n",
              "    }\n",
              "\n",
              "    .dataframe tbody tr th {\n",
              "        vertical-align: top;\n",
              "    }\n",
              "\n",
              "    .dataframe thead th {\n",
              "        text-align: right;\n",
              "    }\n",
              "</style>\n",
              "<table border=\"1\" class=\"dataframe\">\n",
              "  <thead>\n",
              "    <tr style=\"text-align: right;\">\n",
              "      <th></th>\n",
              "      <th>Edad</th>\n",
              "      <th>Sexo</th>\n",
              "      <th>Tipo de contagio</th>\n",
              "      <th>Fecha de diagnóstico</th>\n",
              "      <th>Cantidad</th>\n",
              "    </tr>\n",
              "  </thead>\n",
              "  <tbody>\n",
              "    <tr>\n",
              "      <th>0</th>\n",
              "      <td>19</td>\n",
              "      <td>F</td>\n",
              "      <td>Importado</td>\n",
              "      <td>2020-03-06</td>\n",
              "      <td>1</td>\n",
              "    </tr>\n",
              "    <tr>\n",
              "      <th>1</th>\n",
              "      <td>22</td>\n",
              "      <td>F</td>\n",
              "      <td>Importado</td>\n",
              "      <td>2020-03-11</td>\n",
              "      <td>1</td>\n",
              "    </tr>\n",
              "    <tr>\n",
              "      <th>2</th>\n",
              "      <td>28</td>\n",
              "      <td>F</td>\n",
              "      <td>Importado</td>\n",
              "      <td>2020-03-11</td>\n",
              "      <td>1</td>\n",
              "    </tr>\n",
              "    <tr>\n",
              "      <th>3</th>\n",
              "      <td>36</td>\n",
              "      <td>F</td>\n",
              "      <td>Importado</td>\n",
              "      <td>2020-03-12</td>\n",
              "      <td>1</td>\n",
              "    </tr>\n",
              "    <tr>\n",
              "      <th>4</th>\n",
              "      <td>42</td>\n",
              "      <td>F</td>\n",
              "      <td>Importado</td>\n",
              "      <td>2020-03-12</td>\n",
              "      <td>1</td>\n",
              "    </tr>\n",
              "    <tr>\n",
              "      <th>...</th>\n",
              "      <td>...</td>\n",
              "      <td>...</td>\n",
              "      <td>...</td>\n",
              "      <td>...</td>\n",
              "      <td>...</td>\n",
              "    </tr>\n",
              "    <tr>\n",
              "      <th>1460503</th>\n",
              "      <td>40</td>\n",
              "      <td>F</td>\n",
              "      <td>En estudio</td>\n",
              "      <td>2021-11-21</td>\n",
              "      <td>1</td>\n",
              "    </tr>\n",
              "    <tr>\n",
              "      <th>1460507</th>\n",
              "      <td>39</td>\n",
              "      <td>F</td>\n",
              "      <td>En estudio</td>\n",
              "      <td>2021-11-21</td>\n",
              "      <td>1</td>\n",
              "    </tr>\n",
              "    <tr>\n",
              "      <th>1460508</th>\n",
              "      <td>40</td>\n",
              "      <td>F</td>\n",
              "      <td>En estudio</td>\n",
              "      <td>2021-11-21</td>\n",
              "      <td>1</td>\n",
              "    </tr>\n",
              "    <tr>\n",
              "      <th>1460509</th>\n",
              "      <td>39</td>\n",
              "      <td>F</td>\n",
              "      <td>En estudio</td>\n",
              "      <td>2021-11-21</td>\n",
              "      <td>1</td>\n",
              "    </tr>\n",
              "    <tr>\n",
              "      <th>1460340</th>\n",
              "      <td>20</td>\n",
              "      <td>F</td>\n",
              "      <td>En estudio</td>\n",
              "      <td>2021-11-21</td>\n",
              "      <td>1</td>\n",
              "    </tr>\n",
              "  </tbody>\n",
              "</table>\n",
              "<p>780613 rows × 5 columns</p>\n",
              "</div>"
            ],
            "text/plain": [
              "         Edad Sexo Tipo de contagio Fecha de diagnóstico  Cantidad\n",
              "0          19    F        Importado           2020-03-06         1\n",
              "1          22    F        Importado           2020-03-11         1\n",
              "2          28    F        Importado           2020-03-11         1\n",
              "3          36    F        Importado           2020-03-12         1\n",
              "4          42    F        Importado           2020-03-12         1\n",
              "...       ...  ...              ...                  ...       ...\n",
              "1460503    40    F       En estudio           2021-11-21         1\n",
              "1460507    39    F       En estudio           2021-11-21         1\n",
              "1460508    40    F       En estudio           2021-11-21         1\n",
              "1460509    39    F       En estudio           2021-11-21         1\n",
              "1460340    20    F       En estudio           2021-11-21         1\n",
              "\n",
              "[780613 rows x 5 columns]"
            ]
          },
          "metadata": {},
          "execution_count": 71
        }
      ]
    },
    {
      "cell_type": "code",
      "metadata": {
        "id": "Kf4gQq8tqHmK"
      },
      "source": [
        "mujeres = mujeres.groupby('Fecha de diagnóstico').sum()"
      ],
      "execution_count": 74,
      "outputs": []
    },
    {
      "cell_type": "code",
      "metadata": {
        "colab": {
          "base_uri": "https://localhost:8080/"
        },
        "id": "mi1BASyCrn8F",
        "outputId": "7ad2bead-0f67-462d-af58-4227566c1a72"
      },
      "source": [
        "mujeres['Cantidad'].mean()"
      ],
      "execution_count": 75,
      "outputs": [
        {
          "output_type": "execute_result",
          "data": {
            "text/plain": [
              "1255.0048231511255"
            ]
          },
          "metadata": {},
          "execution_count": 75
        }
      ]
    },
    {
      "cell_type": "code",
      "metadata": {
        "colab": {
          "base_uri": "https://localhost:8080/",
          "height": 419
        },
        "id": "Ou2LdQYHrzZ1",
        "outputId": "f6f7207f-abdd-4534-cdbf-0692d7bf73b2"
      },
      "source": [
        "hombres = covi_1[covi_1['Sexo'] == \"M\"]; hombres"
      ],
      "execution_count": 76,
      "outputs": [
        {
          "output_type": "execute_result",
          "data": {
            "text/html": [
              "<div>\n",
              "<style scoped>\n",
              "    .dataframe tbody tr th:only-of-type {\n",
              "        vertical-align: middle;\n",
              "    }\n",
              "\n",
              "    .dataframe tbody tr th {\n",
              "        vertical-align: top;\n",
              "    }\n",
              "\n",
              "    .dataframe thead th {\n",
              "        text-align: right;\n",
              "    }\n",
              "</style>\n",
              "<table border=\"1\" class=\"dataframe\">\n",
              "  <thead>\n",
              "    <tr style=\"text-align: right;\">\n",
              "      <th></th>\n",
              "      <th>Edad</th>\n",
              "      <th>Sexo</th>\n",
              "      <th>Tipo de contagio</th>\n",
              "      <th>Fecha de diagnóstico</th>\n",
              "      <th>Cantidad</th>\n",
              "    </tr>\n",
              "  </thead>\n",
              "  <tbody>\n",
              "    <tr>\n",
              "      <th>17</th>\n",
              "      <td>21</td>\n",
              "      <td>M</td>\n",
              "      <td>Importado</td>\n",
              "      <td>2020-03-14</td>\n",
              "      <td>1</td>\n",
              "    </tr>\n",
              "    <tr>\n",
              "      <th>16</th>\n",
              "      <td>29</td>\n",
              "      <td>M</td>\n",
              "      <td>Importado</td>\n",
              "      <td>2020-03-14</td>\n",
              "      <td>1</td>\n",
              "    </tr>\n",
              "    <tr>\n",
              "      <th>14</th>\n",
              "      <td>72</td>\n",
              "      <td>M</td>\n",
              "      <td>Importado</td>\n",
              "      <td>2020-03-14</td>\n",
              "      <td>1</td>\n",
              "    </tr>\n",
              "    <tr>\n",
              "      <th>13</th>\n",
              "      <td>54</td>\n",
              "      <td>M</td>\n",
              "      <td>Importado</td>\n",
              "      <td>2020-03-14</td>\n",
              "      <td>1</td>\n",
              "    </tr>\n",
              "    <tr>\n",
              "      <th>9</th>\n",
              "      <td>23</td>\n",
              "      <td>M</td>\n",
              "      <td>Relacionado</td>\n",
              "      <td>2020-03-14</td>\n",
              "      <td>1</td>\n",
              "    </tr>\n",
              "    <tr>\n",
              "      <th>...</th>\n",
              "      <td>...</td>\n",
              "      <td>...</td>\n",
              "      <td>...</td>\n",
              "      <td>...</td>\n",
              "      <td>...</td>\n",
              "    </tr>\n",
              "    <tr>\n",
              "      <th>1460348</th>\n",
              "      <td>21</td>\n",
              "      <td>M</td>\n",
              "      <td>En estudio</td>\n",
              "      <td>2021-11-21</td>\n",
              "      <td>1</td>\n",
              "    </tr>\n",
              "    <tr>\n",
              "      <th>1460335</th>\n",
              "      <td>19</td>\n",
              "      <td>M</td>\n",
              "      <td>En estudio</td>\n",
              "      <td>2021-11-21</td>\n",
              "      <td>1</td>\n",
              "    </tr>\n",
              "    <tr>\n",
              "      <th>1460520</th>\n",
              "      <td>55</td>\n",
              "      <td>M</td>\n",
              "      <td>En estudio</td>\n",
              "      <td>2021-11-21</td>\n",
              "      <td>1</td>\n",
              "    </tr>\n",
              "    <tr>\n",
              "      <th>1460364</th>\n",
              "      <td>23</td>\n",
              "      <td>M</td>\n",
              "      <td>En estudio</td>\n",
              "      <td>2021-11-21</td>\n",
              "      <td>1</td>\n",
              "    </tr>\n",
              "    <tr>\n",
              "      <th>1460354</th>\n",
              "      <td>10</td>\n",
              "      <td>M</td>\n",
              "      <td>En estudio</td>\n",
              "      <td>2021-11-21</td>\n",
              "      <td>1</td>\n",
              "    </tr>\n",
              "  </tbody>\n",
              "</table>\n",
              "<p>679732 rows × 5 columns</p>\n",
              "</div>"
            ],
            "text/plain": [
              "         Edad Sexo Tipo de contagio Fecha de diagnóstico  Cantidad\n",
              "17         21    M        Importado           2020-03-14         1\n",
              "16         29    M        Importado           2020-03-14         1\n",
              "14         72    M        Importado           2020-03-14         1\n",
              "13         54    M        Importado           2020-03-14         1\n",
              "9          23    M      Relacionado           2020-03-14         1\n",
              "...       ...  ...              ...                  ...       ...\n",
              "1460348    21    M       En estudio           2021-11-21         1\n",
              "1460335    19    M       En estudio           2021-11-21         1\n",
              "1460520    55    M       En estudio           2021-11-21         1\n",
              "1460364    23    M       En estudio           2021-11-21         1\n",
              "1460354    10    M       En estudio           2021-11-21         1\n",
              "\n",
              "[679732 rows x 5 columns]"
            ]
          },
          "metadata": {},
          "execution_count": 76
        }
      ]
    },
    {
      "cell_type": "code",
      "metadata": {
        "id": "hMVjflR6s8eG"
      },
      "source": [
        "hombres = hombres.groupby('Fecha de diagnóstico').sum()"
      ],
      "execution_count": 77,
      "outputs": []
    },
    {
      "cell_type": "code",
      "metadata": {
        "colab": {
          "base_uri": "https://localhost:8080/"
        },
        "id": "76AmR-7ntBqo",
        "outputId": "301e4a83-d517-4c86-f72a-f817b98bdec6"
      },
      "source": [
        "hombres['Cantidad'].mean()"
      ],
      "execution_count": 78,
      "outputs": [
        {
          "output_type": "execute_result",
          "data": {
            "text/plain": [
              "1099.8899676375404"
            ]
          },
          "metadata": {},
          "execution_count": 78
        }
      ]
    },
    {
      "cell_type": "code",
      "metadata": {
        "colab": {
          "base_uri": "https://localhost:8080/",
          "height": 295
        },
        "id": "3g12nUiMtSMa",
        "outputId": "eb1e9e7f-1b41-44bb-9f7b-519771d1ca52"
      },
      "source": [
        "cc = ['MUJERES', 'HOMBRES']\n",
        "data = [mujeres['Cantidad'].mean(),hombres['Cantidad'].mean()]\n",
        "plt.bar(cc,data, color=['orange','green'])\n",
        "plt.title('GRAFICO PROMEDIO DE CONTAGIOS SEGUN LA VARIABLE SEXO')\n",
        "plt.xlabel('SEXO')\n",
        "plt.ylabel('PROMEDIO DE CONTAGIOS')\n",
        "plt.show()"
      ],
      "execution_count": 553,
      "outputs": [
        {
          "output_type": "display_data",
          "data": {
            "image/png": "[encoded data removed]",
            "text/plain": [
              "<Figure size 432x288 with 1 Axes>"
            ]
          },
          "metadata": {
            "needs_background": "light"
          }
        }
      ]
    },
    {
      "cell_type": "markdown",
      "metadata": {
        "id": "NVL_nvIWtZL5"
      },
      "source": [
        "De acuerdo a sus promedios es logico pensar que las mujeres seran aquellas quienes se contagien mas del coronavirus. En promedio el numero de mujeres contagiadas diariamente es igual a 1255 y para los hombres es de 1099. Sin embargo, ¿Estas medias serán estadísticamente significativas?"
      ]
    },
    {
      "cell_type": "code",
      "metadata": {
        "colab": {
          "base_uri": "https://localhost:8080/"
        },
        "id": "AMmEU0Eltvqc",
        "outputId": "ec3fe959-b171-49b6-9250-a471430d6b40"
      },
      "source": [
        "import scipy.stats as stats\n",
        "from scipy.stats import ttest_ind\n",
        "ttest_ind(mu, ho)"
      ],
      "execution_count": 558,
      "outputs": [
        {
          "output_type": "execute_result",
          "data": {
            "text/plain": [
              "Ttest_indResult(statistic=2.080509257585034, pvalue=0.037684081261290386)"
            ]
          },
          "metadata": {},
          "execution_count": 558
        }
      ]
    },
    {
      "cell_type": "code",
      "metadata": {
        "id": "QTRtTIeluscV"
      },
      "source": [
        "mu = list(mujeres['Cantidad'])"
      ],
      "execution_count": 555,
      "outputs": []
    },
    {
      "cell_type": "code",
      "metadata": {
        "id": "rOA-FWFBu5q6"
      },
      "source": [
        "ho = list(hombres['Cantidad'])"
      ],
      "execution_count": 556,
      "outputs": []
    },
    {
      "cell_type": "markdown",
      "metadata": {
        "id": "XcDZlO6lviV8"
      },
      "source": [
        "Tomando un alpha al 5% se puede decir que los promedios de los casos presentes para el sexo femenino y el masculino en la ciudad de Bogotá son estadisticamente diferentes. Esto significa que en promedio es más probable que los individuos de sexo femenino se contagien en mayor cantidad que los del sexo masculino. "
      ]
    },
    {
      "cell_type": "code",
      "metadata": {
        "colab": {
          "base_uri": "https://localhost:8080/",
          "height": 731
        },
        "id": "SwKxK8EXgi9i",
        "outputId": "3c5723f2-7583-4321-8da6-c19bd65c9802"
      },
      "source": [
        "meses = base.resample('M').mean()\n",
        "meses"
      ],
      "execution_count": 492,
      "outputs": [
        {
          "output_type": "execute_result",
          "data": {
            "text/html": [
              "<div>\n",
              "<style scoped>\n",
              "    .dataframe tbody tr th:only-of-type {\n",
              "        vertical-align: middle;\n",
              "    }\n",
              "\n",
              "    .dataframe tbody tr th {\n",
              "        vertical-align: top;\n",
              "    }\n",
              "\n",
              "    .dataframe thead th {\n",
              "        text-align: right;\n",
              "    }\n",
              "</style>\n",
              "<table border=\"1\" class=\"dataframe\">\n",
              "  <thead>\n",
              "    <tr style=\"text-align: right;\">\n",
              "      <th></th>\n",
              "      <th>Cantidad</th>\n",
              "    </tr>\n",
              "    <tr>\n",
              "      <th>Fecha de diagnóstico</th>\n",
              "      <th></th>\n",
              "    </tr>\n",
              "  </thead>\n",
              "  <tbody>\n",
              "    <tr>\n",
              "      <th>2020-03-31</th>\n",
              "      <td>17.409091</td>\n",
              "    </tr>\n",
              "    <tr>\n",
              "      <th>2020-04-30</th>\n",
              "      <td>74.433333</td>\n",
              "    </tr>\n",
              "    <tr>\n",
              "      <th>2020-05-31</th>\n",
              "      <td>237.774194</td>\n",
              "    </tr>\n",
              "    <tr>\n",
              "      <th>2020-06-30</th>\n",
              "      <td>673.266667</td>\n",
              "    </tr>\n",
              "    <tr>\n",
              "      <th>2020-07-31</th>\n",
              "      <td>2372.870968</td>\n",
              "    </tr>\n",
              "    <tr>\n",
              "      <th>2020-08-31</th>\n",
              "      <td>3624.000000</td>\n",
              "    </tr>\n",
              "    <tr>\n",
              "      <th>2020-09-30</th>\n",
              "      <td>1871.733333</td>\n",
              "    </tr>\n",
              "    <tr>\n",
              "      <th>2020-10-31</th>\n",
              "      <td>1744.387097</td>\n",
              "    </tr>\n",
              "    <tr>\n",
              "      <th>2020-11-30</th>\n",
              "      <td>1863.033333</td>\n",
              "    </tr>\n",
              "    <tr>\n",
              "      <th>2020-12-31</th>\n",
              "      <td>3365.677419</td>\n",
              "    </tr>\n",
              "    <tr>\n",
              "      <th>2021-01-31</th>\n",
              "      <td>4554.741935</td>\n",
              "    </tr>\n",
              "    <tr>\n",
              "      <th>2021-02-28</th>\n",
              "      <td>1246.535714</td>\n",
              "    </tr>\n",
              "    <tr>\n",
              "      <th>2021-03-31</th>\n",
              "      <td>973.225806</td>\n",
              "    </tr>\n",
              "    <tr>\n",
              "      <th>2021-04-30</th>\n",
              "      <td>3698.000000</td>\n",
              "    </tr>\n",
              "    <tr>\n",
              "      <th>2021-05-31</th>\n",
              "      <td>6075.838710</td>\n",
              "    </tr>\n",
              "    <tr>\n",
              "      <th>2021-06-30</th>\n",
              "      <td>9816.066667</td>\n",
              "    </tr>\n",
              "    <tr>\n",
              "      <th>2021-07-31</th>\n",
              "      <td>4387.806452</td>\n",
              "    </tr>\n",
              "    <tr>\n",
              "      <th>2021-08-31</th>\n",
              "      <td>690.774194</td>\n",
              "    </tr>\n",
              "    <tr>\n",
              "      <th>2021-09-30</th>\n",
              "      <td>209.400000</td>\n",
              "    </tr>\n",
              "    <tr>\n",
              "      <th>2021-10-31</th>\n",
              "      <td>161.483871</td>\n",
              "    </tr>\n",
              "    <tr>\n",
              "      <th>2021-11-30</th>\n",
              "      <td>239.761905</td>\n",
              "    </tr>\n",
              "  </tbody>\n",
              "</table>\n",
              "</div>"
            ],
            "text/plain": [
              "                         Cantidad\n",
              "Fecha de diagnóstico             \n",
              "2020-03-31              17.409091\n",
              "2020-04-30              74.433333\n",
              "2020-05-31             237.774194\n",
              "2020-06-30             673.266667\n",
              "2020-07-31            2372.870968\n",
              "2020-08-31            3624.000000\n",
              "2020-09-30            1871.733333\n",
              "2020-10-31            1744.387097\n",
              "2020-11-30            1863.033333\n",
              "2020-12-31            3365.677419\n",
              "2021-01-31            4554.741935\n",
              "2021-02-28            1246.535714\n",
              "2021-03-31             973.225806\n",
              "2021-04-30            3698.000000\n",
              "2021-05-31            6075.838710\n",
              "2021-06-30            9816.066667\n",
              "2021-07-31            4387.806452\n",
              "2021-08-31             690.774194\n",
              "2021-09-30             209.400000\n",
              "2021-10-31             161.483871\n",
              "2021-11-30             239.761905"
            ]
          },
          "metadata": {},
          "execution_count": 492
        }
      ]
    },
    {
      "cell_type": "markdown",
      "metadata": {
        "id": "zWXH8KWWh4bD"
      },
      "source": [
        "- De acuerdo a la tabla anterior se puede evidenciar que los meses de mayo,junio y julio del año 2021 se presentan la mayor cantidad de contagios.\n",
        "- Lo que se lleva del mes de noviembre en este año se han presentado 240 contagios de covid aproximadamente."
      ]
    },
    {
      "cell_type": "code",
      "metadata": {
        "colab": {
          "base_uri": "https://localhost:8080/",
          "height": 419
        },
        "id": "iLq9FuyGh3s1",
        "outputId": "cfde2999-e9bb-4768-fa97-b9c0bf6ad29b"
      },
      "source": [
        "covi"
      ],
      "execution_count": 50,
      "outputs": [
        {
          "output_type": "execute_result",
          "data": {
            "text/html": [
              "<div>\n",
              "<style scoped>\n",
              "    .dataframe tbody tr th:only-of-type {\n",
              "        vertical-align: middle;\n",
              "    }\n",
              "\n",
              "    .dataframe tbody tr th {\n",
              "        vertical-align: top;\n",
              "    }\n",
              "\n",
              "    .dataframe thead th {\n",
              "        text-align: right;\n",
              "    }\n",
              "</style>\n",
              "<table border=\"1\" class=\"dataframe\">\n",
              "  <thead>\n",
              "    <tr style=\"text-align: right;\">\n",
              "      <th></th>\n",
              "      <th>Edad</th>\n",
              "      <th>Sexo</th>\n",
              "      <th>Tipo de contagio</th>\n",
              "      <th>Fecha de diagnóstico</th>\n",
              "    </tr>\n",
              "  </thead>\n",
              "  <tbody>\n",
              "    <tr>\n",
              "      <th>0</th>\n",
              "      <td>19</td>\n",
              "      <td>F</td>\n",
              "      <td>Importado</td>\n",
              "      <td>2020-03-06</td>\n",
              "    </tr>\n",
              "    <tr>\n",
              "      <th>1</th>\n",
              "      <td>22</td>\n",
              "      <td>F</td>\n",
              "      <td>Importado</td>\n",
              "      <td>2020-03-11</td>\n",
              "    </tr>\n",
              "    <tr>\n",
              "      <th>2</th>\n",
              "      <td>28</td>\n",
              "      <td>F</td>\n",
              "      <td>Importado</td>\n",
              "      <td>2020-03-11</td>\n",
              "    </tr>\n",
              "    <tr>\n",
              "      <th>3</th>\n",
              "      <td>36</td>\n",
              "      <td>F</td>\n",
              "      <td>Importado</td>\n",
              "      <td>2020-03-12</td>\n",
              "    </tr>\n",
              "    <tr>\n",
              "      <th>4</th>\n",
              "      <td>42</td>\n",
              "      <td>F</td>\n",
              "      <td>Importado</td>\n",
              "      <td>2020-03-12</td>\n",
              "    </tr>\n",
              "    <tr>\n",
              "      <th>...</th>\n",
              "      <td>...</td>\n",
              "      <td>...</td>\n",
              "      <td>...</td>\n",
              "      <td>...</td>\n",
              "    </tr>\n",
              "    <tr>\n",
              "      <th>1460340</th>\n",
              "      <td>20</td>\n",
              "      <td>F</td>\n",
              "      <td>En estudio</td>\n",
              "      <td>2021-11-21</td>\n",
              "    </tr>\n",
              "    <tr>\n",
              "      <th>1460335</th>\n",
              "      <td>19</td>\n",
              "      <td>M</td>\n",
              "      <td>En estudio</td>\n",
              "      <td>2021-11-21</td>\n",
              "    </tr>\n",
              "    <tr>\n",
              "      <th>1460520</th>\n",
              "      <td>55</td>\n",
              "      <td>M</td>\n",
              "      <td>En estudio</td>\n",
              "      <td>2021-11-21</td>\n",
              "    </tr>\n",
              "    <tr>\n",
              "      <th>1460364</th>\n",
              "      <td>23</td>\n",
              "      <td>M</td>\n",
              "      <td>En estudio</td>\n",
              "      <td>2021-11-21</td>\n",
              "    </tr>\n",
              "    <tr>\n",
              "      <th>1460354</th>\n",
              "      <td>10</td>\n",
              "      <td>M</td>\n",
              "      <td>En estudio</td>\n",
              "      <td>2021-11-21</td>\n",
              "    </tr>\n",
              "  </tbody>\n",
              "</table>\n",
              "<p>1460345 rows × 4 columns</p>\n",
              "</div>"
            ],
            "text/plain": [
              "         Edad Sexo Tipo de contagio Fecha de diagnóstico\n",
              "0          19    F        Importado           2020-03-06\n",
              "1          22    F        Importado           2020-03-11\n",
              "2          28    F        Importado           2020-03-11\n",
              "3          36    F        Importado           2020-03-12\n",
              "4          42    F        Importado           2020-03-12\n",
              "...       ...  ...              ...                  ...\n",
              "1460340    20    F       En estudio           2021-11-21\n",
              "1460335    19    M       En estudio           2021-11-21\n",
              "1460520    55    M       En estudio           2021-11-21\n",
              "1460364    23    M       En estudio           2021-11-21\n",
              "1460354    10    M       En estudio           2021-11-21\n",
              "\n",
              "[1460345 rows x 4 columns]"
            ]
          },
          "metadata": {},
          "execution_count": 50
        }
      ]
    },
    {
      "cell_type": "code",
      "metadata": {
        "colab": {
          "base_uri": "https://localhost:8080/"
        },
        "id": "iKzH95ewKv5R",
        "outputId": "10147489-69e2-4dfb-ef22-4abeeffc2a18"
      },
      "source": [
        "sum(covi['Tipo de contagio'] == 'Comunitaria')"
      ],
      "execution_count": 57,
      "outputs": [
        {
          "output_type": "execute_result",
          "data": {
            "text/plain": [
              "223656"
            ]
          },
          "metadata": {},
          "execution_count": 57
        }
      ]
    },
    {
      "cell_type": "code",
      "metadata": {
        "colab": {
          "base_uri": "https://localhost:8080/"
        },
        "id": "kG_M8rBkJccp",
        "outputId": "f5373e82-4912-4f2b-f692-2dda9052fb62"
      },
      "source": [
        "sum(covi['Tipo de contagio'] == 'Importado')"
      ],
      "execution_count": 51,
      "outputs": [
        {
          "output_type": "execute_result",
          "data": {
            "text/plain": [
              "939"
            ]
          },
          "metadata": {},
          "execution_count": 51
        }
      ]
    },
    {
      "cell_type": "code",
      "metadata": {
        "colab": {
          "base_uri": "https://localhost:8080/"
        },
        "id": "QZMuX32GJi-4",
        "outputId": "9c74c18a-622b-481c-ef63-1cf8b60eaa9f"
      },
      "source": [
        "sum(covi['Tipo de contagio'] == 'En estudio')"
      ],
      "execution_count": 52,
      "outputs": [
        {
          "output_type": "execute_result",
          "data": {
            "text/plain": [
              "708002"
            ]
          },
          "metadata": {},
          "execution_count": 52
        }
      ]
    },
    {
      "cell_type": "code",
      "metadata": {
        "colab": {
          "base_uri": "https://localhost:8080/"
        },
        "id": "oTzJAHLKJ8mi",
        "outputId": "6350f312-a5ea-4e52-8eb2-7277b5ad0030"
      },
      "source": [
        "sum(covi['Tipo de contagio'] == 'Relacionado')"
      ],
      "execution_count": 53,
      "outputs": [
        {
          "output_type": "execute_result",
          "data": {
            "text/plain": [
              "527748"
            ]
          },
          "metadata": {},
          "execution_count": 53
        }
      ]
    },
    {
      "cell_type": "code",
      "metadata": {
        "colab": {
          "base_uri": "https://localhost:8080/"
        },
        "id": "143mnYvOKcsC",
        "outputId": "5c90df25-b102-4b9a-c93e-37190cb93280"
      },
      "source": [
        "527748+708002+939+223656"
      ],
      "execution_count": 58,
      "outputs": [
        {
          "output_type": "execute_result",
          "data": {
            "text/plain": [
              "1460345"
            ]
          },
          "metadata": {},
          "execution_count": 58
        }
      ]
    },
    {
      "cell_type": "code",
      "metadata": {
        "id": "oqAYIw8oK8Kb"
      },
      "source": [
        "cc3 = ['En estudio', 'Relacionado','Comunitario','Importado']\n",
        "data3 = [708002,527748,223656,939]"
      ],
      "execution_count": 66,
      "outputs": []
    },
    {
      "cell_type": "code",
      "metadata": {
        "colab": {
          "base_uri": "https://localhost:8080/",
          "height": 295
        },
        "id": "JfT3JNrlJad2",
        "outputId": "be8df273-6603-409d-842f-5ed9dd817921"
      },
      "source": [
        "plt.barh(cc3,data3, color = ['green'])\n",
        "plt.title('GRAFICO TIPO DE CONTAGIO - COVID 19')\n",
        "plt.xlabel('CANTIDAD')\n",
        "plt.ylabel('TIPO DE CONTAGIO')\n",
        "plt.show()"
      ],
      "execution_count": 67,
      "outputs": [
        {
          "output_type": "display_data",
          "data": {
            "image/png": "[encoded data removed]",
            "text/plain": [
              "<Figure size 432x288 with 1 Axes>"
            ]
          },
          "metadata": {
            "needs_background": "light"
          }
        }
      ]
    },
    {
      "cell_type": "markdown",
      "metadata": {
        "id": "1cL5mmM7MSBZ"
      },
      "source": [
        "Conforme al grafico anterior se puede decir que la cantidad de personas contagiadas por \"Importado\" son minimas. Es decir, los individuos que fueron contagiados en otros paises diferentes a Colombia fueron 939 aproximadamente. Como el Covid 19 es un virus que aparecio de forma \"reciente\" aun no se tienen registros actualizados frente al tipo de contagio, por ende, la mayor cantidad de personas todavia se encuentran en ese proceso de estudio.\n",
        "Finalmente aquellos quienes estan dentro del contagio comunitario y relacionado (527.748 = Relacionado y 223.656 = Comunitario) adquirieron el virus en el pais."
      ]
    },
    {
      "cell_type": "code",
      "metadata": {
        "colab": {
          "base_uri": "https://localhost:8080/",
          "height": 450
        },
        "id": "6FEthFCVOkCl",
        "outputId": "496ee0f0-cc8e-46ce-850b-4beba9e43533"
      },
      "source": [
        "base"
      ],
      "execution_count": 80,
      "outputs": [
        {
          "output_type": "execute_result",
          "data": {
            "text/html": [
              "<div>\n",
              "<style scoped>\n",
              "    .dataframe tbody tr th:only-of-type {\n",
              "        vertical-align: middle;\n",
              "    }\n",
              "\n",
              "    .dataframe tbody tr th {\n",
              "        vertical-align: top;\n",
              "    }\n",
              "\n",
              "    .dataframe thead th {\n",
              "        text-align: right;\n",
              "    }\n",
              "</style>\n",
              "<table border=\"1\" class=\"dataframe\">\n",
              "  <thead>\n",
              "    <tr style=\"text-align: right;\">\n",
              "      <th></th>\n",
              "      <th>Cantidad</th>\n",
              "    </tr>\n",
              "    <tr>\n",
              "      <th>Fecha de diagnóstico</th>\n",
              "      <th></th>\n",
              "    </tr>\n",
              "  </thead>\n",
              "  <tbody>\n",
              "    <tr>\n",
              "      <th>2020-03-06</th>\n",
              "      <td>1</td>\n",
              "    </tr>\n",
              "    <tr>\n",
              "      <th>2020-03-11</th>\n",
              "      <td>2</td>\n",
              "    </tr>\n",
              "    <tr>\n",
              "      <th>2020-03-12</th>\n",
              "      <td>2</td>\n",
              "    </tr>\n",
              "    <tr>\n",
              "      <th>2020-03-13</th>\n",
              "      <td>1</td>\n",
              "    </tr>\n",
              "    <tr>\n",
              "      <th>2020-03-14</th>\n",
              "      <td>10</td>\n",
              "    </tr>\n",
              "    <tr>\n",
              "      <th>...</th>\n",
              "      <td>...</td>\n",
              "    </tr>\n",
              "    <tr>\n",
              "      <th>2021-11-17</th>\n",
              "      <td>280</td>\n",
              "    </tr>\n",
              "    <tr>\n",
              "      <th>2021-11-18</th>\n",
              "      <td>369</td>\n",
              "    </tr>\n",
              "    <tr>\n",
              "      <th>2021-11-19</th>\n",
              "      <td>312</td>\n",
              "    </tr>\n",
              "    <tr>\n",
              "      <th>2021-11-20</th>\n",
              "      <td>220</td>\n",
              "    </tr>\n",
              "    <tr>\n",
              "      <th>2021-11-21</th>\n",
              "      <td>35</td>\n",
              "    </tr>\n",
              "  </tbody>\n",
              "</table>\n",
              "<p>622 rows × 1 columns</p>\n",
              "</div>"
            ],
            "text/plain": [
              "                      Cantidad\n",
              "Fecha de diagnóstico          \n",
              "2020-03-06                   1\n",
              "2020-03-11                   2\n",
              "2020-03-12                   2\n",
              "2020-03-13                   1\n",
              "2020-03-14                  10\n",
              "...                        ...\n",
              "2021-11-17                 280\n",
              "2021-11-18                 369\n",
              "2021-11-19                 312\n",
              "2021-11-20                 220\n",
              "2021-11-21                  35\n",
              "\n",
              "[622 rows x 1 columns]"
            ]
          },
          "metadata": {},
          "execution_count": 80
        }
      ]
    },
    {
      "cell_type": "code",
      "metadata": {
        "colab": {
          "base_uri": "https://localhost:8080/",
          "height": 407
        },
        "id": "xA3VA-DBJaWA",
        "outputId": "e4b120b7-6cf8-4905-e6a4-81df4afec862"
      },
      "source": [
        "#CUARENTENA\n",
        "fig,ax = plt.subplots(1,1,figsize = (10,6))\n",
        "ax.plot(base['Cantidad'])\n",
        "ax.axvspan(pd.Timestamp('2020-03-25'), pd.Timestamp('2020-08-31'), alpha = 0.2, color = 'green')\n",
        "ax.set_title('Cuarentena')"
      ],
      "execution_count": 81,
      "outputs": [
        {
          "output_type": "execute_result",
          "data": {
            "text/plain": [
              "Text(0.5, 1.0, 'Cuarentena')"
            ]
          },
          "metadata": {},
          "execution_count": 81
        },
        {
          "output_type": "display_data",
          "data": {
            "image/png": "[encoded data removed]",
            "text/plain": [
              "<Figure size 720x432 with 1 Axes>"
            ]
          },
          "metadata": {
            "needs_background": "light"
          }
        }
      ]
    },
    {
      "cell_type": "markdown",
      "metadata": {
        "id": "U6dbI2_WTa7T"
      },
      "source": [
        "De acuerdo al grafico anterior se puede observar que a pesar de estar en cuarentena las siguientes dos olas aumentaron y en mayor potencia con un numero mayor en casos de contagios."
      ]
    },
    {
      "cell_type": "code",
      "metadata": {
        "colab": {
          "base_uri": "https://localhost:8080/",
          "height": 407
        },
        "id": "0dzdmvqWQAu_",
        "outputId": "f42eaf1f-6adf-4a4e-b518-284d93ffcb90"
      },
      "source": [
        "fig,ax = plt.subplots(1,1,figsize = (10,6))\n",
        "ax.plot(base['Cantidad'])\n",
        "ax.axvspan(pd.Timestamp('2021-06-08'), pd.Timestamp('2021-08-26'), alpha = 0.2, color = 'green')\n",
        "ax.axvspan(pd.Timestamp('2021-05-31'), pd.Timestamp('2021-06-08'), alpha = 0.2, color = 'red')\n",
        "ax.set_title('Cuarentena')"
      ],
      "execution_count": 83,
      "outputs": [
        {
          "output_type": "execute_result",
          "data": {
            "text/plain": [
              "Text(0.5, 1.0, 'Cuarentena')"
            ]
          },
          "metadata": {},
          "execution_count": 83
        },
        {
          "output_type": "display_data",
          "data": {
            "image/png": "[encoded data removed]",
            "text/plain": [
              "<Figure size 720x432 with 1 Axes>"
            ]
          },
          "metadata": {
            "needs_background": "light"
          }
        }
      ]
    },
    {
      "cell_type": "markdown",
      "metadata": {
        "id": "v-vZlv9gSGDJ"
      },
      "source": [
        "La zona pintada de rojo hace referencia a la fecha del 5 de mayo del 2021 donde se presento la ola mas alta en Bogota.En la mayoria de zonas del país contaban con UCI por encima del 85%. \"Eso incluye, por ahora, a Bogotá, que se estaba preparando aperturas de ese estilo desde el próximo 8 de junio del 2021.\" [https://www.portafolio.co/economia/gobierno/decreto-580-del-gobierno-para-la-reactivacion-economica-en-colombia-552501]\n",
        "Se supone que  con una ocupación superior al 85% no se debio habilitar discotecas y lugares de baile, ni habilitar eventos públicos o privados que impliquen aglomeraciones. sin embargo, el 8 de junio del 2021 (Zona resaltada en verde) se realizó la apertura a pesar de tener registros tan altos en contagios donde la mayoria eran jovenes y adultos. Noticia tomada del 7 de junio del 2021 [https://bogota.gov.co/mi-ciudad/administracion-distrital/bares-y-gastrobares-podran-cerrar-la-1-am-desde-el-8-de-junio] \n"
      ]
    },
    {
      "cell_type": "markdown",
      "metadata": {
        "id": "SWM5cnsnqAWz"
      },
      "source": [
        "#Prueba Estacionariedad"
      ]
    },
    {
      "cell_type": "code",
      "metadata": {
        "colab": {
          "base_uri": "https://localhost:8080/",
          "height": 419
        },
        "id": "MLi_8OiZqDMV",
        "outputId": "b58fb1dd-86b9-4e86-b7f6-138a57c100f9"
      },
      "source": [
        "base"
      ],
      "execution_count": 267,
      "outputs": [
        {
          "output_type": "execute_result",
          "data": {
            "text/html": [
              "<div>\n",
              "<style scoped>\n",
              "    .dataframe tbody tr th:only-of-type {\n",
              "        vertical-align: middle;\n",
              "    }\n",
              "\n",
              "    .dataframe tbody tr th {\n",
              "        vertical-align: top;\n",
              "    }\n",
              "\n",
              "    .dataframe thead th {\n",
              "        text-align: right;\n",
              "    }\n",
              "</style>\n",
              "<table border=\"1\" class=\"dataframe\">\n",
              "  <thead>\n",
              "    <tr style=\"text-align: right;\">\n",
              "      <th></th>\n",
              "      <th>Fecha de diagnóstico</th>\n",
              "      <th>Cantidad</th>\n",
              "    </tr>\n",
              "  </thead>\n",
              "  <tbody>\n",
              "    <tr>\n",
              "      <th>0</th>\n",
              "      <td>2020-03-06</td>\n",
              "      <td>1</td>\n",
              "    </tr>\n",
              "    <tr>\n",
              "      <th>1</th>\n",
              "      <td>2020-03-11</td>\n",
              "      <td>2</td>\n",
              "    </tr>\n",
              "    <tr>\n",
              "      <th>2</th>\n",
              "      <td>2020-03-12</td>\n",
              "      <td>2</td>\n",
              "    </tr>\n",
              "    <tr>\n",
              "      <th>3</th>\n",
              "      <td>2020-03-13</td>\n",
              "      <td>1</td>\n",
              "    </tr>\n",
              "    <tr>\n",
              "      <th>4</th>\n",
              "      <td>2020-03-14</td>\n",
              "      <td>10</td>\n",
              "    </tr>\n",
              "    <tr>\n",
              "      <th>...</th>\n",
              "      <td>...</td>\n",
              "      <td>...</td>\n",
              "    </tr>\n",
              "    <tr>\n",
              "      <th>617</th>\n",
              "      <td>2021-11-17</td>\n",
              "      <td>280</td>\n",
              "    </tr>\n",
              "    <tr>\n",
              "      <th>618</th>\n",
              "      <td>2021-11-18</td>\n",
              "      <td>369</td>\n",
              "    </tr>\n",
              "    <tr>\n",
              "      <th>619</th>\n",
              "      <td>2021-11-19</td>\n",
              "      <td>312</td>\n",
              "    </tr>\n",
              "    <tr>\n",
              "      <th>620</th>\n",
              "      <td>2021-11-20</td>\n",
              "      <td>220</td>\n",
              "    </tr>\n",
              "    <tr>\n",
              "      <th>621</th>\n",
              "      <td>2021-11-21</td>\n",
              "      <td>35</td>\n",
              "    </tr>\n",
              "  </tbody>\n",
              "</table>\n",
              "<p>622 rows × 2 columns</p>\n",
              "</div>"
            ],
            "text/plain": [
              "    Fecha de diagnóstico  Cantidad\n",
              "0             2020-03-06         1\n",
              "1             2020-03-11         2\n",
              "2             2020-03-12         2\n",
              "3             2020-03-13         1\n",
              "4             2020-03-14        10\n",
              "..                   ...       ...\n",
              "617           2021-11-17       280\n",
              "618           2021-11-18       369\n",
              "619           2021-11-19       312\n",
              "620           2021-11-20       220\n",
              "621           2021-11-21        35\n",
              "\n",
              "[622 rows x 2 columns]"
            ]
          },
          "metadata": {},
          "execution_count": 267
        }
      ]
    },
    {
      "cell_type": "code",
      "metadata": {
        "id": "xBeRJ9wGqFGD"
      },
      "source": [
        "from statsmodels.tsa.stattools import adfuller\n",
        "def adfuller_test(serie):\n",
        "  dftest = adfuller(serie, autolag = 'AIC')\n",
        "  dfoutput = pd.Series(dftest[0:4],\n",
        "                       index = ['Test Statistic',\n",
        "                                'p_value',\n",
        "                                'No lags used',\n",
        "                                'Number of observations used'])\n",
        "  for key, value in dftest[4].items():\n",
        "    dfoutput[key] = value\n",
        "  print(dfoutput)\n",
        "  if dftest[1] <= 0.05:\n",
        "    print(dftest[1])\n",
        "    print('Es estacionaria')\n",
        "  else:\n",
        "    print(dftest[1])\n",
        "    print('No Es estacionaria')"
      ],
      "execution_count": 263,
      "outputs": []
    },
    {
      "cell_type": "code",
      "metadata": {
        "colab": {
          "base_uri": "https://localhost:8080/"
        },
        "id": "HKwCVvDYrzZo",
        "outputId": "4be8af72-6562-4d5f-9e56-27cd827db6b2"
      },
      "source": [
        "adfuller_test(base['Cantidad']) "
      ],
      "execution_count": 265,
      "outputs": [
        {
          "output_type": "stream",
          "name": "stdout",
          "text": [
            "Test Statistic                  -2.941575\n",
            "p_value                          0.040723\n",
            "No lags used                    17.000000\n",
            "Number of observations used    604.000000\n",
            "1%                              -3.441223\n",
            "5%                              -2.866337\n",
            "10%                             -2.569325\n",
            "dtype: float64\n",
            "0.04072265031497215\n",
            "Es estacionaria\n"
          ]
        }
      ]
    },
    {
      "cell_type": "markdown",
      "metadata": {
        "id": "KzKYhRa1s32J"
      },
      "source": [
        "Una vez que tenemos confirmado que nuestra serie es estacionaria, podemos hacer pronóstico."
      ]
    },
    {
      "cell_type": "markdown",
      "metadata": {
        "id": "6uaCBUVIEoYE"
      },
      "source": [
        "#Otros modelos\n",
        "\n",
        "\n",
        "\n"
      ]
    },
    {
      "cell_type": "code",
      "metadata": {
        "id": "jS3cHYuLFoxW"
      },
      "source": [
        "from xgboost import XGBRegressor"
      ],
      "execution_count": 68,
      "outputs": []
    },
    {
      "cell_type": "code",
      "metadata": {
        "id": "JMI0dU6ZXWio"
      },
      "source": [
        "base_1 = pd.DataFrame(covi['Fecha de diagnóstico'])\n",
        "base_1 = base.assign(Cantidad=1)\n",
        "base_1 = base.groupby('Fecha de diagnóstico').sum()\n",
        "base_1.reset_index(inplace=True)"
      ],
      "execution_count": 169,
      "outputs": []
    },
    {
      "cell_type": "code",
      "metadata": {
        "colab": {
          "base_uri": "https://localhost:8080/",
          "height": 419
        },
        "id": "PwBKeSYilGqS",
        "outputId": "5477005d-4a9d-49d1-99aa-4b27e2d6ba67"
      },
      "source": [
        "base_1"
      ],
      "execution_count": 278,
      "outputs": [
        {
          "output_type": "execute_result",
          "data": {
            "text/html": [
              "<div>\n",
              "<style scoped>\n",
              "    .dataframe tbody tr th:only-of-type {\n",
              "        vertical-align: middle;\n",
              "    }\n",
              "\n",
              "    .dataframe tbody tr th {\n",
              "        vertical-align: top;\n",
              "    }\n",
              "\n",
              "    .dataframe thead th {\n",
              "        text-align: right;\n",
              "    }\n",
              "</style>\n",
              "<table border=\"1\" class=\"dataframe\">\n",
              "  <thead>\n",
              "    <tr style=\"text-align: right;\">\n",
              "      <th></th>\n",
              "      <th>Fecha de diagnóstico</th>\n",
              "      <th>Cantidad</th>\n",
              "    </tr>\n",
              "  </thead>\n",
              "  <tbody>\n",
              "    <tr>\n",
              "      <th>0</th>\n",
              "      <td>2020-03-06</td>\n",
              "      <td>1</td>\n",
              "    </tr>\n",
              "    <tr>\n",
              "      <th>1</th>\n",
              "      <td>2020-03-11</td>\n",
              "      <td>2</td>\n",
              "    </tr>\n",
              "    <tr>\n",
              "      <th>2</th>\n",
              "      <td>2020-03-12</td>\n",
              "      <td>2</td>\n",
              "    </tr>\n",
              "    <tr>\n",
              "      <th>3</th>\n",
              "      <td>2020-03-13</td>\n",
              "      <td>1</td>\n",
              "    </tr>\n",
              "    <tr>\n",
              "      <th>4</th>\n",
              "      <td>2020-03-14</td>\n",
              "      <td>10</td>\n",
              "    </tr>\n",
              "    <tr>\n",
              "      <th>...</th>\n",
              "      <td>...</td>\n",
              "      <td>...</td>\n",
              "    </tr>\n",
              "    <tr>\n",
              "      <th>617</th>\n",
              "      <td>2021-11-17</td>\n",
              "      <td>280</td>\n",
              "    </tr>\n",
              "    <tr>\n",
              "      <th>618</th>\n",
              "      <td>2021-11-18</td>\n",
              "      <td>369</td>\n",
              "    </tr>\n",
              "    <tr>\n",
              "      <th>619</th>\n",
              "      <td>2021-11-19</td>\n",
              "      <td>312</td>\n",
              "    </tr>\n",
              "    <tr>\n",
              "      <th>620</th>\n",
              "      <td>2021-11-20</td>\n",
              "      <td>220</td>\n",
              "    </tr>\n",
              "    <tr>\n",
              "      <th>621</th>\n",
              "      <td>2021-11-21</td>\n",
              "      <td>35</td>\n",
              "    </tr>\n",
              "  </tbody>\n",
              "</table>\n",
              "<p>622 rows × 2 columns</p>\n",
              "</div>"
            ],
            "text/plain": [
              "    Fecha de diagnóstico  Cantidad\n",
              "0             2020-03-06         1\n",
              "1             2020-03-11         2\n",
              "2             2020-03-12         2\n",
              "3             2020-03-13         1\n",
              "4             2020-03-14        10\n",
              "..                   ...       ...\n",
              "617           2021-11-17       280\n",
              "618           2021-11-18       369\n",
              "619           2021-11-19       312\n",
              "620           2021-11-20       220\n",
              "621           2021-11-21        35\n",
              "\n",
              "[622 rows x 2 columns]"
            ]
          },
          "metadata": {},
          "execution_count": 278
        }
      ]
    },
    {
      "cell_type": "code",
      "metadata": {
        "colab": {
          "base_uri": "https://localhost:8080/",
          "height": 450
        },
        "id": "muCpcUCZB002",
        "outputId": "f909900a-0998-4c70-a142-35237209cfea"
      },
      "source": [
        "base"
      ],
      "execution_count": 335,
      "outputs": [
        {
          "output_type": "execute_result",
          "data": {
            "text/html": [
              "<div>\n",
              "<style scoped>\n",
              "    .dataframe tbody tr th:only-of-type {\n",
              "        vertical-align: middle;\n",
              "    }\n",
              "\n",
              "    .dataframe tbody tr th {\n",
              "        vertical-align: top;\n",
              "    }\n",
              "\n",
              "    .dataframe thead th {\n",
              "        text-align: right;\n",
              "    }\n",
              "</style>\n",
              "<table border=\"1\" class=\"dataframe\">\n",
              "  <thead>\n",
              "    <tr style=\"text-align: right;\">\n",
              "      <th></th>\n",
              "      <th>Cantidad</th>\n",
              "    </tr>\n",
              "    <tr>\n",
              "      <th>Fecha de diagnóstico</th>\n",
              "      <th></th>\n",
              "    </tr>\n",
              "  </thead>\n",
              "  <tbody>\n",
              "    <tr>\n",
              "      <th>2020-03-06</th>\n",
              "      <td>1</td>\n",
              "    </tr>\n",
              "    <tr>\n",
              "      <th>2020-03-11</th>\n",
              "      <td>2</td>\n",
              "    </tr>\n",
              "    <tr>\n",
              "      <th>2020-03-12</th>\n",
              "      <td>2</td>\n",
              "    </tr>\n",
              "    <tr>\n",
              "      <th>2020-03-13</th>\n",
              "      <td>1</td>\n",
              "    </tr>\n",
              "    <tr>\n",
              "      <th>2020-03-14</th>\n",
              "      <td>10</td>\n",
              "    </tr>\n",
              "    <tr>\n",
              "      <th>...</th>\n",
              "      <td>...</td>\n",
              "    </tr>\n",
              "    <tr>\n",
              "      <th>2021-11-17</th>\n",
              "      <td>280</td>\n",
              "    </tr>\n",
              "    <tr>\n",
              "      <th>2021-11-18</th>\n",
              "      <td>369</td>\n",
              "    </tr>\n",
              "    <tr>\n",
              "      <th>2021-11-19</th>\n",
              "      <td>312</td>\n",
              "    </tr>\n",
              "    <tr>\n",
              "      <th>2021-11-20</th>\n",
              "      <td>220</td>\n",
              "    </tr>\n",
              "    <tr>\n",
              "      <th>2021-11-21</th>\n",
              "      <td>35</td>\n",
              "    </tr>\n",
              "  </tbody>\n",
              "</table>\n",
              "<p>622 rows × 1 columns</p>\n",
              "</div>"
            ],
            "text/plain": [
              "                      Cantidad\n",
              "Fecha de diagnóstico          \n",
              "2020-03-06                   1\n",
              "2020-03-11                   2\n",
              "2020-03-12                   2\n",
              "2020-03-13                   1\n",
              "2020-03-14                  10\n",
              "...                        ...\n",
              "2021-11-17                 280\n",
              "2021-11-18                 369\n",
              "2021-11-19                 312\n",
              "2021-11-20                 220\n",
              "2021-11-21                  35\n",
              "\n",
              "[622 rows x 1 columns]"
            ]
          },
          "metadata": {},
          "execution_count": 335
        }
      ]
    },
    {
      "cell_type": "code",
      "metadata": {
        "id": "TwYh6YHlWxko"
      },
      "source": [
        "def extraer_info(s):\n",
        "\n",
        "   X = pd.DataFrame()\n",
        "   X['dia'] = s.index.day\n",
        "   X['mes'] = s.index.month\n",
        "   X['trimestre'] = s.index.quarter\n",
        "   X['diasemana'] = s.index.dayofweek\n",
        "   X['diaaño'] = s.index.dayofyear\n",
        "   X['semanaaño'] = s.index.weekofyear\n",
        "\n",
        "   y=s.Cantidad\n",
        "\n",
        "   return X, y"
      ],
      "execution_count": 215,
      "outputs": []
    },
    {
      "cell_type": "code",
      "metadata": {
        "colab": {
          "base_uri": "https://localhost:8080/"
        },
        "id": "DFiTlXaNXA5x",
        "outputId": "f075c64c-12e0-4173-ee41-3419616fd9ac"
      },
      "source": [
        "F = extraer_info(base)"
      ],
      "execution_count": 216,
      "outputs": [
        {
          "output_type": "stream",
          "name": "stderr",
          "text": [
            "/usr/local/lib/python3.7/dist-packages/ipykernel_launcher.py:9: FutureWarning: weekofyear and week have been deprecated, please use DatetimeIndex.isocalendar().week instead, which returns a Series.  To exactly reproduce the behavior of week and weekofyear and return an Index, you may call pd.Int64Index(idx.isocalendar().week)\n",
            "  if __name__ == '__main__':\n"
          ]
        }
      ]
    },
    {
      "cell_type": "code",
      "metadata": {
        "id": "jahIjbEva1QR"
      },
      "source": [
        "X = F[0]"
      ],
      "execution_count": 347,
      "outputs": []
    },
    {
      "cell_type": "code",
      "metadata": {
        "id": "pju7ZtuRaMbt"
      },
      "source": [
        "Y = F[1]"
      ],
      "execution_count": 348,
      "outputs": []
    },
    {
      "cell_type": "code",
      "metadata": {
        "id": "JV5S5UyF7NHf"
      },
      "source": [
        "Y = base_1['Cantidad']"
      ],
      "execution_count": 349,
      "outputs": []
    },
    {
      "cell_type": "code",
      "metadata": {
        "id": "XyHdJsfGAxrJ"
      },
      "source": [
        "base_final = pd.concat([X,Y], axis = 1)"
      ],
      "execution_count": 350,
      "outputs": []
    },
    {
      "cell_type": "code",
      "metadata": {
        "colab": {
          "base_uri": "https://localhost:8080/",
          "height": 419
        },
        "id": "K5GcpAASA5DK",
        "outputId": "80274e4f-4188-43db-89aa-990cc8e5fef1"
      },
      "source": [
        "base_final"
      ],
      "execution_count": 351,
      "outputs": [
        {
          "output_type": "execute_result",
          "data": {
            "text/html": [
              "<div>\n",
              "<style scoped>\n",
              "    .dataframe tbody tr th:only-of-type {\n",
              "        vertical-align: middle;\n",
              "    }\n",
              "\n",
              "    .dataframe tbody tr th {\n",
              "        vertical-align: top;\n",
              "    }\n",
              "\n",
              "    .dataframe thead th {\n",
              "        text-align: right;\n",
              "    }\n",
              "</style>\n",
              "<table border=\"1\" class=\"dataframe\">\n",
              "  <thead>\n",
              "    <tr style=\"text-align: right;\">\n",
              "      <th></th>\n",
              "      <th>dia</th>\n",
              "      <th>mes</th>\n",
              "      <th>trimestre</th>\n",
              "      <th>diasemana</th>\n",
              "      <th>diaaño</th>\n",
              "      <th>semanaaño</th>\n",
              "      <th>Cantidad</th>\n",
              "    </tr>\n",
              "  </thead>\n",
              "  <tbody>\n",
              "    <tr>\n",
              "      <th>0</th>\n",
              "      <td>6</td>\n",
              "      <td>3</td>\n",
              "      <td>1</td>\n",
              "      <td>4</td>\n",
              "      <td>66</td>\n",
              "      <td>10</td>\n",
              "      <td>1</td>\n",
              "    </tr>\n",
              "    <tr>\n",
              "      <th>1</th>\n",
              "      <td>11</td>\n",
              "      <td>3</td>\n",
              "      <td>1</td>\n",
              "      <td>2</td>\n",
              "      <td>71</td>\n",
              "      <td>11</td>\n",
              "      <td>2</td>\n",
              "    </tr>\n",
              "    <tr>\n",
              "      <th>2</th>\n",
              "      <td>12</td>\n",
              "      <td>3</td>\n",
              "      <td>1</td>\n",
              "      <td>3</td>\n",
              "      <td>72</td>\n",
              "      <td>11</td>\n",
              "      <td>2</td>\n",
              "    </tr>\n",
              "    <tr>\n",
              "      <th>3</th>\n",
              "      <td>13</td>\n",
              "      <td>3</td>\n",
              "      <td>1</td>\n",
              "      <td>4</td>\n",
              "      <td>73</td>\n",
              "      <td>11</td>\n",
              "      <td>1</td>\n",
              "    </tr>\n",
              "    <tr>\n",
              "      <th>4</th>\n",
              "      <td>14</td>\n",
              "      <td>3</td>\n",
              "      <td>1</td>\n",
              "      <td>5</td>\n",
              "      <td>74</td>\n",
              "      <td>11</td>\n",
              "      <td>10</td>\n",
              "    </tr>\n",
              "    <tr>\n",
              "      <th>...</th>\n",
              "      <td>...</td>\n",
              "      <td>...</td>\n",
              "      <td>...</td>\n",
              "      <td>...</td>\n",
              "      <td>...</td>\n",
              "      <td>...</td>\n",
              "      <td>...</td>\n",
              "    </tr>\n",
              "    <tr>\n",
              "      <th>617</th>\n",
              "      <td>17</td>\n",
              "      <td>11</td>\n",
              "      <td>4</td>\n",
              "      <td>2</td>\n",
              "      <td>321</td>\n",
              "      <td>46</td>\n",
              "      <td>280</td>\n",
              "    </tr>\n",
              "    <tr>\n",
              "      <th>618</th>\n",
              "      <td>18</td>\n",
              "      <td>11</td>\n",
              "      <td>4</td>\n",
              "      <td>3</td>\n",
              "      <td>322</td>\n",
              "      <td>46</td>\n",
              "      <td>369</td>\n",
              "    </tr>\n",
              "    <tr>\n",
              "      <th>619</th>\n",
              "      <td>19</td>\n",
              "      <td>11</td>\n",
              "      <td>4</td>\n",
              "      <td>4</td>\n",
              "      <td>323</td>\n",
              "      <td>46</td>\n",
              "      <td>312</td>\n",
              "    </tr>\n",
              "    <tr>\n",
              "      <th>620</th>\n",
              "      <td>20</td>\n",
              "      <td>11</td>\n",
              "      <td>4</td>\n",
              "      <td>5</td>\n",
              "      <td>324</td>\n",
              "      <td>46</td>\n",
              "      <td>220</td>\n",
              "    </tr>\n",
              "    <tr>\n",
              "      <th>621</th>\n",
              "      <td>21</td>\n",
              "      <td>11</td>\n",
              "      <td>4</td>\n",
              "      <td>6</td>\n",
              "      <td>325</td>\n",
              "      <td>46</td>\n",
              "      <td>35</td>\n",
              "    </tr>\n",
              "  </tbody>\n",
              "</table>\n",
              "<p>622 rows × 7 columns</p>\n",
              "</div>"
            ],
            "text/plain": [
              "     dia  mes  trimestre  diasemana  diaaño  semanaaño  Cantidad\n",
              "0      6    3          1          4      66         10         1\n",
              "1     11    3          1          2      71         11         2\n",
              "2     12    3          1          3      72         11         2\n",
              "3     13    3          1          4      73         11         1\n",
              "4     14    3          1          5      74         11        10\n",
              "..   ...  ...        ...        ...     ...        ...       ...\n",
              "617   17   11          4          2     321         46       280\n",
              "618   18   11          4          3     322         46       369\n",
              "619   19   11          4          4     323         46       312\n",
              "620   20   11          4          5     324         46       220\n",
              "621   21   11          4          6     325         46        35\n",
              "\n",
              "[622 rows x 7 columns]"
            ]
          },
          "metadata": {},
          "execution_count": 351
        }
      ]
    },
    {
      "cell_type": "code",
      "metadata": {
        "id": "pl-RshxyA75N"
      },
      "source": [
        "X = base_final.drop(columns='Cantidad')\n",
        "Y = base_final['Cantidad']"
      ],
      "execution_count": 387,
      "outputs": []
    },
    {
      "cell_type": "code",
      "metadata": {
        "id": "tpu4fq2QGkWS"
      },
      "source": [
        "X_train, y_train = X[:506], Y[:506]\n",
        "X_test, y_test = X[506:612], Y[506:612]\n",
        "X_fore = X[612:]"
      ],
      "execution_count": 399,
      "outputs": []
    },
    {
      "cell_type": "code",
      "metadata": {
        "id": "gciK5MvbGbOL"
      },
      "source": [
        "from sklearn.preprocessing import MinMaxScaler"
      ],
      "execution_count": 400,
      "outputs": []
    },
    {
      "cell_type": "code",
      "metadata": {
        "id": "-T_Ir_tbG05G"
      },
      "source": [
        "sc = MinMaxScaler(feature_range=(0,1))\n",
        "X_train = sc.fit_transform(X_train)\n",
        "X_test = sc.transform(X_test)\n",
        "X_fore = sc.transform(X_fore)"
      ],
      "execution_count": 401,
      "outputs": []
    },
    {
      "cell_type": "code",
      "metadata": {
        "colab": {
          "base_uri": "https://localhost:8080/"
        },
        "id": "ELY0YBIVEr3-",
        "outputId": "42f31dbd-d6d1-4150-bf5d-d4aaa8ba2908"
      },
      "source": [
        "xgb_reg = XGBRegressor(n_estimators=200, max_depth=3)\n",
        "xgb_reg.fit(X_train, y_train)\n",
        "y_t = xgb_reg.predict(X_train)\n",
        "y_pred = xgb_reg.predict(X_test)"
      ],
      "execution_count": 402,
      "outputs": [
        {
          "output_type": "stream",
          "name": "stdout",
          "text": [
            "[17:22:04] WARNING: /workspace/src/objective/regression_obj.cu:152: reg:linear is now deprecated in favor of reg:squarederror.\n"
          ]
        }
      ]
    },
    {
      "cell_type": "code",
      "metadata": {
        "id": "OymvTtfbFfyr"
      },
      "source": [
        "y_t = pd.DataFrame(y_t, index = y_train.index)\n",
        "y_pred = pd.DataFrame(y_pred, index = y_test.index)\n",
        "y_fore_xgb = pd.DataFrame(xgb_reg.predict(X_fore), index = X.index[612:])"
      ],
      "execution_count": 403,
      "outputs": []
    },
    {
      "cell_type": "code",
      "metadata": {
        "colab": {
          "base_uri": "https://localhost:8080/",
          "height": 419
        },
        "id": "eRb8MVj8g7D4",
        "outputId": "803d2a5c-da53-4748-df11-493a49ee5423"
      },
      "source": [
        "y_pred"
      ],
      "execution_count": 404,
      "outputs": [
        {
          "output_type": "execute_result",
          "data": {
            "text/html": [
              "<div>\n",
              "<style scoped>\n",
              "    .dataframe tbody tr th:only-of-type {\n",
              "        vertical-align: middle;\n",
              "    }\n",
              "\n",
              "    .dataframe tbody tr th {\n",
              "        vertical-align: top;\n",
              "    }\n",
              "\n",
              "    .dataframe thead th {\n",
              "        text-align: right;\n",
              "    }\n",
              "</style>\n",
              "<table border=\"1\" class=\"dataframe\">\n",
              "  <thead>\n",
              "    <tr style=\"text-align: right;\">\n",
              "      <th></th>\n",
              "      <th>0</th>\n",
              "    </tr>\n",
              "  </thead>\n",
              "  <tbody>\n",
              "    <tr>\n",
              "      <th>506</th>\n",
              "      <td>3041.439209</td>\n",
              "    </tr>\n",
              "    <tr>\n",
              "      <th>507</th>\n",
              "      <td>2760.745361</td>\n",
              "    </tr>\n",
              "    <tr>\n",
              "      <th>508</th>\n",
              "      <td>1935.898804</td>\n",
              "    </tr>\n",
              "    <tr>\n",
              "      <th>509</th>\n",
              "      <td>2916.319092</td>\n",
              "    </tr>\n",
              "    <tr>\n",
              "      <th>510</th>\n",
              "      <td>3669.109131</td>\n",
              "    </tr>\n",
              "    <tr>\n",
              "      <th>...</th>\n",
              "      <td>...</td>\n",
              "    </tr>\n",
              "    <tr>\n",
              "      <th>607</th>\n",
              "      <td>1274.321777</td>\n",
              "    </tr>\n",
              "    <tr>\n",
              "      <th>608</th>\n",
              "      <td>1852.179443</td>\n",
              "    </tr>\n",
              "    <tr>\n",
              "      <th>609</th>\n",
              "      <td>1973.751221</td>\n",
              "    </tr>\n",
              "    <tr>\n",
              "      <th>610</th>\n",
              "      <td>1974.672852</td>\n",
              "    </tr>\n",
              "    <tr>\n",
              "      <th>611</th>\n",
              "      <td>1974.672852</td>\n",
              "    </tr>\n",
              "  </tbody>\n",
              "</table>\n",
              "<p>106 rows × 1 columns</p>\n",
              "</div>"
            ],
            "text/plain": [
              "               0\n",
              "506  3041.439209\n",
              "507  2760.745361\n",
              "508  1935.898804\n",
              "509  2916.319092\n",
              "510  3669.109131\n",
              "..           ...\n",
              "607  1274.321777\n",
              "608  1852.179443\n",
              "609  1973.751221\n",
              "610  1974.672852\n",
              "611  1974.672852\n",
              "\n",
              "[106 rows x 1 columns]"
            ]
          },
          "metadata": {},
          "execution_count": 404
        }
      ]
    },
    {
      "cell_type": "code",
      "metadata": {
        "id": "19eN4xQkciQm"
      },
      "source": [
        "def metricas(y_true, y_pred):\n",
        "  print(f'MSE: {mean_squared_error(y_true, y_pred)}')\n",
        "  print(f'MAE: {mean_absolute_error(y_true, y_pred)}')\n",
        "  print(f'RMSE: {np.sqrt(mean_squared_error(y_true,y_pred))}')"
      ],
      "execution_count": 405,
      "outputs": []
    },
    {
      "cell_type": "code",
      "metadata": {
        "colab": {
          "base_uri": "https://localhost:8080/"
        },
        "id": "wzcX3JYycU8J",
        "outputId": "1f8c10bc-9240-43f3-f5de-b0f1058398ea"
      },
      "source": [
        "print('Métricas del entrenamiento',end='\\n')\n",
        "print('---'*10)\n",
        "metricas(y_train, y_t)\n",
        "print('---'*10)\n",
        "print('Métricas del testeo')\n",
        "print('---'*10)\n",
        "metricas(y_test, y_pred)"
      ],
      "execution_count": 406,
      "outputs": [
        {
          "output_type": "stream",
          "name": "stdout",
          "text": [
            "Métricas del entrenamiento\n",
            "------------------------------\n",
            "MSE: 1568288.2075350932\n",
            "MAE: 921.9329347271222\n",
            "RMSE: 1252.3131427622618\n",
            "------------------------------\n",
            "Métricas del testeo\n",
            "------------------------------\n",
            "MSE: 4410665.754754574\n",
            "MAE: 1971.1504746922906\n",
            "RMSE: 2100.1585070547826\n"
          ]
        }
      ]
    },
    {
      "cell_type": "code",
      "metadata": {
        "id": "zm6pJoFviLIk"
      },
      "source": [
        "import matplotlib.pyplot as plt"
      ],
      "execution_count": 407,
      "outputs": []
    },
    {
      "cell_type": "code",
      "metadata": {
        "colab": {
          "base_uri": "https://localhost:8080/",
          "height": 511
        },
        "id": "P7NsBIFuhdwS",
        "outputId": "323f9496-085d-4c9b-f437-3c56f3c8b51d"
      },
      "source": [
        "plt.figure(figsize=(15,9))\n",
        "plt.plot(Y[:612], label = 'Real')\n",
        "plt.plot(y_pred,alpha = 0.3, label = 'Predicted')\n",
        "plt.plot(y_t,alpha = 0.5, label = 'Training')\n",
        "plt.plot(y_fore_xgb, label = 'Forecast')\n",
        "plt.legend()"
      ],
      "execution_count": 408,
      "outputs": [
        {
          "output_type": "execute_result",
          "data": {
            "text/plain": [
              "<matplotlib.legend.Legend at 0x7f9dd969b750>"
            ]
          },
          "metadata": {},
          "execution_count": 408
        },
        {
          "output_type": "display_data",
          "data": {
            "image/png": "[encoded data removed]",
            "text/plain": [
              "<Figure size 1080x648 with 1 Axes>"
            ]
          },
          "metadata": {
            "needs_background": "light"
          }
        }
      ]
    },
    {
      "cell_type": "code",
      "metadata": {
        "id": "TwfWs-Q27Wi6"
      },
      "source": [
        "#ARBOLES DE DECISIÓN"
      ],
      "execution_count": null,
      "outputs": []
    },
    {
      "cell_type": "code",
      "metadata": {
        "id": "ATFTu1rG4_d4"
      },
      "source": [
        "reg_tree = DecisionTreeRegressor(max_depth=6)\n",
        "reg_tree.fit(X_train, y_train)\n",
        "reg_tree.predict(X_fore)\n",
        "y_pred = reg_tree.predict(X_test)\n",
        "y_fit_train = reg_tree.predict(X_train)"
      ],
      "execution_count": 292,
      "outputs": []
    },
    {
      "cell_type": "code",
      "metadata": {
        "id": "EzehSVnD5FLb"
      },
      "source": [
        "def metricas(y_true, y_pred):\n",
        "  print(f'MSE: {mean_squared_error(y_true, y_pred)}')\n",
        "  print(f'MAE: {mean_absolute_error(y_true, y_pred)}')\n",
        "  print(f'RMSE: {np.sqrt(mean_squared_error(y_true,y_pred))}')"
      ],
      "execution_count": 293,
      "outputs": []
    },
    {
      "cell_type": "code",
      "metadata": {
        "colab": {
          "base_uri": "https://localhost:8080/"
        },
        "id": "vuk9s6aY5HdD",
        "outputId": "77856e43-ff3b-4009-bc5b-400451637739"
      },
      "source": [
        "print('Métricas del entrenamiento',end='\\n')\n",
        "print('---'*10)\n",
        "metricas(y_train, y_fit_train)\n",
        "print('---'*10)\n",
        "print('Métricas del testeo')\n",
        "print('---'*10)\n",
        "metricas(y_test, y_pred) "
      ],
      "execution_count": 294,
      "outputs": [
        {
          "output_type": "stream",
          "name": "stdout",
          "text": [
            "Métricas del entrenamiento\n",
            "------------------------------\n",
            "MSE: 3339939.097410239\n",
            "MAE: 1136.259716713686\n",
            "RMSE: 1827.550025966523\n",
            "------------------------------\n",
            "Métricas del testeo\n",
            "------------------------------\n",
            "MSE: 4525804.403464077\n",
            "MAE: 2011.5547377151152\n",
            "RMSE: 2127.3938054493055\n"
          ]
        }
      ]
    },
    {
      "cell_type": "code",
      "metadata": {
        "id": "o97TrWe65Nmg"
      },
      "source": [
        "y_fit_train = pd.DataFrame(y_fit_train, index = y_train.index)\n",
        "y_pred = pd.DataFrame(y_pred, index = y_test.index)\n",
        "y_fore_tree = pd.DataFrame(reg_tree.predict(X_fore), index = X.index[612:])"
      ],
      "execution_count": 295,
      "outputs": []
    },
    {
      "cell_type": "code",
      "metadata": {
        "colab": {
          "base_uri": "https://localhost:8080/",
          "height": 511
        },
        "id": "yI7MJy6oiJ7L",
        "outputId": "e8061024-dec8-4b86-fe19-216ed8f05bbd"
      },
      "source": [
        "plt.figure(figsize=(15,9))\n",
        "plt.plot(Y[:612], label = 'Real')\n",
        "plt.plot(y_fit_train, alpha = 0.5, label = 'Training')\n",
        "plt.plot(y_pred, alpha = 0.3, label = 'Predicted')\n",
        "plt.plot(y_fore_tree, label = 'Forecast')\n",
        "plt.legend()"
      ],
      "execution_count": 296,
      "outputs": [
        {
          "output_type": "execute_result",
          "data": {
            "text/plain": [
              "<matplotlib.legend.Legend at 0x7f9dd9cc7790>"
            ]
          },
          "metadata": {},
          "execution_count": 296
        },
        {
          "output_type": "display_data",
          "data": {
            "image/png": "[encoded data removed]",
            "text/plain": [
              "<Figure size 1080x648 with 1 Axes>"
            ]
          },
          "metadata": {
            "needs_background": "light"
          }
        }
      ]
    },
    {
      "cell_type": "code",
      "metadata": {
        "id": "arg65cWq3M2d"
      },
      "source": [
        ""
      ],
      "execution_count": null,
      "outputs": []
    },
    {
      "cell_type": "markdown",
      "metadata": {
        "id": "QPk7qLZK-iQr"
      },
      "source": [
        "#Serie de Tiempo LSTM"
      ]
    },
    {
      "cell_type": "code",
      "metadata": {
        "colab": {
          "base_uri": "https://localhost:8080/",
          "height": 235
        },
        "id": "ohpxT1i4wILG",
        "outputId": "088fdc74-f881-45c6-ff00-7f0f56c433ec"
      },
      "source": [
        "import numpy as np\n",
        "np.random.seed(4)\n",
        "import matplotlib.pyplot as plt\n",
        "import pandas as pd\n",
        "\n",
        "dataset = pd.read_excel('base.xlsx', index_col='Fecha de diagnóstico', parse_dates=['Fecha de diagnóstico'])\n",
        "dataset.head()"
      ],
      "execution_count": 100,
      "outputs": [
        {
          "output_type": "execute_result",
          "data": {
            "text/html": [
              "<div>\n",
              "<style scoped>\n",
              "    .dataframe tbody tr th:only-of-type {\n",
              "        vertical-align: middle;\n",
              "    }\n",
              "\n",
              "    .dataframe tbody tr th {\n",
              "        vertical-align: top;\n",
              "    }\n",
              "\n",
              "    .dataframe thead th {\n",
              "        text-align: right;\n",
              "    }\n",
              "</style>\n",
              "<table border=\"1\" class=\"dataframe\">\n",
              "  <thead>\n",
              "    <tr style=\"text-align: right;\">\n",
              "      <th></th>\n",
              "      <th>Unnamed: 0</th>\n",
              "      <th>Cantidad</th>\n",
              "    </tr>\n",
              "    <tr>\n",
              "      <th>Fecha de diagnóstico</th>\n",
              "      <th></th>\n",
              "      <th></th>\n",
              "    </tr>\n",
              "  </thead>\n",
              "  <tbody>\n",
              "    <tr>\n",
              "      <th>2020-03-06</th>\n",
              "      <td>0</td>\n",
              "      <td>1</td>\n",
              "    </tr>\n",
              "    <tr>\n",
              "      <th>2020-03-11</th>\n",
              "      <td>1</td>\n",
              "      <td>2</td>\n",
              "    </tr>\n",
              "    <tr>\n",
              "      <th>2020-03-12</th>\n",
              "      <td>2</td>\n",
              "      <td>2</td>\n",
              "    </tr>\n",
              "    <tr>\n",
              "      <th>2020-03-13</th>\n",
              "      <td>3</td>\n",
              "      <td>1</td>\n",
              "    </tr>\n",
              "    <tr>\n",
              "      <th>2020-03-14</th>\n",
              "      <td>4</td>\n",
              "      <td>10</td>\n",
              "    </tr>\n",
              "  </tbody>\n",
              "</table>\n",
              "</div>"
            ],
            "text/plain": [
              "                      Unnamed: 0  Cantidad\n",
              "Fecha de diagnóstico                      \n",
              "2020-03-06                     0         1\n",
              "2020-03-11                     1         2\n",
              "2020-03-12                     2         2\n",
              "2020-03-13                     3         1\n",
              "2020-03-14                     4        10"
            ]
          },
          "metadata": {},
          "execution_count": 100
        }
      ]
    },
    {
      "cell_type": "code",
      "metadata": {
        "colab": {
          "base_uri": "https://localhost:8080/",
          "height": 450
        },
        "id": "tug2NDIP0vTf",
        "outputId": "376aa5bb-0aff-47f6-86d0-fa657d6dbb71"
      },
      "source": [
        "dataset.drop(['Unnamed: 0'], axis = 1)"
      ],
      "execution_count": 101,
      "outputs": [
        {
          "output_type": "execute_result",
          "data": {
            "text/html": [
              "<div>\n",
              "<style scoped>\n",
              "    .dataframe tbody tr th:only-of-type {\n",
              "        vertical-align: middle;\n",
              "    }\n",
              "\n",
              "    .dataframe tbody tr th {\n",
              "        vertical-align: top;\n",
              "    }\n",
              "\n",
              "    .dataframe thead th {\n",
              "        text-align: right;\n",
              "    }\n",
              "</style>\n",
              "<table border=\"1\" class=\"dataframe\">\n",
              "  <thead>\n",
              "    <tr style=\"text-align: right;\">\n",
              "      <th></th>\n",
              "      <th>Cantidad</th>\n",
              "    </tr>\n",
              "    <tr>\n",
              "      <th>Fecha de diagnóstico</th>\n",
              "      <th></th>\n",
              "    </tr>\n",
              "  </thead>\n",
              "  <tbody>\n",
              "    <tr>\n",
              "      <th>2020-03-06</th>\n",
              "      <td>1</td>\n",
              "    </tr>\n",
              "    <tr>\n",
              "      <th>2020-03-11</th>\n",
              "      <td>2</td>\n",
              "    </tr>\n",
              "    <tr>\n",
              "      <th>2020-03-12</th>\n",
              "      <td>2</td>\n",
              "    </tr>\n",
              "    <tr>\n",
              "      <th>2020-03-13</th>\n",
              "      <td>1</td>\n",
              "    </tr>\n",
              "    <tr>\n",
              "      <th>2020-03-14</th>\n",
              "      <td>10</td>\n",
              "    </tr>\n",
              "    <tr>\n",
              "      <th>...</th>\n",
              "      <td>...</td>\n",
              "    </tr>\n",
              "    <tr>\n",
              "      <th>2021-11-17</th>\n",
              "      <td>280</td>\n",
              "    </tr>\n",
              "    <tr>\n",
              "      <th>2021-11-18</th>\n",
              "      <td>369</td>\n",
              "    </tr>\n",
              "    <tr>\n",
              "      <th>2021-11-19</th>\n",
              "      <td>312</td>\n",
              "    </tr>\n",
              "    <tr>\n",
              "      <th>2021-11-20</th>\n",
              "      <td>220</td>\n",
              "    </tr>\n",
              "    <tr>\n",
              "      <th>2021-11-21</th>\n",
              "      <td>35</td>\n",
              "    </tr>\n",
              "  </tbody>\n",
              "</table>\n",
              "<p>622 rows × 1 columns</p>\n",
              "</div>"
            ],
            "text/plain": [
              "                      Cantidad\n",
              "Fecha de diagnóstico          \n",
              "2020-03-06                   1\n",
              "2020-03-11                   2\n",
              "2020-03-12                   2\n",
              "2020-03-13                   1\n",
              "2020-03-14                  10\n",
              "...                        ...\n",
              "2021-11-17                 280\n",
              "2021-11-18                 369\n",
              "2021-11-19                 312\n",
              "2021-11-20                 220\n",
              "2021-11-21                  35\n",
              "\n",
              "[622 rows x 1 columns]"
            ]
          },
          "metadata": {},
          "execution_count": 101
        }
      ]
    },
    {
      "cell_type": "code",
      "metadata": {
        "id": "g2o-OP1C3IDV"
      },
      "source": [
        "set_entrenamiento = dataset[:'2021-07-1'].iloc[:,1:2]\n",
        "set_validacion = dataset['2021-07-1':].iloc[:,1:2]"
      ],
      "execution_count": 339,
      "outputs": []
    },
    {
      "cell_type": "code",
      "metadata": {
        "colab": {
          "base_uri": "https://localhost:8080/",
          "height": 278
        },
        "id": "BOVKhxYf50Y1",
        "outputId": "f7e23337-e898-48d7-e63d-2a9739ebadd7"
      },
      "source": [
        "set_entrenamiento['Cantidad'].plot(legend=True)\n",
        "set_validacion['Cantidad'].plot(legend=True)\n",
        "plt.legend(['Train (2020-03-06/2021-07-1)', 'Test (2021-07-1/2021-11-21)'])\n",
        "plt.show()"
      ],
      "execution_count": 340,
      "outputs": [
        {
          "output_type": "display_data",
          "data": {
            "image/png": "[encoded data removed]",
            "text/plain": [
              "<Figure size 432x288 with 1 Axes>"
            ]
          },
          "metadata": {
            "needs_background": "light"
          }
        }
      ]
    },
    {
      "cell_type": "code",
      "metadata": {
        "id": "o4ucnGC6quPi"
      },
      "source": [
        "from sklearn.preprocessing import MinMaxScaler\n",
        "sc = MinMaxScaler(feature_range=(0,1))\n",
        "set_entrenamiento_escalado = sc.fit_transform(set_entrenamiento)"
      ],
      "execution_count": 341,
      "outputs": []
    },
    {
      "cell_type": "code",
      "metadata": {
        "id": "mimaDUZs-1IQ"
      },
      "source": [
        "time_step = 5\n",
        "X_train = []\n",
        "Y_train = []\n",
        "m = len(set_entrenamiento_escalado)\n",
        "for i in range(time_step, m):\n",
        "  X_train.append(set_entrenamiento_escalado[i-time_step:i,0])\n",
        "  Y_train.append(set_entrenamiento_escalado[i,0])\n",
        "X_train, Y_train = np.array(X_train), np.array(Y_train)  "
      ],
      "execution_count": 342,
      "outputs": []
    },
    {
      "cell_type": "code",
      "metadata": {
        "id": "0boFQAn5rmrX"
      },
      "source": [
        "X_train = np.reshape(X_train, (X_train.shape[0], X_train.shape[1], 1))"
      ],
      "execution_count": 343,
      "outputs": []
    },
    {
      "cell_type": "code",
      "metadata": {
        "id": "WigTXKcbsRd3"
      },
      "source": [
        "from keras.models import Sequential\n",
        "from keras.layers import LSTM, Dense"
      ],
      "execution_count": 344,
      "outputs": []
    },
    {
      "cell_type": "code",
      "metadata": {
        "id": "1trKFucbsZrG"
      },
      "source": [
        "dim_entrada = (X_train.shape[1],1)\n",
        "dim_salida = 1\n",
        "na = 50 #Numero de neuronas"
      ],
      "execution_count": 345,
      "outputs": []
    },
    {
      "cell_type": "code",
      "metadata": {
        "id": "U9Qdn79TsicR"
      },
      "source": [
        "modelo = Sequential()"
      ],
      "execution_count": 346,
      "outputs": []
    },
    {
      "cell_type": "code",
      "metadata": {
        "id": "wvtO4Qv2siuz"
      },
      "source": [
        "modelo.add(LSTM(units=na, input_shape=dim_entrada))"
      ],
      "execution_count": 347,
      "outputs": []
    },
    {
      "cell_type": "code",
      "metadata": {
        "id": "2cYOWE8Ysrt2"
      },
      "source": [
        "modelo.add(Dense(units=dim_salida))"
      ],
      "execution_count": 348,
      "outputs": []
    },
    {
      "cell_type": "code",
      "metadata": {
        "id": "bPhMU7EFtB5X"
      },
      "source": [
        "modelo.compile(optimizer='rmsprop', loss='mse')"
      ],
      "execution_count": 349,
      "outputs": []
    },
    {
      "cell_type": "code",
      "metadata": {
        "colab": {
          "base_uri": "https://localhost:8080/"
        },
        "id": "k50qPO3FtJAh",
        "outputId": "80dff005-0bca-4ce7-d79b-9a02bfc1ccc7"
      },
      "source": [
        "modelo.fit(X_train,Y_train,epochs=20,batch_size=32)"
      ],
      "execution_count": 350,
      "outputs": [
        {
          "output_type": "stream",
          "name": "stdout",
          "text": [
            "Epoch 1/20\n",
            "15/15 [==============================] - 2s 5ms/step - loss: 0.0333\n",
            "Epoch 2/20\n",
            "15/15 [==============================] - 0s 5ms/step - loss: 0.0108\n",
            "Epoch 3/20\n",
            "15/15 [==============================] - 0s 5ms/step - loss: 0.0080\n",
            "Epoch 4/20\n",
            "15/15 [==============================] - 0s 5ms/step - loss: 0.0079\n",
            "Epoch 5/20\n",
            "15/15 [==============================] - 0s 5ms/step - loss: 0.0080\n",
            "Epoch 6/20\n",
            "15/15 [==============================] - 0s 5ms/step - loss: 0.0081\n",
            "Epoch 7/20\n",
            "15/15 [==============================] - 0s 4ms/step - loss: 0.0078\n",
            "Epoch 8/20\n",
            "15/15 [==============================] - 0s 5ms/step - loss: 0.0076\n",
            "Epoch 9/20\n",
            "15/15 [==============================] - 0s 5ms/step - loss: 0.0077\n",
            "Epoch 10/20\n",
            "15/15 [==============================] - 0s 5ms/step - loss: 0.0075\n",
            "Epoch 11/20\n",
            "15/15 [==============================] - 0s 6ms/step - loss: 0.0073\n",
            "Epoch 12/20\n",
            "15/15 [==============================] - 0s 5ms/step - loss: 0.0078\n",
            "Epoch 13/20\n",
            "15/15 [==============================] - 0s 5ms/step - loss: 0.0075\n",
            "Epoch 14/20\n",
            "15/15 [==============================] - 0s 5ms/step - loss: 0.0076\n",
            "Epoch 15/20\n",
            "15/15 [==============================] - 0s 5ms/step - loss: 0.0076\n",
            "Epoch 16/20\n",
            "15/15 [==============================] - 0s 5ms/step - loss: 0.0075\n",
            "Epoch 17/20\n",
            "15/15 [==============================] - 0s 5ms/step - loss: 0.0075\n",
            "Epoch 18/20\n",
            "15/15 [==============================] - 0s 5ms/step - loss: 0.0078\n",
            "Epoch 19/20\n",
            "15/15 [==============================] - 0s 5ms/step - loss: 0.0073\n",
            "Epoch 20/20\n",
            "15/15 [==============================] - 0s 5ms/step - loss: 0.0073\n"
          ]
        },
        {
          "output_type": "execute_result",
          "data": {
            "text/plain": [
              "<keras.callbacks.History at 0x7fe4fe1c3590>"
            ]
          },
          "metadata": {},
          "execution_count": 350
        }
      ]
    },
    {
      "cell_type": "code",
      "metadata": {
        "colab": {
          "base_uri": "https://localhost:8080/"
        },
        "id": "uhpJuMwKtbRM",
        "outputId": "7f98b4f3-3f04-4180-d98b-0b70850566bb"
      },
      "source": [
        "x_test = set_validacion.values\n",
        "x_test = sc.transform(x_test)"
      ],
      "execution_count": 351,
      "outputs": [
        {
          "output_type": "stream",
          "name": "stderr",
          "text": [
            "/usr/local/lib/python3.7/dist-packages/sklearn/base.py:446: UserWarning:\n",
            "\n",
            "X does not have valid feature names, but MinMaxScaler was fitted with feature names\n",
            "\n"
          ]
        }
      ]
    },
    {
      "cell_type": "code",
      "metadata": {
        "id": "UGiCytw4tlxU"
      },
      "source": [
        "X_test = []\n",
        "for i in range(time_step,len(x_test)):\n",
        "    X_test.append(x_test[i-time_step:i,0])\n",
        "X_test = np.array(X_test)\n",
        "X_test = np.reshape(X_test, (X_test.shape[0],X_test.shape[1],1))"
      ],
      "execution_count": 352,
      "outputs": []
    },
    {
      "cell_type": "code",
      "metadata": {
        "id": "pJ7DAKH5ts4m"
      },
      "source": [
        "prediccion = modelo.predict(X_test)\n",
        "prediccion = sc.inverse_transform(prediccion)"
      ],
      "execution_count": 353,
      "outputs": []
    },
    {
      "cell_type": "code",
      "metadata": {
        "colab": {
          "base_uri": "https://localhost:8080/"
        },
        "id": "mHVA6iSk9E7y",
        "outputId": "5348c1a0-24bc-4541-acbc-4a7173760972"
      },
      "source": [
        "prediccion"
      ],
      "execution_count": 354,
      "outputs": [
        {
          "output_type": "execute_result",
          "data": {
            "text/plain": [
              "array([[7358.7646 ],\n",
              "       [6968.3325 ],\n",
              "       [6845.4175 ],\n",
              "       [6507.5933 ],\n",
              "       [6578.748  ],\n",
              "       [6509.198  ],\n",
              "       [6035.7544 ],\n",
              "       [5668.9946 ],\n",
              "       [5735.9873 ],\n",
              "       [5579.964  ],\n",
              "       [5291.65   ],\n",
              "       [5341.6284 ],\n",
              "       [5071.6006 ],\n",
              "       [4427.453  ],\n",
              "       [4115.988  ],\n",
              "       [3897.947  ],\n",
              "       [3523.7727 ],\n",
              "       [3327.6997 ],\n",
              "       [3283.9966 ],\n",
              "       [2983.5422 ],\n",
              "       [2732.512  ],\n",
              "       [2542.1956 ],\n",
              "       [2453.8484 ],\n",
              "       [2336.4695 ],\n",
              "       [2267.0635 ],\n",
              "       [2291.7205 ],\n",
              "       [2180.5757 ],\n",
              "       [1967.9811 ],\n",
              "       [1814.8645 ],\n",
              "       [1676.5195 ],\n",
              "       [1492.2723 ],\n",
              "       [1406.1018 ],\n",
              "       [1396.8801 ],\n",
              "       [1299.0673 ],\n",
              "       [1139.3944 ],\n",
              "       [1047.7478 ],\n",
              "       [ 981.20197],\n",
              "       [ 900.14545],\n",
              "       [ 832.89264],\n",
              "       [ 838.2889 ],\n",
              "       [ 822.4354 ],\n",
              "       [ 757.24896],\n",
              "       [ 688.80237],\n",
              "       [ 687.1571 ],\n",
              "       [ 669.5496 ],\n",
              "       [ 661.6876 ],\n",
              "       [ 670.53174],\n",
              "       [ 681.33405],\n",
              "       [ 664.6417 ],\n",
              "       [ 649.7089 ],\n",
              "       [ 628.5513 ],\n",
              "       [ 602.1448 ],\n",
              "       [ 591.96216],\n",
              "       [ 584.2028 ],\n",
              "       [ 560.6966 ],\n",
              "       [ 514.2137 ],\n",
              "       [ 489.37015],\n",
              "       [ 461.31705],\n",
              "       [ 446.34723],\n",
              "       [ 440.6586 ],\n",
              "       [ 451.05936],\n",
              "       [ 435.49878],\n",
              "       [ 402.18912],\n",
              "       [ 388.69986],\n",
              "       [ 359.97314],\n",
              "       [ 335.75922],\n",
              "       [ 333.38196],\n",
              "       [ 342.63107],\n",
              "       [ 338.7676 ],\n",
              "       [ 331.68866],\n",
              "       [ 316.55914],\n",
              "       [ 301.94064],\n",
              "       [ 298.2167 ],\n",
              "       [ 286.2507 ],\n",
              "       [ 296.97482],\n",
              "       [ 312.18863],\n",
              "       [ 314.79144],\n",
              "       [ 304.23654],\n",
              "       [ 313.0644 ],\n",
              "       [ 316.8542 ],\n",
              "       [ 315.0862 ],\n",
              "       [ 310.61435],\n",
              "       [ 306.55838],\n",
              "       [ 288.00244],\n",
              "       [ 257.31976],\n",
              "       [ 240.23503],\n",
              "       [ 238.88907],\n",
              "       [ 262.36667],\n",
              "       [ 269.83105],\n",
              "       [ 283.03665],\n",
              "       [ 273.72232],\n",
              "       [ 261.87598],\n",
              "       [ 238.5201 ],\n",
              "       [ 252.19618],\n",
              "       [ 266.07   ],\n",
              "       [ 284.46295],\n",
              "       [ 294.52753],\n",
              "       [ 292.498  ],\n",
              "       [ 268.29593],\n",
              "       [ 263.90134],\n",
              "       [ 256.50433],\n",
              "       [ 255.25851],\n",
              "       [ 260.58228],\n",
              "       [ 273.16345],\n",
              "       [ 267.9257 ],\n",
              "       [ 256.58713],\n",
              "       [ 250.79262],\n",
              "       [ 253.72357],\n",
              "       [ 253.94473],\n",
              "       [ 264.8386 ],\n",
              "       [ 279.3505 ],\n",
              "       [ 280.76184],\n",
              "       [ 274.25305],\n",
              "       [ 280.11398],\n",
              "       [ 287.17026],\n",
              "       [ 292.74548],\n",
              "       [ 302.32074],\n",
              "       [ 308.8713 ],\n",
              "       [ 291.86252],\n",
              "       [ 279.95938],\n",
              "       [ 274.15317],\n",
              "       [ 273.0655 ],\n",
              "       [ 274.4932 ],\n",
              "       [ 293.4884 ],\n",
              "       [ 316.29727],\n",
              "       [ 328.49973],\n",
              "       [ 337.61105],\n",
              "       [ 367.47644],\n",
              "       [ 388.9752 ],\n",
              "       [ 398.96027],\n",
              "       [ 415.82642],\n",
              "       [ 416.98694],\n",
              "       [ 384.1845 ],\n",
              "       [ 356.1229 ],\n",
              "       [ 349.14438],\n",
              "       [ 342.89655],\n",
              "       [ 368.96918],\n",
              "       [ 397.78198],\n",
              "       [ 403.0033 ]], dtype=float32)"
            ]
          },
          "metadata": {},
          "execution_count": 354
        }
      ]
    },
    {
      "cell_type": "code",
      "metadata": {
        "id": "uEMg5DERuiNX"
      },
      "source": [
        "def graficar_predicciones(real, prediccion):\n",
        "    plt.plot(real[0:len(prediccion)],color='red', label='Valor real del numero de contagiados')\n",
        "    plt.plot(prediccion, color='blue', label='Predicción del numero de contagios')\n",
        "    plt.xlabel('Tiempo')\n",
        "    plt.ylabel('Cantidad de contagios')\n",
        "    plt.legend()\n",
        "    plt.show()"
      ],
      "execution_count": 334,
      "outputs": []
    },
    {
      "cell_type": "code",
      "metadata": {
        "colab": {
          "base_uri": "https://localhost:8080/",
          "height": 279
        },
        "id": "oUSu7lsqLSl2",
        "outputId": "b796b5e9-07e0-48ca-f326-9c7c8c374b10"
      },
      "source": [
        "graficar_predicciones(set_validacion.values,prediccion)"
      ],
      "execution_count": 355,
      "outputs": [
        {
          "output_type": "display_data",
          "data": {
            "image/png": "[encoded data removed]",
            "text/plain": [
              "<Figure size 432x288 with 1 Axes>"
            ]
          },
          "metadata": {
            "needs_background": "light"
          }
        }
      ]
    },
    {
      "cell_type": "code",
      "metadata": {
        "colab": {
          "base_uri": "https://localhost:8080/",
          "height": 279
        },
        "id": "YxDZzaWP7sL3",
        "outputId": "9c10e685-f6cf-4364-caa5-d4b6cd061e32"
      },
      "source": [
        "graficar_predicciones(set_validacion.values,prediccion)"
      ],
      "execution_count": 338,
      "outputs": [
        {
          "output_type": "display_data",
          "data": {
            "image/png": "[encoded data removed]",
            "text/plain": [
              "<Figure size 432x288 with 1 Axes>"
            ]
          },
          "metadata": {
            "needs_background": "light"
          }
        }
      ]
    },
    {
      "cell_type": "markdown",
      "metadata": {
        "id": "J_M9AUQANJG_"
      },
      "source": [
        "Realizado por Katalina Morales Dueñas"
      ]
    }
  ]
}